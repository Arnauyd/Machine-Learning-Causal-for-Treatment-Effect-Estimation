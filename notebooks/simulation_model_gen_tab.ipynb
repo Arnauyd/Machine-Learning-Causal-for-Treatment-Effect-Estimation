{
  "nbformat": 4,
  "nbformat_minor": 0,
  "metadata": {
    "colab": {
      "name": "simulation_model_gen_tab.ipynb",
      "provenance": [],
      "collapsed_sections": [],
      "toc_visible": true
    },
    "kernelspec": {
      "display_name": "Python 3",
      "language": "python",
      "name": "python3"
    },
    "language_info": {
      "codemirror_mode": {
        "name": "ipython",
        "version": 3
      },
      "file_extension": ".py",
      "mimetype": "text/x-python",
      "name": "python",
      "nbconvert_exporter": "python",
      "pygments_lexer": "ipython3",
      "version": "3.8.5"
    },
    "accelerator": "GPU"
  },
  "cells": [
    {
      "cell_type": "markdown",
      "metadata": {
        "id": "HgOWtsJ8rUEH"
      },
      "source": [
        "# Estimation de l'ATE/CATE sur des données synthétiques"
      ]
    },
    {
      "cell_type": "markdown",
      "metadata": {
        "id": "LxeJfVTr3Q3F"
      },
      "source": [
        "## Import"
      ]
    },
    {
      "cell_type": "code",
      "metadata": {
        "id": "XWZ-_PbjrUEK"
      },
      "source": [
        "import numpy as np\n",
        "import pandas as pd\n",
        "#import causalml\n",
        "from scipy.stats import bernoulli\n",
        "import scipy as sp\n",
        "#from scipy import st\n",
        "from scipy import integrate\n",
        "import matplotlib.pyplot as plt\n",
        "import seaborn as sns\n",
        "sns.set_style(\"white\")\n",
        "sns.set_context(\"paper\", font_scale=1.5, rc={\"lines.linewidth\": 1.5})\n",
        "plt.rcParams['figure.figsize'] = 10, 8\n",
        "\n",
        "from sklearn.linear_model import LinearRegression\n",
        "from sklearn.model_selection import train_test_split\n",
        "\n",
        "from sklearn.ensemble import GradientBoostingRegressor\n",
        "from sklearn.ensemble import RandomForestRegressor\n",
        "\n",
        "import warnings\n",
        "warnings.filterwarnings('ignore')"
      ],
      "execution_count": 1,
      "outputs": []
    },
    {
      "cell_type": "markdown",
      "metadata": {
        "id": "stT8FysBrUEL"
      },
      "source": [
        "## Génération de données synthétiques"
      ]
    },
    {
      "cell_type": "code",
      "metadata": {
        "id": "9gPyMC5MrUEM"
      },
      "source": [
        "def treatment_assign(Nobs, d, X, p):\n",
        "    '''\n",
        "    Input: \n",
        "    \n",
        "    p : score de propension.\n",
        "    Nobs : Nombre de lignes da la matrice X i.e. nombre de personnes.\n",
        "    \n",
        "    Output:\n",
        "    \n",
        "    W : Vecteur de taille Nobs contenant des 0 ou 1 pour désigner l'affectation du traitement.\n",
        "    '''\n",
        "    sigmoid = lambda x: 1/(1+np.exp(-x))\n",
        "    \n",
        "    omega = np.random.uniform(0, 1, (Nobs, d))\n",
        "    psi = np.random.uniform(0, 1, (Nobs, 1))\n",
        "\n",
        "    if p == None:\n",
        "      p = np.zeros(Nobs)\n",
        "      for i in range(Nobs):\n",
        "        p[i] = sigmoid(omega[i] @ X[i])\n",
        "      W = bernoulli.rvs(p, size = Nobs) \n",
        "    else:\n",
        "      W = bernoulli.rvs(p, size = Nobs) \n",
        "    \n",
        "    return W\n",
        "\n",
        "\n",
        "def causal_generation(Nobs, dim, beta, bias, f, g, p):\n",
        "    '''\n",
        "    Input :\n",
        "    \n",
        "    Nobs : Nombre de lignes da la matrice X i.e. nombre de personnes.\n",
        "    dim : Nombre de colonnes de la matrice X i.e. nombres de caractéristiques (features).\n",
        "    beta : Vecteur de dimension (2, dim).\n",
        "    bias : Vecteur de dimension (1, 2).\n",
        "    W : Vecteur de dimension (1, Nobs) contenant des 0 ou 1 pour désigner \n",
        "    l'affectation du traitement.\n",
        "    f et g sont des fonctions.\n",
        "    \n",
        "    Output:\n",
        "    \n",
        "    (X, Y, W) : Triplet contenant la matrice X des features, Y le vecteur des \n",
        "                résultats potentiels et W le vecteur de l'affectation du traitement.\n",
        "    '''\n",
        "    moy = np.zeros(dim)\n",
        "    var = np.eye(dim)\n",
        "    X = np.random.multivariate_normal(moy, var, Nobs)\n",
        "    Y = np.zeros(Nobs)\n",
        "\n",
        "    W = treatment_assign(Nobs, dim, X, p)\n",
        "\n",
        "    for i in range(Nobs):\n",
        "        bruit = np.random.normal(0, 1)\n",
        "        if W[i] == 0:\n",
        "            Y[i] = f(beta[0] @ X[i] + bias[0]) + bruit\n",
        "        if W[i] == 1:\n",
        "            Y[i] = g(beta[1] @ X[i] + bias[1]) + bruit\n",
        "            \n",
        "    return (X, W, Y)"
      ],
      "execution_count": 2,
      "outputs": []
    },
    {
      "cell_type": "markdown",
      "metadata": {
        "id": "QzGDrF5Jgi6O"
      },
      "source": [
        "## Métalearners internes"
      ]
    },
    {
      "cell_type": "markdown",
      "metadata": {
        "id": "O8cCtYY-rUEN"
      },
      "source": [
        "### S-learners"
      ]
    },
    {
      "cell_type": "code",
      "metadata": {
        "id": "tAi-i1kOnOtR"
      },
      "source": [
        "from sklearn.base import BaseEstimator, ClassifierMixin\n",
        "\n",
        "class SLearner(BaseEstimator, ClassifierMixin):\n",
        "    \"\"\" Homemade SLearner class \"\"\"\n",
        "    \n",
        "    def __init__(self, base_estimator):\n",
        "        # init\n",
        "        self.estimator = base_estimator\n",
        "        \n",
        "    def fit(self, X, W, Y):\n",
        "        # Initiation des variables\n",
        "        self.X = X\n",
        "        self.W = W\n",
        "        self.Y = Y\n",
        "        self.features = np.hstack((self.X, self.W[:,np.newaxis]))\n",
        "        self.clf = self.estimator.fit(self.features, self.Y)\n",
        "\n",
        "    def predict_CATE(self, x):\n",
        "        # Complete the method      \n",
        "        self.Y_0_hat = self.clf.predict(np.c_[x, np.zeros(len(x))])\n",
        "        self.Y_1_hat = self.clf.predict(np.c_[x, np.ones(len(x))])\n",
        "        return self.Y_1_hat - self.Y_0_hat\n",
        "\n",
        "    def predict_ATE(self):\n",
        "        return (self.Y_1_hat - self.Y_0_hat).mean()"
      ],
      "execution_count": 3,
      "outputs": []
    },
    {
      "cell_type": "markdown",
      "metadata": {
        "id": "FEvqUznWxMrf"
      },
      "source": [
        "### T-learners"
      ]
    },
    {
      "cell_type": "code",
      "metadata": {
        "id": "B9Zl-vv30rHU"
      },
      "source": [
        "from sklearn.base import BaseEstimator, ClassifierMixin\n",
        "\n",
        "class TLearner(BaseEstimator, ClassifierMixin):\n",
        "    \"\"\" Homemade TLearner class \"\"\"\n",
        "    \n",
        "    def __init__(self, base_estimator0, base_estimator1):\n",
        "        # init\n",
        "        self.estimator0 = base_estimator0\n",
        "        self.estimator1 = base_estimator1\n",
        "\n",
        "    def fit(self, X, W, Y):\n",
        "        # Initiation des variables\n",
        "        self.X = X\n",
        "        self.W = W\n",
        "        self.Y = Y\n",
        "        self.mu_0 = self.estimator0.fit(X[self.W==0,:], self.Y[self.W==0])\n",
        "        self.mu_1 = self.estimator1.fit(X[self.W==1,:], self.Y[self.W==1])\n",
        "\n",
        "    def predict_CATE(self, x):\n",
        "        # Complete the method         \n",
        "        self.Y_0_hat = self.mu_0.predict(x)\n",
        "        self.Y_1_hat = self.mu_1.predict(x)\n",
        "        return self.Y_1_hat - self.Y_0_hat\n",
        "\n",
        "    def predict_ATE(self):\n",
        "        return (self.Y_1_hat - self.Y_0_hat).mean()"
      ],
      "execution_count": 4,
      "outputs": []
    },
    {
      "cell_type": "markdown",
      "metadata": {
        "id": "mpbCRF4wxSmw"
      },
      "source": [
        "### X-Learners"
      ]
    },
    {
      "cell_type": "code",
      "metadata": {
        "id": "tUQRoKADgi6R"
      },
      "source": [
        "from sklearn.base import BaseEstimator, ClassifierMixin\n",
        "\n",
        "class XLearner(BaseEstimator, ClassifierMixin):\n",
        "    \"\"\" Homemade XLearner class \"\"\"\n",
        "    \n",
        "    def __init__(self, outcome_learner0, outcome_learner1, effect_learner0, effect_learner1):\n",
        "        # init\n",
        "        self.outcome_learner0 = outcome_learner0\n",
        "        self.outcome_learner1 = outcome_learner1\n",
        "        self.effect_learner0 = effect_learner0\n",
        "        self.effect_learner1 = effect_learner1\n",
        "\n",
        "    def fit(self, X, W, Y):\n",
        "        # Initiation des variables\n",
        "        self.X = X\n",
        "        self.W = W\n",
        "        self.Y = Y \n",
        "        \n",
        "        #Stage 1 : Estimate the average outcomes μ0(x) and  μ1(x)\n",
        "        self.mu_0 = self.outcome_learner0.fit(X[self.W==0,:], self.Y[self.W==0])\n",
        "        self.mu_1 = self.outcome_learner1.fit(X[self.W==1,:], self.Y[self.W==1])\n",
        "        \n",
        "        #Stage 2 : Impute the user level treatment effects\n",
        "        self.D0 = self.mu_1.predict(X[self.W==0,:]) - self.Y[self.W==0] \n",
        "        self.D1 = self.Y[self.W==1] - self.mu_0.predict(X[self.W==1,:])    \n",
        "        \n",
        "        #estimate τ1(x) = E[D1|X=x], and τ0(x) = E[D0|X=x] using machine learning models:\n",
        "        self.tau_0 = self.effect_learner0 .fit(X[self.W==0,:], self.D0)\n",
        "        self.tau_1 = self.effect_learner1 .fit(X[self.W==1,:], self.D1)\n",
        "        \n",
        "\n",
        "    def predict_CATE(self, x, p):\n",
        "        # Complete the method         \n",
        "        self.CATE_hat = p*self.tau_0.predict(x) + (1-p)*self.tau_1.predict(x)\n",
        "        return self.CATE_hat\n",
        "\n",
        "    def predict_ATE(self):\n",
        "        return (self.CATE_hat).mean()"
      ],
      "execution_count": 5,
      "outputs": []
    },
    {
      "cell_type": "markdown",
      "metadata": {
        "id": "dlFYqO7Ggi6S"
      },
      "source": [
        "### DR-Learner"
      ]
    },
    {
      "cell_type": "code",
      "metadata": {
        "id": "mIJP-czKgi6S"
      },
      "source": [
        "from sklearn.base import BaseEstimator, ClassifierMixin\n",
        "from sklearn.linear_model import LogisticRegression\n",
        "from sklearn.calibration import CalibratedClassifierCV\n",
        "\n",
        "class DRLearner(BaseEstimator, ClassifierMixin):\n",
        "    \"\"\" Homemade DRLearner class \"\"\"\n",
        "    \n",
        "    def __init__(self, model_regression, model_propensity, model_final):\n",
        "        # init\n",
        "        self.model_regression = model_regression\n",
        "        self.model_propensity = model_propensity\n",
        "        self.model_final = model_final\n",
        "        \n",
        "\n",
        "    def fit(self, X, W, Y):\n",
        "        # Initiation des variables\n",
        "        self.X = X\n",
        "        self.W = W\n",
        "        self.Y = Y \n",
        "        \n",
        "        #Stage 1 : Regression of the outcomes μ(X,T) = E[Y|X,W,T]\n",
        "        self.features = np.hstack((self.X, self.W[:,np.newaxis]))\n",
        "        self.mu = self.model_regression.fit(self.features, self.Y)\n",
        "        \n",
        "        #Stage 1 : Model to estimate the propensity_score\n",
        "        self.model_propensity = CalibratedClassifierCV(self.model_propensity)\n",
        "        self.model_propensity.fit(self.X, self.W)\n",
        "        self.propensity = self.model_propensity.predict_proba(X)\n",
        "\n",
        "        #Stage 1 : predict Y_pred\n",
        "        self.Y_pred_0 = self.mu.predict(np.hstack((self.X, np.zeros((self.X.shape[0],1)))))\n",
        "        self.Y_pred_0 += (Y - self.Y_pred_0) * (1 - self.W) / self.propensity[:,0]\n",
        "        self.Y_pred_1 = self.mu.predict(np.hstack((self.X, np.ones((self.X.shape[0],1)))))\n",
        "        self.Y_pred_1 += (Y - self.Y_pred_1) * (self.W) / self.propensity[:,1]\n",
        "        \n",
        "        #Stage 2 : fit model final\n",
        "        self.model_final.fit(self.X, self.Y_pred_1 - self.Y_pred_0)\n",
        "        \n",
        "\n",
        "    def predict_CATE(self, x):\n",
        "        # Complete the method         \n",
        "        self.CATE_hat = self.model_final.predict(x)\n",
        "        return self.CATE_hat\n",
        "\n",
        "    def predict_ATE(self):\n",
        "        return (self.CATE_hat).mean()"
      ],
      "execution_count": 6,
      "outputs": []
    },
    {
      "cell_type": "markdown",
      "metadata": {
        "id": "ZIf7QInLeFIP"
      },
      "source": [
        "## Phase de test"
      ]
    },
    {
      "cell_type": "markdown",
      "metadata": {
        "id": "JlTx_NDBy42f"
      },
      "source": [
        "### Initialisation des paramètres"
      ]
    },
    {
      "cell_type": "code",
      "metadata": {
        "id": "3GNGiMt0y9cA"
      },
      "source": [
        "N = 1000\n",
        "d = 2                                       # d = 2, afin de pouvoir être calculé par intégration et par Monte Carlo\n",
        "p = 0.7\n",
        "beta0 = np.random.uniform(1, 30, (1, d))\n",
        "beta1 = np.random.uniform(2000,4000, (1, d))\n",
        "beta = np.vstack((beta0,beta0))               # beta0 = beta1           \n",
        "bias = np.array([100,10])                 # beta0 = beta1, cas simple pour faciliter l'interprétation des résultats                              # Gamma0 != Gamma1, biais différent\n",
        "f = lambda x:x\n",
        "g = lambda x:x"
      ],
      "execution_count": 7,
      "outputs": []
    },
    {
      "cell_type": "markdown",
      "metadata": {
        "id": "6OhpvinNxUdk"
      },
      "source": [
        "### Générations des données"
      ]
    },
    {
      "cell_type": "code",
      "metadata": {
        "id": "BLuyzerxeJPV",
        "scrolled": true
      },
      "source": [
        "# Génération des données\n",
        "X, W, Y = causal_generation(N, d, beta, bias, f, g, p)"
      ],
      "execution_count": 8,
      "outputs": []
    },
    {
      "cell_type": "markdown",
      "metadata": {
        "id": "0HGXgVo5xa2M"
      },
      "source": [
        "### Prédictions des métalearners \"Team Filrouge\""
      ]
    },
    {
      "cell_type": "markdown",
      "metadata": {
        "id": "6BVz8q9v3pnC"
      },
      "source": [
        "#### S-Learner"
      ]
    },
    {
      "cell_type": "code",
      "metadata": {
        "id": "gQHpwQc4mGf3",
        "scrolled": false
      },
      "source": [
        "from sklearn.ensemble import RandomForestRegressor\n",
        "\n",
        "def run_slearner(X, W, Y, baselearner):\n",
        "  slearner = SLearner(base_estimator = baselearner)\n",
        "  slearner.fit(X,W,Y)\n",
        "  \n",
        "  cate_hat_S = slearner.predict_CATE(X)\n",
        "  #print(\"- Les dimensions du CATE = {}.\".format(cate_hat_S.shape))\n",
        "  ate_hat_S = slearner.predict_ATE()\n",
        "  #print(\"- L'estimation de la valeur de l'ATE = {}.\".format(ate_hat_S))\n",
        "  return ate_hat_S"
      ],
      "execution_count": 9,
      "outputs": []
    },
    {
      "cell_type": "code",
      "metadata": {
        "colab": {
          "base_uri": "https://localhost:8080/"
        },
        "id": "tmeGS-fz9vJ4",
        "outputId": "e2635a48-00e0-4811-906f-f13d696db002"
      },
      "source": [
        "run_slearner(X, W, Y, GradientBoostingRegressor())"
      ],
      "execution_count": 10,
      "outputs": [
        {
          "output_type": "execute_result",
          "data": {
            "text/plain": [
              "-89.31109774343271"
            ]
          },
          "metadata": {
            "tags": []
          },
          "execution_count": 10
        }
      ]
    },
    {
      "cell_type": "markdown",
      "metadata": {
        "id": "RmJV1Jy-3ve6"
      },
      "source": [
        "#### T-Learner"
      ]
    },
    {
      "cell_type": "code",
      "metadata": {
        "id": "r1WmQRa33okq"
      },
      "source": [
        "def run_tlearner(X, W, Y, baselearner0, baselearner1):\n",
        "  tlearner = TLearner(base_estimator0 = baselearner0, \n",
        "                      base_estimator1 = baselearner1)\n",
        "  tlearner.fit(X,W,Y)\n",
        "\n",
        "  cate_hat_T = tlearner.predict_CATE(X)\n",
        "  #print(\"- Les dimensions du CATE = {}.\".format(cate_hat_S.shape))\n",
        "  ate_hat_T = tlearner.predict_ATE()\n",
        "  #print(\"- L'estimation de la valeur de l'ATE = {}.\".format(ate_hat_T))\n",
        "  return ate_hat_T"
      ],
      "execution_count": 11,
      "outputs": []
    },
    {
      "cell_type": "code",
      "metadata": {
        "colab": {
          "base_uri": "https://localhost:8080/"
        },
        "id": "a63YDGb7Nwxz",
        "outputId": "5525e0d0-dd0a-4bf5-d171-8f22b869b449"
      },
      "source": [
        "run_tlearner(X, W, Y, GradientBoostingRegressor(), RandomForestRegressor())"
      ],
      "execution_count": 12,
      "outputs": [
        {
          "output_type": "execute_result",
          "data": {
            "text/plain": [
              "-89.87874762856057"
            ]
          },
          "metadata": {
            "tags": []
          },
          "execution_count": 12
        }
      ]
    },
    {
      "cell_type": "markdown",
      "metadata": {
        "id": "dzl2McuIgi6Z"
      },
      "source": [
        "#### X-Learner"
      ]
    },
    {
      "cell_type": "code",
      "metadata": {
        "id": "WuupeXFo88bZ"
      },
      "source": [
        "def run_xlearner(X, W, Y, outcome_learner0, outcome_learner1, effect_learner0, effect_learner1):\n",
        "  xlearner = XLearner(outcome_learner0, outcome_learner1, \n",
        "                      effect_learner0, effect_learner1)\n",
        "  xlearner.fit(X,W,Y)\n",
        "  cate_hat_X = xlearner.predict_CATE(X, W)\n",
        "  ate_hat_X = xlearner.predict_ATE()\n",
        "  return ate_hat_X"
      ],
      "execution_count": 13,
      "outputs": []
    },
    {
      "cell_type": "code",
      "metadata": {
        "colab": {
          "base_uri": "https://localhost:8080/"
        },
        "id": "-f4ORmGK9hRC",
        "outputId": "35a9fd85-8e61-46ae-d296-ca846a0d5441"
      },
      "source": [
        "run_xlearner(X, W, Y, LinearRegression(), LinearRegression(),\n",
        "             LinearRegression(), LinearRegression())"
      ],
      "execution_count": 14,
      "outputs": [
        {
          "output_type": "execute_result",
          "data": {
            "text/plain": [
              "-89.96880186743039"
            ]
          },
          "metadata": {
            "tags": []
          },
          "execution_count": 14
        }
      ]
    },
    {
      "cell_type": "code",
      "metadata": {
        "colab": {
          "base_uri": "https://localhost:8080/",
          "height": 86
        },
        "id": "OIeTnOlsgi6Z",
        "outputId": "a5fd0545-f4e3-4385-df0e-f402fdcf0419"
      },
      "source": [
        "\"\"\"\n",
        "# classifier to estimate the propensity score\n",
        "cls = LogisticRegression()\n",
        "# calibration of the classifier\n",
        "cls = CalibratedClassifierCV(cls)\n",
        "# training of the classifier\n",
        "cls.fit(X, W)\n",
        "# predicton of the classifier\n",
        "propensity = cls.predict_proba(X)[:,1]\n",
        "\n",
        "#plt.hist(propensity)\n",
        "\n",
        "xlearner = XLearner()\n",
        "xlearner.fit(X,W,Y)\n",
        "\n",
        "cate_hat_X = xlearner.predict_CATE(X, propensity)\n",
        "\n",
        "ate_hat_X = xlearner.predict_ATE()\n",
        "print(\"- L'estimation de la valeur de l'ATE = {}.\".format(ate_hat_X))\n",
        "\"\"\""
      ],
      "execution_count": 15,
      "outputs": [
        {
          "output_type": "execute_result",
          "data": {
            "application/vnd.google.colaboratory.intrinsic+json": {
              "type": "string"
            },
            "text/plain": [
              "'\\n# classifier to estimate the propensity score\\ncls = LogisticRegression()\\n# calibration of the classifier\\ncls = CalibratedClassifierCV(cls)\\n# training of the classifier\\ncls.fit(X, W)\\n# predicton of the classifier\\npropensity = cls.predict_proba(X)[:,1]\\n\\n#plt.hist(propensity)\\n\\nxlearner = XLearner()\\nxlearner.fit(X,W,Y)\\n\\ncate_hat_X = xlearner.predict_CATE(X, propensity)\\n\\nate_hat_X = xlearner.predict_ATE()\\nprint(\"- L\\'estimation de la valeur de l\\'ATE = {}.\".format(ate_hat_X))\\n'"
            ]
          },
          "metadata": {
            "tags": []
          },
          "execution_count": 15
        }
      ]
    },
    {
      "cell_type": "markdown",
      "metadata": {
        "id": "Cvbkb4oVgi6a"
      },
      "source": [
        "#### DR-Learner"
      ]
    },
    {
      "cell_type": "code",
      "metadata": {
        "id": "4ggmCRaygi6b"
      },
      "source": [
        "def run_drlearner(X, W, Y, model_regression, model_propensity, model_final):\n",
        "  drlearner = DRLearner(model_regression, model_propensity, model_final)\n",
        "  drlearner.fit(X,W,Y)\n",
        "\n",
        "  cate_hat_dr = drlearner.predict_CATE(X)\n",
        "  #print(\"- Les dimensions du CATE = {}.\".format(cate_hat_dr.shape))\n",
        "  ate_hat_dr = drlearner.predict_ATE()\n",
        "  #print(\"- L'estimation de la valeur de l'ATE = {}.\".format(ate_hat_dr))\n",
        "  return ate_hat_dr"
      ],
      "execution_count": 16,
      "outputs": []
    },
    {
      "cell_type": "code",
      "metadata": {
        "colab": {
          "base_uri": "https://localhost:8080/"
        },
        "id": "z6m_FeNw-oRp",
        "outputId": "5440a3c6-af1b-4ec9-bed2-ee0ad6bcd14d"
      },
      "source": [
        "run_drlearner(X, W, Y, LinearRegression(), LogisticRegression(), LinearRegression())"
      ],
      "execution_count": 17,
      "outputs": [
        {
          "output_type": "execute_result",
          "data": {
            "text/plain": [
              "-89.96896957620633"
            ]
          },
          "metadata": {
            "tags": []
          },
          "execution_count": 17
        }
      ]
    },
    {
      "cell_type": "markdown",
      "metadata": {
        "id": "UOzJFJh4ALhN"
      },
      "source": [
        "## Calcul Paradis"
      ]
    },
    {
      "cell_type": "markdown",
      "metadata": {
        "id": "RgayWuxvgi6f"
      },
      "source": [
        "#### Calcul MSE"
      ]
    },
    {
      "cell_type": "code",
      "metadata": {
        "id": "-tLZy6WBgi6f"
      },
      "source": [
        "def MSE(y,y_pred):\n",
        "    return 1/2*(y-y_pred)**2"
      ],
      "execution_count": 18,
      "outputs": []
    },
    {
      "cell_type": "markdown",
      "metadata": {
        "id": "D1WkFidSgi6f"
      },
      "source": [
        "#### Calcul de l'ATE"
      ]
    },
    {
      "cell_type": "code",
      "metadata": {
        "id": "Xvmi5lnT72Ax"
      },
      "source": [
        "def ATE_paradis(beta, bias, f=lambda i:i, g=lambda i:i):\n",
        "    p = beta.shape[1]\n",
        "    ate = 0\n",
        "    if p==1:\n",
        "        ate = integrate.quad(lambda x: (g(beta[1]*x + bias[1]) -f(beta[0]*x + bias[0]))*sp.stats.norm.pdf(x,0,1),-1000 , 1000)\n",
        "    if p==2:\n",
        "        ate=integrate.dblquad(lambda x, y: (g(beta[1,0]*x + beta[1,1]*y + bias[1]) -f(beta[0,0]*x + beta[0,1]*y + bias[0])\n",
        "                                           )*sp.stats.norm.pdf(x,0,1)*sp.stats.norm.pdf(y,0,1),-1000 , 1000, lambda y :-1000,lambda y : 1000)\n",
        "    if p>2:\n",
        "        return \"dimension above 2\"\n",
        "    return  ate"
      ],
      "execution_count": 19,
      "outputs": []
    },
    {
      "cell_type": "code",
      "metadata": {
        "id": "vVGjotUsw566"
      },
      "source": [
        "def monte_carlo(Nobs, dim, beta, bias, f, g):\n",
        "    '''\n",
        "    Input :\n",
        "    \n",
        "    Nobs : Nombre de lignes da la matrice X i.e. nombre de personnes.\n",
        "    dim : Nombre de colonnes de la matrice X i.e. nombres de caractéristiques (features).\n",
        "    beta : Vecteur de dimension (2, dim), note dim doit être < 10\n",
        "    bias : Vecteur de dimension (1, 2).\n",
        "    W : Vecteur de dimension (1, Nobs) contenant des 0 ou 1 pour désigner l'affectation du traitement.\n",
        "    f et g sont des fonctions.\n",
        "    \n",
        "    Output:\n",
        "    \n",
        "    ATE : ATE calculé par la méthode de Monte Carlo\n",
        "    '''\n",
        "    moy = np.zeros(dim)\n",
        "    var = np.eye(dim)\n",
        "    X = np.random.multivariate_normal(moy, var, Nobs)\n",
        "    ATE = np.mean(g(X.dot(beta[1])+ bias[1]) - f(X.dot(beta[0])+ bias[0])) \n",
        "            \n",
        "    return ATE"
      ],
      "execution_count": 20,
      "outputs": []
    },
    {
      "cell_type": "code",
      "metadata": {
        "id": "WZHKy9grdYdl",
        "colab": {
          "base_uri": "https://localhost:8080/"
        },
        "outputId": "93f5b4e7-ccc1-4ddf-caac-aa302520054c"
      },
      "source": [
        "print('ATE calculé par intégration: {}'.format(ATE_paradis(beta, bias, f=f, g=g)))\n",
        "print('ATE calculé par Monte Carlo: {}'.format(monte_carlo(10**6, d, beta, bias, f, g)))"
      ],
      "execution_count": 21,
      "outputs": [
        {
          "output_type": "stream",
          "text": [
            "ATE calculé par intégration: (-89.99999999775461, 1.4270833668839065e-08)\n",
            "ATE calculé par Monte Carlo: -90.0\n"
          ],
          "name": "stdout"
        }
      ]
    },
    {
      "cell_type": "markdown",
      "metadata": {
        "id": "eC66BRAKNEzz"
      },
      "source": [
        "## Génération de tableau\n",
        "\n"
      ]
    },
    {
      "cell_type": "code",
      "metadata": {
        "id": "EWPQjjVutcj3"
      },
      "source": [
        "N = 1000\n",
        "f = lambda x:np.sin(x)\n",
        "g = lambda x:x\n",
        "\n",
        "dim = []\n",
        "bases = []\n",
        "score_prop = []\n",
        "\n",
        "base_learners = {\"Linear Regression\" : LinearRegression(),\n",
        "                 \"Random Forest\" : RandomForestRegressor(),\n",
        "                 \"XGboost\" : GradientBoostingRegressor()}\n",
        "\n",
        "res = {\"Score propension\": score_prop, \n",
        "       \"Base Learner\" : bases,\n",
        "       \"Dimension\" : dim,\n",
        "       \"S-Learner\": [],  \"T-Learner\": [],\n",
        "       \"X-Learner\": [], \"Doubly Robust Learning\": []}"
      ],
      "execution_count": 22,
      "outputs": []
    },
    {
      "cell_type": "code",
      "metadata": {
        "id": "E8biixzExU98",
        "colab": {
          "base_uri": "https://localhost:8080/",
          "height": 824
        },
        "outputId": "6311ebec-488c-449f-8491-96e57cd781c3"
      },
      "source": [
        "\n",
        "for b in list(base_learners.keys()):\n",
        "  bl = base_learners[b]\n",
        "  \n",
        "  for d in [5]:\n",
        "    beta0 = np.random.uniform(1, 30, (1, d))\n",
        "    beta = np.vstack((beta0, beta0))                      \n",
        "    bias = np.array([100, 10])   \n",
        "\n",
        "    # Real Value ATE\n",
        "    #print(\"La valeur réelle de l'ATE en d={} est {}.\".format(d, monte_carlo(10**6, d, beta, bias, f, g)))\n",
        "\n",
        "    for p in [0.1, 0.5, 0.9, None]:\n",
        "      dim.append(d)\n",
        "      if p == None:\n",
        "        score_prop.append(\"confounding\")\n",
        "      else:\n",
        "        score_prop.append(p)\n",
        "      bases.append(b)\n",
        "\n",
        "      slearner = []\n",
        "      tlearner = []\n",
        "      xlearner = []\n",
        "      drlearner = []\n",
        "\n",
        "      for _ in range(25):\n",
        "        \n",
        "        X, W, Y = causal_generation(N, d, beta, bias, f, g, p)\n",
        "\n",
        "        # S-Learner\n",
        "        ate_S = run_slearner(X, W, Y, bl)\n",
        "        slearner.append(round(ate_S, 3))\n",
        "\n",
        "        # T-Learner\n",
        "        ate_T = run_tlearner(X, W, Y, bl, RandomForestRegressor())\n",
        "        tlearner.append(round(ate_T, 3))\n",
        "\n",
        "        # X-Learner\n",
        "        ate_hat_X = run_xlearner(X, W, Y, bl, LinearRegression(),\n",
        "                                 LinearRegression(), LinearRegression())\n",
        "        xlearner.append(round(ate_hat_X, 3))\n",
        "\n",
        "        # Doubly Robust Learning\n",
        "        ate_dr = run_drlearner(X, W, Y, bl, LogisticRegression(), LinearRegression())\n",
        "        drlearner.append(round(ate_dr, 3))\n",
        "\n",
        "\n",
        "      # Results\n",
        "      s_mean_value = round(np.mean(slearner), 3)\n",
        "      s_std_value = round(np.std(slearner), 3)\n",
        "      res[\"S-Learner\"].append(str(s_mean_value) + \" ± \" + str(s_std_value))\n",
        "\n",
        "      t_mean_value = round(np.mean(tlearner), 3)\n",
        "      t_std_value = round(np.std(tlearner), 3)\n",
        "      res[\"T-Learner\"].append(str(t_mean_value) + \" ± \" + str(t_std_value))\n",
        "\n",
        "      x_mean_value = round(np.mean(xlearner), 3)\n",
        "      x_std_value = round(np.std(xlearner), 3)\n",
        "      res[\"X-Learner\"].append(str(x_mean_value) + \" ± \" + str(x_std_value))\n",
        "\n",
        "      dr_mean_value = round(np.mean(drlearner), 3)\n",
        "      dr_std_value = round(np.std(drlearner), 3)\n",
        "      res[\"Doubly Robust Learning\"].append(str(dr_mean_value) + \" ± \" + str(dr_std_value))\n",
        "\n",
        "\n",
        "\n",
        "res[\"Dimension\"] = dim\n",
        "res[\"Base Learner\"] =  bases\n",
        "res[\"Score propension\"] = score_prop\n",
        "\n",
        "df = pd.DataFrame(res, columns = list(res.keys()))\n",
        "df = df.set_index([\"Base Learner\", \"Dimension\", \"Score propension\"])\n",
        "df"
      ],
      "execution_count": 24,
      "outputs": [
        {
          "output_type": "execute_result",
          "data": {
            "text/html": [
              "<div>\n",
              "<style scoped>\n",
              "    .dataframe tbody tr th:only-of-type {\n",
              "        vertical-align: middle;\n",
              "    }\n",
              "\n",
              "    .dataframe tbody tr th {\n",
              "        vertical-align: top;\n",
              "    }\n",
              "\n",
              "    .dataframe thead th {\n",
              "        text-align: right;\n",
              "    }\n",
              "</style>\n",
              "<table border=\"1\" class=\"dataframe\">\n",
              "  <thead>\n",
              "    <tr style=\"text-align: right;\">\n",
              "      <th></th>\n",
              "      <th></th>\n",
              "      <th></th>\n",
              "      <th>S-Learner</th>\n",
              "      <th>T-Learner</th>\n",
              "      <th>X-Learner</th>\n",
              "      <th>Doubly Robust Learning</th>\n",
              "    </tr>\n",
              "    <tr>\n",
              "      <th>Base Learner</th>\n",
              "      <th>Dimension</th>\n",
              "      <th>Score propension</th>\n",
              "      <th></th>\n",
              "      <th></th>\n",
              "      <th></th>\n",
              "      <th></th>\n",
              "    </tr>\n",
              "  </thead>\n",
              "  <tbody>\n",
              "    <tr>\n",
              "      <th rowspan=\"4\" valign=\"top\">Linear Regression</th>\n",
              "      <th rowspan=\"4\" valign=\"top\">5</th>\n",
              "      <th>0.1</th>\n",
              "      <td>9.822 ± 3.08</td>\n",
              "      <td>9.687 ± 1.734</td>\n",
              "      <td>9.799 ± 0.848</td>\n",
              "      <td>10.029 ± 3.112</td>\n",
              "    </tr>\n",
              "    <tr>\n",
              "      <th>0.5</th>\n",
              "      <td>9.831 ± 1.246</td>\n",
              "      <td>9.742 ± 1.267</td>\n",
              "      <td>9.814 ± 1.235</td>\n",
              "      <td>9.827 ± 1.237</td>\n",
              "    </tr>\n",
              "    <tr>\n",
              "      <th>0.9</th>\n",
              "      <td>10.07 ± 3.094</td>\n",
              "      <td>9.759 ± 1.045</td>\n",
              "      <td>9.788 ± 1.086</td>\n",
              "      <td>10.206 ± 2.761</td>\n",
              "    </tr>\n",
              "    <tr>\n",
              "      <th>confounding</th>\n",
              "      <td>9.65 ± 1.174</td>\n",
              "      <td>13.526 ± 1.169</td>\n",
              "      <td>9.584 ± 1.206</td>\n",
              "      <td>9.49 ± 1.666</td>\n",
              "    </tr>\n",
              "    <tr>\n",
              "      <th rowspan=\"4\" valign=\"top\">Random Forest</th>\n",
              "      <th rowspan=\"4\" valign=\"top\">5</th>\n",
              "      <th>0.1</th>\n",
              "      <td>9.964 ± 1.537</td>\n",
              "      <td>10.034 ± 1.532</td>\n",
              "      <td>10.044 ± 0.808</td>\n",
              "      <td>9.923 ± 2.548</td>\n",
              "    </tr>\n",
              "    <tr>\n",
              "      <th>0.5</th>\n",
              "      <td>10.018 ± 0.95</td>\n",
              "      <td>9.975 ± 0.926</td>\n",
              "      <td>10.026 ± 0.841</td>\n",
              "      <td>10.001 ± 0.848</td>\n",
              "    </tr>\n",
              "    <tr>\n",
              "      <th>0.9</th>\n",
              "      <td>10.522 ± 1.69</td>\n",
              "      <td>10.254 ± 1.193</td>\n",
              "      <td>10.28 ± 1.174</td>\n",
              "      <td>9.604 ± 3.946</td>\n",
              "    </tr>\n",
              "    <tr>\n",
              "      <th>confounding</th>\n",
              "      <td>13.031 ± 1.251</td>\n",
              "      <td>13.206 ± 1.205</td>\n",
              "      <td>10.085 ± 1.217</td>\n",
              "      <td>10.396 ± 1.76</td>\n",
              "    </tr>\n",
              "    <tr>\n",
              "      <th rowspan=\"4\" valign=\"top\">XGboost</th>\n",
              "      <th rowspan=\"4\" valign=\"top\">5</th>\n",
              "      <th>0.1</th>\n",
              "      <td>9.796 ± 1.434</td>\n",
              "      <td>9.763 ± 1.922</td>\n",
              "      <td>9.676 ± 0.938</td>\n",
              "      <td>10.058 ± 2.687</td>\n",
              "    </tr>\n",
              "    <tr>\n",
              "      <th>0.5</th>\n",
              "      <td>10.212 ± 1.06</td>\n",
              "      <td>10.309 ± 1.13</td>\n",
              "      <td>10.222 ± 1.113</td>\n",
              "      <td>10.202 ± 1.128</td>\n",
              "    </tr>\n",
              "    <tr>\n",
              "      <th>0.9</th>\n",
              "      <td>9.805 ± 1.521</td>\n",
              "      <td>10.438 ± 1.171</td>\n",
              "      <td>10.407 ± 1.189</td>\n",
              "      <td>10.279 ± 3.449</td>\n",
              "    </tr>\n",
              "    <tr>\n",
              "      <th>confounding</th>\n",
              "      <td>11.866 ± 1.012</td>\n",
              "      <td>13.175 ± 0.951</td>\n",
              "      <td>9.992 ± 0.91</td>\n",
              "      <td>10.074 ± 1.413</td>\n",
              "    </tr>\n",
              "    <tr>\n",
              "      <th rowspan=\"4\" valign=\"top\">Linear Regression</th>\n",
              "      <th rowspan=\"4\" valign=\"top\">5</th>\n",
              "      <th>0.1</th>\n",
              "      <td>10.256 ± 2.805</td>\n",
              "      <td>10.078 ± 1.405</td>\n",
              "      <td>10.096 ± 1.067</td>\n",
              "      <td>10.197 ± 2.608</td>\n",
              "    </tr>\n",
              "    <tr>\n",
              "      <th>0.5</th>\n",
              "      <td>10.191 ± 1.068</td>\n",
              "      <td>10.156 ± 1.096</td>\n",
              "      <td>10.157 ± 1.053</td>\n",
              "      <td>10.192 ± 1.068</td>\n",
              "    </tr>\n",
              "    <tr>\n",
              "      <th>0.9</th>\n",
              "      <td>10.288 ± 2.897</td>\n",
              "      <td>9.623 ± 0.977</td>\n",
              "      <td>9.629 ± 0.96</td>\n",
              "      <td>9.88 ± 2.417</td>\n",
              "    </tr>\n",
              "    <tr>\n",
              "      <th>confounding</th>\n",
              "      <td>9.964 ± 1.181</td>\n",
              "      <td>12.016 ± 1.019</td>\n",
              "      <td>9.868 ± 1.009</td>\n",
              "      <td>10.121 ± 1.397</td>\n",
              "    </tr>\n",
              "    <tr>\n",
              "      <th rowspan=\"4\" valign=\"top\">Random Forest</th>\n",
              "      <th rowspan=\"4\" valign=\"top\">5</th>\n",
              "      <th>0.1</th>\n",
              "      <td>10.48 ± 2.227</td>\n",
              "      <td>10.518 ± 2.448</td>\n",
              "      <td>9.986 ± 1.293</td>\n",
              "      <td>10.472 ± 2.131</td>\n",
              "    </tr>\n",
              "    <tr>\n",
              "      <th>0.5</th>\n",
              "      <td>9.543 ± 0.988</td>\n",
              "      <td>9.474 ± 1.053</td>\n",
              "      <td>9.706 ± 1.094</td>\n",
              "      <td>9.538 ± 1.059</td>\n",
              "    </tr>\n",
              "    <tr>\n",
              "      <th>0.9</th>\n",
              "      <td>7.1 ± 2.041</td>\n",
              "      <td>9.829 ± 1.196</td>\n",
              "      <td>9.831 ± 1.197</td>\n",
              "      <td>8.103 ± 1.791</td>\n",
              "    </tr>\n",
              "    <tr>\n",
              "      <th>confounding</th>\n",
              "      <td>15.148 ± 1.14</td>\n",
              "      <td>15.142 ± 1.194</td>\n",
              "      <td>10.483 ± 1.158</td>\n",
              "      <td>13.558 ± 1.171</td>\n",
              "    </tr>\n",
              "    <tr>\n",
              "      <th rowspan=\"4\" valign=\"top\">XGboost</th>\n",
              "      <th rowspan=\"4\" valign=\"top\">5</th>\n",
              "      <th>0.1</th>\n",
              "      <td>9.54 ± 2.311</td>\n",
              "      <td>9.357 ± 2.747</td>\n",
              "      <td>9.877 ± 1.792</td>\n",
              "      <td>9.571 ± 2.307</td>\n",
              "    </tr>\n",
              "    <tr>\n",
              "      <th>0.5</th>\n",
              "      <td>10.762 ± 1.601</td>\n",
              "      <td>10.675 ± 1.64</td>\n",
              "      <td>10.688 ± 1.478</td>\n",
              "      <td>10.728 ± 1.61</td>\n",
              "    </tr>\n",
              "    <tr>\n",
              "      <th>0.9</th>\n",
              "      <td>9.446 ± 1.999</td>\n",
              "      <td>9.584 ± 1.146</td>\n",
              "      <td>9.599 ± 1.169</td>\n",
              "      <td>9.487 ± 2.1</td>\n",
              "    </tr>\n",
              "    <tr>\n",
              "      <th>confounding</th>\n",
              "      <td>12.736 ± 1.145</td>\n",
              "      <td>14.637 ± 1.108</td>\n",
              "      <td>9.695 ± 1.143</td>\n",
              "      <td>11.444 ± 1.245</td>\n",
              "    </tr>\n",
              "  </tbody>\n",
              "</table>\n",
              "</div>"
            ],
            "text/plain": [
              "                                                   S-Learner  ... Doubly Robust Learning\n",
              "Base Learner      Dimension Score propension                  ...                       \n",
              "Linear Regression 5         0.1                 9.822 ± 3.08  ...         10.029 ± 3.112\n",
              "                            0.5                9.831 ± 1.246  ...          9.827 ± 1.237\n",
              "                            0.9                10.07 ± 3.094  ...         10.206 ± 2.761\n",
              "                            confounding         9.65 ± 1.174  ...           9.49 ± 1.666\n",
              "Random Forest     5         0.1                9.964 ± 1.537  ...          9.923 ± 2.548\n",
              "                            0.5                10.018 ± 0.95  ...         10.001 ± 0.848\n",
              "                            0.9                10.522 ± 1.69  ...          9.604 ± 3.946\n",
              "                            confounding       13.031 ± 1.251  ...          10.396 ± 1.76\n",
              "XGboost           5         0.1                9.796 ± 1.434  ...         10.058 ± 2.687\n",
              "                            0.5                10.212 ± 1.06  ...         10.202 ± 1.128\n",
              "                            0.9                9.805 ± 1.521  ...         10.279 ± 3.449\n",
              "                            confounding       11.866 ± 1.012  ...         10.074 ± 1.413\n",
              "Linear Regression 5         0.1               10.256 ± 2.805  ...         10.197 ± 2.608\n",
              "                            0.5               10.191 ± 1.068  ...         10.192 ± 1.068\n",
              "                            0.9               10.288 ± 2.897  ...           9.88 ± 2.417\n",
              "                            confounding        9.964 ± 1.181  ...         10.121 ± 1.397\n",
              "Random Forest     5         0.1                10.48 ± 2.227  ...         10.472 ± 2.131\n",
              "                            0.5                9.543 ± 0.988  ...          9.538 ± 1.059\n",
              "                            0.9                  7.1 ± 2.041  ...          8.103 ± 1.791\n",
              "                            confounding        15.148 ± 1.14  ...         13.558 ± 1.171\n",
              "XGboost           5         0.1                 9.54 ± 2.311  ...          9.571 ± 2.307\n",
              "                            0.5               10.762 ± 1.601  ...          10.728 ± 1.61\n",
              "                            0.9                9.446 ± 1.999  ...            9.487 ± 2.1\n",
              "                            confounding       12.736 ± 1.145  ...         11.444 ± 1.245\n",
              "\n",
              "[24 rows x 4 columns]"
            ]
          },
          "metadata": {
            "tags": []
          },
          "execution_count": 24
        }
      ]
    }
  ]
}