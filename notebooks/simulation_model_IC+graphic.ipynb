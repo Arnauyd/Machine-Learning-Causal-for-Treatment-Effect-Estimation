{
  "nbformat": 4,
  "nbformat_minor": 0,
  "metadata": {
    "colab": {
      "name": "simulation_model_IC.ipynb",
      "provenance": [],
      "collapsed_sections": []
    },
    "kernelspec": {
      "display_name": "Python 3",
      "language": "python",
      "name": "python3"
    },
    "language_info": {
      "codemirror_mode": {
        "name": "ipython",
        "version": 3
      },
      "file_extension": ".py",
      "mimetype": "text/x-python",
      "name": "python",
      "nbconvert_exporter": "python",
      "pygments_lexer": "ipython3",
      "version": "3.7.9"
    }
  },
  "cells": [
    {
      "cell_type": "markdown",
      "metadata": {
        "id": "HgOWtsJ8rUEH"
      },
      "source": [
        "# Estimation de l'ATE/CATE sur des données synthétiques"
      ]
    },
    {
      "cell_type": "code",
      "metadata": {
        "id": "XWZ-_PbjrUEK"
      },
      "source": [
        "import numpy as np\n",
        "from scipy.stats import bernoulli\n",
        "import scipy as sp\n",
        "from scipy import stats\n",
        "from scipy import integrate\n",
        "import matplotlib.pyplot as plt\n",
        "import seaborn as sns\n",
        "sns.set_style(\"whitegrid\")\n",
        "sns.set_context(\"notebook\", font_scale=1.5, rc={\"lines.linewidth\": 1.5})\n",
        "plt.rcParams['figure.figsize'] = 10, 8\n",
        "\n",
        "from sklearn.linear_model import LinearRegression\n",
        "from sklearn.model_selection import train_test_split\n",
        "\n",
        "import warnings\n",
        "warnings.filterwarnings('ignore')"
      ],
      "execution_count": 1,
      "outputs": []
    },
    {
      "cell_type": "code",
      "metadata": {
        "id": "4Xj_Wz5NFKmO",
        "colab": {
          "base_uri": "https://localhost:8080/"
        },
        "outputId": "a28ea169-7941-4f1b-dd45-f210a0812627"
      },
      "source": [
        "!pip install causalml"
      ],
      "execution_count": 2,
      "outputs": [
        {
          "output_type": "stream",
          "text": [
            "Requirement already satisfied: causalml in /usr/local/lib/python3.7/dist-packages (0.10.0)\n",
            "Requirement already satisfied: pip>=10.0 in /usr/local/lib/python3.7/dist-packages (from causalml) (19.3.1)\n",
            "Requirement already satisfied: dill in /usr/local/lib/python3.7/dist-packages (from causalml) (0.3.3)\n",
            "Requirement already satisfied: statsmodels>=0.9.0 in /usr/local/lib/python3.7/dist-packages (from causalml) (0.10.2)\n",
            "Requirement already satisfied: pygam in /usr/local/lib/python3.7/dist-packages (from causalml) (0.8.0)\n",
            "Requirement already satisfied: xgboost in /usr/local/lib/python3.7/dist-packages (from causalml) (0.90)\n",
            "Requirement already satisfied: lightgbm in /usr/local/lib/python3.7/dist-packages (from causalml) (2.2.3)\n",
            "Requirement already satisfied: keras in /usr/local/lib/python3.7/dist-packages (from causalml) (2.4.3)\n",
            "Requirement already satisfied: Cython>=0.28.0 in /usr/local/lib/python3.7/dist-packages (from causalml) (0.29.22)\n",
            "Requirement already satisfied: setuptools>=41.0.0 in /usr/local/lib/python3.7/dist-packages (from causalml) (54.2.0)\n",
            "Requirement already satisfied: pandas>=0.24.1 in /usr/local/lib/python3.7/dist-packages (from causalml) (1.1.5)\n",
            "Requirement already satisfied: scipy==1.4.1 in /usr/local/lib/python3.7/dist-packages (from causalml) (1.4.1)\n",
            "Requirement already satisfied: tensorflow>=1.15.2 in /usr/local/lib/python3.7/dist-packages (from causalml) (2.4.1)\n",
            "Requirement already satisfied: pyro-ppl in /usr/local/lib/python3.7/dist-packages (from causalml) (1.6.0)\n",
            "Requirement already satisfied: packaging in /usr/local/lib/python3.7/dist-packages (from causalml) (20.9)\n",
            "Requirement already satisfied: numpy<1.19.0,>=0.16.0 in /usr/local/lib/python3.7/dist-packages (from causalml) (1.18.5)\n",
            "Requirement already satisfied: tqdm in /usr/local/lib/python3.7/dist-packages (from causalml) (4.41.1)\n",
            "Requirement already satisfied: pydotplus in /usr/local/lib/python3.7/dist-packages (from causalml) (2.0.2)\n",
            "Requirement already satisfied: torch in /usr/local/lib/python3.7/dist-packages (from causalml) (1.8.1+cu101)\n",
            "Requirement already satisfied: seaborn in /usr/local/lib/python3.7/dist-packages (from causalml) (0.11.1)\n",
            "Requirement already satisfied: matplotlib in /usr/local/lib/python3.7/dist-packages (from causalml) (3.2.2)\n",
            "Requirement already satisfied: shap<0.38.1 in /usr/local/lib/python3.7/dist-packages (from causalml) (0.37.0)\n",
            "Requirement already satisfied: scikit-learn<0.24.0,>=0.22.0 in /usr/local/lib/python3.7/dist-packages (from causalml) (0.22.2.post1)\n",
            "Requirement already satisfied: patsy>=0.4.0 in /usr/local/lib/python3.7/dist-packages (from statsmodels>=0.9.0->causalml) (0.5.1)\n",
            "Requirement already satisfied: progressbar2 in /usr/local/lib/python3.7/dist-packages (from pygam->causalml) (3.38.0)\n",
            "Requirement already satisfied: future in /usr/local/lib/python3.7/dist-packages (from pygam->causalml) (0.16.0)\n",
            "Requirement already satisfied: h5py in /usr/local/lib/python3.7/dist-packages (from keras->causalml) (2.10.0)\n",
            "Requirement already satisfied: pyyaml in /usr/local/lib/python3.7/dist-packages (from keras->causalml) (3.13)\n",
            "Requirement already satisfied: python-dateutil>=2.7.3 in /usr/local/lib/python3.7/dist-packages (from pandas>=0.24.1->causalml) (2.8.1)\n",
            "Requirement already satisfied: pytz>=2017.2 in /usr/local/lib/python3.7/dist-packages (from pandas>=0.24.1->causalml) (2018.9)\n",
            "Requirement already satisfied: typing-extensions~=3.7.4 in /usr/local/lib/python3.7/dist-packages (from tensorflow>=1.15.2->causalml) (3.7.4.3)\n",
            "Requirement already satisfied: tensorboard~=2.4 in /usr/local/lib/python3.7/dist-packages (from tensorflow>=1.15.2->causalml) (2.4.1)\n",
            "Requirement already satisfied: gast==0.3.3 in /usr/local/lib/python3.7/dist-packages (from tensorflow>=1.15.2->causalml) (0.3.3)\n",
            "Requirement already satisfied: tensorflow-estimator<2.5.0,>=2.4.0 in /usr/local/lib/python3.7/dist-packages (from tensorflow>=1.15.2->causalml) (2.4.0)\n",
            "Requirement already satisfied: wrapt~=1.12.1 in /usr/local/lib/python3.7/dist-packages (from tensorflow>=1.15.2->causalml) (1.12.1)\n",
            "Requirement already satisfied: astunparse~=1.6.3 in /usr/local/lib/python3.7/dist-packages (from tensorflow>=1.15.2->causalml) (1.6.3)\n",
            "Requirement already satisfied: google-pasta~=0.2 in /usr/local/lib/python3.7/dist-packages (from tensorflow>=1.15.2->causalml) (0.2.0)\n",
            "Requirement already satisfied: six~=1.15.0 in /usr/local/lib/python3.7/dist-packages (from tensorflow>=1.15.2->causalml) (1.15.0)\n",
            "Requirement already satisfied: absl-py~=0.10 in /usr/local/lib/python3.7/dist-packages (from tensorflow>=1.15.2->causalml) (0.12.0)\n",
            "Requirement already satisfied: keras-preprocessing~=1.1.2 in /usr/local/lib/python3.7/dist-packages (from tensorflow>=1.15.2->causalml) (1.1.2)\n",
            "Requirement already satisfied: termcolor~=1.1.0 in /usr/local/lib/python3.7/dist-packages (from tensorflow>=1.15.2->causalml) (1.1.0)\n",
            "Requirement already satisfied: wheel~=0.35 in /usr/local/lib/python3.7/dist-packages (from tensorflow>=1.15.2->causalml) (0.36.2)\n",
            "Requirement already satisfied: flatbuffers~=1.12.0 in /usr/local/lib/python3.7/dist-packages (from tensorflow>=1.15.2->causalml) (1.12)\n",
            "Requirement already satisfied: protobuf>=3.9.2 in /usr/local/lib/python3.7/dist-packages (from tensorflow>=1.15.2->causalml) (3.12.4)\n",
            "Requirement already satisfied: opt-einsum~=3.3.0 in /usr/local/lib/python3.7/dist-packages (from tensorflow>=1.15.2->causalml) (3.3.0)\n",
            "Requirement already satisfied: grpcio~=1.32.0 in /usr/local/lib/python3.7/dist-packages (from tensorflow>=1.15.2->causalml) (1.32.0)\n",
            "Requirement already satisfied: pyro-api>=0.1.1 in /usr/local/lib/python3.7/dist-packages (from pyro-ppl->causalml) (0.1.2)\n",
            "Requirement already satisfied: pyparsing>=2.0.2 in /usr/local/lib/python3.7/dist-packages (from packaging->causalml) (2.4.7)\n",
            "Requirement already satisfied: cycler>=0.10 in /usr/local/lib/python3.7/dist-packages (from matplotlib->causalml) (0.10.0)\n",
            "Requirement already satisfied: kiwisolver>=1.0.1 in /usr/local/lib/python3.7/dist-packages (from matplotlib->causalml) (1.3.1)\n",
            "Requirement already satisfied: slicer==0.0.3 in /usr/local/lib/python3.7/dist-packages (from shap<0.38.1->causalml) (0.0.3)\n",
            "Requirement already satisfied: numba in /usr/local/lib/python3.7/dist-packages (from shap<0.38.1->causalml) (0.51.2)\n",
            "Requirement already satisfied: joblib>=0.11 in /usr/local/lib/python3.7/dist-packages (from scikit-learn<0.24.0,>=0.22.0->causalml) (1.0.1)\n",
            "Requirement already satisfied: python-utils>=2.3.0 in /usr/local/lib/python3.7/dist-packages (from progressbar2->pygam->causalml) (2.5.6)\n",
            "Requirement already satisfied: tensorboard-plugin-wit>=1.6.0 in /usr/local/lib/python3.7/dist-packages (from tensorboard~=2.4->tensorflow>=1.15.2->causalml) (1.8.0)\n",
            "Requirement already satisfied: werkzeug>=0.11.15 in /usr/local/lib/python3.7/dist-packages (from tensorboard~=2.4->tensorflow>=1.15.2->causalml) (1.0.1)\n",
            "Requirement already satisfied: markdown>=2.6.8 in /usr/local/lib/python3.7/dist-packages (from tensorboard~=2.4->tensorflow>=1.15.2->causalml) (3.3.4)\n",
            "Requirement already satisfied: google-auth-oauthlib<0.5,>=0.4.1 in /usr/local/lib/python3.7/dist-packages (from tensorboard~=2.4->tensorflow>=1.15.2->causalml) (0.4.3)\n",
            "Requirement already satisfied: google-auth<2,>=1.6.3 in /usr/local/lib/python3.7/dist-packages (from tensorboard~=2.4->tensorflow>=1.15.2->causalml) (1.28.0)\n",
            "Requirement already satisfied: requests<3,>=2.21.0 in /usr/local/lib/python3.7/dist-packages (from tensorboard~=2.4->tensorflow>=1.15.2->causalml) (2.23.0)\n",
            "Requirement already satisfied: llvmlite<0.35,>=0.34.0.dev0 in /usr/local/lib/python3.7/dist-packages (from numba->shap<0.38.1->causalml) (0.34.0)\n",
            "Requirement already satisfied: importlib-metadata; python_version < \"3.8\" in /usr/local/lib/python3.7/dist-packages (from markdown>=2.6.8->tensorboard~=2.4->tensorflow>=1.15.2->causalml) (3.8.1)\n",
            "Requirement already satisfied: requests-oauthlib>=0.7.0 in /usr/local/lib/python3.7/dist-packages (from google-auth-oauthlib<0.5,>=0.4.1->tensorboard~=2.4->tensorflow>=1.15.2->causalml) (1.3.0)\n",
            "Requirement already satisfied: rsa<5,>=3.1.4; python_version >= \"3.6\" in /usr/local/lib/python3.7/dist-packages (from google-auth<2,>=1.6.3->tensorboard~=2.4->tensorflow>=1.15.2->causalml) (4.7.2)\n",
            "Requirement already satisfied: cachetools<5.0,>=2.0.0 in /usr/local/lib/python3.7/dist-packages (from google-auth<2,>=1.6.3->tensorboard~=2.4->tensorflow>=1.15.2->causalml) (4.2.1)\n",
            "Requirement already satisfied: pyasn1-modules>=0.2.1 in /usr/local/lib/python3.7/dist-packages (from google-auth<2,>=1.6.3->tensorboard~=2.4->tensorflow>=1.15.2->causalml) (0.2.8)\n",
            "Requirement already satisfied: urllib3!=1.25.0,!=1.25.1,<1.26,>=1.21.1 in /usr/local/lib/python3.7/dist-packages (from requests<3,>=2.21.0->tensorboard~=2.4->tensorflow>=1.15.2->causalml) (1.24.3)\n",
            "Requirement already satisfied: chardet<4,>=3.0.2 in /usr/local/lib/python3.7/dist-packages (from requests<3,>=2.21.0->tensorboard~=2.4->tensorflow>=1.15.2->causalml) (3.0.4)\n",
            "Requirement already satisfied: idna<3,>=2.5 in /usr/local/lib/python3.7/dist-packages (from requests<3,>=2.21.0->tensorboard~=2.4->tensorflow>=1.15.2->causalml) (2.10)\n",
            "Requirement already satisfied: certifi>=2017.4.17 in /usr/local/lib/python3.7/dist-packages (from requests<3,>=2.21.0->tensorboard~=2.4->tensorflow>=1.15.2->causalml) (2020.12.5)\n",
            "Requirement already satisfied: zipp>=0.5 in /usr/local/lib/python3.7/dist-packages (from importlib-metadata; python_version < \"3.8\"->markdown>=2.6.8->tensorboard~=2.4->tensorflow>=1.15.2->causalml) (3.4.1)\n",
            "Requirement already satisfied: oauthlib>=3.0.0 in /usr/local/lib/python3.7/dist-packages (from requests-oauthlib>=0.7.0->google-auth-oauthlib<0.5,>=0.4.1->tensorboard~=2.4->tensorflow>=1.15.2->causalml) (3.1.0)\n",
            "Requirement already satisfied: pyasn1>=0.1.3 in /usr/local/lib/python3.7/dist-packages (from rsa<5,>=3.1.4; python_version >= \"3.6\"->google-auth<2,>=1.6.3->tensorboard~=2.4->tensorflow>=1.15.2->causalml) (0.4.8)\n"
          ],
          "name": "stdout"
        }
      ]
    },
    {
      "cell_type": "code",
      "metadata": {
        "id": "Zli_yoWuclrr"
      },
      "source": [
        "import causalml"
      ],
      "execution_count": 3,
      "outputs": []
    },
    {
      "cell_type": "markdown",
      "metadata": {
        "id": "stT8FysBrUEL"
      },
      "source": [
        "## Génération de données"
      ]
    },
    {
      "cell_type": "code",
      "metadata": {
        "id": "9gPyMC5MrUEM"
      },
      "source": [
        "def treatment_assign(Nobs, p):\n",
        "    '''\n",
        "    Input: \n",
        "    \n",
        "    p : score de propension.\n",
        "    Nobs : Nombre de lignes da la matrice X i.e. nombre de personnes.\n",
        "    \n",
        "    Output:\n",
        "    \n",
        "    W : Vecteur de taille Nobs contenant des 0 ou 1 pour désigner l'affectation du traitement.\n",
        "    '''\n",
        "    W = bernoulli.rvs(p, size = Nobs)\n",
        "    \n",
        "    return W"
      ],
      "execution_count": 4,
      "outputs": []
    },
    {
      "cell_type": "code",
      "metadata": {
        "id": "6lYqHn75rUEM"
      },
      "source": [
        "def causal_generation(Nobs, dim, beta, bias, f, g, W):\n",
        "    '''\n",
        "    Input :\n",
        "    \n",
        "    Nobs : Nombre de lignes da la matrice X i.e. nombre de personnes.\n",
        "    dim : Nombre de colonnes de la matrice X i.e. nombres de caractéristiques (features).\n",
        "    beta : Vecteur de dimension (2, dim).\n",
        "    bias : Vecteur de dimension (1, 2).\n",
        "    W : Vecteur de dimension (1, Nobs) contenant des 0 ou 1 pour désigner l'affectation du traitement.\n",
        "    f et g sont des fonctions.\n",
        "    \n",
        "    Output:\n",
        "    \n",
        "    (X, W, Y) : Triplet contenant la matrice X des features, Y le vecteur des résultats potentiels et \n",
        "                W le vecteur de l'affectation du traitement.\n",
        "    '''\n",
        "    moy = np.zeros(dim)\n",
        "    var = np.eye(dim)\n",
        "    X = np.random.multivariate_normal(moy, var, Nobs)\n",
        "    Y = np.zeros(Nobs)\n",
        "    \n",
        "    for i in range(Nobs):\n",
        "        bruit = np.random.normal(0, 1)\n",
        "        if W[i] == 0:\n",
        "            Y[i] = f(beta[0] @ X[i] + bias[0]) + bruit\n",
        "        if W[i] == 1:\n",
        "            Y[i] = g(beta[1] @ X[i] + bias[1]) + bruit\n",
        "            \n",
        "    return (X, W, Y)"
      ],
      "execution_count": 5,
      "outputs": []
    },
    {
      "cell_type": "markdown",
      "metadata": {
        "id": "O8cCtYY-rUEN"
      },
      "source": [
        "## S-learners"
      ]
    },
    {
      "cell_type": "code",
      "metadata": {
        "id": "tAi-i1kOnOtR"
      },
      "source": [
        "from sklearn.base import BaseEstimator, ClassifierMixin\n",
        "\n",
        "class SLearner(BaseEstimator, ClassifierMixin):\n",
        "    \"\"\" Homemade SLearner class \"\"\"\n",
        "    \n",
        "    def __init__(self, base_estimator=LinearRegression()):\n",
        "        # init\n",
        "        self.estimator = base_estimator\n",
        "        \n",
        "    def fit(self, X, W, Y):\n",
        "        # Initiation des variables\n",
        "        self.X=X\n",
        "        self.W=W\n",
        "        self.Y=Y\n",
        "        self.features = np.hstack((self.X,self.W[:,np.newaxis]))\n",
        "        self.clf=self.estimator.fit(self.features,self.Y)\n",
        "\n",
        "    def predict_CATE(self):\n",
        "      #ajouter un x en parametre pour calculer le cate sur un point\n",
        "        # Complete the method         \n",
        "        self.Y_0_hat=self.clf.predict(np.hstack((self.X,np.zeros(len(self.W))[:,np.newaxis])))\n",
        "        self.Y_1_hat=self.clf.predict(np.hstack((self.X,np.ones(len(self.W))[:,np.newaxis])))\n",
        "        return self.Y_1_hat - self.Y_0_hat\n",
        "\n",
        "    def predict_ATE(self):\n",
        "        return (self.Y_1_hat - self.Y_0_hat).mean()"
      ],
      "execution_count": 6,
      "outputs": []
    },
    {
      "cell_type": "markdown",
      "metadata": {
        "id": "FEvqUznWxMrf"
      },
      "source": [
        "## T-learners"
      ]
    },
    {
      "cell_type": "code",
      "metadata": {
        "id": "B9Zl-vv30rHU"
      },
      "source": [
        "from sklearn.base import BaseEstimator, ClassifierMixin\n",
        "\n",
        "class TLearner(BaseEstimator, ClassifierMixin):\n",
        "    \"\"\" Homemade SLearner class \"\"\"\n",
        "    \n",
        "    def __init__(self, base_estimator0=LinearRegression(), base_estimator1=LinearRegression() ):\n",
        "        # init\n",
        "        self.estimator0 = base_estimator0\n",
        "        self.estimator1 = base_estimator1\n",
        "\n",
        "    def fit(self, X, W, Y):\n",
        "        # Initiation des variables\n",
        "        self.X=X\n",
        "        self.W=W\n",
        "        self.Y=Y\n",
        "        self.mu_0=self.estimator0.fit(X[self.W==0,:],self.Y[self.W==0])\n",
        "        self.mu_1=self.estimator1.fit(X[self.W==1,:],self.Y[self.W==1])\n",
        "\n",
        "    def predict_CATE(self):\n",
        "      #ajouter un x en parametre pour calculer le cate sur un point\n",
        "        # Complete the method         \n",
        "        self.Y_0_hat=self.mu_0.predict(self.X)\n",
        "        self.Y_1_hat=self.mu_1.predict(self.X)\n",
        "        return self.Y_1_hat - self.Y_0_hat\n",
        "\n",
        "    def predict_ATE(self):\n",
        "        return (self.Y_1_hat - self.Y_0_hat).mean()"
      ],
      "execution_count": 7,
      "outputs": []
    },
    {
      "cell_type": "markdown",
      "metadata": {
        "id": "mpbCRF4wxSmw"
      },
      "source": [
        "## X-Learners ( a faire)"
      ]
    },
    {
      "cell_type": "markdown",
      "metadata": {
        "id": "ZIf7QInLeFIP"
      },
      "source": [
        "## Phase de test ( cas simple)"
      ]
    },
    {
      "cell_type": "markdown",
      "metadata": {
        "id": "JlTx_NDBy42f"
      },
      "source": [
        "### Initialisation des paramètres (cas simple)"
      ]
    },
    {
      "cell_type": "code",
      "metadata": {
        "id": "3GNGiMt0y9cA"
      },
      "source": [
        "# paramètres pour faciliter le calcul de l'ATE par intégration\n",
        "N = 1000\n",
        "d = 2                                     # d = 2, afin de pouvoir être calculé par intégration et avec Monte Carlo\n",
        "p = 0.5\n",
        "beta = np.random.uniform(1, 30, (1, d))\n",
        "beta = np.vstack((beta,beta))               # beta0 = beta1           \n",
        "bias = np.array([10,0])                   # Gamma0 = Gamma1 \n",
        "f = lambda x:x\n",
        "g = lambda x:np.cos(x)"
      ],
      "execution_count": 8,
      "outputs": []
    },
    {
      "cell_type": "code",
      "metadata": {
        "colab": {
          "base_uri": "https://localhost:8080/"
        },
        "id": "AFnAQ8dnaAVf",
        "outputId": "ca39dd11-a216-476c-ecbb-a2721c3951d7"
      },
      "source": [
        "print(beta, bias)"
      ],
      "execution_count": 9,
      "outputs": [
        {
          "output_type": "stream",
          "text": [
            "[[17.96269377 15.79482981]\n",
            " [17.96269377 15.79482981]] [10  0]\n"
          ],
          "name": "stdout"
        }
      ]
    },
    {
      "cell_type": "markdown",
      "metadata": {
        "id": "6OhpvinNxUdk"
      },
      "source": [
        "### Générations des données (cas simple)"
      ]
    },
    {
      "cell_type": "code",
      "metadata": {
        "id": "BLuyzerxeJPV"
      },
      "source": [
        "# Génération des données\n",
        "W = treatment_assign(N, p)\n",
        "X, W, Y = causal_generation(N, d, beta, bias, f, g, W = W)"
      ],
      "execution_count": 10,
      "outputs": []
    },
    {
      "cell_type": "markdown",
      "metadata": {
        "id": "0HGXgVo5xa2M"
      },
      "source": [
        "### Prédictions des métalearners \"Team Filrouge\""
      ]
    },
    {
      "cell_type": "markdown",
      "metadata": {
        "id": "6BVz8q9v3pnC"
      },
      "source": [
        "#### Slearners"
      ]
    },
    {
      "cell_type": "code",
      "metadata": {
        "colab": {
          "base_uri": "https://localhost:8080/"
        },
        "id": "gQHpwQc4mGf3",
        "outputId": "4254e5b2-92cb-472b-f859-451d01b19e7f"
      },
      "source": [
        "slearner=SLearner(base_estimator=LinearRegression())\n",
        "slearner.fit(X,W,Y)\n",
        "\n",
        "cate_hat_S = slearner.predict_CATE()\n",
        "print(\"- Les dimensions du CATE = {}.\".format(cate_hat_S.shape))\n",
        "\n",
        "ate_hat_S = slearner.predict_ATE()\n",
        "print(\"- L'estimation de la valeur de l'ATE = {}.\".format(ate_hat_S))"
      ],
      "execution_count": 11,
      "outputs": [
        {
          "output_type": "stream",
          "text": [
            "- Les dimensions du CATE = (1000,).\n",
            "- L'estimation de la valeur de l'ATE = -9.494216643242991.\n"
          ],
          "name": "stdout"
        }
      ]
    },
    {
      "cell_type": "markdown",
      "metadata": {
        "id": "RmJV1Jy-3ve6"
      },
      "source": [
        "#### Tlearners"
      ]
    },
    {
      "cell_type": "code",
      "metadata": {
        "colab": {
          "base_uri": "https://localhost:8080/"
        },
        "id": "r1WmQRa33okq",
        "outputId": "ae9115d9-b7c6-4390-fdc8-18e35dadd19a"
      },
      "source": [
        "tlearner=TLearner(base_estimator0=LinearRegression(),base_estimator1=LinearRegression())\n",
        "tlearner.fit(X,W,Y)\n",
        "\n",
        "cate_hat_T = tlearner.predict_CATE()\n",
        "print(\"- Les dimensions du CATE = {}.\".format(cate_hat_S.shape))\n",
        "\n",
        "ate_hat_T = tlearner.predict_ATE()\n",
        "print(\"- L'estimation de la valeur de l'ATE = {}.\".format(ate_hat_T))"
      ],
      "execution_count": 12,
      "outputs": [
        {
          "output_type": "stream",
          "text": [
            "- Les dimensions du CATE = (1000,).\n",
            "- L'estimation de la valeur de l'ATE = -9.471863588482115.\n"
          ],
          "name": "stdout"
        }
      ]
    },
    {
      "cell_type": "markdown",
      "metadata": {
        "id": "gq-vjom4xmRs"
      },
      "source": [
        "### Prédictions des métalearners \"Causal ML\""
      ]
    },
    {
      "cell_type": "markdown",
      "metadata": {
        "id": "5Tn-YCHA4L5r"
      },
      "source": [
        "#### Slearners"
      ]
    },
    {
      "cell_type": "code",
      "metadata": {
        "colab": {
          "base_uri": "https://localhost:8080/"
        },
        "id": "7naePgnBlxjE",
        "outputId": "bb0f4f55-39b6-48ff-a487-0ef19cfb3d68"
      },
      "source": [
        "from causalml.inference.meta import LRSRegressor\n",
        "from xgboost import XGBRegressor\n",
        "\n",
        "\n",
        "lr = LRSRegressor()\n",
        "te, lb, ub = lr.estimate_ate(X, W, Y)\n",
        "print('L\\'estimation de la valeur de l\\'ATE (Linear Regression): {:.2f} ({:.2f}, {:.2f})'.format(te[0], lb[0], ub[0]))"
      ],
      "execution_count": 13,
      "outputs": [
        {
          "output_type": "stream",
          "text": [
            "L'estimation de la valeur de l'ATE (Linear Regression): -9.49 (-11.04, -7.94)\n"
          ],
          "name": "stdout"
        }
      ]
    },
    {
      "cell_type": "markdown",
      "metadata": {
        "id": "VeQ5ZgiJ4OQb"
      },
      "source": [
        "#### Tlearners"
      ]
    },
    {
      "cell_type": "code",
      "metadata": {
        "colab": {
          "base_uri": "https://localhost:8080/"
        },
        "id": "mzPAOp0h4Lac",
        "outputId": "dae47fcd-4845-4e27-d7d0-f918ebdfdee7"
      },
      "source": [
        "from causalml.inference.meta import XGBTRegressor\n",
        "\n",
        "xg = XGBTRegressor(random_state=42)\n",
        "te, lb, ub = xg.estimate_ate(X, W, Y)\n",
        "print('L\\'estimation de la valeur de l\\'ATE (XGBoost): {:.2f} ({:.2f}, {:.2f})'.format(te[0], lb[0], ub[0]))"
      ],
      "execution_count": 14,
      "outputs": [
        {
          "output_type": "stream",
          "text": [
            "[11:58:49] WARNING: /workspace/src/objective/regression_obj.cu:152: reg:linear is now deprecated in favor of reg:squarederror.\n",
            "[11:58:49] WARNING: /workspace/src/objective/regression_obj.cu:152: reg:linear is now deprecated in favor of reg:squarederror.\n",
            "L'estimation de la valeur de l'ATE (XGBoost): -9.39 (-10.91, -7.87)\n"
          ],
          "name": "stdout"
        }
      ]
    },
    {
      "cell_type": "markdown",
      "metadata": {
        "id": "kvsZS91J73op"
      },
      "source": [
        "### Paradis"
      ]
    },
    {
      "cell_type": "markdown",
      "metadata": {
        "id": "gJReJVicRdHu"
      },
      "source": [
        "#### Calcul de l'ATE"
      ]
    },
    {
      "cell_type": "code",
      "metadata": {
        "id": "Xvmi5lnT72Ax"
      },
      "source": [
        "def ATE_paradis(beta, bias, f=lambda i:i, g=lambda i:i):\n",
        "  p=beta.shape[1]\n",
        "  if p==1:\n",
        "    ate = integrate.quad(lambda x: (g(beta[1]*x + bias[1]) -f(beta[0]*x + bias[0]))*sp.stats.norm.pdf(x,0,1),-1000 , 1000)\n",
        "  if p==2:\n",
        "    ate=integrate.dblquad(lambda x, y: (g(beta[1,0]*x + beta[1,1]*y + bias[1]) -f(beta[0,0]*x + beta[0,1]*y + bias[0])\n",
        "    )*sp.stats.norm.pdf(x,0,1)*sp.stats.norm.pdf(y,0,1),-1000 , 1000, lambda y :-1000,lambda y : 1000)\n",
        "  if p>2:\n",
        "    raise Warning('dimension above 2')\n",
        "  return  ate"
      ],
      "execution_count": 15,
      "outputs": []
    },
    {
      "cell_type": "code",
      "metadata": {
        "id": "vVGjotUsw566"
      },
      "source": [
        "def monte_carlo(Nobs, dim, beta, bias, f, g, W):\n",
        "    '''\n",
        "    Input :\n",
        "    \n",
        "    Nobs : Nombre de lignes da la matrice X i.e. nombre de personnes.\n",
        "    dim : Nombre de colonnes de la matrice X i.e. nombres de caractéristiques (features).\n",
        "    beta : Vecteur de dimension (2, dim), note dim doit être < 10\n",
        "    bias : Vecteur de dimension (1, 2).\n",
        "    W : Vecteur de dimension (1, Nobs) contenant des 0 ou 1 pour désigner l'affectation du traitement.\n",
        "    f et g sont des fonctions.\n",
        "    \n",
        "    Output:\n",
        "    \n",
        "    ATE : ATE calculé par la méthode de Monte Carlo\n",
        "    '''\n",
        "    moy = np.zeros(dim)\n",
        "    var = np.eye(dim)\n",
        "    X = np.random.multivariate_normal(moy, var, Nobs)\n",
        "    ATE = np.mean(g(X.dot(beta[1])+ bias[1]) - f(X.dot(beta[0])+ bias[0])) \n",
        "            \n",
        "    return ATE"
      ],
      "execution_count": 16,
      "outputs": []
    },
    {
      "cell_type": "code",
      "metadata": {
        "colab": {
          "base_uri": "https://localhost:8080/"
        },
        "id": "WZHKy9grdYdl",
        "outputId": "33c1c71d-ab03-487d-c27c-c359fbfaf488"
      },
      "source": [
        "print('ATE: {}'.format(ATE_paradis(beta, bias, f=f, g=g)))\n",
        "print('ATE par monte carlo: {}'.format(monte_carlo(10**6, d, beta, bias, f, g, W)))"
      ],
      "execution_count": 17,
      "outputs": [
        {
          "output_type": "stream",
          "text": [
            "ATE: (-9.999999999895264, 8.026393159870201e-08)\n",
            "ATE par monte carlo: -9.996099868002444\n"
          ],
          "name": "stdout"
        }
      ]
    },
    {
      "cell_type": "code",
      "metadata": {
        "colab": {
          "base_uri": "https://localhost:8080/",
          "height": 303
        },
        "id": "TDSQDcFgwgeS",
        "scrolled": false,
        "outputId": "d1f31a0e-96a8-455b-ab3e-a802221df750"
      },
      "source": [
        "res = []\n",
        "#1- varier Nobs pour ate_hat_S et le comparer avec mc_est (meth. monte carlo) avec 10**8\n",
        "#2 - ajouter une courbe avec l'estimation avec causalml avec la borne inf et max et ate_hat_S\n",
        "for i in range(2,8):\n",
        "    mc_est = monte_carlo(10**i, d, beta, bias, f, g, W)\n",
        "    res.append([abs(mc_est - ate_hat_S)])\n",
        "plt.figure()\n",
        "plt.plot(res)"
      ],
      "execution_count": 18,
      "outputs": [
        {
          "output_type": "execute_result",
          "data": {
            "text/plain": [
              "[<matplotlib.lines.Line2D at 0x7f04bcad73d0>]"
            ]
          },
          "metadata": {
            "tags": []
          },
          "execution_count": 18
        },
        {
          "output_type": "display_data",
          "data": {
            "image/png": "[encoded data removed]",
            "text/plain": [
              "<Figure size 432x288 with 1 Axes>"
            ]
          },
          "metadata": {
            "tags": []
          }
        }
      ]
    },
    {
      "cell_type": "markdown",
      "metadata": {
        "id": "huJw7gEmRdJT"
      },
      "source": [
        "#### Calcul des IC"
      ]
    },
    {
      "cell_type": "code",
      "metadata": {
        "id": "5XO3lvQIRdJT"
      },
      "source": [
        "# paramètres pour faciliter le calcul de l'ATE par intégration\n",
        "N = 1000\n",
        "d = 2                                     # d = 2, afin de pouvoir être calculé par intégration et avec Monte Carlo\n",
        "p = 0.5\n",
        "beta = np.random.uniform(1, 30, (1, d))\n",
        "beta = np.vstack((beta,beta))               # beta0 = beta1           \n",
        "bias = np.array([10,0])                   # Gamma0 = Gamma1 \n",
        "f = lambda x:x\n",
        "g = lambda x:x"
      ],
      "execution_count": 19,
      "outputs": []
    },
    {
      "cell_type": "code",
      "metadata": {
        "id": "vJpA6i30RdJT"
      },
      "source": [
        "def causal_generation_bootstrap(W, beta, bias, B=999, Nobs=1000, dim=2, f=lambda i:i, g=lambda i:i):\n",
        "    '''\n",
        "    Create list of bootstrap elements\n",
        "    Input :\n",
        "    \n",
        "    B : Nombre d'échantillons Boostrap, 999 est une valeur par défaut pertinente\n",
        "    Nobs : Nombre de lignes da la matrice X i.e. nombre de personnes, 1000 par défaut\n",
        "    dim : Nombre de colonnes de la matrice X i.e. nombres de caractéristiques (features), 2 par défaut\n",
        "    beta : Vecteur de dimension (2, dim).\n",
        "    bias : Vecteur de dimension (1, 2).\n",
        "    W : Vecteur de dimension (1, Nobs) contenant des 0 ou 1 pour désigner l'affectation du traitement.\n",
        "    f et g sont des fonctions, identité par défaut\n",
        "    \n",
        "    Output:\n",
        "    \n",
        "    [(X, W, Y)] : liste de B Triplets contenant la matrice X des features, W le vecteur de l'affectation du traitement et Y\n",
        "    le vecteur des résultats potentiels. \n",
        "                .\n",
        "    '''\n",
        "    Bootstraps=[]\n",
        "    \n",
        "    for b in range(B):\n",
        "        Bootstraps.append(causal_generation(Nobs, dim, beta, bias, f, g, W = W))\n",
        "      \n",
        "    return Bootstraps"
      ],
      "execution_count": 20,
      "outputs": []
    },
    {
      "cell_type": "code",
      "metadata": {
        "id": "Zf1tJI2URdJU"
      },
      "source": [
        "def IC(Bootstraps, base_metalerner=SLearner(),alpha=0.05):\n",
        "    \n",
        "    '''\n",
        "    Calculate l'intervalle de confiance d'un métalearner\n",
        "    \n",
        "    Input :\n",
        "    \n",
        "    Bootstraps : Liste d'échantillons Boostraps comprenant B triplets (X,Y,W)\n",
        "    base_metalerner : metalearner à évaluer\n",
        "    \n",
        "    Output:\n",
        "    \n",
        "    IC : (IC inf , IC sup) du métalearner \n",
        "    '''\n",
        "    #import\n",
        "    from scipy.stats import norm\n",
        "    \n",
        "    #Calcul de l'ATE les B estimateurs du Bootstrap\n",
        "    ATEs=np.zeros((len(Bootstraps)))\n",
        "    base_metalearner=SLearner()\n",
        "    for i in range(len(Bootstraps)):\n",
        "        base_metalearner.fit(Bootstraps[i][0],Bootstraps[i][1],Bootstraps[i][2])\n",
        "        base_metalearner.predict_CATE()\n",
        "        ATEs[i]=base_metalearner.predict_ATE()\n",
        "    \n",
        "    #Calcul des intervalles de confiance\n",
        "    Mu_ATEs= ATEs.mean()\n",
        "    std_ATEs= ATEs.std()\n",
        "    ATEs_tilt= (ATEs-Mu_ATEs)/std_ATEs\n",
        "    ATEs_tilt.sort()\n",
        "    ATEs.sort()\n",
        "    IC_inf, IC_sup = ATEs[int(B*(alpha/(2)))], ATEs[int(B*(1-alpha/(2)))]\n",
        "    \n",
        "    return (Mu_ATEs, IC_inf, IC_sup)"
      ],
      "execution_count": 21,
      "outputs": []
    },
    {
      "cell_type": "code",
      "metadata": {
        "colab": {
          "base_uri": "https://localhost:8080/"
        },
        "id": "-KxipH7iRdJV",
        "outputId": "de8c0ee3-55c7-4de0-f312-3d166198710c"
      },
      "source": [
        "N=100\n",
        "B=999\n",
        "W = treatment_assign(N, p)\n",
        "Bootstraps=causal_generation_bootstrap(W, beta, bias, B=B, Nobs=N, dim=2, f=lambda i:i, g=lambda i:i)\n",
        "IC(Bootstraps, base_metalerner=SLearner(),alpha=0.05)"
      ],
      "execution_count": 22,
      "outputs": [
        {
          "output_type": "execute_result",
          "data": {
            "text/plain": [
              "(-9.996180322616997, -10.395835089327354, -9.595422301790476)"
            ]
          },
          "metadata": {
            "tags": []
          },
          "execution_count": 22
        }
      ]
    },
    {
      "cell_type": "code",
      "metadata": {
        "colab": {
          "base_uri": "https://localhost:8080/",
          "height": 562
        },
        "id": "Y8qcK-rrRdJV",
        "outputId": "58d630ca-2f7b-45ec-8da1-084e60a3a27c"
      },
      "source": [
        "ates = []\n",
        "ates_inf = []\n",
        "ates_sup = []\n",
        "B=999\n",
        "\n",
        "for i in range(100,1000,100):\n",
        "    W = treatment_assign(i, p)\n",
        "    Bootstraps=causal_generation_bootstrap(W, beta, bias, B=B, Nobs=i, dim=2, f=lambda i:i, g=lambda i:i)\n",
        "    mu, inf, sup = IC(Bootstraps, base_metalerner=SLearner(), alpha=0.05)\n",
        "    ates.append(mu)\n",
        "    ates_inf.append(inf)\n",
        "    ates_sup.append(sup)\n",
        "\n",
        "plt.figure(figsize=(10,8))\n",
        "x=np.arange(100,1000,100)\n",
        "plt.plot(x, ates, color='k',label='ATE')\n",
        "plt.fill_between(x, ates_inf,ates_sup)\n",
        "plt.ylim(min(ates_inf)-1,min(ates_inf)+1)\n",
        "plt.xlabel(\"N observations\")\n",
        "plt.ylabel(\"ATE\")\n",
        "plt.title(\"Evaluation de l'ATE en fonction du nombre d'observations\")\n",
        "plt.legend(loc=1,numpoints=1)\n",
        "\n",
        "plt.show();"
      ],
      "execution_count": 59,
      "outputs": [
        {
          "output_type": "display_data",
          "data": {
            "image/png": "[encoded data removed]",
            "text/plain": [
              "<Figure size 720x576 with 1 Axes>"
            ]
          },
          "metadata": {
            "tags": []
          }
        }
      ]
    },
    {
      "cell_type": "markdown",
      "metadata": {
        "id": "sLaNwyreGHPF"
      },
      "source": [
        "# Graphique de comparaison S Learner"
      ]
    },
    {
      "cell_type": "code",
      "metadata": {
        "id": "zehtMf0ob2UH"
      },
      "source": [
        "nb_obs = [i for i in range(100,1000,100)]\n",
        "d = 2\n",
        "p = 0.5\n",
        "beta = np.random.uniform(1, 30, (1, d))\n",
        "beta = np.vstack((beta,beta))               # beta0 = beta1           \n",
        "bias = np.array([10,0])                   # Gamma0 = Gamma1 \n",
        "f = lambda x:x\n",
        "g = lambda x:np.cos(x)\n",
        "\n",
        "B=999\n",
        "base_learner_homemade = SLearner()\n",
        "base_learner_causalml = LRSRegressor()"
      ],
      "execution_count": 83,
      "outputs": []
    },
    {
      "cell_type": "code",
      "metadata": {
        "id": "3n98Z2hEFVv-"
      },
      "source": [
        "def graphic_comparison(nb_obs, d, p, beta, bias, f, g, B, base_learner_homemade, base_learner_causalml):\n",
        "\n",
        "  '''\n",
        "  Create a graphic to compare our bases learners vs base learners from causalml \n",
        "\n",
        "  Input :\n",
        "    \n",
        "  B : Nombre d'échantillons Boostrap, 999 est une valeur par défaut pertinente\n",
        "  nb_obs : Nombre de lignes da la matrice X, les listes sont acceptables i.e. nombre de personnes, 1000 par défaut\n",
        "  dim : Nombre de colonnes de la matrice X i.e. nombres de caractéristiques (features), 2 par défaut\n",
        "  beta : Vecteur de dimension (2, dim).\n",
        "  bias : Vecteur de dimension (1, 2).\n",
        "  W : Vecteur de dimension (1, Nobs) contenant des 0 ou 1 pour désigner l'affectation du traitement.\n",
        "  f et g sont des fonctions, identité par défaut\n",
        "    \n",
        "  Output:\n",
        "  Graphique comparant nos base_learner avec ceux du causal_ml\n",
        "  '''\n",
        "\n",
        "  ate_causal_ml = []\n",
        "  lb_causal_ml = []\n",
        "  ub_causal_ml = []\n",
        "\n",
        "  ates = []\n",
        "  ates_inf = []\n",
        "  ates_sup = []\n",
        "\n",
        "  for n in nb_obs :\n",
        "\n",
        "    # Génération des données\n",
        "    W = treatment_assign(n, p)\n",
        "    Bootstraps=causal_generation_bootstrap(W, beta, bias, B=B, Nobs=n, dim=2, f=f, g=g) ##voir s'il faut pas reprendre la valeur d'avant\n",
        "    mu, inf, sup = IC(Bootstraps, base_metalerner=base_learner_homemade, alpha=0.05)\n",
        "    ates.append(mu)\n",
        "    ates_inf.append(inf)\n",
        "    ates_sup.append(sup)\n",
        "\n",
        "    # S learner causal ML\n",
        "    X, W, Y = causal_generation(n, d, beta, bias, f, g, W = W)\n",
        "    lr = base_learner_causalml\n",
        "    te, lb, ub = lr.estimate_ate(X, W, Y)\n",
        "    ate_causal_ml.append(te[0])\n",
        "    lb_causal_ml.append(lb[0])\n",
        "    ub_causal_ml.append(ub[0])\n",
        "\n",
        "\n",
        "  plt.plot(nb_obs,ates, color='blue',label = 'ATE_homemade')\n",
        "  plt.fill_between(nb_obs, ates_inf,ates_sup,alpha = 0.5, color='blue', label = 'IC_ATE_homemade')\n",
        "  plt.plot(nb_obs, ate_causal_ml,color='orange',label='ATE_causal_ml')\n",
        "  plt.fill_between(nb_obs, lb_causal_ml, ub_causal_ml,alpha = 0.5, color='orange',label='IC_ATE_causalml')\n",
        "  plt.legend()\n",
        "  plt.show()\n",
        "  "
      ],
      "execution_count": 82,
      "outputs": []
    },
    {
      "cell_type": "code",
      "metadata": {
        "colab": {
          "base_uri": "https://localhost:8080/",
          "height": 288
        },
        "id": "7H3KhfQxm-cX",
        "outputId": "205383bb-ebb8-4c1f-c72b-fe62814d60ad"
      },
      "source": [
        "graphic_comparison(nb_obs, d, p, beta, bias, f, g, B, base_learner_homemade, base_learner_causalml)"
      ],
      "execution_count": 84,
      "outputs": [
        {
          "output_type": "display_data",
          "data": {
            "image/png": "[encoded data removed]",
            "text/plain": [
              "<Figure size 432x288 with 1 Axes>"
            ]
          },
          "metadata": {
            "tags": []
          }
        }
      ]
    }
  ]
}