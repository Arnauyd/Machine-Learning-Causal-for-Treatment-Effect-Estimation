{
 "cells": [
  {
   "cell_type": "markdown",
   "metadata": {
    "id": "HgOWtsJ8rUEH"
   },
   "source": [
    "# Estimation de l'ATE/CATE sur des données synthétiques"
   ]
  },
  {
   "cell_type": "code",
   "execution_count": 241,
   "metadata": {
    "id": "XWZ-_PbjrUEK"
   },
   "outputs": [],
   "source": [
    "import numpy as np\n",
    "from scipy.stats import bernoulli\n",
    "import scipy as sp\n",
    "from scipy import stats\n",
    "from scipy import integrate\n",
    "import matplotlib.pyplot as plt\n",
    "import seaborn as sns\n",
    "sns.set_style(\"white\")\n",
    "sns.set_context(\"paper\", font_scale=1.5, rc={\"lines.linewidth\": 1.5})\n",
    "plt.rcParams['figure.figsize'] = 10, 8\n",
    "\n",
    "from sklearn.linear_model import LinearRegression\n",
    "from sklearn.model_selection import train_test_split\n",
    "\n",
    "import warnings\n",
    "warnings.filterwarnings('ignore')"
   ]
  },
  {
   "cell_type": "code",
   "execution_count": 2,
   "metadata": {
    "collapsed": true,
    "id": "4Xj_Wz5NFKmO"
   },
   "outputs": [
    {
     "name": "stdout",
     "output_type": "stream",
     "text": [
      "Requirement already satisfied: causalml in c:\\users\\arnauda\\appdata\\roaming\\python\\python37\\site-packages (0.9.0)\n",
      "Requirement already satisfied: tensorflow>=1.15.2 in c:\\users\\arnauda\\appdata\\roaming\\python\\python37\\site-packages (from causalml) (2.3.2)\n",
      "Requirement already satisfied: pygam in c:\\users\\arnauda\\appdata\\roaming\\python\\python37\\site-packages (from causalml) (0.8.0)\n",
      "Requirement already satisfied: shap in c:\\users\\arnauda\\appdata\\roaming\\python\\python37\\site-packages (from causalml) (0.38.1)\n",
      "Requirement already satisfied: xgboost in c:\\users\\arnauda\\appdata\\roaming\\python\\python37\\site-packages (from causalml) (1.3.3)\n",
      "Requirement already satisfied: matplotlib in c:\\users\\arnauda\\anaconda3\\envs\\filrouge\\lib\\site-packages (from causalml) (3.3.2)\n",
      "Requirement already satisfied: setuptools>=41.0.0 in c:\\users\\arnauda\\anaconda3\\envs\\filrouge\\lib\\site-packages (from causalml) (52.0.0.post20210125)\n",
      "Requirement already satisfied: dill in c:\\users\\arnauda\\appdata\\roaming\\python\\python37\\site-packages (from causalml) (0.3.3)\n",
      "Requirement already satisfied: scikit-learn>=0.22.0 in c:\\users\\arnauda\\anaconda3\\envs\\filrouge\\lib\\site-packages (from causalml) (0.23.2)\n",
      "Requirement already satisfied: lightgbm in c:\\users\\arnauda\\appdata\\roaming\\python\\python37\\site-packages (from causalml) (3.1.1)\n",
      "Requirement already satisfied: pydotplus in c:\\users\\arnauda\\appdata\\roaming\\python\\python37\\site-packages (from causalml) (2.0.2)\n",
      "Requirement already satisfied: Cython>=0.28.0 in c:\\users\\arnauda\\appdata\\roaming\\python\\python37\\site-packages (from causalml) (0.29.21)\n",
      "Requirement already satisfied: packaging in c:\\users\\arnauda\\anaconda3\\envs\\filrouge\\lib\\site-packages (from causalml) (20.9)\n",
      "Requirement already satisfied: seaborn in c:\\users\\arnauda\\appdata\\roaming\\python\\python37\\site-packages (from causalml) (0.11.1)\n",
      "Requirement already satisfied: pip>=10.0 in c:\\users\\arnauda\\anaconda3\\envs\\filrouge\\lib\\site-packages (from causalml) (20.3.3)\n",
      "Requirement already satisfied: pandas>=0.24.1 in c:\\users\\arnauda\\anaconda3\\envs\\filrouge\\lib\\site-packages (from causalml) (1.0.1)\n",
      "Requirement already satisfied: statsmodels>=0.9.0 in c:\\users\\arnauda\\anaconda3\\envs\\filrouge\\lib\\site-packages (from causalml) (0.12.1)\n",
      "Requirement already satisfied: keras in c:\\users\\arnauda\\anaconda3\\envs\\filrouge\\lib\\site-packages (from causalml) (2.3.1)\n",
      "Requirement already satisfied: scipy==1.4.1 in c:\\users\\arnauda\\appdata\\roaming\\python\\python37\\site-packages (from causalml) (1.4.1)\n",
      "Requirement already satisfied: tqdm in c:\\users\\arnauda\\appdata\\roaming\\python\\python37\\site-packages (from causalml) (4.56.0)\n",
      "Collecting numpy<1.19.0,>=0.16.0\n",
      "  Using cached numpy-1.18.5-cp37-cp37m-win_amd64.whl (12.7 MB)\n",
      "Requirement already satisfied: python-dateutil>=2.6.1 in c:\\users\\arnauda\\anaconda3\\envs\\filrouge\\lib\\site-packages (from pandas>=0.24.1->causalml) (2.8.1)\n",
      "Requirement already satisfied: pytz>=2017.2 in c:\\users\\arnauda\\anaconda3\\envs\\filrouge\\lib\\site-packages (from pandas>=0.24.1->causalml) (2020.5)\n",
      "Requirement already satisfied: six>=1.5 in c:\\users\\arnauda\\anaconda3\\envs\\filrouge\\lib\\site-packages (from python-dateutil>=2.6.1->pandas>=0.24.1->causalml) (1.15.0)\n",
      "Requirement already satisfied: joblib>=0.11 in c:\\users\\arnauda\\anaconda3\\envs\\filrouge\\lib\\site-packages (from scikit-learn>=0.22.0->causalml) (1.0.0)\n",
      "Requirement already satisfied: threadpoolctl>=2.0.0 in c:\\users\\arnauda\\anaconda3\\envs\\filrouge\\lib\\site-packages (from scikit-learn>=0.22.0->causalml) (2.1.0)\n",
      "Requirement already satisfied: patsy>=0.5 in c:\\users\\arnauda\\anaconda3\\envs\\filrouge\\lib\\site-packages (from statsmodels>=0.9.0->causalml) (0.5.1)\n",
      "Requirement already satisfied: protobuf>=3.9.2 in c:\\users\\arnauda\\anaconda3\\envs\\filrouge\\lib\\site-packages (from tensorflow>=1.15.2->causalml) (3.13.0)\n",
      "Requirement already satisfied: opt-einsum>=2.3.2 in c:\\users\\arnauda\\appdata\\roaming\\python\\python37\\site-packages (from tensorflow>=1.15.2->causalml) (3.3.0)\n",
      "Requirement already satisfied: tensorflow-estimator<2.4.0,>=2.3.0 in c:\\users\\arnauda\\appdata\\roaming\\python\\python37\\site-packages (from tensorflow>=1.15.2->causalml) (2.3.0)\n",
      "Requirement already satisfied: termcolor>=1.1.0 in c:\\users\\arnauda\\anaconda3\\envs\\filrouge\\lib\\site-packages (from tensorflow>=1.15.2->causalml) (1.1.0)\n",
      "Requirement already satisfied: astunparse==1.6.3 in c:\\users\\arnauda\\appdata\\roaming\\python\\python37\\site-packages (from tensorflow>=1.15.2->causalml) (1.6.3)\n",
      "Requirement already satisfied: wheel>=0.26 in c:\\users\\arnauda\\anaconda3\\envs\\filrouge\\lib\\site-packages (from tensorflow>=1.15.2->causalml) (0.36.2)\n",
      "Requirement already satisfied: absl-py>=0.7.0 in c:\\users\\arnauda\\anaconda3\\envs\\filrouge\\lib\\site-packages (from tensorflow>=1.15.2->causalml) (0.11.0)\n",
      "Requirement already satisfied: wrapt>=1.11.1 in c:\\users\\arnauda\\anaconda3\\envs\\filrouge\\lib\\site-packages (from tensorflow>=1.15.2->causalml) (1.12.1)\n",
      "Requirement already satisfied: grpcio>=1.8.6 in c:\\users\\arnauda\\anaconda3\\envs\\filrouge\\lib\\site-packages (from tensorflow>=1.15.2->causalml) (1.31.0)\n",
      "Requirement already satisfied: google-pasta>=0.1.8 in c:\\users\\arnauda\\anaconda3\\envs\\filrouge\\lib\\site-packages (from tensorflow>=1.15.2->causalml) (0.2.0)\n",
      "Requirement already satisfied: gast==0.3.3 in c:\\users\\arnauda\\appdata\\roaming\\python\\python37\\site-packages (from tensorflow>=1.15.2->causalml) (0.3.3)\n",
      "Requirement already satisfied: h5py<2.11.0,>=2.10.0 in c:\\users\\arnauda\\anaconda3\\envs\\filrouge\\lib\\site-packages (from tensorflow>=1.15.2->causalml) (2.10.0)\n",
      "Requirement already satisfied: tensorboard<3,>=2.3.0 in c:\\users\\arnauda\\appdata\\roaming\\python\\python37\\site-packages (from tensorflow>=1.15.2->causalml) (2.4.1)\n",
      "Requirement already satisfied: keras-preprocessing<1.2,>=1.1.1 in c:\\users\\arnauda\\appdata\\roaming\\python\\python37\\site-packages (from tensorflow>=1.15.2->causalml) (1.1.2)\n",
      "Requirement already satisfied: markdown>=2.6.8 in c:\\users\\arnauda\\anaconda3\\envs\\filrouge\\lib\\site-packages (from tensorboard<3,>=2.3.0->tensorflow>=1.15.2->causalml) (3.3.3)\n",
      "Requirement already satisfied: werkzeug>=0.11.15 in c:\\users\\arnauda\\anaconda3\\envs\\filrouge\\lib\\site-packages (from tensorboard<3,>=2.3.0->tensorflow>=1.15.2->causalml) (1.0.1)\n",
      "Requirement already satisfied: google-auth<2,>=1.6.3 in c:\\users\\arnauda\\appdata\\roaming\\python\\python37\\site-packages (from tensorboard<3,>=2.3.0->tensorflow>=1.15.2->causalml) (1.24.0)\n",
      "Requirement already satisfied: tensorboard-plugin-wit>=1.6.0 in c:\\users\\arnauda\\appdata\\roaming\\python\\python37\\site-packages (from tensorboard<3,>=2.3.0->tensorflow>=1.15.2->causalml) (1.8.0)\n",
      "Requirement already satisfied: requests<3,>=2.21.0 in c:\\users\\arnauda\\anaconda3\\envs\\filrouge\\lib\\site-packages (from tensorboard<3,>=2.3.0->tensorflow>=1.15.2->causalml) (2.25.1)\n",
      "Requirement already satisfied: google-auth-oauthlib<0.5,>=0.4.1 in c:\\users\\arnauda\\appdata\\roaming\\python\\python37\\site-packages (from tensorboard<3,>=2.3.0->tensorflow>=1.15.2->causalml) (0.4.2)\n",
      "Requirement already satisfied: cachetools<5.0,>=2.0.0 in c:\\users\\arnauda\\anaconda3\\envs\\filrouge\\lib\\site-packages (from google-auth<2,>=1.6.3->tensorboard<3,>=2.3.0->tensorflow>=1.15.2->causalml) (4.2.1)\n",
      "Requirement already satisfied: rsa<5,>=3.1.4 in c:\\users\\arnauda\\anaconda3\\envs\\filrouge\\lib\\site-packages (from google-auth<2,>=1.6.3->tensorboard<3,>=2.3.0->tensorflow>=1.15.2->causalml) (4.7)\n",
      "Requirement already satisfied: pyasn1-modules>=0.2.1 in c:\\users\\arnauda\\anaconda3\\envs\\filrouge\\lib\\site-packages (from google-auth<2,>=1.6.3->tensorboard<3,>=2.3.0->tensorflow>=1.15.2->causalml) (0.2.8)\n",
      "Requirement already satisfied: requests-oauthlib>=0.7.0 in c:\\users\\arnauda\\anaconda3\\envs\\filrouge\\lib\\site-packages (from google-auth-oauthlib<0.5,>=0.4.1->tensorboard<3,>=2.3.0->tensorflow>=1.15.2->causalml) (1.3.0)\n",
      "Requirement already satisfied: importlib-metadata in c:\\users\\arnauda\\anaconda3\\envs\\filrouge\\lib\\site-packages (from markdown>=2.6.8->tensorboard<3,>=2.3.0->tensorflow>=1.15.2->causalml) (2.0.0)\n",
      "Requirement already satisfied: pyasn1<0.5.0,>=0.4.6 in c:\\users\\arnauda\\anaconda3\\envs\\filrouge\\lib\\site-packages (from pyasn1-modules>=0.2.1->google-auth<2,>=1.6.3->tensorboard<3,>=2.3.0->tensorflow>=1.15.2->causalml) (0.4.8)\n",
      "Requirement already satisfied: urllib3<1.27,>=1.21.1 in c:\\users\\arnauda\\anaconda3\\envs\\filrouge\\lib\\site-packages (from requests<3,>=2.21.0->tensorboard<3,>=2.3.0->tensorflow>=1.15.2->causalml) (1.26.3)\n",
      "Requirement already satisfied: certifi>=2017.4.17 in c:\\users\\arnauda\\anaconda3\\envs\\filrouge\\lib\\site-packages (from requests<3,>=2.21.0->tensorboard<3,>=2.3.0->tensorflow>=1.15.2->causalml) (2020.12.5)\n",
      "Requirement already satisfied: idna<3,>=2.5 in c:\\users\\arnauda\\anaconda3\\envs\\filrouge\\lib\\site-packages (from requests<3,>=2.21.0->tensorboard<3,>=2.3.0->tensorflow>=1.15.2->causalml) (2.10)\n",
      "Requirement already satisfied: chardet<5,>=3.0.2 in c:\\users\\arnauda\\anaconda3\\envs\\filrouge\\lib\\site-packages (from requests<3,>=2.21.0->tensorboard<3,>=2.3.0->tensorflow>=1.15.2->causalml) (4.0.0)\n",
      "Requirement already satisfied: oauthlib>=3.0.0 in c:\\users\\arnauda\\anaconda3\\envs\\filrouge\\lib\\site-packages (from requests-oauthlib>=0.7.0->google-auth-oauthlib<0.5,>=0.4.1->tensorboard<3,>=2.3.0->tensorflow>=1.15.2->causalml) (3.1.0)\n",
      "Requirement already satisfied: zipp>=0.5 in c:\\users\\arnauda\\anaconda3\\envs\\filrouge\\lib\\site-packages (from importlib-metadata->markdown>=2.6.8->tensorboard<3,>=2.3.0->tensorflow>=1.15.2->causalml) (3.4.0)\n",
      "Requirement already satisfied: pyyaml in c:\\users\\arnauda\\anaconda3\\envs\\filrouge\\lib\\site-packages (from keras->causalml) (5.4.1)\n",
      "Requirement already satisfied: keras_applications>=1.0.6 in c:\\users\\arnauda\\anaconda3\\envs\\filrouge\\lib\\site-packages (from keras->causalml) (1.0.8)\n",
      "Requirement already satisfied: pyparsing!=2.0.4,!=2.1.2,!=2.1.6,>=2.0.3 in c:\\users\\arnauda\\anaconda3\\envs\\filrouge\\lib\\site-packages (from matplotlib->causalml) (2.4.7)\n",
      "Requirement already satisfied: cycler>=0.10 in c:\\users\\arnauda\\anaconda3\\envs\\filrouge\\lib\\site-packages (from matplotlib->causalml) (0.10.0)\n",
      "Requirement already satisfied: kiwisolver>=1.0.1 in c:\\users\\arnauda\\anaconda3\\envs\\filrouge\\lib\\site-packages (from matplotlib->causalml) (1.3.0)\n",
      "Requirement already satisfied: pillow>=6.2.0 in c:\\users\\arnauda\\anaconda3\\envs\\filrouge\\lib\\site-packages (from matplotlib->causalml) (8.1.0)\n",
      "Requirement already satisfied: future in c:\\users\\arnauda\\appdata\\roaming\\python\\python37\\site-packages (from pygam->causalml) (0.18.2)\n",
      "Requirement already satisfied: progressbar2 in c:\\users\\arnauda\\appdata\\roaming\\python\\python37\\site-packages (from pygam->causalml) (3.53.1)\n",
      "Requirement already satisfied: python-utils>=2.3.0 in c:\\users\\arnauda\\appdata\\roaming\\python\\python37\\site-packages (from progressbar2->pygam->causalml) (2.5.5)\n",
      "Requirement already satisfied: slicer==0.0.7 in c:\\users\\arnauda\\appdata\\roaming\\python\\python37\\site-packages (from shap->causalml) (0.0.7)\n",
      "Requirement already satisfied: numba in c:\\users\\arnauda\\anaconda3\\envs\\filrouge\\lib\\site-packages (from shap->causalml) (0.51.2)\n",
      "Requirement already satisfied: cloudpickle in c:\\users\\arnauda\\anaconda3\\envs\\filrouge\\lib\\site-packages (from shap->causalml) (1.6.0)\n",
      "Requirement already satisfied: llvmlite<0.35,>=0.34.0.dev0 in c:\\users\\arnauda\\anaconda3\\envs\\filrouge\\lib\\site-packages (from numba->shap->causalml) (0.34.0)\n",
      "Installing collected packages: numpy\n",
      "  Attempting uninstall: numpy\n",
      "    Found existing installation: numpy 1.19.2\n",
      "    Uninstalling numpy-1.19.2:\n",
      "      Successfully uninstalled numpy-1.19.2\n",
      "  Rolling back uninstall of numpy\n",
      "  Moving to c:\\users\\arnauda\\anaconda3\\envs\\filrouge\\lib\\site-packages\\numpy-1.19.2.dist-info\\\n",
      "   from c:\\users\\arnauda\\anaconda3\\envs\\filrouge\\lib\\site-packages\\~umpy-1.19.2.dist-info\n",
      "  Moving to c:\\users\\arnauda\\anaconda3\\envs\\filrouge\\lib\\site-packages\\numpy\\__config__.py\n",
      "   from C:\\Users\\ArnaudA\\AppData\\Local\\Temp\\pip-uninstall-0a5xyomj\\__config__.py\n",
      "  Moving to c:\\users\\arnauda\\anaconda3\\envs\\filrouge\\lib\\site-packages\\numpy\\__init__.cython-30.pxd\n",
      "   from C:\\Users\\ArnaudA\\AppData\\Local\\Temp\\pip-uninstall-0a5xyomj\\__init__.cython-30.pxd\n",
      "  Moving to c:\\users\\arnauda\\anaconda3\\envs\\filrouge\\lib\\site-packages\\numpy\\__init__.pxd\n",
      "   from C:\\Users\\ArnaudA\\AppData\\Local\\Temp\\pip-uninstall-0a5xyomj\\__init__.pxd\n",
      "  Moving to c:\\users\\arnauda\\anaconda3\\envs\\filrouge\\lib\\site-packages\\numpy\\__init__.py\n",
      "   from C:\\Users\\ArnaudA\\AppData\\Local\\Temp\\pip-uninstall-0a5xyomj\\__init__.py\n",
      "  Moving to c:\\users\\arnauda\\anaconda3\\envs\\filrouge\\lib\\site-packages\\numpy\\__pycache__\\\n",
      "   from c:\\users\\arnauda\\anaconda3\\envs\\filrouge\\lib\\site-packages\\numpy\\~_pycache__\n",
      "  Moving to c:\\users\\arnauda\\anaconda3\\envs\\filrouge\\lib\\site-packages\\numpy\\_distributor_init.py\n",
      "   from C:\\Users\\ArnaudA\\AppData\\Local\\Temp\\pip-uninstall-0a5xyomj\\_distributor_init.py\n",
      "  Moving to c:\\users\\arnauda\\anaconda3\\envs\\filrouge\\lib\\site-packages\\numpy\\_globals.py\n",
      "   from C:\\Users\\ArnaudA\\AppData\\Local\\Temp\\pip-uninstall-0a5xyomj\\_globals.py\n",
      "  Moving to c:\\users\\arnauda\\anaconda3\\envs\\filrouge\\lib\\site-packages\\numpy\\_pytesttester.py\n",
      "   from C:\\Users\\ArnaudA\\AppData\\Local\\Temp\\pip-uninstall-0a5xyomj\\_pytesttester.py\n",
      "  Moving to c:\\users\\arnauda\\anaconda3\\envs\\filrouge\\lib\\site-packages\\numpy\\compat\\\n",
      "   from c:\\users\\arnauda\\anaconda3\\envs\\filrouge\\lib\\site-packages\\numpy\\~ompat\n",
      "  Moving to c:\\users\\arnauda\\anaconda3\\envs\\filrouge\\lib\\site-packages\\numpy\\conftest.py\n",
      "   from C:\\Users\\ArnaudA\\AppData\\Local\\Temp\\pip-uninstall-0a5xyomj\\conftest.py\n",
      "  Moving to c:\\users\\arnauda\\anaconda3\\envs\\filrouge\\lib\\site-packages\\numpy\\core\\__init__.py\n",
      "   from C:\\Users\\ArnaudA\\AppData\\Local\\Temp\\pip-uninstall-0a5xyomj\\core\\__init__.py\n",
      "  Moving to c:\\users\\arnauda\\anaconda3\\envs\\filrouge\\lib\\site-packages\\numpy\\core\\__pycache__\\\n",
      "   from c:\\users\\arnauda\\anaconda3\\envs\\filrouge\\lib\\site-packages\\numpy\\core\\~_pycache__\n",
      "  Moving to c:\\users\\arnauda\\anaconda3\\envs\\filrouge\\lib\\site-packages\\numpy\\core\\_add_newdocs.py\n",
      "   from C:\\Users\\ArnaudA\\AppData\\Local\\Temp\\pip-uninstall-0a5xyomj\\core\\_add_newdocs.py\n",
      "  Moving to c:\\users\\arnauda\\anaconda3\\envs\\filrouge\\lib\\site-packages\\numpy\\core\\_asarray.py\n",
      "   from C:\\Users\\ArnaudA\\AppData\\Local\\Temp\\pip-uninstall-0a5xyomj\\core\\_asarray.py\n",
      "  Moving to c:\\users\\arnauda\\anaconda3\\envs\\filrouge\\lib\\site-packages\\numpy\\core\\_dtype.py\n",
      "   from C:\\Users\\ArnaudA\\AppData\\Local\\Temp\\pip-uninstall-0a5xyomj\\core\\_dtype.py\n",
      "  Moving to c:\\users\\arnauda\\anaconda3\\envs\\filrouge\\lib\\site-packages\\numpy\\core\\_dtype_ctypes.py\n",
      "   from C:\\Users\\ArnaudA\\AppData\\Local\\Temp\\pip-uninstall-0a5xyomj\\core\\_dtype_ctypes.py\n",
      "  Moving to c:\\users\\arnauda\\anaconda3\\envs\\filrouge\\lib\\site-packages\\numpy\\core\\_exceptions.py\n",
      "   from C:\\Users\\ArnaudA\\AppData\\Local\\Temp\\pip-uninstall-0a5xyomj\\core\\_exceptions.py\n",
      "  Moving to c:\\users\\arnauda\\anaconda3\\envs\\filrouge\\lib\\site-packages\\numpy\\core\\_internal.py\n",
      "   from C:\\Users\\ArnaudA\\AppData\\Local\\Temp\\pip-uninstall-0a5xyomj\\core\\_internal.py\n",
      "  Moving to c:\\users\\arnauda\\anaconda3\\envs\\filrouge\\lib\\site-packages\\numpy\\core\\_methods.py\n",
      "   from C:\\Users\\ArnaudA\\AppData\\Local\\Temp\\pip-uninstall-0a5xyomj\\core\\_methods.py\n",
      "  Moving to c:\\users\\arnauda\\anaconda3\\envs\\filrouge\\lib\\site-packages\\numpy\\core\\_multiarray_tests.cp37-win_amd64.pyd\n",
      "   from C:\\Users\\ArnaudA\\AppData\\Local\\Temp\\pip-uninstall-0a5xyomj\\core\\_multiarray_tests.cp37-win_amd64.pyd\n",
      "  Moving to c:\\users\\arnauda\\anaconda3\\envs\\filrouge\\lib\\site-packages\\numpy\\core\\_multiarray_umath.cp37-win_amd64.pyd\n",
      "   from C:\\Users\\ArnaudA\\AppData\\Local\\Temp\\pip-uninstall-0a5xyomj\\core\\_multiarray_umath.cp37-win_amd64.pyd\n",
      "  Moving to c:\\users\\arnauda\\anaconda3\\envs\\filrouge\\lib\\site-packages\\numpy\\core\\_operand_flag_tests.cp37-win_amd64.pyd\n",
      "   from C:\\Users\\ArnaudA\\AppData\\Local\\Temp\\pip-uninstall-0a5xyomj\\core\\_operand_flag_tests.cp37-win_amd64.pyd\n",
      "  Moving to c:\\users\\arnauda\\anaconda3\\envs\\filrouge\\lib\\site-packages\\numpy\\core\\_rational_tests.cp37-win_amd64.pyd\n",
      "   from C:\\Users\\ArnaudA\\AppData\\Local\\Temp\\pip-uninstall-0a5xyomj\\core\\_rational_tests.cp37-win_amd64.pyd\n",
      "  Moving to c:\\users\\arnauda\\anaconda3\\envs\\filrouge\\lib\\site-packages\\numpy\\core\\_string_helpers.py\n",
      "   from C:\\Users\\ArnaudA\\AppData\\Local\\Temp\\pip-uninstall-0a5xyomj\\core\\_string_helpers.py\n",
      "  Moving to c:\\users\\arnauda\\anaconda3\\envs\\filrouge\\lib\\site-packages\\numpy\\core\\_struct_ufunc_tests.cp37-win_amd64.pyd\n",
      "   from C:\\Users\\ArnaudA\\AppData\\Local\\Temp\\pip-uninstall-0a5xyomj\\core\\_struct_ufunc_tests.cp37-win_amd64.pyd\n",
      "  Moving to c:\\users\\arnauda\\anaconda3\\envs\\filrouge\\lib\\site-packages\\numpy\\core\\_type_aliases.py\n",
      "   from C:\\Users\\ArnaudA\\AppData\\Local\\Temp\\pip-uninstall-0a5xyomj\\core\\_type_aliases.py\n",
      "  Moving to c:\\users\\arnauda\\anaconda3\\envs\\filrouge\\lib\\site-packages\\numpy\\core\\_ufunc_config.py\n",
      "   from C:\\Users\\ArnaudA\\AppData\\Local\\Temp\\pip-uninstall-0a5xyomj\\core\\_ufunc_config.py\n",
      "  Moving to c:\\users\\arnauda\\anaconda3\\envs\\filrouge\\lib\\site-packages\\numpy\\core\\_umath_tests.cp37-win_amd64.pyd\n",
      "   from C:\\Users\\ArnaudA\\AppData\\Local\\Temp\\pip-uninstall-0a5xyomj\\core\\_umath_tests.cp37-win_amd64.pyd\n",
      "  Moving to c:\\users\\arnauda\\anaconda3\\envs\\filrouge\\lib\\site-packages\\numpy\\core\\arrayprint.py\n",
      "   from C:\\Users\\ArnaudA\\AppData\\Local\\Temp\\pip-uninstall-0a5xyomj\\core\\arrayprint.py\n",
      "  Moving to c:\\users\\arnauda\\anaconda3\\envs\\filrouge\\lib\\site-packages\\numpy\\core\\cversions.py\n",
      "   from C:\\Users\\ArnaudA\\AppData\\Local\\Temp\\pip-uninstall-0a5xyomj\\core\\cversions.py\n",
      "  Moving to c:\\users\\arnauda\\anaconda3\\envs\\filrouge\\lib\\site-packages\\numpy\\core\\defchararray.py\n",
      "   from C:\\Users\\ArnaudA\\AppData\\Local\\Temp\\pip-uninstall-0a5xyomj\\core\\defchararray.py\n",
      "  Moving to c:\\users\\arnauda\\anaconda3\\envs\\filrouge\\lib\\site-packages\\numpy\\core\\einsumfunc.py\n",
      "   from C:\\Users\\ArnaudA\\AppData\\Local\\Temp\\pip-uninstall-0a5xyomj\\core\\einsumfunc.py\n",
      "  Moving to c:\\users\\arnauda\\anaconda3\\envs\\filrouge\\lib\\site-packages\\numpy\\core\\fromnumeric.py\n",
      "   from C:\\Users\\ArnaudA\\AppData\\Local\\Temp\\pip-uninstall-0a5xyomj\\core\\fromnumeric.py\n",
      "  Moving to c:\\users\\arnauda\\anaconda3\\envs\\filrouge\\lib\\site-packages\\numpy\\core\\function_base.py\n",
      "   from C:\\Users\\ArnaudA\\AppData\\Local\\Temp\\pip-uninstall-0a5xyomj\\core\\function_base.py\n",
      "  Moving to c:\\users\\arnauda\\anaconda3\\envs\\filrouge\\lib\\site-packages\\numpy\\core\\generate_numpy_api.py\n",
      "   from C:\\Users\\ArnaudA\\AppData\\Local\\Temp\\pip-uninstall-0a5xyomj\\core\\generate_numpy_api.py\n",
      "  Moving to c:\\users\\arnauda\\anaconda3\\envs\\filrouge\\lib\\site-packages\\numpy\\core\\getlimits.py\n",
      "   from C:\\Users\\ArnaudA\\AppData\\Local\\Temp\\pip-uninstall-0a5xyomj\\core\\getlimits.py\n",
      "  Moving to c:\\users\\arnauda\\anaconda3\\envs\\filrouge\\lib\\site-packages\\numpy\\core\\include\\numpy\\\n",
      "   from c:\\users\\arnauda\\anaconda3\\envs\\filrouge\\lib\\site-packages\\numpy\\core\\include\\~umpy\n",
      "  Moving to c:\\users\\arnauda\\anaconda3\\envs\\filrouge\\lib\\site-packages\\numpy\\core\\lib\\\n",
      "   from c:\\users\\arnauda\\anaconda3\\envs\\filrouge\\lib\\site-packages\\numpy\\core\\~ib\n",
      "  Moving to c:\\users\\arnauda\\anaconda3\\envs\\filrouge\\lib\\site-packages\\numpy\\core\\machar.py\n",
      "   from C:\\Users\\ArnaudA\\AppData\\Local\\Temp\\pip-uninstall-0a5xyomj\\core\\machar.py\n",
      "  Moving to c:\\users\\arnauda\\anaconda3\\envs\\filrouge\\lib\\site-packages\\numpy\\core\\memmap.py\n",
      "   from C:\\Users\\ArnaudA\\AppData\\Local\\Temp\\pip-uninstall-0a5xyomj\\core\\memmap.py\n",
      "  Moving to c:\\users\\arnauda\\anaconda3\\envs\\filrouge\\lib\\site-packages\\numpy\\core\\multiarray.py\n",
      "   from C:\\Users\\ArnaudA\\AppData\\Local\\Temp\\pip-uninstall-0a5xyomj\\core\\multiarray.py\n",
      "  Moving to c:\\users\\arnauda\\anaconda3\\envs\\filrouge\\lib\\site-packages\\numpy\\core\\numeric.py\n",
      "   from C:\\Users\\ArnaudA\\AppData\\Local\\Temp\\pip-uninstall-0a5xyomj\\core\\numeric.py\n",
      "  Moving to c:\\users\\arnauda\\anaconda3\\envs\\filrouge\\lib\\site-packages\\numpy\\core\\numerictypes.py\n",
      "   from C:\\Users\\ArnaudA\\AppData\\Local\\Temp\\pip-uninstall-0a5xyomj\\core\\numerictypes.py\n",
      "  Moving to c:\\users\\arnauda\\anaconda3\\envs\\filrouge\\lib\\site-packages\\numpy\\core\\overrides.py\n",
      "   from C:\\Users\\ArnaudA\\AppData\\Local\\Temp\\pip-uninstall-0a5xyomj\\core\\overrides.py\n",
      "  Moving to c:\\users\\arnauda\\anaconda3\\envs\\filrouge\\lib\\site-packages\\numpy\\core\\records.py\n",
      "   from C:\\Users\\ArnaudA\\AppData\\Local\\Temp\\pip-uninstall-0a5xyomj\\core\\records.py\n",
      "  Moving to c:\\users\\arnauda\\anaconda3\\envs\\filrouge\\lib\\site-packages\\numpy\\core\\setup.py\n",
      "   from C:\\Users\\ArnaudA\\AppData\\Local\\Temp\\pip-uninstall-0a5xyomj\\core\\setup.py\n",
      "  Moving to c:\\users\\arnauda\\anaconda3\\envs\\filrouge\\lib\\site-packages\\numpy\\core\\setup_common.py\n",
      "   from C:\\Users\\ArnaudA\\AppData\\Local\\Temp\\pip-uninstall-0a5xyomj\\core\\setup_common.py\n",
      "  Moving to c:\\users\\arnauda\\anaconda3\\envs\\filrouge\\lib\\site-packages\\numpy\\core\\shape_base.py\n",
      "   from C:\\Users\\ArnaudA\\AppData\\Local\\Temp\\pip-uninstall-0a5xyomj\\core\\shape_base.py\n",
      "  Moving to c:\\users\\arnauda\\anaconda3\\envs\\filrouge\\lib\\site-packages\\numpy\\core\\tests\\__init__.py\n",
      "   from C:\\Users\\ArnaudA\\AppData\\Local\\Temp\\pip-uninstall-0a5xyomj\\core\\tests\\__init__.py\n",
      "  Moving to c:\\users\\arnauda\\anaconda3\\envs\\filrouge\\lib\\site-packages\\numpy\\core\\tests\\__pycache__\\__init__.cpython-37.pyc\n",
      "   from C:\\Users\\ArnaudA\\AppData\\Local\\Temp\\pip-uninstall-0a5xyomj\\core\\tests\\__pycache__\\__init__.cpython-37.pyc\n",
      "  Moving to c:\\users\\arnauda\\anaconda3\\envs\\filrouge\\lib\\site-packages\\numpy\\core\\tests\\__pycache__\\_locales.cpython-37.pyc\n",
      "   from C:\\Users\\ArnaudA\\AppData\\Local\\Temp\\pip-uninstall-0a5xyomj\\core\\tests\\__pycache__\\_locales.cpython-37.pyc\n",
      "  Moving to c:\\users\\arnauda\\anaconda3\\envs\\filrouge\\lib\\site-packages\\numpy\\core\\tests\\__pycache__\\test__exceptions.cpython-37.pyc\n",
      "   from C:\\Users\\ArnaudA\\AppData\\Local\\Temp\\pip-uninstall-0a5xyomj\\core\\tests\\__pycache__\\test__exceptions.cpython-37.pyc\n",
      "  Moving to c:\\users\\arnauda\\anaconda3\\envs\\filrouge\\lib\\site-packages\\numpy\\core\\tests\\__pycache__\\test_abc.cpython-37.pyc\n",
      "   from C:\\Users\\ArnaudA\\AppData\\Local\\Temp\\pip-uninstall-0a5xyomj\\core\\tests\\__pycache__\\test_abc.cpython-37.pyc\n",
      "  Moving to c:\\users\\arnauda\\anaconda3\\envs\\filrouge\\lib\\site-packages\\numpy\\core\\tests\\__pycache__\\test_api.cpython-37.pyc\n",
      "   from C:\\Users\\ArnaudA\\AppData\\Local\\Temp\\pip-uninstall-0a5xyomj\\core\\tests\\__pycache__\\test_api.cpython-37.pyc\n",
      "  Moving to c:\\users\\arnauda\\anaconda3\\envs\\filrouge\\lib\\site-packages\\numpy\\core\\tests\\__pycache__\\test_arrayprint.cpython-37.pyc\n",
      "   from C:\\Users\\ArnaudA\\AppData\\Local\\Temp\\pip-uninstall-0a5xyomj\\core\\tests\\__pycache__\\test_arrayprint.cpython-37.pyc\n",
      "  Moving to c:\\users\\arnauda\\anaconda3\\envs\\filrouge\\lib\\site-packages\\numpy\\core\\tests\\__pycache__\\test_conversion_utils.cpython-37.pyc\n",
      "   from C:\\Users\\ArnaudA\\AppData\\Local\\Temp\\pip-uninstall-0a5xyomj\\core\\tests\\__pycache__\\test_conversion_utils.cpython-37.pyc\n",
      "  Moving to c:\\users\\arnauda\\anaconda3\\envs\\filrouge\\lib\\site-packages\\numpy\\core\\tests\\__pycache__\\test_cpu_features.cpython-37.pyc\n",
      "   from C:\\Users\\ArnaudA\\AppData\\Local\\Temp\\pip-uninstall-0a5xyomj\\core\\tests\\__pycache__\\test_cpu_features.cpython-37.pyc\n",
      "  Moving to c:\\users\\arnauda\\anaconda3\\envs\\filrouge\\lib\\site-packages\\numpy\\core\\tests\\__pycache__\\test_datetime.cpython-37.pyc\n",
      "   from C:\\Users\\ArnaudA\\AppData\\Local\\Temp\\pip-uninstall-0a5xyomj\\core\\tests\\__pycache__\\test_datetime.cpython-37.pyc\n",
      "  Moving to c:\\users\\arnauda\\anaconda3\\envs\\filrouge\\lib\\site-packages\\numpy\\core\\tests\\__pycache__\\test_defchararray.cpython-37.pyc\n",
      "   from C:\\Users\\ArnaudA\\AppData\\Local\\Temp\\pip-uninstall-0a5xyomj\\core\\tests\\__pycache__\\test_defchararray.cpython-37.pyc\n",
      "  Moving to c:\\users\\arnauda\\anaconda3\\envs\\filrouge\\lib\\site-packages\\numpy\\core\\tests\\__pycache__\\test_deprecations.cpython-37.pyc\n",
      "   from C:\\Users\\ArnaudA\\AppData\\Local\\Temp\\pip-uninstall-0a5xyomj\\core\\tests\\__pycache__\\test_deprecations.cpython-37.pyc\n",
      "  Moving to c:\\users\\arnauda\\anaconda3\\envs\\filrouge\\lib\\site-packages\\numpy\\core\\tests\\__pycache__\\test_dtype.cpython-37.pyc\n",
      "   from C:\\Users\\ArnaudA\\AppData\\Local\\Temp\\pip-uninstall-0a5xyomj\\core\\tests\\__pycache__\\test_dtype.cpython-37.pyc\n",
      "  Moving to c:\\users\\arnauda\\anaconda3\\envs\\filrouge\\lib\\site-packages\\numpy\\core\\tests\\__pycache__\\test_einsum.cpython-37.pyc\n",
      "   from C:\\Users\\ArnaudA\\AppData\\Local\\Temp\\pip-uninstall-0a5xyomj\\core\\tests\\__pycache__\\test_einsum.cpython-37.pyc\n",
      "  Moving to c:\\users\\arnauda\\anaconda3\\envs\\filrouge\\lib\\site-packages\\numpy\\core\\tests\\__pycache__\\test_errstate.cpython-37.pyc\n",
      "   from C:\\Users\\ArnaudA\\AppData\\Local\\Temp\\pip-uninstall-0a5xyomj\\core\\tests\\__pycache__\\test_errstate.cpython-37.pyc\n",
      "  Moving to c:\\users\\arnauda\\anaconda3\\envs\\filrouge\\lib\\site-packages\\numpy\\core\\tests\\__pycache__\\test_extint128.cpython-37.pyc\n",
      "   from C:\\Users\\ArnaudA\\AppData\\Local\\Temp\\pip-uninstall-0a5xyomj\\core\\tests\\__pycache__\\test_extint128.cpython-37.pyc\n",
      "  Moving to c:\\users\\arnauda\\anaconda3\\envs\\filrouge\\lib\\site-packages\\numpy\\core\\tests\\__pycache__\\test_function_base.cpython-37.pyc\n",
      "   from C:\\Users\\ArnaudA\\AppData\\Local\\Temp\\pip-uninstall-0a5xyomj\\core\\tests\\__pycache__\\test_function_base.cpython-37.pyc\n",
      "  Moving to c:\\users\\arnauda\\anaconda3\\envs\\filrouge\\lib\\site-packages\\numpy\\core\\tests\\__pycache__\\test_getlimits.cpython-37.pyc\n",
      "   from C:\\Users\\ArnaudA\\AppData\\Local\\Temp\\pip-uninstall-0a5xyomj\\core\\tests\\__pycache__\\test_getlimits.cpython-37.pyc\n",
      "  Moving to c:\\users\\arnauda\\anaconda3\\envs\\filrouge\\lib\\site-packages\\numpy\\core\\tests\\__pycache__\\test_half.cpython-37.pyc\n",
      "   from C:\\Users\\ArnaudA\\AppData\\Local\\Temp\\pip-uninstall-0a5xyomj\\core\\tests\\__pycache__\\test_half.cpython-37.pyc\n",
      "  Moving to c:\\users\\arnauda\\anaconda3\\envs\\filrouge\\lib\\site-packages\\numpy\\core\\tests\\__pycache__\\test_indexerrors.cpython-37.pyc\n",
      "   from C:\\Users\\ArnaudA\\AppData\\Local\\Temp\\pip-uninstall-0a5xyomj\\core\\tests\\__pycache__\\test_indexerrors.cpython-37.pyc\n",
      "  Moving to c:\\users\\arnauda\\anaconda3\\envs\\filrouge\\lib\\site-packages\\numpy\\core\\tests\\__pycache__\\test_indexing.cpython-37.pyc\n",
      "   from C:\\Users\\ArnaudA\\AppData\\Local\\Temp\\pip-uninstall-0a5xyomj\\core\\tests\\__pycache__\\test_indexing.cpython-37.pyc\n",
      "  Moving to c:\\users\\arnauda\\anaconda3\\envs\\filrouge\\lib\\site-packages\\numpy\\core\\tests\\__pycache__\\test_item_selection.cpython-37.pyc\n",
      "   from C:\\Users\\ArnaudA\\AppData\\Local\\Temp\\pip-uninstall-0a5xyomj\\core\\tests\\__pycache__\\test_item_selection.cpython-37.pyc\n",
      "  Moving to c:\\users\\arnauda\\anaconda3\\envs\\filrouge\\lib\\site-packages\\numpy\\core\\tests\\__pycache__\\test_longdouble.cpython-37.pyc\n",
      "   from C:\\Users\\ArnaudA\\AppData\\Local\\Temp\\pip-uninstall-0a5xyomj\\core\\tests\\__pycache__\\test_longdouble.cpython-37.pyc\n",
      "  Moving to c:\\users\\arnauda\\anaconda3\\envs\\filrouge\\lib\\site-packages\\numpy\\core\\tests\\__pycache__\\test_machar.cpython-37.pyc\n",
      "   from C:\\Users\\ArnaudA\\AppData\\Local\\Temp\\pip-uninstall-0a5xyomj\\core\\tests\\__pycache__\\test_machar.cpython-37.pyc\n",
      "  Moving to c:\\users\\arnauda\\anaconda3\\envs\\filrouge\\lib\\site-packages\\numpy\\core\\tests\\__pycache__\\test_mem_overlap.cpython-37.pyc\n",
      "   from C:\\Users\\ArnaudA\\AppData\\Local\\Temp\\pip-uninstall-0a5xyomj\\core\\tests\\__pycache__\\test_mem_overlap.cpython-37.pyc\n",
      "  Moving to c:\\users\\arnauda\\anaconda3\\envs\\filrouge\\lib\\site-packages\\numpy\\core\\tests\\__pycache__\\test_memmap.cpython-37.pyc\n",
      "   from C:\\Users\\ArnaudA\\AppData\\Local\\Temp\\pip-uninstall-0a5xyomj\\core\\tests\\__pycache__\\test_memmap.cpython-37.pyc\n",
      "  Moving to c:\\users\\arnauda\\anaconda3\\envs\\filrouge\\lib\\site-packages\\numpy\\core\\tests\\__pycache__\\test_multiarray.cpython-37.pyc\n",
      "   from C:\\Users\\ArnaudA\\AppData\\Local\\Temp\\pip-uninstall-0a5xyomj\\core\\tests\\__pycache__\\test_multiarray.cpython-37.pyc\n",
      "  Moving to c:\\users\\arnauda\\anaconda3\\envs\\filrouge\\lib\\site-packages\\numpy\\core\\tests\\__pycache__\\test_nditer.cpython-37.pyc\n",
      "   from C:\\Users\\ArnaudA\\AppData\\Local\\Temp\\pip-uninstall-0a5xyomj\\core\\tests\\__pycache__\\test_nditer.cpython-37.pyc\n",
      "  Moving to c:\\users\\arnauda\\anaconda3\\envs\\filrouge\\lib\\site-packages\\numpy\\core\\tests\\__pycache__\\test_numeric.cpython-37.pyc\n",
      "   from C:\\Users\\ArnaudA\\AppData\\Local\\Temp\\pip-uninstall-0a5xyomj\\core\\tests\\__pycache__\\test_numeric.cpython-37.pyc\n",
      "  Moving to c:\\users\\arnauda\\anaconda3\\envs\\filrouge\\lib\\site-packages\\numpy\\core\\tests\\__pycache__\\test_numerictypes.cpython-37.pyc\n",
      "   from C:\\Users\\ArnaudA\\AppData\\Local\\Temp\\pip-uninstall-0a5xyomj\\core\\tests\\__pycache__\\test_numerictypes.cpython-37.pyc\n",
      "  Moving to c:\\users\\arnauda\\anaconda3\\envs\\filrouge\\lib\\site-packages\\numpy\\core\\tests\\__pycache__\\test_overrides.cpython-37.pyc\n",
      "   from C:\\Users\\ArnaudA\\AppData\\Local\\Temp\\pip-uninstall-0a5xyomj\\core\\tests\\__pycache__\\test_overrides.cpython-37.pyc\n",
      "  Moving to c:\\users\\arnauda\\anaconda3\\envs\\filrouge\\lib\\site-packages\\numpy\\core\\tests\\__pycache__\\test_print.cpython-37.pyc\n",
      "   from C:\\Users\\ArnaudA\\AppData\\Local\\Temp\\pip-uninstall-0a5xyomj\\core\\tests\\__pycache__\\test_print.cpython-37.pyc\n",
      "  Moving to c:\\users\\arnauda\\anaconda3\\envs\\filrouge\\lib\\site-packages\\numpy\\core\\tests\\__pycache__\\test_protocols.cpython-37.pyc\n",
      "   from C:\\Users\\ArnaudA\\AppData\\Local\\Temp\\pip-uninstall-0a5xyomj\\core\\tests\\__pycache__\\test_protocols.cpython-37.pyc\n",
      "  Moving to c:\\users\\arnauda\\anaconda3\\envs\\filrouge\\lib\\site-packages\\numpy\\core\\tests\\__pycache__\\test_records.cpython-37.pyc\n",
      "   from C:\\Users\\ArnaudA\\AppData\\Local\\Temp\\pip-uninstall-0a5xyomj\\core\\tests\\__pycache__\\test_records.cpython-37.pyc\n",
      "  Moving to c:\\users\\arnauda\\anaconda3\\envs\\filrouge\\lib\\site-packages\\numpy\\core\\tests\\__pycache__\\test_regression.cpython-37.pyc\n",
      "   from C:\\Users\\ArnaudA\\AppData\\Local\\Temp\\pip-uninstall-0a5xyomj\\core\\tests\\__pycache__\\test_regression.cpython-37.pyc\n",
      "  Moving to c:\\users\\arnauda\\anaconda3\\envs\\filrouge\\lib\\site-packages\\numpy\\core\\tests\\__pycache__\\test_scalar_ctors.cpython-37.pyc\n",
      "   from C:\\Users\\ArnaudA\\AppData\\Local\\Temp\\pip-uninstall-0a5xyomj\\core\\tests\\__pycache__\\test_scalar_ctors.cpython-37.pyc\n",
      "  Moving to c:\\users\\arnauda\\anaconda3\\envs\\filrouge\\lib\\site-packages\\numpy\\core\\tests\\__pycache__\\test_scalar_methods.cpython-37.pyc\n",
      "   from C:\\Users\\ArnaudA\\AppData\\Local\\Temp\\pip-uninstall-0a5xyomj\\core\\tests\\__pycache__\\test_scalar_methods.cpython-37.pyc\n",
      "  Moving to c:\\users\\arnauda\\anaconda3\\envs\\filrouge\\lib\\site-packages\\numpy\\core\\tests\\__pycache__\\test_scalarbuffer.cpython-37.pyc\n",
      "   from C:\\Users\\ArnaudA\\AppData\\Local\\Temp\\pip-uninstall-0a5xyomj\\core\\tests\\__pycache__\\test_scalarbuffer.cpython-37.pyc\n",
      "  Moving to c:\\users\\arnauda\\anaconda3\\envs\\filrouge\\lib\\site-packages\\numpy\\core\\tests\\__pycache__\\test_scalarinherit.cpython-37.pyc\n",
      "   from C:\\Users\\ArnaudA\\AppData\\Local\\Temp\\pip-uninstall-0a5xyomj\\core\\tests\\__pycache__\\test_scalarinherit.cpython-37.pyc\n",
      "  Moving to c:\\users\\arnauda\\anaconda3\\envs\\filrouge\\lib\\site-packages\\numpy\\core\\tests\\__pycache__\\test_scalarmath.cpython-37.pyc\n",
      "   from C:\\Users\\ArnaudA\\AppData\\Local\\Temp\\pip-uninstall-0a5xyomj\\core\\tests\\__pycache__\\test_scalarmath.cpython-37.pyc\n",
      "  Moving to c:\\users\\arnauda\\anaconda3\\envs\\filrouge\\lib\\site-packages\\numpy\\core\\tests\\__pycache__\\test_scalarprint.cpython-37.pyc\n",
      "   from C:\\Users\\ArnaudA\\AppData\\Local\\Temp\\pip-uninstall-0a5xyomj\\core\\tests\\__pycache__\\test_scalarprint.cpython-37.pyc\n",
      "  Moving to c:\\users\\arnauda\\anaconda3\\envs\\filrouge\\lib\\site-packages\\numpy\\core\\tests\\__pycache__\\test_shape_base.cpython-37.pyc\n",
      "   from C:\\Users\\ArnaudA\\AppData\\Local\\Temp\\pip-uninstall-0a5xyomj\\core\\tests\\__pycache__\\test_shape_base.cpython-37.pyc\n",
      "  Moving to c:\\users\\arnauda\\anaconda3\\envs\\filrouge\\lib\\site-packages\\numpy\\core\\tests\\__pycache__\\test_ufunc.cpython-37.pyc\n",
      "   from C:\\Users\\ArnaudA\\AppData\\Local\\Temp\\pip-uninstall-0a5xyomj\\core\\tests\\__pycache__\\test_ufunc.cpython-37.pyc\n",
      "  Moving to c:\\users\\arnauda\\anaconda3\\envs\\filrouge\\lib\\site-packages\\numpy\\core\\tests\\__pycache__\\test_umath.cpython-37.pyc\n",
      "   from C:\\Users\\ArnaudA\\AppData\\Local\\Temp\\pip-uninstall-0a5xyomj\\core\\tests\\__pycache__\\test_umath.cpython-37.pyc\n",
      "  Moving to c:\\users\\arnauda\\anaconda3\\envs\\filrouge\\lib\\site-packages\\numpy\\core\\tests\\__pycache__\\test_umath_accuracy.cpython-37.pyc\n",
      "   from C:\\Users\\ArnaudA\\AppData\\Local\\Temp\\pip-uninstall-0a5xyomj\\core\\tests\\__pycache__\\test_umath_accuracy.cpython-37.pyc\n",
      "  Moving to c:\\users\\arnauda\\anaconda3\\envs\\filrouge\\lib\\site-packages\\numpy\\core\\tests\\__pycache__\\test_umath_complex.cpython-37.pyc\n",
      "   from C:\\Users\\ArnaudA\\AppData\\Local\\Temp\\pip-uninstall-0a5xyomj\\core\\tests\\__pycache__\\test_umath_complex.cpython-37.pyc\n",
      "  Moving to c:\\users\\arnauda\\anaconda3\\envs\\filrouge\\lib\\site-packages\\numpy\\core\\tests\\__pycache__\\test_unicode.cpython-37.pyc\n",
      "   from C:\\Users\\ArnaudA\\AppData\\Local\\Temp\\pip-uninstall-0a5xyomj\\core\\tests\\__pycache__\\test_unicode.cpython-37.pyc\n",
      "  Moving to c:\\users\\arnauda\\anaconda3\\envs\\filrouge\\lib\\site-packages\\numpy\\core\\tests\\_locales.py\n",
      "   from C:\\Users\\ArnaudA\\AppData\\Local\\Temp\\pip-uninstall-0a5xyomj\\core\\tests\\_locales.py\n",
      "  Moving to c:\\users\\arnauda\\anaconda3\\envs\\filrouge\\lib\\site-packages\\numpy\\core\\tests\\data\\\n",
      "   from c:\\users\\arnauda\\anaconda3\\envs\\filrouge\\lib\\site-packages\\numpy\\core\\tests\\~ata\n",
      "  Moving to c:\\users\\arnauda\\anaconda3\\envs\\filrouge\\lib\\site-packages\\numpy\\core\\tests\\test__exceptions.py\n",
      "   from C:\\Users\\ArnaudA\\AppData\\Local\\Temp\\pip-uninstall-0a5xyomj\\core\\tests\\test__exceptions.py\n",
      "  Moving to c:\\users\\arnauda\\anaconda3\\envs\\filrouge\\lib\\site-packages\\numpy\\core\\tests\\test_abc.py\n",
      "   from C:\\Users\\ArnaudA\\AppData\\Local\\Temp\\pip-uninstall-0a5xyomj\\core\\tests\\test_abc.py\n",
      "  Moving to c:\\users\\arnauda\\anaconda3\\envs\\filrouge\\lib\\site-packages\\numpy\\core\\tests\\test_api.py\n",
      "   from C:\\Users\\ArnaudA\\AppData\\Local\\Temp\\pip-uninstall-0a5xyomj\\core\\tests\\test_api.py\n",
      "  Moving to c:\\users\\arnauda\\anaconda3\\envs\\filrouge\\lib\\site-packages\\numpy\\core\\tests\\test_arrayprint.py\n",
      "   from C:\\Users\\ArnaudA\\AppData\\Local\\Temp\\pip-uninstall-0a5xyomj\\core\\tests\\test_arrayprint.py\n",
      "  Moving to c:\\users\\arnauda\\anaconda3\\envs\\filrouge\\lib\\site-packages\\numpy\\core\\tests\\test_conversion_utils.py\n",
      "   from C:\\Users\\ArnaudA\\AppData\\Local\\Temp\\pip-uninstall-0a5xyomj\\core\\tests\\test_conversion_utils.py\n",
      "  Moving to c:\\users\\arnauda\\anaconda3\\envs\\filrouge\\lib\\site-packages\\numpy\\core\\tests\\test_cpu_features.py\n",
      "   from C:\\Users\\ArnaudA\\AppData\\Local\\Temp\\pip-uninstall-0a5xyomj\\core\\tests\\test_cpu_features.py\n",
      "  Moving to c:\\users\\arnauda\\anaconda3\\envs\\filrouge\\lib\\site-packages\\numpy\\core\\tests\\test_datetime.py\n",
      "   from C:\\Users\\ArnaudA\\AppData\\Local\\Temp\\pip-uninstall-0a5xyomj\\core\\tests\\test_datetime.py\n",
      "  Moving to c:\\users\\arnauda\\anaconda3\\envs\\filrouge\\lib\\site-packages\\numpy\\core\\tests\\test_defchararray.py\n",
      "   from C:\\Users\\ArnaudA\\AppData\\Local\\Temp\\pip-uninstall-0a5xyomj\\core\\tests\\test_defchararray.py\n",
      "  Moving to c:\\users\\arnauda\\anaconda3\\envs\\filrouge\\lib\\site-packages\\numpy\\core\\tests\\test_deprecations.py\n",
      "   from C:\\Users\\ArnaudA\\AppData\\Local\\Temp\\pip-uninstall-0a5xyomj\\core\\tests\\test_deprecations.py\n",
      "  Moving to c:\\users\\arnauda\\anaconda3\\envs\\filrouge\\lib\\site-packages\\numpy\\core\\tests\\test_dtype.py\n",
      "   from C:\\Users\\ArnaudA\\AppData\\Local\\Temp\\pip-uninstall-0a5xyomj\\core\\tests\\test_dtype.py\n",
      "  Moving to c:\\users\\arnauda\\anaconda3\\envs\\filrouge\\lib\\site-packages\\numpy\\core\\tests\\test_einsum.py\n",
      "   from C:\\Users\\ArnaudA\\AppData\\Local\\Temp\\pip-uninstall-0a5xyomj\\core\\tests\\test_einsum.py\n",
      "  Moving to c:\\users\\arnauda\\anaconda3\\envs\\filrouge\\lib\\site-packages\\numpy\\core\\tests\\test_errstate.py\n",
      "   from C:\\Users\\ArnaudA\\AppData\\Local\\Temp\\pip-uninstall-0a5xyomj\\core\\tests\\test_errstate.py\n",
      "  Moving to c:\\users\\arnauda\\anaconda3\\envs\\filrouge\\lib\\site-packages\\numpy\\core\\tests\\test_extint128.py\n",
      "   from C:\\Users\\ArnaudA\\AppData\\Local\\Temp\\pip-uninstall-0a5xyomj\\core\\tests\\test_extint128.py\n",
      "  Moving to c:\\users\\arnauda\\anaconda3\\envs\\filrouge\\lib\\site-packages\\numpy\\core\\tests\\test_function_base.py\n",
      "   from C:\\Users\\ArnaudA\\AppData\\Local\\Temp\\pip-uninstall-0a5xyomj\\core\\tests\\test_function_base.py\n",
      "  Moving to c:\\users\\arnauda\\anaconda3\\envs\\filrouge\\lib\\site-packages\\numpy\\core\\tests\\test_getlimits.py\n",
      "   from C:\\Users\\ArnaudA\\AppData\\Local\\Temp\\pip-uninstall-0a5xyomj\\core\\tests\\test_getlimits.py\n",
      "  Moving to c:\\users\\arnauda\\anaconda3\\envs\\filrouge\\lib\\site-packages\\numpy\\core\\tests\\test_half.py\n",
      "   from C:\\Users\\ArnaudA\\AppData\\Local\\Temp\\pip-uninstall-0a5xyomj\\core\\tests\\test_half.py\n",
      "  Moving to c:\\users\\arnauda\\anaconda3\\envs\\filrouge\\lib\\site-packages\\numpy\\core\\tests\\test_indexerrors.py\n",
      "   from C:\\Users\\ArnaudA\\AppData\\Local\\Temp\\pip-uninstall-0a5xyomj\\core\\tests\\test_indexerrors.py\n",
      "  Moving to c:\\users\\arnauda\\anaconda3\\envs\\filrouge\\lib\\site-packages\\numpy\\core\\tests\\test_indexing.py\n",
      "   from C:\\Users\\ArnaudA\\AppData\\Local\\Temp\\pip-uninstall-0a5xyomj\\core\\tests\\test_indexing.py\n",
      "  Moving to c:\\users\\arnauda\\anaconda3\\envs\\filrouge\\lib\\site-packages\\numpy\\core\\tests\\test_item_selection.py\n",
      "   from C:\\Users\\ArnaudA\\AppData\\Local\\Temp\\pip-uninstall-0a5xyomj\\core\\tests\\test_item_selection.py\n",
      "  Moving to c:\\users\\arnauda\\anaconda3\\envs\\filrouge\\lib\\site-packages\\numpy\\core\\tests\\test_longdouble.py\n",
      "   from C:\\Users\\ArnaudA\\AppData\\Local\\Temp\\pip-uninstall-0a5xyomj\\core\\tests\\test_longdouble.py\n",
      "  Moving to c:\\users\\arnauda\\anaconda3\\envs\\filrouge\\lib\\site-packages\\numpy\\core\\tests\\test_machar.py\n",
      "   from C:\\Users\\ArnaudA\\AppData\\Local\\Temp\\pip-uninstall-0a5xyomj\\core\\tests\\test_machar.py\n",
      "  Moving to c:\\users\\arnauda\\anaconda3\\envs\\filrouge\\lib\\site-packages\\numpy\\core\\tests\\test_mem_overlap.py\n",
      "   from C:\\Users\\ArnaudA\\AppData\\Local\\Temp\\pip-uninstall-0a5xyomj\\core\\tests\\test_mem_overlap.py\n",
      "  Moving to c:\\users\\arnauda\\anaconda3\\envs\\filrouge\\lib\\site-packages\\numpy\\core\\tests\\test_memmap.py\n",
      "   from C:\\Users\\ArnaudA\\AppData\\Local\\Temp\\pip-uninstall-0a5xyomj\\core\\tests\\test_memmap.py\n",
      "  Moving to c:\\users\\arnauda\\anaconda3\\envs\\filrouge\\lib\\site-packages\\numpy\\core\\tests\\test_multiarray.py\n",
      "   from C:\\Users\\ArnaudA\\AppData\\Local\\Temp\\pip-uninstall-0a5xyomj\\core\\tests\\test_multiarray.py\n",
      "  Moving to c:\\users\\arnauda\\anaconda3\\envs\\filrouge\\lib\\site-packages\\numpy\\core\\tests\\test_nditer.py\n",
      "   from C:\\Users\\ArnaudA\\AppData\\Local\\Temp\\pip-uninstall-0a5xyomj\\core\\tests\\test_nditer.py\n",
      "  Moving to c:\\users\\arnauda\\anaconda3\\envs\\filrouge\\lib\\site-packages\\numpy\\core\\tests\\test_numeric.py\n",
      "   from C:\\Users\\ArnaudA\\AppData\\Local\\Temp\\pip-uninstall-0a5xyomj\\core\\tests\\test_numeric.py\n",
      "  Moving to c:\\users\\arnauda\\anaconda3\\envs\\filrouge\\lib\\site-packages\\numpy\\core\\tests\\test_numerictypes.py\n",
      "   from C:\\Users\\ArnaudA\\AppData\\Local\\Temp\\pip-uninstall-0a5xyomj\\core\\tests\\test_numerictypes.py\n",
      "  Moving to c:\\users\\arnauda\\anaconda3\\envs\\filrouge\\lib\\site-packages\\numpy\\core\\tests\\test_overrides.py\n",
      "   from C:\\Users\\ArnaudA\\AppData\\Local\\Temp\\pip-uninstall-0a5xyomj\\core\\tests\\test_overrides.py\n",
      "  Moving to c:\\users\\arnauda\\anaconda3\\envs\\filrouge\\lib\\site-packages\\numpy\\core\\tests\\test_print.py\n",
      "   from C:\\Users\\ArnaudA\\AppData\\Local\\Temp\\pip-uninstall-0a5xyomj\\core\\tests\\test_print.py\n",
      "  Moving to c:\\users\\arnauda\\anaconda3\\envs\\filrouge\\lib\\site-packages\\numpy\\core\\tests\\test_protocols.py\n",
      "   from C:\\Users\\ArnaudA\\AppData\\Local\\Temp\\pip-uninstall-0a5xyomj\\core\\tests\\test_protocols.py\n",
      "  Moving to c:\\users\\arnauda\\anaconda3\\envs\\filrouge\\lib\\site-packages\\numpy\\core\\tests\\test_records.py\n",
      "   from C:\\Users\\ArnaudA\\AppData\\Local\\Temp\\pip-uninstall-0a5xyomj\\core\\tests\\test_records.py\n",
      "  Moving to c:\\users\\arnauda\\anaconda3\\envs\\filrouge\\lib\\site-packages\\numpy\\core\\tests\\test_regression.py\n",
      "   from C:\\Users\\ArnaudA\\AppData\\Local\\Temp\\pip-uninstall-0a5xyomj\\core\\tests\\test_regression.py\n",
      "  Moving to c:\\users\\arnauda\\anaconda3\\envs\\filrouge\\lib\\site-packages\\numpy\\core\\tests\\test_scalar_ctors.py\n",
      "   from C:\\Users\\ArnaudA\\AppData\\Local\\Temp\\pip-uninstall-0a5xyomj\\core\\tests\\test_scalar_ctors.py\n",
      "  Moving to c:\\users\\arnauda\\anaconda3\\envs\\filrouge\\lib\\site-packages\\numpy\\core\\tests\\test_scalar_methods.py\n",
      "   from C:\\Users\\ArnaudA\\AppData\\Local\\Temp\\pip-uninstall-0a5xyomj\\core\\tests\\test_scalar_methods.py\n",
      "  Moving to c:\\users\\arnauda\\anaconda3\\envs\\filrouge\\lib\\site-packages\\numpy\\core\\tests\\test_scalarbuffer.py\n",
      "   from C:\\Users\\ArnaudA\\AppData\\Local\\Temp\\pip-uninstall-0a5xyomj\\core\\tests\\test_scalarbuffer.py\n",
      "  Moving to c:\\users\\arnauda\\anaconda3\\envs\\filrouge\\lib\\site-packages\\numpy\\core\\tests\\test_scalarinherit.py\n",
      "   from C:\\Users\\ArnaudA\\AppData\\Local\\Temp\\pip-uninstall-0a5xyomj\\core\\tests\\test_scalarinherit.py\n",
      "  Moving to c:\\users\\arnauda\\anaconda3\\envs\\filrouge\\lib\\site-packages\\numpy\\core\\tests\\test_scalarmath.py\n",
      "   from C:\\Users\\ArnaudA\\AppData\\Local\\Temp\\pip-uninstall-0a5xyomj\\core\\tests\\test_scalarmath.py\n",
      "  Moving to c:\\users\\arnauda\\anaconda3\\envs\\filrouge\\lib\\site-packages\\numpy\\core\\tests\\test_scalarprint.py\n",
      "   from C:\\Users\\ArnaudA\\AppData\\Local\\Temp\\pip-uninstall-0a5xyomj\\core\\tests\\test_scalarprint.py\n",
      "  Moving to c:\\users\\arnauda\\anaconda3\\envs\\filrouge\\lib\\site-packages\\numpy\\core\\tests\\test_shape_base.py\n",
      "   from C:\\Users\\ArnaudA\\AppData\\Local\\Temp\\pip-uninstall-0a5xyomj\\core\\tests\\test_shape_base.py\n",
      "  Moving to c:\\users\\arnauda\\anaconda3\\envs\\filrouge\\lib\\site-packages\\numpy\\core\\tests\\test_ufunc.py\n",
      "   from C:\\Users\\ArnaudA\\AppData\\Local\\Temp\\pip-uninstall-0a5xyomj\\core\\tests\\test_ufunc.py\n",
      "  Moving to c:\\users\\arnauda\\anaconda3\\envs\\filrouge\\lib\\site-packages\\numpy\\core\\tests\\test_umath.py\n",
      "   from C:\\Users\\ArnaudA\\AppData\\Local\\Temp\\pip-uninstall-0a5xyomj\\core\\tests\\test_umath.py\n",
      "  Moving to c:\\users\\arnauda\\anaconda3\\envs\\filrouge\\lib\\site-packages\\numpy\\core\\tests\\test_umath_accuracy.py\n",
      "   from C:\\Users\\ArnaudA\\AppData\\Local\\Temp\\pip-uninstall-0a5xyomj\\core\\tests\\test_umath_accuracy.py\n",
      "  Moving to c:\\users\\arnauda\\anaconda3\\envs\\filrouge\\lib\\site-packages\\numpy\\core\\tests\\test_umath_complex.py\n",
      "   from C:\\Users\\ArnaudA\\AppData\\Local\\Temp\\pip-uninstall-0a5xyomj\\core\\tests\\test_umath_complex.py\n",
      "  Moving to c:\\users\\arnauda\\anaconda3\\envs\\filrouge\\lib\\site-packages\\numpy\\core\\tests\\test_unicode.py\n",
      "   from C:\\Users\\ArnaudA\\AppData\\Local\\Temp\\pip-uninstall-0a5xyomj\\core\\tests\\test_unicode.py\n",
      "  Moving to c:\\users\\arnauda\\anaconda3\\envs\\filrouge\\lib\\site-packages\\numpy\\core\\umath.py\n",
      "   from C:\\Users\\ArnaudA\\AppData\\Local\\Temp\\pip-uninstall-0a5xyomj\\core\\umath.py\n",
      "  Moving to c:\\users\\arnauda\\anaconda3\\envs\\filrouge\\lib\\site-packages\\numpy\\core\\umath_tests.py\n",
      "   from C:\\Users\\ArnaudA\\AppData\\Local\\Temp\\pip-uninstall-0a5xyomj\\core\\umath_tests.py\n",
      "  Moving to c:\\users\\arnauda\\anaconda3\\envs\\filrouge\\lib\\site-packages\\numpy\\ctypeslib.py\n",
      "   from C:\\Users\\ArnaudA\\AppData\\Local\\Temp\\pip-uninstall-0a5xyomj\\ctypeslib.py\n",
      "  Moving to c:\\users\\arnauda\\anaconda3\\envs\\filrouge\\lib\\site-packages\\numpy\\distutils\\__config__.py\n",
      "   from C:\\Users\\ArnaudA\\AppData\\Local\\Temp\\pip-uninstall-0a5xyomj\\distutils\\__config__.py\n",
      "  Moving to c:\\users\\arnauda\\anaconda3\\envs\\filrouge\\lib\\site-packages\\numpy\\distutils\\__init__.py\n",
      "   from C:\\Users\\ArnaudA\\AppData\\Local\\Temp\\pip-uninstall-0a5xyomj\\distutils\\__init__.py\n",
      "  Moving to c:\\users\\arnauda\\anaconda3\\envs\\filrouge\\lib\\site-packages\\numpy\\distutils\\__pycache__\\__config__.cpython-37.pyc\n",
      "   from C:\\Users\\ArnaudA\\AppData\\Local\\Temp\\pip-uninstall-0a5xyomj\\distutils\\__pycache__\\__config__.cpython-37.pyc\n",
      "  Moving to c:\\users\\arnauda\\anaconda3\\envs\\filrouge\\lib\\site-packages\\numpy\\distutils\\__pycache__\\__init__.cpython-37.pyc\n",
      "   from C:\\Users\\ArnaudA\\AppData\\Local\\Temp\\pip-uninstall-0a5xyomj\\distutils\\__pycache__\\__init__.cpython-37.pyc\n",
      "  Moving to c:\\users\\arnauda\\anaconda3\\envs\\filrouge\\lib\\site-packages\\numpy\\distutils\\__pycache__\\_shell_utils.cpython-37.pyc\n",
      "   from C:\\Users\\ArnaudA\\AppData\\Local\\Temp\\pip-uninstall-0a5xyomj\\distutils\\__pycache__\\_shell_utils.cpython-37.pyc\n",
      "  Moving to c:\\users\\arnauda\\anaconda3\\envs\\filrouge\\lib\\site-packages\\numpy\\distutils\\__pycache__\\ccompiler.cpython-37.pyc\n",
      "   from C:\\Users\\ArnaudA\\AppData\\Local\\Temp\\pip-uninstall-0a5xyomj\\distutils\\__pycache__\\ccompiler.cpython-37.pyc\n",
      "  Moving to c:\\users\\arnauda\\anaconda3\\envs\\filrouge\\lib\\site-packages\\numpy\\distutils\\__pycache__\\conv_template.cpython-37.pyc\n",
      "   from C:\\Users\\ArnaudA\\AppData\\Local\\Temp\\pip-uninstall-0a5xyomj\\distutils\\__pycache__\\conv_template.cpython-37.pyc\n",
      "  Moving to c:\\users\\arnauda\\anaconda3\\envs\\filrouge\\lib\\site-packages\\numpy\\distutils\\__pycache__\\core.cpython-37.pyc\n",
      "   from C:\\Users\\ArnaudA\\AppData\\Local\\Temp\\pip-uninstall-0a5xyomj\\distutils\\__pycache__\\core.cpython-37.pyc\n",
      "  Moving to c:\\users\\arnauda\\anaconda3\\envs\\filrouge\\lib\\site-packages\\numpy\\distutils\\__pycache__\\cpuinfo.cpython-37.pyc\n",
      "   from C:\\Users\\ArnaudA\\AppData\\Local\\Temp\\pip-uninstall-0a5xyomj\\distutils\\__pycache__\\cpuinfo.cpython-37.pyc\n",
      "  Moving to c:\\users\\arnauda\\anaconda3\\envs\\filrouge\\lib\\site-packages\\numpy\\distutils\\__pycache__\\exec_command.cpython-37.pyc\n",
      "   from C:\\Users\\ArnaudA\\AppData\\Local\\Temp\\pip-uninstall-0a5xyomj\\distutils\\__pycache__\\exec_command.cpython-37.pyc\n",
      "  Moving to c:\\users\\arnauda\\anaconda3\\envs\\filrouge\\lib\\site-packages\\numpy\\distutils\\__pycache__\\extension.cpython-37.pyc\n",
      "   from C:\\Users\\ArnaudA\\AppData\\Local\\Temp\\pip-uninstall-0a5xyomj\\distutils\\__pycache__\\extension.cpython-37.pyc\n",
      "  Moving to c:\\users\\arnauda\\anaconda3\\envs\\filrouge\\lib\\site-packages\\numpy\\distutils\\__pycache__\\from_template.cpython-37.pyc\n",
      "   from C:\\Users\\ArnaudA\\AppData\\Local\\Temp\\pip-uninstall-0a5xyomj\\distutils\\__pycache__\\from_template.cpython-37.pyc\n",
      "  Moving to c:\\users\\arnauda\\anaconda3\\envs\\filrouge\\lib\\site-packages\\numpy\\distutils\\__pycache__\\intelccompiler.cpython-37.pyc\n",
      "   from C:\\Users\\ArnaudA\\AppData\\Local\\Temp\\pip-uninstall-0a5xyomj\\distutils\\__pycache__\\intelccompiler.cpython-37.pyc\n",
      "  Moving to c:\\users\\arnauda\\anaconda3\\envs\\filrouge\\lib\\site-packages\\numpy\\distutils\\__pycache__\\lib2def.cpython-37.pyc\n",
      "   from C:\\Users\\ArnaudA\\AppData\\Local\\Temp\\pip-uninstall-0a5xyomj\\distutils\\__pycache__\\lib2def.cpython-37.pyc\n",
      "  Moving to c:\\users\\arnauda\\anaconda3\\envs\\filrouge\\lib\\site-packages\\numpy\\distutils\\__pycache__\\line_endings.cpython-37.pyc\n",
      "   from C:\\Users\\ArnaudA\\AppData\\Local\\Temp\\pip-uninstall-0a5xyomj\\distutils\\__pycache__\\line_endings.cpython-37.pyc\n",
      "  Moving to c:\\users\\arnauda\\anaconda3\\envs\\filrouge\\lib\\site-packages\\numpy\\distutils\\__pycache__\\log.cpython-37.pyc\n",
      "   from C:\\Users\\ArnaudA\\AppData\\Local\\Temp\\pip-uninstall-0a5xyomj\\distutils\\__pycache__\\log.cpython-37.pyc\n",
      "  Moving to c:\\users\\arnauda\\anaconda3\\envs\\filrouge\\lib\\site-packages\\numpy\\distutils\\__pycache__\\mingw32ccompiler.cpython-37.pyc\n",
      "   from C:\\Users\\ArnaudA\\AppData\\Local\\Temp\\pip-uninstall-0a5xyomj\\distutils\\__pycache__\\mingw32ccompiler.cpython-37.pyc\n",
      "  Moving to c:\\users\\arnauda\\anaconda3\\envs\\filrouge\\lib\\site-packages\\numpy\\distutils\\__pycache__\\misc_util.cpython-37.pyc\n",
      "   from C:\\Users\\ArnaudA\\AppData\\Local\\Temp\\pip-uninstall-0a5xyomj\\distutils\\__pycache__\\misc_util.cpython-37.pyc\n",
      "  Moving to c:\\users\\arnauda\\anaconda3\\envs\\filrouge\\lib\\site-packages\\numpy\\distutils\\__pycache__\\msvc9compiler.cpython-37.pyc\n",
      "   from C:\\Users\\ArnaudA\\AppData\\Local\\Temp\\pip-uninstall-0a5xyomj\\distutils\\__pycache__\\msvc9compiler.cpython-37.pyc\n",
      "  Moving to c:\\users\\arnauda\\anaconda3\\envs\\filrouge\\lib\\site-packages\\numpy\\distutils\\__pycache__\\msvccompiler.cpython-37.pyc\n",
      "   from C:\\Users\\ArnaudA\\AppData\\Local\\Temp\\pip-uninstall-0a5xyomj\\distutils\\__pycache__\\msvccompiler.cpython-37.pyc\n",
      "  Moving to c:\\users\\arnauda\\anaconda3\\envs\\filrouge\\lib\\site-packages\\numpy\\distutils\\__pycache__\\npy_pkg_config.cpython-37.pyc\n",
      "   from C:\\Users\\ArnaudA\\AppData\\Local\\Temp\\pip-uninstall-0a5xyomj\\distutils\\__pycache__\\npy_pkg_config.cpython-37.pyc\n",
      "  Moving to c:\\users\\arnauda\\anaconda3\\envs\\filrouge\\lib\\site-packages\\numpy\\distutils\\__pycache__\\numpy_distribution.cpython-37.pyc\n",
      "   from C:\\Users\\ArnaudA\\AppData\\Local\\Temp\\pip-uninstall-0a5xyomj\\distutils\\__pycache__\\numpy_distribution.cpython-37.pyc\n",
      "  Moving to c:\\users\\arnauda\\anaconda3\\envs\\filrouge\\lib\\site-packages\\numpy\\distutils\\__pycache__\\pathccompiler.cpython-37.pyc\n",
      "   from C:\\Users\\ArnaudA\\AppData\\Local\\Temp\\pip-uninstall-0a5xyomj\\distutils\\__pycache__\\pathccompiler.cpython-37.pyc\n",
      "  Moving to c:\\users\\arnauda\\anaconda3\\envs\\filrouge\\lib\\site-packages\\numpy\\distutils\\__pycache__\\setup.cpython-37.pyc\n",
      "   from C:\\Users\\ArnaudA\\AppData\\Local\\Temp\\pip-uninstall-0a5xyomj\\distutils\\__pycache__\\setup.cpython-37.pyc\n",
      "  Moving to c:\\users\\arnauda\\anaconda3\\envs\\filrouge\\lib\\site-packages\\numpy\\distutils\\__pycache__\\system_info.cpython-37.pyc\n",
      "   from C:\\Users\\ArnaudA\\AppData\\Local\\Temp\\pip-uninstall-0a5xyomj\\distutils\\__pycache__\\system_info.cpython-37.pyc\n",
      "  Moving to c:\\users\\arnauda\\anaconda3\\envs\\filrouge\\lib\\site-packages\\numpy\\distutils\\__pycache__\\unixccompiler.cpython-37.pyc\n",
      "   from C:\\Users\\ArnaudA\\AppData\\Local\\Temp\\pip-uninstall-0a5xyomj\\distutils\\__pycache__\\unixccompiler.cpython-37.pyc\n",
      "  Moving to c:\\users\\arnauda\\anaconda3\\envs\\filrouge\\lib\\site-packages\\numpy\\distutils\\_shell_utils.py\n",
      "   from C:\\Users\\ArnaudA\\AppData\\Local\\Temp\\pip-uninstall-0a5xyomj\\distutils\\_shell_utils.py\n",
      "  Moving to c:\\users\\arnauda\\anaconda3\\envs\\filrouge\\lib\\site-packages\\numpy\\distutils\\ccompiler.py\n",
      "   from C:\\Users\\ArnaudA\\AppData\\Local\\Temp\\pip-uninstall-0a5xyomj\\distutils\\ccompiler.py\n",
      "  Moving to c:\\users\\arnauda\\anaconda3\\envs\\filrouge\\lib\\site-packages\\numpy\\distutils\\command\\\n",
      "   from c:\\users\\arnauda\\anaconda3\\envs\\filrouge\\lib\\site-packages\\numpy\\distutils\\~ommand\n",
      "  Moving to c:\\users\\arnauda\\anaconda3\\envs\\filrouge\\lib\\site-packages\\numpy\\distutils\\conv_template.py\n",
      "   from C:\\Users\\ArnaudA\\AppData\\Local\\Temp\\pip-uninstall-0a5xyomj\\distutils\\conv_template.py\n",
      "  Moving to c:\\users\\arnauda\\anaconda3\\envs\\filrouge\\lib\\site-packages\\numpy\\distutils\\core.py\n",
      "   from C:\\Users\\ArnaudA\\AppData\\Local\\Temp\\pip-uninstall-0a5xyomj\\distutils\\core.py\n",
      "  Moving to c:\\users\\arnauda\\anaconda3\\envs\\filrouge\\lib\\site-packages\\numpy\\distutils\\cpuinfo.py\n",
      "   from C:\\Users\\ArnaudA\\AppData\\Local\\Temp\\pip-uninstall-0a5xyomj\\distutils\\cpuinfo.py\n",
      "  Moving to c:\\users\\arnauda\\anaconda3\\envs\\filrouge\\lib\\site-packages\\numpy\\distutils\\exec_command.py\n",
      "   from C:\\Users\\ArnaudA\\AppData\\Local\\Temp\\pip-uninstall-0a5xyomj\\distutils\\exec_command.py\n",
      "  Moving to c:\\users\\arnauda\\anaconda3\\envs\\filrouge\\lib\\site-packages\\numpy\\distutils\\extension.py\n",
      "   from C:\\Users\\ArnaudA\\AppData\\Local\\Temp\\pip-uninstall-0a5xyomj\\distutils\\extension.py\n",
      "  Moving to c:\\users\\arnauda\\anaconda3\\envs\\filrouge\\lib\\site-packages\\numpy\\distutils\\fcompiler\\\n",
      "   from c:\\users\\arnauda\\anaconda3\\envs\\filrouge\\lib\\site-packages\\numpy\\distutils\\~compiler\n",
      "  Moving to c:\\users\\arnauda\\anaconda3\\envs\\filrouge\\lib\\site-packages\\numpy\\distutils\\from_template.py\n",
      "   from C:\\Users\\ArnaudA\\AppData\\Local\\Temp\\pip-uninstall-0a5xyomj\\distutils\\from_template.py\n",
      "  Moving to c:\\users\\arnauda\\anaconda3\\envs\\filrouge\\lib\\site-packages\\numpy\\distutils\\intelccompiler.py\n",
      "   from C:\\Users\\ArnaudA\\AppData\\Local\\Temp\\pip-uninstall-0a5xyomj\\distutils\\intelccompiler.py\n",
      "  Moving to c:\\users\\arnauda\\anaconda3\\envs\\filrouge\\lib\\site-packages\\numpy\\distutils\\lib2def.py\n",
      "   from C:\\Users\\ArnaudA\\AppData\\Local\\Temp\\pip-uninstall-0a5xyomj\\distutils\\lib2def.py\n",
      "  Moving to c:\\users\\arnauda\\anaconda3\\envs\\filrouge\\lib\\site-packages\\numpy\\distutils\\line_endings.py\n",
      "   from C:\\Users\\ArnaudA\\AppData\\Local\\Temp\\pip-uninstall-0a5xyomj\\distutils\\line_endings.py\n",
      "  Moving to c:\\users\\arnauda\\anaconda3\\envs\\filrouge\\lib\\site-packages\\numpy\\distutils\\log.py\n",
      "   from C:\\Users\\ArnaudA\\AppData\\Local\\Temp\\pip-uninstall-0a5xyomj\\distutils\\log.py\n",
      "  Moving to c:\\users\\arnauda\\anaconda3\\envs\\filrouge\\lib\\site-packages\\numpy\\distutils\\mingw32ccompiler.py\n",
      "   from C:\\Users\\ArnaudA\\AppData\\Local\\Temp\\pip-uninstall-0a5xyomj\\distutils\\mingw32ccompiler.py\n",
      "  Moving to c:\\users\\arnauda\\anaconda3\\envs\\filrouge\\lib\\site-packages\\numpy\\distutils\\mingw\\\n",
      "   from c:\\users\\arnauda\\anaconda3\\envs\\filrouge\\lib\\site-packages\\numpy\\distutils\\~ingw\n",
      "  Moving to c:\\users\\arnauda\\anaconda3\\envs\\filrouge\\lib\\site-packages\\numpy\\distutils\\misc_util.py\n",
      "   from C:\\Users\\ArnaudA\\AppData\\Local\\Temp\\pip-uninstall-0a5xyomj\\distutils\\misc_util.py\n",
      "  Moving to c:\\users\\arnauda\\anaconda3\\envs\\filrouge\\lib\\site-packages\\numpy\\distutils\\msvc9compiler.py\n",
      "   from C:\\Users\\ArnaudA\\AppData\\Local\\Temp\\pip-uninstall-0a5xyomj\\distutils\\msvc9compiler.py\n",
      "  Moving to c:\\users\\arnauda\\anaconda3\\envs\\filrouge\\lib\\site-packages\\numpy\\distutils\\msvccompiler.py\n",
      "   from C:\\Users\\ArnaudA\\AppData\\Local\\Temp\\pip-uninstall-0a5xyomj\\distutils\\msvccompiler.py\n",
      "  Moving to c:\\users\\arnauda\\anaconda3\\envs\\filrouge\\lib\\site-packages\\numpy\\distutils\\npy_pkg_config.py\n",
      "   from C:\\Users\\ArnaudA\\AppData\\Local\\Temp\\pip-uninstall-0a5xyomj\\distutils\\npy_pkg_config.py\n",
      "  Moving to c:\\users\\arnauda\\anaconda3\\envs\\filrouge\\lib\\site-packages\\numpy\\distutils\\numpy_distribution.py\n",
      "   from C:\\Users\\ArnaudA\\AppData\\Local\\Temp\\pip-uninstall-0a5xyomj\\distutils\\numpy_distribution.py\n",
      "  Moving to c:\\users\\arnauda\\anaconda3\\envs\\filrouge\\lib\\site-packages\\numpy\\distutils\\pathccompiler.py\n",
      "   from C:\\Users\\ArnaudA\\AppData\\Local\\Temp\\pip-uninstall-0a5xyomj\\distutils\\pathccompiler.py\n",
      "  Moving to c:\\users\\arnauda\\anaconda3\\envs\\filrouge\\lib\\site-packages\\numpy\\distutils\\setup.py\n",
      "   from C:\\Users\\ArnaudA\\AppData\\Local\\Temp\\pip-uninstall-0a5xyomj\\distutils\\setup.py\n",
      "  Moving to c:\\users\\arnauda\\anaconda3\\envs\\filrouge\\lib\\site-packages\\numpy\\distutils\\site.cfg\n",
      "   from C:\\Users\\ArnaudA\\AppData\\Local\\Temp\\pip-uninstall-0a5xyomj\\distutils\\site.cfg\n",
      "  Moving to c:\\users\\arnauda\\anaconda3\\envs\\filrouge\\lib\\site-packages\\numpy\\distutils\\system_info.py\n",
      "   from C:\\Users\\ArnaudA\\AppData\\Local\\Temp\\pip-uninstall-0a5xyomj\\distutils\\system_info.py\n",
      "  Moving to c:\\users\\arnauda\\anaconda3\\envs\\filrouge\\lib\\site-packages\\numpy\\distutils\\tests\\\n",
      "   from c:\\users\\arnauda\\anaconda3\\envs\\filrouge\\lib\\site-packages\\numpy\\distutils\\~ests\n",
      "  Moving to c:\\users\\arnauda\\anaconda3\\envs\\filrouge\\lib\\site-packages\\numpy\\distutils\\unixccompiler.py\n",
      "   from C:\\Users\\ArnaudA\\AppData\\Local\\Temp\\pip-uninstall-0a5xyomj\\distutils\\unixccompiler.py\n",
      "  Moving to c:\\users\\arnauda\\anaconda3\\envs\\filrouge\\lib\\site-packages\\numpy\\doc\\\n",
      "   from c:\\users\\arnauda\\anaconda3\\envs\\filrouge\\lib\\site-packages\\numpy\\~oc\n",
      "  Moving to c:\\users\\arnauda\\anaconda3\\envs\\filrouge\\lib\\site-packages\\numpy\\dual.py\n",
      "   from C:\\Users\\ArnaudA\\AppData\\Local\\Temp\\pip-uninstall-0a5xyomj\\dual.py\n",
      "  Moving to c:\\users\\arnauda\\anaconda3\\envs\\filrouge\\lib\\site-packages\\numpy\\f2py\\\n",
      "   from c:\\users\\arnauda\\anaconda3\\envs\\filrouge\\lib\\site-packages\\numpy\\~2py\n",
      "  Moving to c:\\users\\arnauda\\anaconda3\\envs\\filrouge\\lib\\site-packages\\numpy\\fft\\\n",
      "   from c:\\users\\arnauda\\anaconda3\\envs\\filrouge\\lib\\site-packages\\numpy\\~ft\n",
      "  Moving to c:\\users\\arnauda\\anaconda3\\envs\\filrouge\\lib\\site-packages\\numpy\\lib\\\n",
      "   from c:\\users\\arnauda\\anaconda3\\envs\\filrouge\\lib\\site-packages\\numpy\\~ib\n",
      "  Moving to c:\\users\\arnauda\\anaconda3\\envs\\filrouge\\lib\\site-packages\\numpy\\license.txt\n",
      "   from C:\\Users\\ArnaudA\\AppData\\Local\\Temp\\pip-uninstall-0a5xyomj\\license.txt\n",
      "  Moving to c:\\users\\arnauda\\anaconda3\\envs\\filrouge\\lib\\site-packages\\numpy\\linalg\\\n",
      "   from c:\\users\\arnauda\\anaconda3\\envs\\filrouge\\lib\\site-packages\\numpy\\~inalg\n",
      "  Moving to c:\\users\\arnauda\\anaconda3\\envs\\filrouge\\lib\\site-packages\\numpy\\ma\\\n",
      "   from c:\\users\\arnauda\\anaconda3\\envs\\filrouge\\lib\\site-packages\\numpy\\~a\n",
      "  Moving to c:\\users\\arnauda\\anaconda3\\envs\\filrouge\\lib\\site-packages\\numpy\\matlib.py\n",
      "   from C:\\Users\\ArnaudA\\AppData\\Local\\Temp\\pip-uninstall-0a5xyomj\\matlib.py\n",
      "  Moving to c:\\users\\arnauda\\anaconda3\\envs\\filrouge\\lib\\site-packages\\numpy\\matrixlib\\\n",
      "   from c:\\users\\arnauda\\anaconda3\\envs\\filrouge\\lib\\site-packages\\numpy\\~atrixlib\n",
      "  Moving to c:\\users\\arnauda\\anaconda3\\envs\\filrouge\\lib\\site-packages\\numpy\\polynomial\\\n",
      "   from c:\\users\\arnauda\\anaconda3\\envs\\filrouge\\lib\\site-packages\\numpy\\~olynomial\n",
      "  Moving to c:\\users\\arnauda\\anaconda3\\envs\\filrouge\\lib\\site-packages\\numpy\\random\\__init__.pxd\n",
      "   from C:\\Users\\ArnaudA\\AppData\\Local\\Temp\\pip-uninstall-0a5xyomj\\random\\__init__.pxd\n",
      "  Moving to c:\\users\\arnauda\\anaconda3\\envs\\filrouge\\lib\\site-packages\\numpy\\random\\__init__.py\n",
      "   from C:\\Users\\ArnaudA\\AppData\\Local\\Temp\\pip-uninstall-0a5xyomj\\random\\__init__.py\n",
      "  Moving to c:\\users\\arnauda\\anaconda3\\envs\\filrouge\\lib\\site-packages\\numpy\\random\\__pycache__\\\n",
      "   from c:\\users\\arnauda\\anaconda3\\envs\\filrouge\\lib\\site-packages\\numpy\\random\\~_pycache__\n",
      "  Moving to c:\\users\\arnauda\\anaconda3\\envs\\filrouge\\lib\\site-packages\\numpy\\random\\_bounded_integers.cp37-win_amd64.pyd\n",
      "   from C:\\Users\\ArnaudA\\AppData\\Local\\Temp\\pip-uninstall-0a5xyomj\\random\\_bounded_integers.cp37-win_amd64.pyd\n",
      "  Moving to c:\\users\\arnauda\\anaconda3\\envs\\filrouge\\lib\\site-packages\\numpy\\random\\_bounded_integers.pxd\n",
      "   from C:\\Users\\ArnaudA\\AppData\\Local\\Temp\\pip-uninstall-0a5xyomj\\random\\_bounded_integers.pxd\n",
      "  Moving to c:\\users\\arnauda\\anaconda3\\envs\\filrouge\\lib\\site-packages\\numpy\\random\\_common.cp37-win_amd64.pyd\n",
      "   from C:\\Users\\ArnaudA\\AppData\\Local\\Temp\\pip-uninstall-0a5xyomj\\random\\_common.cp37-win_amd64.pyd\n",
      "  Moving to c:\\users\\arnauda\\anaconda3\\envs\\filrouge\\lib\\site-packages\\numpy\\random\\_common.pxd\n",
      "   from C:\\Users\\ArnaudA\\AppData\\Local\\Temp\\pip-uninstall-0a5xyomj\\random\\_common.pxd\n",
      "  Moving to c:\\users\\arnauda\\anaconda3\\envs\\filrouge\\lib\\site-packages\\numpy\\random\\_examples\\cffi\\\n",
      "   from c:\\users\\arnauda\\anaconda3\\envs\\filrouge\\lib\\site-packages\\numpy\\random\\_examples\\~ffi\n",
      "  Moving to c:\\users\\arnauda\\anaconda3\\envs\\filrouge\\lib\\site-packages\\numpy\\random\\_examples\\cython\\\n",
      "   from c:\\users\\arnauda\\anaconda3\\envs\\filrouge\\lib\\site-packages\\numpy\\random\\_examples\\~ython\n",
      "  Moving to c:\\users\\arnauda\\anaconda3\\envs\\filrouge\\lib\\site-packages\\numpy\\random\\_examples\\numba\\\n",
      "   from c:\\users\\arnauda\\anaconda3\\envs\\filrouge\\lib\\site-packages\\numpy\\random\\_examples\\~umba\n",
      "  Moving to c:\\users\\arnauda\\anaconda3\\envs\\filrouge\\lib\\site-packages\\numpy\\random\\_generator.cp37-win_amd64.pyd\n",
      "   from C:\\Users\\ArnaudA\\AppData\\Local\\Temp\\pip-uninstall-0a5xyomj\\random\\_generator.cp37-win_amd64.pyd\n",
      "  Moving to c:\\users\\arnauda\\anaconda3\\envs\\filrouge\\lib\\site-packages\\numpy\\random\\_mt19937.cp37-win_amd64.pyd\n",
      "   from C:\\Users\\ArnaudA\\AppData\\Local\\Temp\\pip-uninstall-0a5xyomj\\random\\_mt19937.cp37-win_amd64.pyd\n",
      "  Moving to c:\\users\\arnauda\\anaconda3\\envs\\filrouge\\lib\\site-packages\\numpy\\random\\_pcg64.cp37-win_amd64.pyd\n",
      "   from C:\\Users\\ArnaudA\\AppData\\Local\\Temp\\pip-uninstall-0a5xyomj\\random\\_pcg64.cp37-win_amd64.pyd\n",
      "  Moving to c:\\users\\arnauda\\anaconda3\\envs\\filrouge\\lib\\site-packages\\numpy\\random\\_philox.cp37-win_amd64.pyd\n",
      "   from C:\\Users\\ArnaudA\\AppData\\Local\\Temp\\pip-uninstall-0a5xyomj\\random\\_philox.cp37-win_amd64.pyd\n",
      "  Moving to c:\\users\\arnauda\\anaconda3\\envs\\filrouge\\lib\\site-packages\\numpy\\random\\_pickle.py\n",
      "   from C:\\Users\\ArnaudA\\AppData\\Local\\Temp\\pip-uninstall-0a5xyomj\\random\\_pickle.py\n",
      "  Moving to c:\\users\\arnauda\\anaconda3\\envs\\filrouge\\lib\\site-packages\\numpy\\random\\_sfc64.cp37-win_amd64.pyd\n",
      "   from C:\\Users\\ArnaudA\\AppData\\Local\\Temp\\pip-uninstall-0a5xyomj\\random\\_sfc64.cp37-win_amd64.pyd\n",
      "  Moving to c:\\users\\arnauda\\anaconda3\\envs\\filrouge\\lib\\site-packages\\numpy\\random\\bit_generator.cp37-win_amd64.pyd\n",
      "   from C:\\Users\\ArnaudA\\AppData\\Local\\Temp\\pip-uninstall-0a5xyomj\\random\\bit_generator.cp37-win_amd64.pyd\n",
      "  Moving to c:\\users\\arnauda\\anaconda3\\envs\\filrouge\\lib\\site-packages\\numpy\\random\\bit_generator.pxd\n",
      "   from C:\\Users\\ArnaudA\\AppData\\Local\\Temp\\pip-uninstall-0a5xyomj\\random\\bit_generator.pxd\n",
      "  Moving to c:\\users\\arnauda\\anaconda3\\envs\\filrouge\\lib\\site-packages\\numpy\\random\\c_distributions.pxd\n",
      "   from C:\\Users\\ArnaudA\\AppData\\Local\\Temp\\pip-uninstall-0a5xyomj\\random\\c_distributions.pxd\n",
      "  Moving to c:\\users\\arnauda\\anaconda3\\envs\\filrouge\\lib\\site-packages\\numpy\\random\\lib\\\n",
      "   from c:\\users\\arnauda\\anaconda3\\envs\\filrouge\\lib\\site-packages\\numpy\\random\\~ib\n",
      "  Moving to c:\\users\\arnauda\\anaconda3\\envs\\filrouge\\lib\\site-packages\\numpy\\random\\mtrand.cp37-win_amd64.pyd\n",
      "   from C:\\Users\\ArnaudA\\AppData\\Local\\Temp\\pip-uninstall-0a5xyomj\\random\\mtrand.cp37-win_amd64.pyd\n",
      "  Moving to c:\\users\\arnauda\\anaconda3\\envs\\filrouge\\lib\\site-packages\\numpy\\random\\setup.py\n",
      "   from C:\\Users\\ArnaudA\\AppData\\Local\\Temp\\pip-uninstall-0a5xyomj\\random\\setup.py\n",
      "  Moving to c:\\users\\arnauda\\anaconda3\\envs\\filrouge\\lib\\site-packages\\numpy\\random\\tests\\\n",
      "   from c:\\users\\arnauda\\anaconda3\\envs\\filrouge\\lib\\site-packages\\numpy\\random\\~ests\n",
      "  Moving to c:\\users\\arnauda\\anaconda3\\envs\\filrouge\\lib\\site-packages\\numpy\\setup.py\n",
      "   from C:\\Users\\ArnaudA\\AppData\\Local\\Temp\\pip-uninstall-0a5xyomj\\setup.py\n",
      "  Moving to c:\\users\\arnauda\\anaconda3\\envs\\filrouge\\lib\\site-packages\\numpy\\testing\\\n",
      "   from c:\\users\\arnauda\\anaconda3\\envs\\filrouge\\lib\\site-packages\\numpy\\~esting\n",
      "  Moving to c:\\users\\arnauda\\anaconda3\\envs\\filrouge\\lib\\site-packages\\numpy\\tests\\\n",
      "   from c:\\users\\arnauda\\anaconda3\\envs\\filrouge\\lib\\site-packages\\numpy\\~ests\n",
      "  Moving to c:\\users\\arnauda\\anaconda3\\envs\\filrouge\\lib\\site-packages\\numpy\\version.py\n",
      "   from C:\\Users\\ArnaudA\\AppData\\Local\\Temp\\pip-uninstall-0a5xyomj\\version.py\n",
      "  Moving to c:\\users\\arnauda\\anaconda3\\envs\\filrouge\\scripts\\f2py-script.py\n",
      "   from C:\\Users\\ArnaudA\\AppData\\Local\\Temp\\pip-uninstall-6_liezid\\f2py-script.py\n",
      "  Moving to c:\\users\\arnauda\\anaconda3\\envs\\filrouge\\scripts\\f2py.exe\n",
      "   from C:\\Users\\ArnaudA\\AppData\\Local\\Temp\\pip-uninstall-6_liezid\\f2py.exe\n"
     ]
    },
    {
     "name": "stderr",
     "output_type": "stream",
     "text": [
      "ERROR: Could not install packages due to an EnvironmentError: [WinError 5] Accès refusé: 'C:\\\\Users\\\\ArnaudA\\\\anaconda3\\\\envs\\\\filrouge\\\\Lib\\\\site-packages\\\\numpy\\\\.libs\\\\libopenblas.PYQHXLVVQ7VESDPUVUADXEVJOBGHJPAY.gfortran-win_amd64.dll'\n",
      "Consider using the `--user` option or check the permissions.\n",
      "\n"
     ]
    }
   ],
   "source": [
    "!pip install causalml"
   ]
  },
  {
   "cell_type": "code",
   "execution_count": 3,
   "metadata": {
    "id": "Zli_yoWuclrr"
   },
   "outputs": [],
   "source": [
    "import causalml"
   ]
  },
  {
   "cell_type": "markdown",
   "metadata": {
    "id": "stT8FysBrUEL"
   },
   "source": [
    "## Génération de données synthétiques"
   ]
  },
  {
   "cell_type": "code",
   "execution_count": 242,
   "metadata": {
    "id": "9gPyMC5MrUEM"
   },
   "outputs": [],
   "source": [
    "def treatment_assign(Nobs, d, X, p):\n",
    "    '''\n",
    "    Input: \n",
    "    \n",
    "    p : score de propension.\n",
    "    Nobs : Nombre de lignes da la matrice X i.e. nombre de personnes.\n",
    "    \n",
    "    Output:\n",
    "    \n",
    "    W : Vecteur de taille Nobs contenant des 0 ou 1 pour désigner l'affectation du traitement.\n",
    "    '''\n",
    "    sigmoid = lambda x: 1/(1+np.exp(-x))\n",
    "    \n",
    "    omega = np.random.uniform(0, 1, (Nobs, d))\n",
    "    psi = np.random.uniform(0, 1, (Nobs, 1))\n",
    "\n",
    "    if p == None:\n",
    "      p = np.zeros(Nobs)\n",
    "      for i in range(Nobs):\n",
    "        p[i] = sigmoid(omega[i] @ X[i])\n",
    "      W = bernoulli.rvs(p, size = Nobs) \n",
    "    else:\n",
    "      W = bernoulli.rvs(p, size = Nobs) \n",
    "    \n",
    "    return W\n",
    "\n",
    "\n",
    "def causal_generation(Nobs, dim, beta, bias, f, g, p):\n",
    "    '''\n",
    "    Input :\n",
    "    \n",
    "    Nobs : Nombre de lignes da la matrice X i.e. nombre de personnes.\n",
    "    dim : Nombre de colonnes de la matrice X i.e. nombres de caractéristiques (features).\n",
    "    beta : Vecteur de dimension (2, dim).\n",
    "    bias : Vecteur de dimension (1, 2).\n",
    "    W : Vecteur de dimension (1, Nobs) contenant des 0 ou 1 pour désigner \n",
    "    l'affectation du traitement.\n",
    "    f et g sont des fonctions.\n",
    "    \n",
    "    Output:\n",
    "    \n",
    "    (X, Y, W) : Triplet contenant la matrice X des features, Y le vecteur des \n",
    "                résultats potentiels et W le vecteur de l'affectation du traitement.\n",
    "    '''\n",
    "    moy = np.zeros(dim)\n",
    "    var = np.eye(dim)\n",
    "    X = np.random.multivariate_normal(moy, var, Nobs)\n",
    "    Y = np.zeros(Nobs)\n",
    "\n",
    "    W = treatment_assign(Nobs, dim, X, p)\n",
    "\n",
    "    for i in range(Nobs):\n",
    "        bruit = np.random.normal(0, 1)\n",
    "        if W[i] == 0:\n",
    "            Y[i] = f(beta[0] @ X[i] + bias[0]) + bruit\n",
    "        if W[i] == 1:\n",
    "            Y[i] = g(beta[1] @ X[i] + bias[1]) + bruit\n",
    "            \n",
    "    return (X, W, Y)"
   ]
  },
  {
   "cell_type": "markdown",
   "metadata": {},
   "source": [
    "## Métalearners internes"
   ]
  },
  {
   "cell_type": "markdown",
   "metadata": {
    "id": "O8cCtYY-rUEN"
   },
   "source": [
    "### S-learners"
   ]
  },
  {
   "cell_type": "code",
   "execution_count": 243,
   "metadata": {
    "id": "tAi-i1kOnOtR"
   },
   "outputs": [],
   "source": [
    "from sklearn.base import BaseEstimator, ClassifierMixin\n",
    "\n",
    "class SLearner(BaseEstimator, ClassifierMixin):\n",
    "    \"\"\" Homemade SLearner class \"\"\"\n",
    "    \n",
    "    def __init__(self, base_estimator=LinearRegression()):\n",
    "        # init\n",
    "        self.estimator = base_estimator\n",
    "        \n",
    "    def fit(self, X, W, Y):\n",
    "        # Initiation des variables\n",
    "        self.X = X\n",
    "        self.W = W\n",
    "        self.Y = Y\n",
    "        self.features = np.hstack((self.X, self.W[:,np.newaxis]))\n",
    "        self.clf = self.estimator.fit(self.features, self.Y)\n",
    "\n",
    "    def predict_CATE(self, x):\n",
    "        # Complete the method      \n",
    "        self.Y_0_hat = self.clf.predict(np.c_[x, np.zeros(len(x))])\n",
    "        self.Y_1_hat = self.clf.predict(np.c_[x, np.ones(len(x))])\n",
    "        return self.Y_1_hat - self.Y_0_hat\n",
    "\n",
    "    def predict_ATE(self):\n",
    "        return (self.Y_1_hat - self.Y_0_hat).mean()"
   ]
  },
  {
   "cell_type": "markdown",
   "metadata": {
    "id": "FEvqUznWxMrf"
   },
   "source": [
    "### T-learners"
   ]
  },
  {
   "cell_type": "code",
   "execution_count": 244,
   "metadata": {
    "id": "B9Zl-vv30rHU"
   },
   "outputs": [],
   "source": [
    "from sklearn.base import BaseEstimator, ClassifierMixin\n",
    "\n",
    "class TLearner(BaseEstimator, ClassifierMixin):\n",
    "    \"\"\" Homemade SLearner class \"\"\"\n",
    "    \n",
    "    def __init__(self, base_estimator0=LinearRegression(), base_estimator1=LinearRegression() ):\n",
    "        # init\n",
    "        self.estimator0 = base_estimator0\n",
    "        self.estimator1 = base_estimator1\n",
    "\n",
    "    def fit(self, X, W, Y):\n",
    "        # Initiation des variables\n",
    "        self.X = X\n",
    "        self.W = W\n",
    "        self.Y = Y\n",
    "        self.mu_0 = self.estimator0.fit(X[self.W==0,:], self.Y[self.W==0])\n",
    "        self.mu_1 = self.estimator1.fit(X[self.W==1,:], self.Y[self.W==1])\n",
    "\n",
    "    def predict_CATE(self, x):\n",
    "        # Complete the method         \n",
    "        self.Y_0_hat = self.mu_0.predict(x)\n",
    "        self.Y_1_hat = self.mu_1.predict(x)\n",
    "        return self.Y_1_hat - self.Y_0_hat\n",
    "\n",
    "    def predict_ATE(self):\n",
    "        return (self.Y_1_hat - self.Y_0_hat).mean()"
   ]
  },
  {
   "cell_type": "markdown",
   "metadata": {
    "id": "mpbCRF4wxSmw"
   },
   "source": [
    "### X-Learners ( a faire)"
   ]
  },
  {
   "cell_type": "markdown",
   "metadata": {
    "id": "ZIf7QInLeFIP"
   },
   "source": [
    "## Phase de test"
   ]
  },
  {
   "cell_type": "markdown",
   "metadata": {
    "id": "JlTx_NDBy42f"
   },
   "source": [
    "### Initialisation des paramètres"
   ]
  },
  {
   "cell_type": "code",
   "execution_count": 269,
   "metadata": {
    "id": "3GNGiMt0y9cA"
   },
   "outputs": [],
   "source": [
    "N = 1000\n",
    "d = 2                                       # d = 2, afin de pouvoir être calculé par intégration et par Monte Carlo\n",
    "p = 0.5\n",
    "beta = np.random.uniform(1, 30, (1, d))\n",
    "beta = np.vstack((beta,beta))               # beta0 = beta1, cas simple pour faciliter l'interprétation des résultats         \n",
    "bias = np.array([10,0])                     # Gamma0 != Gamma1, biais différent\n",
    "f = lambda x:x\n",
    "g = lambda x:np.cos(x)"
   ]
  },
  {
   "cell_type": "markdown",
   "metadata": {
    "id": "6OhpvinNxUdk"
   },
   "source": [
    "### Générations des données"
   ]
  },
  {
   "cell_type": "code",
   "execution_count": 270,
   "metadata": {
    "id": "BLuyzerxeJPV",
    "scrolled": true
   },
   "outputs": [],
   "source": [
    "# Génération des données\n",
    "X, W, Y = causal_generation(N, d, beta, bias, f, g, p)"
   ]
  },
  {
   "cell_type": "markdown",
   "metadata": {
    "id": "0HGXgVo5xa2M"
   },
   "source": [
    "### Prédictions des métalearners \"Team Filrouge\""
   ]
  },
  {
   "cell_type": "markdown",
   "metadata": {
    "id": "6BVz8q9v3pnC"
   },
   "source": [
    "#### Slearners"
   ]
  },
  {
   "cell_type": "code",
   "execution_count": 271,
   "metadata": {},
   "outputs": [],
   "source": [
    "from sklearn.ensemble import RandomForestRegressor"
   ]
  },
  {
   "cell_type": "code",
   "execution_count": 272,
   "metadata": {
    "colab": {
     "base_uri": "https://localhost:8080/"
    },
    "id": "gQHpwQc4mGf3",
    "outputId": "b4983705-e538-452e-d437-0a0c50071620",
    "scrolled": false
   },
   "outputs": [
    {
     "name": "stdout",
     "output_type": "stream",
     "text": [
      "- Les dimensions du CATE = (1000,).\n",
      "- L'estimation de la valeur de l'ATE = -9.792525268119505.\n"
     ]
    }
   ],
   "source": [
    "slearner=SLearner(base_estimator=LinearRegression())\n",
    "slearner.fit(X,W,Y)\n",
    "\n",
    "cate_hat_S = slearner.predict_CATE(X)\n",
    "print(\"- Les dimensions du CATE = {}.\".format(cate_hat_S.shape))\n",
    "\n",
    "ate_hat_S = slearner.predict_ATE()\n",
    "print(\"- L'estimation de la valeur de l'ATE = {}.\".format(ate_hat_S))"
   ]
  },
  {
   "cell_type": "markdown",
   "metadata": {
    "id": "RmJV1Jy-3ve6"
   },
   "source": [
    "#### Tlearners"
   ]
  },
  {
   "cell_type": "code",
   "execution_count": 273,
   "metadata": {
    "colab": {
     "base_uri": "https://localhost:8080/"
    },
    "id": "r1WmQRa33okq",
    "outputId": "e865c751-0b7a-4056-c20f-d0e030adb5bd"
   },
   "outputs": [
    {
     "name": "stdout",
     "output_type": "stream",
     "text": [
      "- Les dimensions du CATE = (1000,).\n",
      "- L'estimation de la valeur de l'ATE = -9.633841506033535.\n"
     ]
    }
   ],
   "source": [
    "tlearner=TLearner(base_estimator0=LinearRegression(),base_estimator1=LinearRegression())\n",
    "tlearner.fit(X,W,Y)\n",
    "\n",
    "cate_hat_T = tlearner.predict_CATE(X)\n",
    "print(\"- Les dimensions du CATE = {}.\".format(cate_hat_S.shape))\n",
    "\n",
    "ate_hat_T = tlearner.predict_ATE()\n",
    "print(\"- L'estimation de la valeur de l'ATE = {}.\".format(ate_hat_T))"
   ]
  },
  {
   "cell_type": "markdown",
   "metadata": {
    "id": "gq-vjom4xmRs"
   },
   "source": [
    "### Prédictions des métalearners \"Causal ML\""
   ]
  },
  {
   "cell_type": "markdown",
   "metadata": {
    "id": "5Tn-YCHA4L5r"
   },
   "source": [
    "#### Slearners"
   ]
  },
  {
   "cell_type": "code",
   "execution_count": 274,
   "metadata": {
    "colab": {
     "base_uri": "https://localhost:8080/"
    },
    "id": "7naePgnBlxjE",
    "outputId": "97392a23-6e7c-4c4a-df2e-d4aca18181a2"
   },
   "outputs": [
    {
     "name": "stdout",
     "output_type": "stream",
     "text": [
      "L'estimation de la valeur de l'ATE (Linear Regression): -9.79 (-11.41, -8.18)\n"
     ]
    }
   ],
   "source": [
    "from causalml.inference.meta import LRSRegressor\n",
    "from xgboost import XGBRegressor\n",
    "\n",
    "\n",
    "lr = LRSRegressor()\n",
    "te, lb, ub = lr.estimate_ate(X, W, Y)\n",
    "print('L\\'estimation de la valeur de l\\'ATE (Linear Regression): {:.2f} ({:.2f}, {:.2f})'.format(te[0], lb[0], ub[0]))"
   ]
  },
  {
   "cell_type": "markdown",
   "metadata": {
    "id": "VeQ5ZgiJ4OQb"
   },
   "source": [
    "#### Tlearners"
   ]
  },
  {
   "cell_type": "code",
   "execution_count": 275,
   "metadata": {
    "colab": {
     "base_uri": "https://localhost:8080/"
    },
    "id": "mzPAOp0h4Lac",
    "outputId": "458f9c1d-d1b2-41c1-c105-c187bf02d9e1"
   },
   "outputs": [
    {
     "name": "stdout",
     "output_type": "stream",
     "text": [
      "L'estimation de la valeur de l'ATE (XGBoost): -9.61 (-11.20, -8.03)\n"
     ]
    }
   ],
   "source": [
    "from causalml.inference.meta import XGBTRegressor\n",
    "\n",
    "xg = XGBTRegressor(random_state=42)\n",
    "te, lb, ub = xg.estimate_ate(X, W, Y)\n",
    "print('L\\'estimation de la valeur de l\\'ATE (XGBoost): {:.2f} ({:.2f}, {:.2f})'.format(te[0], lb[0], ub[0]))"
   ]
  },
  {
   "cell_type": "markdown",
   "metadata": {
    "id": "kvsZS91J73op"
   },
   "source": [
    "### Prédictions \"Paradis\""
   ]
  },
  {
   "cell_type": "markdown",
   "metadata": {},
   "source": [
    "#### Calcul de l'ATE"
   ]
  },
  {
   "cell_type": "code",
   "execution_count": 276,
   "metadata": {
    "id": "Xvmi5lnT72Ax"
   },
   "outputs": [],
   "source": [
    "def ATE_paradis(beta, bias, f=lambda i:i, g=lambda i:i):\n",
    "    p=beta.shape[1]\n",
    "    if p==1:\n",
    "        ate = integrate.quad(lambda x: (g(beta[1]*x + bias[1]) -f(beta[0]*x + bias[0]))*sp.stats.norm.pdf(x,0,1),-1000 , 1000)\n",
    "    if p==2:\n",
    "        ate=integrate.dblquad(lambda x, y: (g(beta[1,0]*x + beta[1,1]*y + bias[1]) -f(beta[0,0]*x + beta[0,1]*y + bias[0])\n",
    "                                           )*sp.stats.norm.pdf(x,0,1)*sp.stats.norm.pdf(y,0,1),-1000 , 1000, lambda y :-1000,lambda y : 1000)\n",
    "    if p>2:\n",
    "        raise Warning('dimension above 2')\n",
    "    return  ate"
   ]
  },
  {
   "cell_type": "code",
   "execution_count": 277,
   "metadata": {
    "id": "vVGjotUsw566"
   },
   "outputs": [],
   "source": [
    "def monte_carlo(Nobs, dim, beta, bias, f, g, W):\n",
    "    '''\n",
    "    Input :\n",
    "    \n",
    "    Nobs : Nombre de lignes da la matrice X i.e. nombre de personnes.\n",
    "    dim : Nombre de colonnes de la matrice X i.e. nombres de caractéristiques (features).\n",
    "    beta : Vecteur de dimension (2, dim), note dim doit être < 10\n",
    "    bias : Vecteur de dimension (1, 2).\n",
    "    W : Vecteur de dimension (1, Nobs) contenant des 0 ou 1 pour désigner l'affectation du traitement.\n",
    "    f et g sont des fonctions.\n",
    "    \n",
    "    Output:\n",
    "    \n",
    "    ATE : ATE calculé par la méthode de Monte Carlo\n",
    "    '''\n",
    "    moy = np.zeros(dim)\n",
    "    var = np.eye(dim)\n",
    "    X = np.random.multivariate_normal(moy, var, Nobs)\n",
    "    ATE = np.mean(g(X.dot(beta[1])+ bias[1]) - f(X.dot(beta[0])+ bias[0])) \n",
    "            \n",
    "    return ATE"
   ]
  },
  {
   "cell_type": "code",
   "execution_count": 278,
   "metadata": {
    "colab": {
     "base_uri": "https://localhost:8080/"
    },
    "id": "WZHKy9grdYdl",
    "outputId": "7115bae0-072e-4393-b3aa-d6a2f6b344ee"
   },
   "outputs": [
    {
     "name": "stdout",
     "output_type": "stream",
     "text": [
      "ATE calculé par intégration: (-9.999999999668692, 1.3301325196720811e-07)\n",
      "ATE calculé par Monte Carlo: -10.008017504906666\n"
     ]
    }
   ],
   "source": [
    "print('ATE calculé par intégration: {}'.format(ATE_paradis(beta, bias, f=f, g=g)))\n",
    "print('ATE calculé par Monte Carlo: {}'.format(monte_carlo(10**6, d, beta, bias, f, g, W)))"
   ]
  },
  {
   "cell_type": "code",
   "execution_count": 279,
   "metadata": {
    "colab": {
     "base_uri": "https://localhost:8080/",
     "height": 300
    },
    "id": "TDSQDcFgwgeS",
    "outputId": "f41a3245-5639-426a-fbea-9930a90836c8",
    "scrolled": false
   },
   "outputs": [
    {
     "data": {
      "image/png": "[encoded data removed]",
      "text/plain": [
       "<Figure size 720x576 with 1 Axes>"
      ]
     },
     "metadata": {},
     "output_type": "display_data"
    }
   ],
   "source": [
    "res = []\n",
    "#1- varier Nobs pour ate_hat_S et le comparer avec mc_est (meth. monte carlo) avec 10**8\n",
    "#2 - ajouter une courbe avec l'estimation avec causalml avec la borne inf et max et ate_hat_S\n",
    "for i in range(2,8):\n",
    "    mc_est = monte_carlo(10**i, d, beta, bias, f, g, W)\n",
    "    res.append([abs(mc_est - ate_hat_S)])\n",
    "plt.figure()\n",
    "plt.title('Evolution de l\\'estimation de l\\'ATE par Monte Carlo en fonction du nombre d\\'observations')\n",
    "plt.plot(res);"
   ]
  },
  {
   "cell_type": "markdown",
   "metadata": {},
   "source": [
    "#### Calcul des Intervalles de Confiance de l'ATE"
   ]
  },
  {
   "cell_type": "code",
   "execution_count": 280,
   "metadata": {},
   "outputs": [],
   "source": [
    "def causal_generation_bootstrap(beta, bias, B= 999, Nobs =1000, dim=2, f=lambda i:i, g=lambda i:i, p=None):\n",
    "    '''\n",
    "    Create list of bootstrap elements\n",
    "    Input :\n",
    "    \n",
    "    B : Nombre d'échantillons Boostrap, 999 est une valeur par défaut pertinente\n",
    "    Nobs : Nombre de lignes da la matrice X i.e. nombre de personnes, 1000 par défaut\n",
    "    dim : Nombre de colonnes de la matrice X i.e. nombres de caractéristiques \n",
    "    (features), 2 par défaut\n",
    "    beta : Vecteur de dimension (2, dim).\n",
    "    bias : Vecteur de dimension (1, 2).\n",
    "    W : Vecteur de dimension (1, Nobs) contenant des 0 ou 1 pour désigner \n",
    "    l'affectation du traitement.\n",
    "    f et g sont des fonctions, identité par défaut\n",
    "    \n",
    "    Output:\n",
    "    \n",
    "    [(X, W, Y)] : liste de B Triplets contenant la matrice X des features, W \n",
    "    le vecteur de l'affectation du traitement et Y le vecteur des résultats \n",
    "    potentiels. \n",
    "                \n",
    "    '''\n",
    "    Bootstraps=[]\n",
    "\n",
    "    for b in range(B):\n",
    "        Bootstraps.append(causal_generation(Nobs, dim, beta, bias, f, g, p))\n",
    "      \n",
    "    return Bootstraps"
   ]
  },
  {
   "cell_type": "code",
   "execution_count": 281,
   "metadata": {},
   "outputs": [],
   "source": [
    "def IC(Bootstraps, base_metalerner=SLearner(),alpha=0.05):\n",
    "    \n",
    "    '''\n",
    "    Calculate l'intervalle de confiance d'un métalearner\n",
    "    \n",
    "    Input :\n",
    "    \n",
    "    Bootstraps : Liste d'échantillons Boostraps comprenant B triplets (X,Y,W)\n",
    "    base_metalerner : metalearner à évaluer\n",
    "    \n",
    "    Output:\n",
    "    \n",
    "    IC : (IC inf , IC sup) du métalearner \n",
    "    '''\n",
    "    #import\n",
    "    from scipy.stats import norm\n",
    "    \n",
    "    #Calcul de l'ATE les B estimateurs du Bootstrap\n",
    "    ATEs=np.zeros((len(Bootstraps)))\n",
    "    base_metalearner=SLearner()\n",
    "    for i in range(len(Bootstraps)):\n",
    "        base_metalearner.fit(Bootstraps[i][0],Bootstraps[i][1],Bootstraps[i][2])\n",
    "        base_metalearner.predict_CATE(Bootstraps[i][0])\n",
    "        ATEs[i]=base_metalearner.predict_ATE()\n",
    "    \n",
    "    #Calcul des intervalles de confiance\n",
    "    Mu_ATEs= ATEs.mean()\n",
    "    std_ATEs= ATEs.std()\n",
    "    ATEs_tilt= (ATEs-Mu_ATEs)/std_ATEs\n",
    "    ATEs_tilt.sort()\n",
    "    ATEs.sort()\n",
    "    IC_inf, IC_sup = ATEs[int(B*(alpha/(2)))], ATEs[int(B*(1-alpha/(2)))]\n",
    "    \n",
    "    return (Mu_ATEs, IC_inf, IC_sup)"
   ]
  },
  {
   "cell_type": "code",
   "execution_count": 282,
   "metadata": {
    "scrolled": true
   },
   "outputs": [
    {
     "data": {
      "text/plain": [
       "(-9.988285225598343, -11.592585533301145, -8.425098651975118)"
      ]
     },
     "execution_count": 282,
     "metadata": {},
     "output_type": "execute_result"
    }
   ],
   "source": [
    "B=999\n",
    "Bootstraps=causal_generation_bootstrap(beta, bias, B= B, Nobs =N, dim=d, f=f, g=g, p=p)\n",
    "IC(Bootstraps, base_metalerner=SLearner(),alpha=0.05)"
   ]
  },
  {
   "cell_type": "markdown",
   "metadata": {},
   "source": [
    "### Comparaison graphiques des résultats"
   ]
  },
  {
   "cell_type": "code",
   "execution_count": 283,
   "metadata": {},
   "outputs": [],
   "source": [
    "def graphic_comparison(nb_obs, d, p, beta, bias, f, g, B, base_learner_homemade, base_learner_causalml,title=None):\n",
    "\n",
    "  '''\n",
    "  Create a graphic to compare our bases learners vs base learners from causalml \n",
    "\n",
    "  Input :\n",
    "    \n",
    "  B : Nombre d'échantillons Boostrap, 999 est une valeur par défaut pertinente\n",
    "  nb_obs : Nombre de lignes da la matrice X, les listes sont acceptables i.e. nombre de personnes, 1000 par défaut\n",
    "  dim : Nombre de colonnes de la matrice X i.e. nombres de caractéristiques (features), 2 par défaut\n",
    "  beta : Vecteur de dimension (2, dim).\n",
    "  bias : Vecteur de dimension (1, 2).\n",
    "  W : Vecteur de dimension (1, Nobs) contenant des 0 ou 1 pour désigner l'affectation du traitement.\n",
    "  f et g sont des fonctions, identité par défaut\n",
    "    \n",
    "  Output:\n",
    "  Graphique comparant nos base_learner avec ceux du causal_ml\n",
    "  '''\n",
    "\n",
    "  ate_causal_ml = []\n",
    "  lb_causal_ml = []\n",
    "  ub_causal_ml = []\n",
    "\n",
    "  ates = []\n",
    "  ates_inf = []\n",
    "  ates_sup = []\n",
    "\n",
    "  for n in nb_obs:\n",
    "\n",
    "    # Génération des données\n",
    "    Bootstraps=causal_generation_bootstrap(beta, bias, B= B, Nobs =n, dim=d, f=f, g=g, p=p) \n",
    "    mu, inf, sup = IC(Bootstraps, base_metalerner=base_learner_homemade, alpha=0.05)\n",
    "    ates.append(mu)\n",
    "    ates_inf.append(inf)\n",
    "    ates_sup.append(sup)\n",
    "\n",
    "    # S learner causal ML\n",
    "    X, W, Y = causal_generation(n, d, beta, bias, f, g, p)\n",
    "    lr = base_learner_causalml\n",
    "    te, lb, ub = lr.estimate_ate(X, W, Y)\n",
    "    ate_causal_ml.append(te[0])\n",
    "    lb_causal_ml.append(lb[0])\n",
    "    ub_causal_ml.append(ub[0])\n",
    "\n",
    "\n",
    "  plt.plot(nb_obs,ates, color='blue',label = 'ATE_homemade')\n",
    "  plt.fill_between(nb_obs, ates_inf,ates_sup,alpha = 0.5, color='blue', label = 'IC_ATE_homemade')\n",
    "  plt.plot(nb_obs, ate_causal_ml,color='orange',label='ATE_causal_ml')\n",
    "  plt.fill_between(nb_obs, lb_causal_ml, ub_causal_ml,alpha = 0.5, color='orange',label='IC_ATE_causalml')\n",
    "  plt.legend()\n",
    "  plt.show()\n",
    "  "
   ]
  },
  {
   "cell_type": "code",
   "execution_count": 284,
   "metadata": {},
   "outputs": [
    {
     "data": {
      "image/png": "[encoded data removed]",
      "text/plain": [
       "<Figure size 720x576 with 1 Axes>"
      ]
     },
     "metadata": {},
     "output_type": "display_data"
    }
   ],
   "source": [
    "nb_obs = [i for i in range(100,1000,100)]\n",
    "plt.title('Comparaison des Slearners');\n",
    "graphic_comparison(nb_obs, d, p, beta, bias, f, g, B, SLearner(), LRSRegressor())"
   ]
  },
  {
   "cell_type": "code",
   "execution_count": 285,
   "metadata": {},
   "outputs": [
    {
     "data": {
      "image/png": "[encoded data removed]",
      "text/plain": [
       "<Figure size 720x576 with 1 Axes>"
      ]
     },
     "metadata": {},
     "output_type": "display_data"
    }
   ],
   "source": [
    "nb_obs = [i for i in range(100,1000,100)]\n",
    "plt.title('Comparaison des Tlearners');\n",
    "graphic_comparison(nb_obs, d, p, beta, bias, f, g, B, TLearner(), XGBTRegressor())"
   ]
  },
  {
   "cell_type": "markdown",
   "metadata": {},
   "source": [
    "# Test sur clustering"
   ]
  },
  {
   "cell_type": "code",
   "execution_count": 80,
   "metadata": {},
   "outputs": [],
   "source": [
    "from sklearn.cluster import KMeans\n",
    "from sklearn.mixture import GaussianMixture\n",
    "from sklearn.ensemble import RandomForestRegressor\n",
    "import tp_knn_source"
   ]
  },
  {
   "cell_type": "code",
   "execution_count": 137,
   "metadata": {},
   "outputs": [],
   "source": [
    "# paramètres pour faciliter le calcul de l'ATE par intégration\n",
    "N = 500\n",
    "d = 2                                     # d = 2, afin de pouvoir être calculé par intégration et avec Monte Carlo\n",
    "p = 0.5\n",
    "beta0 = np.random.uniform(1, 30, (1, d))\n",
    "beta1 = np.random.uniform(1, 100, (1, d))\n",
    "beta = np.vstack((beta0,beta0))               # beta0 = beta1           \n",
    "bias = np.array([0,10])                       # Gamma0 = Gamma1 \n",
    "f = lambda x:x\n",
    "g = lambda x:x"
   ]
  },
  {
   "cell_type": "code",
   "execution_count": 262,
   "metadata": {},
   "outputs": [],
   "source": [
    "def causal_generation_bigauss(Nobs, dim, beta, bias, f, g, p):\n",
    "    '''\n",
    "    Input :\n",
    "    \n",
    "    Nobs : Nombre de lignes da la matrice X i.e. nombre de personnes.\n",
    "    dim : Nombre de colonnes de la matrice X i.e. nombres de caractéristiques (features).\n",
    "    beta : Vecteur de dimension (2, dim).\n",
    "    bias : Vecteur de dimension (1, 2).\n",
    "    W : Vecteur de dimension (1, Nobs) contenant des 0 ou 1 pour désigner \n",
    "    l'affectation du traitement.\n",
    "    f et g sont des fonctions.\n",
    "    \n",
    "    Output:\n",
    "    \n",
    "    (X, Y, W) : Triplet contenant la matrice X des features, Y le vecteur des \n",
    "                résultats potentiels et W le vecteur de l'affectation du traitement.\n",
    "    '''\n",
    "    moy = np.zeros(dim)\n",
    "    var = np.eye(dim)\n",
    "    n1 = int(Nobs/2)\n",
    "    n2 = Nobs-n1\n",
    "    X, _= tp_knn_source.rand_bi_gauss(n1=n1, n2=n2, mu1=[1, 1], mu2=[0.5, 0.5], sigmas1=[0.5, 0.1],\n",
    "                  sigmas2=[0.1, 0.1])\n",
    "    \n",
    "    Y = np.zeros(Nobs)\n",
    "\n",
    "    W = treatment_assign(Nobs, dim, X, p)\n",
    "\n",
    "    for i in range(Nobs):\n",
    "        bruit = np.random.normal(0, 1)\n",
    "        if W[i] == 0:\n",
    "            Y[i] = f(beta[0] @ X[i] + bias[0]) + bruit\n",
    "        if W[i] == 1:\n",
    "            Y[i] = g(beta[1] @ X[i] + bias[1]) + bruit\n",
    "            \n",
    "    return (X, W, Y)"
   ]
  },
  {
   "cell_type": "code",
   "execution_count": 263,
   "metadata": {},
   "outputs": [],
   "source": [
    "# Génération des données\n",
    "X, W, Y = causal_generation_bigauss(N, d, beta, bias, f, g, p)"
   ]
  },
  {
   "cell_type": "markdown",
   "metadata": {},
   "source": [
    "## Clustering sur les features"
   ]
  },
  {
   "cell_type": "code",
   "execution_count": 264,
   "metadata": {},
   "outputs": [
    {
     "data": {
      "image/png": "[encoded data removed]",
      "text/plain": [
       "<Figure size 720x576 with 1 Axes>"
      ]
     },
     "metadata": {},
     "output_type": "display_data"
    }
   ],
   "source": [
    "gmm = GaussianMixture(n_components=2)\n",
    "gmm.fit(X)\n",
    "groups=gmm.predict(X)\n",
    "#Plot\n",
    "data=[X, groups]\n",
    "tp_knn_source.plot_2d(data[0],data[1])"
   ]
  },
  {
   "cell_type": "code",
   "execution_count": 265,
   "metadata": {},
   "outputs": [
    {
     "name": "stdout",
     "output_type": "stream",
     "text": [
      "- Les dimensions du CATE pour le groupe complet= (1000,).\n",
      "- L'estimation de la valeur de l'ATE pour le groupe complet= -42.420067570565635.\n",
      "- Les dimensions du CATE pour le groupe 0 = (502,).\n",
      "- L'estimation de la valeur de l'ATE pour le groupe 0= -31.45120858661964.\n",
      "- Les dimensions du CATE pour le groupe 1 = (498,).\n",
      "- L'estimation de la valeur de l'ATE pour le groupe 1= -53.47702983952324.\n"
     ]
    }
   ],
   "source": [
    "slearner=SLearner(base_estimator=RandomForestRegressor())\n",
    "slearner.fit(X,W,Y)\n",
    "\n",
    "labels=np.unique(groups)\n",
    "idx_group0=groups==labels[0]\n",
    "idx_group1=groups==labels[1]\n",
    "\n",
    "cate_hat_S = slearner.predict_CATE(X)\n",
    "print(\"- Les dimensions du CATE pour le groupe complet= {}.\".format(cate_hat_S.shape))\n",
    "\n",
    "ate_hat_S = slearner.predict_ATE()\n",
    "print(\"- L'estimation de la valeur de l'ATE pour le groupe complet= {}.\".format(ate_hat_S))\n",
    "\n",
    "cate_hat_S0 = slearner.predict_CATE(X[idx_group0])\n",
    "print(\"- Les dimensions du CATE pour le groupe 0 = {}.\".format(cate_hat_S0.shape))\n",
    "\n",
    "ate_hat_S0 = slearner.predict_ATE()\n",
    "print(\"- L'estimation de la valeur de l'ATE pour le groupe 0= {}.\".format(ate_hat_S0))\n",
    "\n",
    "cate_hat_S1 = slearner.predict_CATE(X[idx_group1])\n",
    "print(\"- Les dimensions du CATE pour le groupe 1 = {}.\".format(cate_hat_S1.shape))\n",
    "\n",
    "ate_hat_S1 = slearner.predict_ATE()\n",
    "print(\"- L'estimation de la valeur de l'ATE pour le groupe 1= {}.\".format(ate_hat_S1))"
   ]
  },
  {
   "cell_type": "markdown",
   "metadata": {},
   "source": [
    "## Clustering sur le CATE"
   ]
  },
  {
   "cell_type": "code",
   "execution_count": 266,
   "metadata": {},
   "outputs": [],
   "source": [
    "CATE=cate_hat_S.reshape(-1, 1)\n",
    "gmm = GaussianMixture(n_components=2)\n",
    "gmm.fit(CATE)\n",
    "groups=gmm.predict(CATE)"
   ]
  },
  {
   "cell_type": "code",
   "execution_count": 267,
   "metadata": {},
   "outputs": [],
   "source": [
    "labels=np.unique(groups)\n",
    "idx_group0=groups==labels[0]\n",
    "idx_group1=groups==labels[1]"
   ]
  },
  {
   "cell_type": "code",
   "execution_count": 268,
   "metadata": {},
   "outputs": [
    {
     "name": "stdout",
     "output_type": "stream",
     "text": [
      "- Les dimensions du CATE pour le groupe complet = (1000,).\n",
      "- L'estimation de la valeur de l'ATE pour le groupe complet= -42.420067570565635.\n",
      "- Les dimensions du CATE pour le groupe 0 = (521,).\n",
      "- L'estimation de la valeur de l'ATE pour le groupe 0= -31.62497481111138.\n",
      "- Les dimensions du CATE pour le groupe 1 = (479,).\n",
      "- L'estimation de la valeur de l'ATE pour le groupe 1= -54.16170291018081.\n"
     ]
    }
   ],
   "source": [
    "print(\"- Les dimensions du CATE pour le groupe complet = {}.\".format(cate_hat_S.shape))\n",
    "print(\"- L'estimation de la valeur de l'ATE pour le groupe complet= {}.\".format(cate_hat_S.mean()))\n",
    "print(\"- Les dimensions du CATE pour le groupe 0 = {}.\".format(cate_hat_S[idx_group0].shape))\n",
    "print(\"- L'estimation de la valeur de l'ATE pour le groupe 0= {}.\".format(cate_hat_S[idx_group0].mean()))\n",
    "print(\"- Les dimensions du CATE pour le groupe 1 = {}.\".format(cate_hat_S[idx_group1].shape))\n",
    "print(\"- L'estimation de la valeur de l'ATE pour le groupe 1= {}.\".format(cate_hat_S[idx_group1].mean()))"
   ]
  },
  {
   "cell_type": "code",
   "execution_count": null,
   "metadata": {},
   "outputs": [],
   "source": []
  },
  {
   "cell_type": "code",
   "execution_count": null,
   "metadata": {},
   "outputs": [],
   "source": []
  }
 ],
 "metadata": {
  "colab": {
   "collapsed_sections": [],
   "name": "simulation_model.ipynb",
   "provenance": []
  },
  "kernelspec": {
   "display_name": "Python 3",
   "language": "python",
   "name": "python3"
  },
  "language_info": {
   "codemirror_mode": {
    "name": "ipython",
    "version": 3
   },
   "file_extension": ".py",
   "mimetype": "text/x-python",
   "name": "python",
   "nbconvert_exporter": "python",
   "pygments_lexer": "ipython3",
   "version": "3.7.9"
  }
 },
 "nbformat": 4,
 "nbformat_minor": 1
}
