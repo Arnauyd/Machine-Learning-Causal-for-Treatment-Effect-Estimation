{
 "cells": [
  {
   "cell_type": "markdown",
   "metadata": {
    "id": "HgOWtsJ8rUEH"
   },
   "source": [
    "# Estimation de l'ATE/CATE sur des données synthétiques"
   ]
  },
  {
   "cell_type": "code",
   "execution_count": 2,
   "metadata": {
    "id": "XWZ-_PbjrUEK"
   },
   "outputs": [],
   "source": [
    "import numpy as np\n",
    "from scipy.stats import bernoulli\n",
    "import scipy as sp\n",
    "#from scipy import st\n",
    "from scipy import integrate\n",
    "import matplotlib.pyplot as plt\n",
    "import seaborn as sns\n",
    "sns.set_style(\"white\")\n",
    "sns.set_context(\"paper\", font_scale=1.5, rc={\"lines.linewidth\": 1.5})\n",
    "plt.rcParams['figure.figsize'] = 10, 8\n",
    "\n",
    "from sklearn.linear_model import LinearRegression\n",
    "from sklearn.model_selection import train_test_split\n",
    "\n",
    "import warnings\n",
    "warnings.filterwarnings('ignore')"
   ]
  },
  {
   "cell_type": "code",
   "execution_count": null,
   "metadata": {
    "id": "4Xj_Wz5NFKmO"
   },
   "outputs": [],
   "source": [
    "!pip install causalml"
   ]
  },
  {
   "cell_type": "code",
   "execution_count": 3,
   "metadata": {
    "id": "Zli_yoWuclrr"
   },
   "outputs": [],
   "source": [
    "import causalml"
   ]
  },
  {
   "cell_type": "markdown",
   "metadata": {
    "id": "stT8FysBrUEL"
   },
   "source": [
    "## Génération de données synthétiques"
   ]
  },
  {
   "cell_type": "code",
   "execution_count": 4,
   "metadata": {
    "id": "9gPyMC5MrUEM"
   },
   "outputs": [],
   "source": [
    "def treatment_assign(Nobs, d, X, p):\n",
    "    '''\n",
    "    Input: \n",
    "    \n",
    "    p : score de propension.\n",
    "    Nobs : Nombre de lignes da la matrice X i.e. nombre de personnes.\n",
    "    \n",
    "    Output:\n",
    "    \n",
    "    W : Vecteur de taille Nobs contenant des 0 ou 1 pour désigner l'affectation du traitement.\n",
    "    '''\n",
    "    sigmoid = lambda x: 1/(1+np.exp(-x))\n",
    "    \n",
    "    omega = np.random.uniform(0, 1, (Nobs, d))\n",
    "    psi = np.random.uniform(0, 1, (Nobs, 1))\n",
    "\n",
    "    if p == None:\n",
    "      p = np.zeros(Nobs)\n",
    "      for i in range(Nobs):\n",
    "        p[i] = sigmoid(omega[i] @ X[i])\n",
    "      W = bernoulli.rvs(p, size = Nobs) \n",
    "    else:\n",
    "      W = bernoulli.rvs(p, size = Nobs) \n",
    "    \n",
    "    return W\n",
    "\n",
    "\n",
    "def causal_generation(Nobs, dim, beta, bias, f, g, p):\n",
    "    '''\n",
    "    Input :\n",
    "    \n",
    "    Nobs : Nombre de lignes da la matrice X i.e. nombre de personnes.\n",
    "    dim : Nombre de colonnes de la matrice X i.e. nombres de caractéristiques (features).\n",
    "    beta : Vecteur de dimension (2, dim).\n",
    "    bias : Vecteur de dimension (1, 2).\n",
    "    W : Vecteur de dimension (1, Nobs) contenant des 0 ou 1 pour désigner \n",
    "    l'affectation du traitement.\n",
    "    f et g sont des fonctions.\n",
    "    \n",
    "    Output:\n",
    "    \n",
    "    (X, Y, W) : Triplet contenant la matrice X des features, Y le vecteur des \n",
    "                résultats potentiels et W le vecteur de l'affectation du traitement.\n",
    "    '''\n",
    "    moy = np.zeros(dim)\n",
    "    var = np.eye(dim)\n",
    "    X = np.random.multivariate_normal(moy, var, Nobs)\n",
    "    Y = np.zeros(Nobs)\n",
    "\n",
    "    W = treatment_assign(Nobs, dim, X, p)\n",
    "\n",
    "    for i in range(Nobs):\n",
    "        bruit = np.random.normal(0, 1)\n",
    "        if W[i] == 0:\n",
    "            Y[i] = f(beta[0] @ X[i] + bias[0]) + bruit\n",
    "        if W[i] == 1:\n",
    "            Y[i] = g(beta[1] @ X[i] + bias[1]) + bruit\n",
    "            \n",
    "    return (X, W, Y)"
   ]
  },
  {
   "cell_type": "markdown",
   "metadata": {},
   "source": [
    "## Métalearners internes"
   ]
  },
  {
   "cell_type": "markdown",
   "metadata": {
    "id": "O8cCtYY-rUEN"
   },
   "source": [
    "### S-learners"
   ]
  },
  {
   "cell_type": "code",
   "execution_count": 5,
   "metadata": {
    "id": "tAi-i1kOnOtR"
   },
   "outputs": [],
   "source": [
    "from sklearn.base import BaseEstimator, ClassifierMixin\n",
    "\n",
    "class SLearner(BaseEstimator, ClassifierMixin):\n",
    "    \"\"\" Homemade SLearner class \"\"\"\n",
    "    \n",
    "    def __init__(self, base_estimator=LinearRegression()):\n",
    "        # init\n",
    "        self.estimator = base_estimator\n",
    "        \n",
    "    def fit(self, X, W, Y):\n",
    "        # Initiation des variables\n",
    "        self.X = X\n",
    "        self.W = W\n",
    "        self.Y = Y\n",
    "        self.features = np.hstack((self.X, self.W[:,np.newaxis]))\n",
    "        self.clf = self.estimator.fit(self.features, self.Y)\n",
    "\n",
    "    def predict_CATE(self, x):\n",
    "        # Complete the method      \n",
    "        self.Y_0_hat = self.clf.predict(np.c_[x, np.zeros(len(x))])\n",
    "        self.Y_1_hat = self.clf.predict(np.c_[x, np.ones(len(x))])\n",
    "        return self.Y_1_hat - self.Y_0_hat\n",
    "\n",
    "    def predict_ATE(self):\n",
    "        return (self.Y_1_hat - self.Y_0_hat).mean()"
   ]
  },
  {
   "cell_type": "code",
   "execution_count": null,
   "metadata": {},
   "outputs": [],
   "source": []
  },
  {
   "cell_type": "markdown",
   "metadata": {
    "id": "FEvqUznWxMrf"
   },
   "source": [
    "### T-learners"
   ]
  },
  {
   "cell_type": "code",
   "execution_count": 6,
   "metadata": {
    "id": "B9Zl-vv30rHU"
   },
   "outputs": [],
   "source": [
    "from sklearn.base import BaseEstimator, ClassifierMixin\n",
    "\n",
    "class TLearner(BaseEstimator, ClassifierMixin):\n",
    "    \"\"\" Homemade TLearner class \"\"\"\n",
    "    \n",
    "    def __init__(self, base_estimator0=LinearRegression(), base_estimator1=LinearRegression() ):\n",
    "        # init\n",
    "        self.estimator0 = base_estimator0\n",
    "        self.estimator1 = base_estimator1\n",
    "\n",
    "    def fit(self, X, W, Y):\n",
    "        # Initiation des variables\n",
    "        self.X = X\n",
    "        self.W = W\n",
    "        self.Y = Y\n",
    "        self.mu_0 = self.estimator0.fit(X[self.W==0,:], self.Y[self.W==0])\n",
    "        self.mu_1 = self.estimator1.fit(X[self.W==1,:], self.Y[self.W==1])\n",
    "\n",
    "    def predict_CATE(self, x):\n",
    "        # Complete the method         \n",
    "        self.Y_0_hat = self.mu_0.predict(x)\n",
    "        self.Y_1_hat = self.mu_1.predict(x)\n",
    "        return self.Y_1_hat - self.Y_0_hat\n",
    "\n",
    "    def predict_ATE(self):\n",
    "        return (self.Y_1_hat - self.Y_0_hat).mean()"
   ]
  },
  {
   "cell_type": "markdown",
   "metadata": {
    "id": "mpbCRF4wxSmw"
   },
   "source": [
    "### X-Learners ( a vérifier)"
   ]
  },
  {
   "cell_type": "code",
   "execution_count": 7,
   "metadata": {},
   "outputs": [],
   "source": [
    "from sklearn.base import BaseEstimator, ClassifierMixin\n",
    "\n",
    "class XLearner(BaseEstimator, ClassifierMixin):\n",
    "    \"\"\" Homemade XLearner class \"\"\"\n",
    "    \n",
    "    def __init__(self, outcome_learner0 = LinearRegression(), outcome_learner1 = LinearRegression(), \n",
    "                 effect_learner0 = LinearRegression(), effect_learner1 = LinearRegression()):\n",
    "        # init\n",
    "        self.outcome_learner0 = outcome_learner0\n",
    "        self.outcome_learner1 = outcome_learner1\n",
    "        self.effect_learner0 = effect_learner0\n",
    "        self.effect_learner1 = effect_learner1\n",
    "\n",
    "    def fit(self, X, W, Y):\n",
    "        # Initiation des variables\n",
    "        self.X = X\n",
    "        self.W = W\n",
    "        self.Y = Y \n",
    "        \n",
    "        #Stage 1 : Estimate the average outcomes μ0(x) and  μ1(x)\n",
    "        self.mu_0 = self.outcome_learner0.fit(X[self.W==0,:], self.Y[self.W==0])\n",
    "        self.mu_1 = self.outcome_learner1.fit(X[self.W==1,:], self.Y[self.W==1])\n",
    "        \n",
    "        #Stage 2 : Impute the user level treatment effects\n",
    "        self.D0 = self.mu_1.predict(X[self.W==0,:]) - self.Y[self.W==0] \n",
    "        self.D1 = self.Y[self.W==1] - self.mu_0.predict(X[self.W==1,:])    \n",
    "        \n",
    "        #estimate τ1(x) = E[D1|X=x], and τ0(x) = E[D0|X=x] using machine learning models:\n",
    "        self.tau_0 = self.effect_learner0 .fit(X[self.W==0,:], self.D0)\n",
    "        self.tau_1 = self.effect_learner0 .fit(X[self.W==1,:], self.D1)\n",
    "        \n",
    "\n",
    "    def predict_CATE(self, x, p):\n",
    "        # Complete the method         \n",
    "        self.CATE_hat = p*self.tau_0.predict(x) + (1-p)*self.tau_1.predict(x)\n",
    "        return self.CATE_hat\n",
    "\n",
    "    def predict_ATE(self):\n",
    "        return (self.CATE_hat).mean()"
   ]
  },
  {
   "cell_type": "markdown",
   "metadata": {},
   "source": [
    "### DR-Learners ( a vérifier)"
   ]
  },
  {
   "cell_type": "code",
   "execution_count": 8,
   "metadata": {},
   "outputs": [],
   "source": [
    "from sklearn.base import BaseEstimator, ClassifierMixin\n",
    "from sklearn.linear_model import LogisticRegression\n",
    "from sklearn.calibration import CalibratedClassifierCV\n",
    "\n",
    "class DRLearner(BaseEstimator, ClassifierMixin):\n",
    "    \"\"\" Homemade DRLearner class \"\"\"\n",
    "    \n",
    "    def __init__(self, model_regression = LinearRegression(), model_propensity = LogisticRegression(), \n",
    "                 model_final = LinearRegression()):\n",
    "        # init\n",
    "        self.model_regression = model_regression\n",
    "        self.model_propensity = model_propensity\n",
    "        self.model_final = model_final\n",
    "        \n",
    "\n",
    "    def fit(self, X, W, Y):\n",
    "        # Initiation des variables\n",
    "        self.X = X\n",
    "        self.W = W\n",
    "        self.Y = Y \n",
    "        \n",
    "        #Stage 1 : Regression of the outcomes μ(X,T) = E[Y|X,W,T]\n",
    "        self.features = np.hstack((self.X, self.W[:,np.newaxis]))\n",
    "        self.mu = self.model_regression.fit(self.features, self.Y)\n",
    "        \n",
    "        #Stage 1 : Model to estimate the propensity_score\n",
    "        self.model_propensity = CalibratedClassifierCV(self.model_propensity)\n",
    "        self.model_propensity.fit(self.X, self.W)\n",
    "        self.propensity = self.model_propensity.predict_proba(X)\n",
    "\n",
    "        #Stage 1 : predict Y_pred\n",
    "        self.Y_pred_0 = self.mu.predict(np.hstack((self.X, np.zeros((self.X.shape[0],1)))))\n",
    "        self.Y_pred_0 += (Y - self.Y_pred_0) * (1 - self.W) / self.propensity[:,0]\n",
    "        self.Y_pred_1 = self.mu.predict(np.hstack((self.X, np.ones((self.X.shape[0],1)))))\n",
    "        self.Y_pred_1 += (Y - self.Y_pred_1) * (self.W) / self.propensity[:,1]\n",
    "        \n",
    "        #Stage 2 : fit model final\n",
    "        self.model_final.fit(self.X, self.Y_pred_1 - self.Y_pred_0)\n",
    "        \n",
    "\n",
    "    def predict_CATE(self, x):\n",
    "        # Complete the method         \n",
    "        self.CATE_hat = self.model_final.predict(x)\n",
    "        return self.CATE_hat\n",
    "\n",
    "    def predict_ATE(self):\n",
    "        return (self.CATE_hat).mean()"
   ]
  },
  {
   "cell_type": "markdown",
   "metadata": {
    "id": "ZIf7QInLeFIP"
   },
   "source": [
    "## Phase de test"
   ]
  },
  {
   "cell_type": "markdown",
   "metadata": {
    "id": "JlTx_NDBy42f"
   },
   "source": [
    "### Initialisation des paramètres"
   ]
  },
  {
   "cell_type": "code",
   "execution_count": 27,
   "metadata": {
    "id": "3GNGiMt0y9cA"
   },
   "outputs": [],
   "source": [
    "N = 1000\n",
    "d = 2                                       # d = 2, afin de pouvoir être calculé par intégration et par Monte Carlo\n",
    "p = 0.5\n",
    "beta0 = np.random.uniform(1, 30, (1, d))\n",
    "beta1 = np.random.uniform(2000,4000, (1, d))\n",
    "beta = np.vstack((beta0,beta1))               # beta0 = beta1           \n",
    "bias = np.array([100,10])                 # beta0 = beta1, cas simple pour faciliter l'interprétation des résultats                              # Gamma0 != Gamma1, biais différent\n",
    "f = lambda x:x\n",
    "g = lambda x:x"
   ]
  },
  {
   "cell_type": "markdown",
   "metadata": {
    "id": "6OhpvinNxUdk"
   },
   "source": [
    "### Générations des données"
   ]
  },
  {
   "cell_type": "code",
   "execution_count": 28,
   "metadata": {
    "id": "BLuyzerxeJPV",
    "scrolled": true
   },
   "outputs": [],
   "source": [
    "# Génération des données\n",
    "X, W, Y = causal_generation(N, d, beta, bias, f, g, p)"
   ]
  },
  {
   "cell_type": "markdown",
   "metadata": {
    "id": "0HGXgVo5xa2M"
   },
   "source": [
    "### Prédictions des métalearners \"Team Filrouge\""
   ]
  },
  {
   "cell_type": "markdown",
   "metadata": {
    "id": "6BVz8q9v3pnC"
   },
   "source": [
    "#### Slearners"
   ]
  },
  {
   "cell_type": "code",
   "execution_count": 29,
   "metadata": {},
   "outputs": [],
   "source": [
    "base_learner=LinearRegression()"
   ]
  },
  {
   "cell_type": "code",
   "execution_count": 30,
   "metadata": {},
   "outputs": [],
   "source": [
    "from sklearn.ensemble import RandomForestRegressor"
   ]
  },
  {
   "cell_type": "code",
   "execution_count": 31,
   "metadata": {
    "colab": {
     "base_uri": "https://localhost:8080/"
    },
    "id": "gQHpwQc4mGf3",
    "outputId": "b4983705-e538-452e-d437-0a0c50071620",
    "scrolled": false
   },
   "outputs": [
    {
     "name": "stdout",
     "output_type": "stream",
     "text": [
      "- Les dimensions du CATE = (1000,).\n",
      "- L'estimation de la valeur de l'ATE = 7.4815916495656785.\n"
     ]
    }
   ],
   "source": [
    "slearner=SLearner(base_estimator=RandomForestRegressor())\n",
    "slearner.fit(X,W,Y)\n",
    "\n",
    "cate_hat_S = slearner.predict_CATE(X)\n",
    "print(\"- Les dimensions du CATE = {}.\".format(cate_hat_S.shape))\n",
    "\n",
    "ate_hat_S = slearner.predict_ATE()\n",
    "print(\"- L'estimation de la valeur de l'ATE = {}.\".format(ate_hat_S))"
   ]
  },
  {
   "cell_type": "markdown",
   "metadata": {
    "id": "RmJV1Jy-3ve6"
   },
   "source": [
    "#### Tlearners"
   ]
  },
  {
   "cell_type": "code",
   "execution_count": 32,
   "metadata": {
    "colab": {
     "base_uri": "https://localhost:8080/"
    },
    "id": "r1WmQRa33okq",
    "outputId": "e865c751-0b7a-4056-c20f-d0e030adb5bd"
   },
   "outputs": [
    {
     "name": "stdout",
     "output_type": "stream",
     "text": [
      "- Les dimensions du CATE = (1000,).\n",
      "- L'estimation de la valeur de l'ATE = -1.9213230451034033.\n"
     ]
    }
   ],
   "source": [
    "tlearner=TLearner(base_estimator0=RandomForestRegressor(),base_estimator1=RandomForestRegressor())\n",
    "tlearner.fit(X,W,Y)\n",
    "\n",
    "cate_hat_T = tlearner.predict_CATE(X)\n",
    "print(\"- Les dimensions du CATE = {}.\".format(cate_hat_S.shape))\n",
    "\n",
    "ate_hat_T = tlearner.predict_ATE()\n",
    "print(\"- L'estimation de la valeur de l'ATE = {}.\".format(ate_hat_T))"
   ]
  },
  {
   "cell_type": "markdown",
   "metadata": {},
   "source": [
    "#### Xlearners"
   ]
  },
  {
   "cell_type": "code",
   "execution_count": 33,
   "metadata": {},
   "outputs": [],
   "source": [
    "def propensity_score(X, W, clf = LogisticRegression()):\n",
    "    # calibration of the classifier\n",
    "    cls = CalibratedClassifierCV(clf)\n",
    "\n",
    "    # training of the classifier\n",
    "    cls.fit(X, W)\n",
    "\n",
    "    # predicton of the classifier\n",
    "    propensity = cls.predict_proba(X)[:,1]\n",
    "\n",
    "    return propensity"
   ]
  },
  {
   "cell_type": "code",
   "execution_count": 34,
   "metadata": {},
   "outputs": [
    {
     "data": {
      "text/plain": [
       "(array([  9.,  18.,  78., 148., 210., 254., 170.,  83.,  25.,   5.]),\n",
       " array([0.32893005, 0.36178675, 0.39464346, 0.42750017, 0.46035687,\n",
       "        0.49321358, 0.52607028, 0.55892699, 0.59178369, 0.6246404 ,\n",
       "        0.6574971 ]),\n",
       " <BarContainer object of 10 artists>)"
      ]
     },
     "execution_count": 34,
     "metadata": {},
     "output_type": "execute_result"
    },
    {
     "data": {
      "image/png": "[encoded data removed]",
      "text/plain": [
       "<Figure size 720x576 with 1 Axes>"
      ]
     },
     "metadata": {},
     "output_type": "display_data"
    }
   ],
   "source": [
    "propensity=propensity_score(X, W)\n",
    "\n",
    "plt.hist(propensity)"
   ]
  },
  {
   "cell_type": "code",
   "execution_count": 35,
   "metadata": {
    "scrolled": true
   },
   "outputs": [
    {
     "name": "stdout",
     "output_type": "stream",
     "text": [
      "- Les dimensions du CATE = (1000,).\n",
      "- L'estimation de la valeur de l'ATE = -11.552038484031302.\n"
     ]
    }
   ],
   "source": [
    "xlearner=XLearner()\n",
    "xlearner.fit(X,W,Y)\n",
    "\n",
    "cate_hat_T = xlearner.predict_CATE(X, propensity)\n",
    "print(\"- Les dimensions du CATE = {}.\".format(cate_hat_S.shape))\n",
    "\n",
    "ate_hat_T = xlearner.predict_ATE()\n",
    "print(\"- L'estimation de la valeur de l'ATE = {}.\".format(ate_hat_T))"
   ]
  },
  {
   "cell_type": "markdown",
   "metadata": {},
   "source": [
    "#### DRlearners"
   ]
  },
  {
   "cell_type": "code",
   "execution_count": 36,
   "metadata": {},
   "outputs": [
    {
     "data": {
      "text/plain": [
       "((1000, 2), (1000,), (1000,))"
      ]
     },
     "execution_count": 36,
     "metadata": {},
     "output_type": "execute_result"
    }
   ],
   "source": [
    "X.shape, W.shape, Y.shape"
   ]
  },
  {
   "cell_type": "code",
   "execution_count": 37,
   "metadata": {},
   "outputs": [
    {
     "name": "stdout",
     "output_type": "stream",
     "text": [
      "- Les dimensions du CATE = (1000,).\n",
      "- L'estimation de la valeur de l'ATE = -25.56920284294815.\n"
     ]
    }
   ],
   "source": [
    "drlearner=DRLearner()\n",
    "drlearner.fit(X,W,Y)\n",
    "\n",
    "cate_hat_T = drlearner.predict_CATE(X)\n",
    "print(\"- Les dimensions du CATE = {}.\".format(cate_hat_T.shape))\n",
    "\n",
    "ate_hat_T = drlearner.predict_ATE()\n",
    "print(\"- L'estimation de la valeur de l'ATE = {}.\".format(ate_hat_T))"
   ]
  },
  {
   "cell_type": "markdown",
   "metadata": {
    "id": "gq-vjom4xmRs"
   },
   "source": [
    "### Prédictions des métalearners \"Causal ML\""
   ]
  },
  {
   "cell_type": "markdown",
   "metadata": {
    "id": "5Tn-YCHA4L5r"
   },
   "source": [
    "#### Slearners"
   ]
  },
  {
   "cell_type": "code",
   "execution_count": 70,
   "metadata": {
    "colab": {
     "base_uri": "https://localhost:8080/"
    },
    "id": "7naePgnBlxjE",
    "outputId": "97392a23-6e7c-4c4a-df2e-d4aca18181a2"
   },
   "outputs": [
    {
     "name": "stdout",
     "output_type": "stream",
     "text": [
      "L'estimation de la valeur de l'ATE (Linear Regression): -89.94 (-90.07, -89.82)\n"
     ]
    }
   ],
   "source": [
    "from causalml.inference.meta import LRSRegressor\n",
    "from xgboost import XGBRegressor\n",
    "\n",
    "\n",
    "lr = LRSRegressor()\n",
    "te, lb, ub = lr.estimate_ate(X, W, Y)\n",
    "print('L\\'estimation de la valeur de l\\'ATE (Linear Regression): {:.2f} ({:.2f}, {:.2f})'.format(te[0], lb[0], ub[0]))"
   ]
  },
  {
   "cell_type": "markdown",
   "metadata": {
    "id": "VeQ5ZgiJ4OQb"
   },
   "source": [
    "#### Tlearners"
   ]
  },
  {
   "cell_type": "code",
   "execution_count": 71,
   "metadata": {
    "colab": {
     "base_uri": "https://localhost:8080/"
    },
    "id": "mzPAOp0h4Lac",
    "outputId": "458f9c1d-d1b2-41c1-c105-c187bf02d9e1"
   },
   "outputs": [
    {
     "name": "stdout",
     "output_type": "stream",
     "text": [
      "L'estimation de la valeur de l'ATE (XGBoost): -90.15 (-90.29, -90.01)\n"
     ]
    }
   ],
   "source": [
    "from causalml.inference.meta import XGBTRegressor\n",
    "\n",
    "xg = XGBTRegressor(random_state=42)\n",
    "te, lb, ub = xg.estimate_ate(X, W, Y)\n",
    "print('L\\'estimation de la valeur de l\\'ATE (XGBoost): {:.2f} ({:.2f}, {:.2f})'.format(te[0], lb[0], ub[0]))"
   ]
  },
  {
   "cell_type": "markdown",
   "metadata": {},
   "source": [
    "#### Xlearners"
   ]
  },
  {
   "cell_type": "code",
   "execution_count": 72,
   "metadata": {},
   "outputs": [
    {
     "name": "stdout",
     "output_type": "stream",
     "text": [
      "Average Treatment Effect (BaseXRegressor using XGBoost): -90.09 (-90.17, -90.00)\n"
     ]
    }
   ],
   "source": [
    "from causalml.inference.meta import BaseXRegressor\n",
    "from xgboost import XGBRegressor\n",
    "\n",
    "\n",
    "#le propensity score est calculé automatiquement par le modèle\n",
    "xl = BaseXRegressor(learner=XGBRegressor())\n",
    "te, lb, ub = xl.estimate_ate(X, treatment = W, y = Y, p = None)\n",
    "print('Average Treatment Effect (BaseXRegressor using XGBoost): {:.2f} ({:.2f}, {:.2f})'.format(te[0], lb[0], ub[0]))\n"
   ]
  },
  {
   "cell_type": "markdown",
   "metadata": {},
   "source": [
    "#### DRlearners"
   ]
  },
  {
   "cell_type": "code",
   "execution_count": 73,
   "metadata": {
    "scrolled": true
   },
   "outputs": [
    {
     "name": "stdout",
     "output_type": "stream",
     "text": [
      "L'estimation de la valeur de l'ATE (): -89.94)\n"
     ]
    }
   ],
   "source": [
    "import econml\n",
    "from econml.drlearner import DRLearner\n",
    "\n",
    "est = DRLearner()\n",
    "est.fit(Y, W, X=X, W=None)\n",
    "\n",
    "print('L\\'estimation de la valeur de l\\'ATE (): {:.2f})'.format(est.effect(X).mean()))"
   ]
  },
  {
   "cell_type": "code",
   "execution_count": 74,
   "metadata": {},
   "outputs": [
    {
     "data": {
      "text/plain": [
       "array([-89.99991764, -89.85861157, -89.86072109, -89.89158232,\n",
       "       -89.99023741, -89.89782743, -89.93376671, -89.89114295,\n",
       "       -89.87370599, -90.00406251, -89.97749091, -89.97982202,\n",
       "       -89.91720692, -90.00431766, -89.9322361 , -89.90536634,\n",
       "       -90.00246269, -89.97564614, -89.97471676, -89.9258119 ,\n",
       "       -89.97877369, -89.94122736, -89.89696851, -89.95226138,\n",
       "       -89.97274275, -89.98007958, -90.01294196, -90.00542782,\n",
       "       -89.9777517 , -89.9490885 , -89.88840983, -89.94404091,\n",
       "       -89.90687693, -89.99421525, -89.94455214, -89.94827335,\n",
       "       -89.88330134, -89.9178758 , -89.98220347, -89.99292206,\n",
       "       -89.95583195, -89.92277847, -89.96593238, -89.88252758,\n",
       "       -89.93668777, -89.95446105, -89.95426972, -89.90439393,\n",
       "       -89.87930565, -89.89787604, -89.97510299, -89.85632748,\n",
       "       -89.95907274, -89.9410762 , -89.95771734, -89.92413954,\n",
       "       -89.93652824, -89.91764982, -89.93952315, -89.93784984,\n",
       "       -89.89036811, -89.89431878, -89.9160789 , -89.94477072,\n",
       "       -89.96063949, -89.91746282, -89.97486582, -89.92801157,\n",
       "       -89.92116697, -89.91086285, -89.92659799, -89.9750176 ,\n",
       "       -89.9217811 , -90.0179462 , -89.96730399, -89.95807187,\n",
       "       -89.87673207, -89.97966728, -89.97541837, -89.91965177,\n",
       "       -89.90963765, -89.95740333, -90.02836119, -90.04058518,\n",
       "       -89.89787538, -89.89354894, -89.98241498, -89.94554998,\n",
       "       -89.93850808, -89.97668301, -89.92919725, -89.92254817,\n",
       "       -89.8317079 , -89.95047737, -89.91503645, -89.98944185,\n",
       "       -89.90231272, -89.95443721, -89.95224972, -89.94627922,\n",
       "       -89.92248585, -89.95479855, -89.89161547, -89.96472838,\n",
       "       -89.98930719, -89.95340912, -89.94632546, -89.96954215,\n",
       "       -89.92162669, -89.92757643, -89.97222556, -89.90040151,\n",
       "       -89.87810078, -89.93838127, -89.89206151, -89.88836143,\n",
       "       -89.94813579, -89.93620754, -89.88831142, -89.96294448,\n",
       "       -89.89851918, -89.91620396, -89.96882026, -89.93042325,\n",
       "       -89.87863356, -89.94361045, -89.9928768 , -90.00589908,\n",
       "       -89.9472595 , -89.98180339, -89.92842827, -89.98174911,\n",
       "       -90.02749975, -89.94333132, -89.98252147, -89.96795807,\n",
       "       -89.9436433 , -89.87310188, -89.88948063, -89.96824309,\n",
       "       -89.97737326, -89.91991512, -89.95502112, -89.87071592,\n",
       "       -89.99607017, -89.86748472, -89.83904405, -89.97262893,\n",
       "       -89.95416432, -89.91498272, -89.94504798, -89.94997751,\n",
       "       -89.94730758, -89.89986783, -89.97843884, -90.02727841,\n",
       "       -89.99267015, -89.8910564 , -90.02008395, -89.85432242,\n",
       "       -89.9303528 , -89.9848997 , -89.96972415, -89.94761412,\n",
       "       -89.95529327, -89.91370333, -89.94730295, -90.02392236,\n",
       "       -89.8775248 , -89.90460143, -89.89739305, -89.95853928,\n",
       "       -90.00180072, -89.89572624, -90.02234641, -89.98438709,\n",
       "       -89.92417808, -89.94076304, -89.89701848, -89.90195133,\n",
       "       -89.85396324, -89.97517724, -89.97092733, -89.90796252,\n",
       "       -89.89030197, -89.98149209, -90.01568089, -89.90315485,\n",
       "       -90.06358747, -89.90160609, -89.85787756, -89.98223552,\n",
       "       -89.89947907, -89.9012454 , -89.99553386, -90.02098797,\n",
       "       -89.9009333 , -89.94017376, -89.97941951, -89.96278326,\n",
       "       -89.84578525, -90.00782155, -89.94093418, -89.9507358 ,\n",
       "       -89.91487538, -89.87525364, -89.94435318, -89.91341722,\n",
       "       -89.929079  , -89.89084161, -89.92100336, -89.95249993,\n",
       "       -90.01285272, -90.00238004, -89.94798579, -89.94682273,\n",
       "       -89.94441901, -89.93256395, -89.94683292, -89.98729685,\n",
       "       -89.90421506, -89.90711241, -89.99944784, -89.86326676,\n",
       "       -89.90502881, -89.93619976, -89.9508163 , -89.91468954,\n",
       "       -89.89698279, -89.87933513, -89.98992689, -89.88951998,\n",
       "       -90.01385024, -89.95575853, -90.00247959, -89.93827186,\n",
       "       -89.89757359, -89.94251453, -89.89822636, -89.93126168,\n",
       "       -89.9809982 , -89.98456428, -89.86396855, -89.93001704,\n",
       "       -89.84813706, -89.99832755, -89.97404725, -89.97166086,\n",
       "       -89.95582851, -89.94064365, -89.92412698, -89.94526476,\n",
       "       -89.93281336, -89.88108306, -89.91698905, -89.97602981,\n",
       "       -89.94276888, -89.92048249, -89.90051741, -89.85309118,\n",
       "       -89.94859086, -89.95460962, -89.93348751, -89.86181533,\n",
       "       -89.95751485, -89.94733104, -89.89641259, -89.95081075,\n",
       "       -90.00154419, -89.91546969, -89.8691705 , -89.93408825,\n",
       "       -89.9392975 , -89.96961814, -89.88385904, -89.90981066,\n",
       "       -89.99610507, -89.94085326, -89.93369978, -89.94764645,\n",
       "       -89.97046765, -89.93659792, -89.91842077, -89.89566312,\n",
       "       -89.97226979, -90.06061142, -89.95504765, -89.92355889,\n",
       "       -89.92749649, -89.95376414, -89.94915807, -89.93429089,\n",
       "       -90.00771341, -89.92532128, -89.88777979, -89.92313368,\n",
       "       -89.99594434, -89.89623892, -89.95380086, -89.95989014,\n",
       "       -89.98347255, -89.96940302, -89.94708024, -89.97575496,\n",
       "       -89.93382169, -90.04349717, -89.97172686, -89.98069124,\n",
       "       -89.94720317, -89.93614885, -89.94794614, -89.95328523,\n",
       "       -89.89481752, -89.92606504, -89.90639479, -89.92885372,\n",
       "       -89.96007204, -89.92819839, -90.01620717, -89.90548022,\n",
       "       -89.93762917, -90.02693431, -89.99921622, -89.99525326,\n",
       "       -89.8847997 , -90.02578999, -89.87561424, -89.93703288,\n",
       "       -89.94167105, -89.96826779, -89.90591713, -90.03180275,\n",
       "       -89.90506084, -89.90169515, -89.95871185, -89.92876514,\n",
       "       -89.95493326, -89.96865406, -89.9934703 , -89.93169941,\n",
       "       -89.92767016, -90.0606583 , -89.93374011, -89.88976022,\n",
       "       -89.99915712, -89.99396901, -89.93826644, -89.90953936,\n",
       "       -89.91062911, -89.89665759, -90.0202094 , -89.96305145,\n",
       "       -89.91791729, -89.89805591, -89.94473032, -89.8944843 ,\n",
       "       -89.87790587, -89.85339927, -89.90809986, -90.0264314 ,\n",
       "       -89.94235875, -90.00029807, -90.02281903, -90.04793772,\n",
       "       -89.93394299, -89.91103234, -90.01840649, -89.92418383,\n",
       "       -89.89016453, -89.94875353, -89.92262798, -89.93381102,\n",
       "       -89.95434733, -89.96541667, -89.98476776, -89.9475751 ,\n",
       "       -89.86558769, -89.96665069, -89.95653164, -89.98466959,\n",
       "       -89.94380984, -89.94367422, -89.91851738, -89.88960546,\n",
       "       -89.90332112, -89.9185258 , -90.04393992, -89.94114077,\n",
       "       -89.92730763, -89.93952114, -90.00439528, -90.00109544,\n",
       "       -89.93376643, -89.92423699, -89.94032433, -89.93390364,\n",
       "       -89.90830794, -89.89516999, -89.93051661, -89.96092569,\n",
       "       -89.96230675, -90.00776316, -89.98776269, -89.95825495,\n",
       "       -89.90760533, -89.9343269 , -89.98769883, -89.86978525,\n",
       "       -89.92085545, -89.96923917, -89.84593954, -89.99092965,\n",
       "       -89.96365007, -89.90302575, -89.93175274, -89.93900557,\n",
       "       -89.86044595, -89.92629186, -89.92105716, -89.97909279,\n",
       "       -89.92973182, -89.9690061 , -89.92860801, -89.98242344,\n",
       "       -90.00118502, -89.95734523, -89.94472251, -89.97426312,\n",
       "       -89.98692603, -89.97278378, -89.9594362 , -89.95285093,\n",
       "       -90.00279949, -89.93215096, -89.89030074, -89.8917068 ,\n",
       "       -89.88311042, -89.98078333, -89.91792948, -90.00951851,\n",
       "       -89.99406898, -89.96497588, -90.02825809, -89.8780459 ,\n",
       "       -89.90403866, -89.97910956, -89.83342966, -89.96078437,\n",
       "       -89.998558  , -89.94808373, -90.00912579, -89.90579459,\n",
       "       -89.97234222, -89.92713306, -89.93336657, -89.97110613,\n",
       "       -89.98153001, -89.94184301, -89.95756663, -90.0146776 ,\n",
       "       -89.90980318, -89.91208811, -89.96595878, -90.04409252,\n",
       "       -89.92857538, -89.96477089, -89.96445424, -89.96974769,\n",
       "       -89.8656896 , -89.96446715, -89.90002747, -89.94335978,\n",
       "       -89.92943108, -89.94113332, -89.93214675, -89.94062704,\n",
       "       -89.96579271, -90.0392228 , -89.94232598, -89.9011992 ,\n",
       "       -89.94283949, -89.92037466, -89.92493749, -89.94791373,\n",
       "       -89.89549434, -89.86991148, -89.95237565, -89.94545864,\n",
       "       -89.92725517, -89.96990519, -89.89752346, -89.97155093,\n",
       "       -89.99635749, -89.92141985, -90.03813642, -89.98202938,\n",
       "       -89.9191832 , -89.94613516, -89.88560669, -89.93964636,\n",
       "       -89.97738518, -89.95547059, -89.87184207, -89.93765545,\n",
       "       -89.96792852, -90.05459326, -89.9812829 , -89.95626468,\n",
       "       -89.98646462, -89.98011835, -89.89100337, -89.9538809 ,\n",
       "       -89.90676434, -89.86483232, -89.99147552, -89.93630435,\n",
       "       -89.91089066, -89.95780076, -89.993756  , -89.9716376 ,\n",
       "       -89.89250049, -89.92519995, -89.91446319, -89.8805585 ,\n",
       "       -89.95325442, -89.97722895, -89.99882126, -89.875893  ,\n",
       "       -89.99302546, -89.9514974 , -89.92390944, -89.9528228 ,\n",
       "       -89.94455517, -89.98464909, -89.96493065, -90.01284168,\n",
       "       -90.00089511, -89.92805589, -89.99743412, -89.96910055,\n",
       "       -89.93882389, -90.00609254, -89.88396932, -89.99179932,\n",
       "       -89.95303779, -89.92330452, -89.97883477, -89.98061442,\n",
       "       -89.86069547, -90.01619624, -89.93309912, -89.90511084,\n",
       "       -89.93867492, -89.88321934, -89.92824435, -89.906631  ,\n",
       "       -89.92555782, -89.92747092, -89.97799484, -89.98191288,\n",
       "       -89.91711029, -90.03606968, -89.95426876, -89.92555564,\n",
       "       -89.93564233, -89.88158005, -89.98430532, -89.89824391,\n",
       "       -89.87397318, -89.93776231, -89.88813414, -89.95562313,\n",
       "       -89.98105136, -89.94706603, -89.99623141, -89.96121092,\n",
       "       -89.98417115, -89.92378325, -90.02568679, -89.98364201,\n",
       "       -89.96948273, -89.96282855, -89.91114193, -89.99007785,\n",
       "       -89.95400309, -90.01652784, -90.0204593 , -89.93104518,\n",
       "       -90.0189962 , -89.98047755, -90.00931777, -89.88198088,\n",
       "       -89.96011673, -90.00728097, -89.87584652, -89.97840163,\n",
       "       -89.95014306, -89.89663523, -89.93066923, -89.95694064,\n",
       "       -89.99088277, -89.92662917, -89.93688534, -89.96387682,\n",
       "       -89.92901637, -89.92823774, -89.88723937, -89.87964325,\n",
       "       -89.87836402, -90.00939316, -89.92249666, -89.89048829,\n",
       "       -90.01266263, -89.90743464, -89.99481653, -90.05198069,\n",
       "       -89.92853449, -89.97879367, -89.99523829, -89.95947119,\n",
       "       -89.9732624 , -89.93400556, -89.99758251, -89.96904977,\n",
       "       -89.95364793, -89.91188505, -90.03381421, -89.91244305,\n",
       "       -89.92537022, -89.98479288, -89.9145719 , -89.99739716,\n",
       "       -89.92735314, -90.00545884, -89.91592529, -89.84273471,\n",
       "       -89.95397814, -90.02123894, -89.96820054, -89.96210296,\n",
       "       -89.8457236 , -89.96747138, -89.96462655, -89.99504625,\n",
       "       -89.97712573, -90.05933656, -89.88619674, -89.9371573 ,\n",
       "       -89.87842147, -89.92944738, -89.97142673, -89.93954024,\n",
       "       -89.91649849, -90.00303796, -89.97924987, -89.94813283,\n",
       "       -89.92961917, -89.97098362, -90.02536521, -89.97478992,\n",
       "       -90.04600124, -89.92214001, -89.94589912, -90.06207386,\n",
       "       -89.97198249, -89.91961278, -89.94213263, -89.88177006,\n",
       "       -89.93445149, -89.98688577, -89.98044291, -89.92686849,\n",
       "       -89.98967439, -90.02385202, -89.98889431, -89.87096171,\n",
       "       -89.94249037, -89.98162252, -89.91814575, -89.88538149,\n",
       "       -89.98876403, -89.92370598, -90.00942811, -89.96495874,\n",
       "       -89.9380476 , -89.95923538, -89.94031659, -89.94369598,\n",
       "       -89.88311569, -89.94649329, -89.89695021, -89.95311838,\n",
       "       -90.0336069 , -89.95614931, -89.99213407, -89.86771269,\n",
       "       -89.94203183, -89.88880414, -89.91894654, -89.93969051,\n",
       "       -89.87674432, -89.97095069, -89.95011139, -89.92558474,\n",
       "       -90.02689201, -89.98260255, -90.04338276, -89.85836277,\n",
       "       -89.94372743, -89.96886425, -89.90152164, -89.93799161,\n",
       "       -89.93335185, -89.83649971, -89.94786586, -89.91578576,\n",
       "       -89.95719638, -89.94957648, -89.97703063, -89.96581659,\n",
       "       -89.96742084, -89.90794629, -89.90222239, -89.87200253,\n",
       "       -89.87763217, -89.97167811, -89.96704851, -89.92114802,\n",
       "       -90.01377213, -89.94776627, -89.92078073, -89.93924984,\n",
       "       -89.89327762, -89.90995757, -89.99980078, -89.8916413 ,\n",
       "       -89.87138413, -89.91718551, -89.96692183, -89.87896316,\n",
       "       -89.93156156, -89.9118727 , -89.9072204 , -89.93683571,\n",
       "       -89.88939692, -89.90677126, -89.86296552, -89.94445184,\n",
       "       -89.92353279, -89.91385444, -89.93484479, -89.89939975,\n",
       "       -89.93124876, -89.98371164, -89.90617377, -89.97686848,\n",
       "       -89.97929095, -89.94584045, -89.9700476 , -89.98276593,\n",
       "       -89.92177572, -89.92783252, -89.96615966, -89.87279471,\n",
       "       -89.92793407, -89.95756019, -89.89382455, -89.97332153,\n",
       "       -89.93924131, -89.94004142, -89.98359849, -89.96420871,\n",
       "       -89.93411249, -89.97754394, -90.00832741, -89.96138653,\n",
       "       -89.90116432, -89.91128236, -89.96836901, -90.04817481,\n",
       "       -89.90355545, -89.96365682, -89.9026594 , -89.9454669 ,\n",
       "       -89.92367404, -89.89783974, -89.95659599, -89.97119097,\n",
       "       -89.96386467, -89.96968514, -89.88625664, -89.96645752,\n",
       "       -89.90258283, -89.99841321, -89.94614667, -89.92199521,\n",
       "       -89.85836598, -89.98218853, -89.9484167 , -89.88683623,\n",
       "       -89.90049408, -89.94374506, -89.89927636, -89.97733401,\n",
       "       -89.96815405, -89.94807804, -90.00281634, -89.95468521,\n",
       "       -89.94472983, -89.93164112, -89.91993186, -89.99115921,\n",
       "       -89.99088035, -89.97350262, -89.9957699 , -89.95817092,\n",
       "       -89.94020736, -89.91962456, -89.92072831, -89.91218606,\n",
       "       -89.75737928, -89.93311496, -89.91707256, -89.99007588,\n",
       "       -89.97019839, -89.96160162, -89.93515555, -89.83821234,\n",
       "       -90.07174204, -89.95111679, -89.97010899, -89.94163593,\n",
       "       -89.9761224 , -89.94785043, -89.97586221, -89.88767047,\n",
       "       -89.88768527, -89.98353731, -89.93887874, -89.91145347,\n",
       "       -89.99705713, -89.88029671, -90.01158402, -89.95952077,\n",
       "       -90.01451871, -89.96062225, -89.9092634 , -90.00970649,\n",
       "       -89.95820288, -89.95400159, -89.96516812, -89.96483143,\n",
       "       -89.90799457, -89.9021064 , -89.93203987, -89.97119707,\n",
       "       -89.94975187, -89.96420358, -89.97252509, -89.8748004 ,\n",
       "       -90.04295542, -89.97621196, -89.88082624, -89.94465657,\n",
       "       -89.97209779, -89.96666645, -89.952112  , -89.96755554,\n",
       "       -89.95802648, -89.89412689, -89.93218048, -89.89411688,\n",
       "       -89.87461029, -89.8908596 , -90.02069625, -89.97525299,\n",
       "       -89.925399  , -89.94043414, -89.99657489, -89.88059745,\n",
       "       -89.99839969, -89.99877139, -89.87172769, -89.93916022,\n",
       "       -89.89760776, -89.95944667, -89.95574859, -89.90446969,\n",
       "       -89.96036088, -89.96814505, -89.95660234, -89.9587556 ,\n",
       "       -89.94662395, -89.99762785, -89.93475761, -89.87254356,\n",
       "       -89.98022123, -89.95357281, -89.9186859 , -89.95778839,\n",
       "       -89.92668045, -89.84907363, -90.01107472, -89.9330549 ,\n",
       "       -89.8643125 , -89.90326048, -89.95360376, -89.91311184,\n",
       "       -89.90086358, -89.96032506, -89.93511561, -89.95765294,\n",
       "       -89.91980324, -90.00763246, -89.95336462, -89.93863429,\n",
       "       -89.93194057, -89.84920342, -90.00058958, -90.00203776,\n",
       "       -89.8994064 , -89.97187611, -89.86779261, -89.98296334,\n",
       "       -89.99551473, -89.88471443, -90.03286501, -89.89417741,\n",
       "       -89.9267206 , -89.93722514, -89.97031619, -89.87906324,\n",
       "       -89.93987393, -89.92423484, -89.84620988, -90.0047109 ,\n",
       "       -89.96319002, -89.93469292, -89.90580362, -89.96067822,\n",
       "       -89.93688152, -90.02304323, -89.99219919, -89.85320792,\n",
       "       -89.91903409, -89.97046314, -90.00316999, -89.94652715,\n",
       "       -89.93418877, -89.89405825, -89.9893197 , -89.88131315,\n",
       "       -90.01205953, -89.93322676, -89.84819794, -89.94857167,\n",
       "       -89.95788946, -90.02042078, -89.96495617, -89.98847053,\n",
       "       -89.9133965 , -89.86812431, -89.90365877, -89.92440487,\n",
       "       -89.93750521, -89.90756944, -89.93995123, -89.90106348,\n",
       "       -89.94453169, -89.97289275, -89.93713959, -89.96513922,\n",
       "       -89.94672291, -89.96921233, -89.99003453, -89.94286281,\n",
       "       -89.95253295, -89.9833359 , -89.95098095, -89.93126579,\n",
       "       -89.88038746, -89.97923434, -89.88321279, -89.95897309,\n",
       "       -89.90318706, -89.9602414 , -89.85427004, -89.93522972,\n",
       "       -89.99475352, -89.87608887, -89.96023063, -89.898597  ,\n",
       "       -89.91833269, -89.92828235, -89.91546483, -90.00605135,\n",
       "       -90.00084383, -89.95459586, -89.95899889, -89.9589061 ])"
      ]
     },
     "execution_count": 74,
     "metadata": {},
     "output_type": "execute_result"
    }
   ],
   "source": [
    "est.effect(X)"
   ]
  },
  {
   "cell_type": "markdown",
   "metadata": {
    "id": "kvsZS91J73op"
   },
   "source": [
    "### Prédictions \"Paradis\""
   ]
  },
  {
   "cell_type": "markdown",
   "metadata": {},
   "source": [
    "#### Calcul MSE"
   ]
  },
  {
   "cell_type": "code",
   "execution_count": 20,
   "metadata": {},
   "outputs": [],
   "source": [
    "def MSE(y,y_pred):\n",
    "    return 1/2*(y-y_pred)**2"
   ]
  },
  {
   "cell_type": "markdown",
   "metadata": {},
   "source": [
    "#### Calcul de l'ATE"
   ]
  },
  {
   "cell_type": "code",
   "execution_count": 21,
   "metadata": {
    "id": "Xvmi5lnT72Ax"
   },
   "outputs": [],
   "source": [
    "def ATE_paradis(beta, bias, f=lambda i:i, g=lambda i:i):\n",
    "    p=beta.shape[1]\n",
    "    if p==1:\n",
    "        ate = integrate.quad(lambda x: (g(beta[1]*x + bias[1]) -f(beta[0]*x + bias[0]))*sp.stats.norm.pdf(x,0,1),-1000 , 1000)\n",
    "    if p==2:\n",
    "        ate=integrate.dblquad(lambda x, y: (g(beta[1,0]*x + beta[1,1]*y + bias[1]) -f(beta[0,0]*x + beta[0,1]*y + bias[0])\n",
    "                                           )*sp.stats.norm.pdf(x,0,1)*sp.stats.norm.pdf(y,0,1),-1000 , 1000, lambda y :-1000,lambda y : 1000)\n",
    "    if p>2:\n",
    "        raise Warning('dimension above 2')\n",
    "    return  ate"
   ]
  },
  {
   "cell_type": "code",
   "execution_count": 22,
   "metadata": {
    "id": "vVGjotUsw566"
   },
   "outputs": [],
   "source": [
    "def monte_carlo(Nobs, dim, beta, bias, f, g, W):\n",
    "    '''\n",
    "    Input :\n",
    "    \n",
    "    Nobs : Nombre de lignes da la matrice X i.e. nombre de personnes.\n",
    "    dim : Nombre de colonnes de la matrice X i.e. nombres de caractéristiques (features).\n",
    "    beta : Vecteur de dimension (2, dim), note dim doit être < 10\n",
    "    bias : Vecteur de dimension (1, 2).\n",
    "    W : Vecteur de dimension (1, Nobs) contenant des 0 ou 1 pour désigner l'affectation du traitement.\n",
    "    f et g sont des fonctions.\n",
    "    \n",
    "    Output:\n",
    "    \n",
    "    ATE : ATE calculé par la méthode de Monte Carlo\n",
    "    '''\n",
    "    moy = np.zeros(dim)\n",
    "    var = np.eye(dim)\n",
    "    X = np.random.multivariate_normal(moy, var, Nobs)\n",
    "    ATE = np.mean(g(X.dot(beta[1])+ bias[1]) - f(X.dot(beta[0])+ bias[0])) \n",
    "            \n",
    "    return ATE"
   ]
  },
  {
   "cell_type": "code",
   "execution_count": 23,
   "metadata": {
    "colab": {
     "base_uri": "https://localhost:8080/"
    },
    "id": "WZHKy9grdYdl",
    "outputId": "7115bae0-072e-4393-b3aa-d6a2f6b344ee"
   },
   "outputs": [
    {
     "name": "stdout",
     "output_type": "stream",
     "text": [
      "ATE calculé par intégration: (-89.99999999775461, 1.4270833668839058e-08)\n",
      "ATE calculé par Monte Carlo: -90.0\n"
     ]
    }
   ],
   "source": [
    "print('ATE calculé par intégration: {}'.format(ATE_paradis(beta, bias, f=f, g=g)))\n",
    "print('ATE calculé par Monte Carlo: {}'.format(monte_carlo(10**6, d, beta, bias, f, g, W)))"
   ]
  },
  {
   "cell_type": "code",
   "execution_count": 38,
   "metadata": {
    "colab": {
     "base_uri": "https://localhost:8080/",
     "height": 300
    },
    "id": "TDSQDcFgwgeS",
    "outputId": "f41a3245-5639-426a-fbea-9930a90836c8",
    "scrolled": false
   },
   "outputs": [
    {
     "data": {
      "image/png": "[encoded data removed]",
      "text/plain": [
       "<Figure size 720x576 with 1 Axes>"
      ]
     },
     "metadata": {},
     "output_type": "display_data"
    }
   ],
   "source": [
    "res = []\n",
    "#1- varier Nobs pour ate_hat_S et le comparer avec mc_est (meth. monte carlo) avec 10**8\n",
    "#2 - ajouter une courbe avec l'estimation avec causalml avec la borne inf et max et ate_hat_S\n",
    "for i in range(2,8):\n",
    "    mc_est = monte_carlo(10**i, d, beta, bias, f, g, W)\n",
    "    res.append([abs(mc_est - ate_hat_S)])\n",
    "plt.figure()\n",
    "plt.title('Evolution de l\\'estimation de l\\'ATE par Monte Carlo en fonction du nombre d\\'observations')\n",
    "plt.plot(res);"
   ]
  },
  {
   "cell_type": "markdown",
   "metadata": {},
   "source": [
    "#### Calcul des Intervalles de Confiance de l'ATE"
   ]
  },
  {
   "cell_type": "code",
   "execution_count": 39,
   "metadata": {},
   "outputs": [],
   "source": [
    "def causal_generation_bootstrap(beta, bias, B= 999, Nobs =1000, dim=2, f=lambda i:i, g=lambda i:i, p=None):\n",
    "    '''\n",
    "    Create list of bootstrap elements\n",
    "    Input :\n",
    "    \n",
    "    B : Nombre d'échantillons Boostrap, 999 est une valeur par défaut pertinente\n",
    "    Nobs : Nombre de lignes da la matrice X i.e. nombre de personnes, 1000 par défaut\n",
    "    dim : Nombre de colonnes de la matrice X i.e. nombres de caractéristiques \n",
    "    (features), 2 par défaut\n",
    "    beta : Vecteur de dimension (2, dim).\n",
    "    bias : Vecteur de dimension (1, 2).\n",
    "    W : Vecteur de dimension (1, Nobs) contenant des 0 ou 1 pour désigner \n",
    "    l'affectation du traitement.\n",
    "    f et g sont des fonctions, identité par défaut\n",
    "    \n",
    "    Output:\n",
    "    \n",
    "    [(X, W, Y)] : liste de B Triplets contenant la matrice X des features, W \n",
    "    le vecteur de l'affectation du traitement et Y le vecteur des résultats \n",
    "    potentiels. \n",
    "                \n",
    "    '''\n",
    "    Bootstraps=[]\n",
    "\n",
    "    for b in range(B):\n",
    "        Bootstraps.append(causal_generation(Nobs, dim, beta, bias, f, g, p))\n",
    "      \n",
    "    return Bootstraps"
   ]
  },
  {
   "cell_type": "code",
   "execution_count": 40,
   "metadata": {},
   "outputs": [],
   "source": [
    "def IC(Bootstraps, base_metalearner=SLearner(),alpha=0.05):\n",
    "    \n",
    "    '''\n",
    "    Calculate l'intervalle de confiance d'un métalearner\n",
    "    \n",
    "    Input :\n",
    "    \n",
    "    Bootstraps : Liste d'échantillons Boostraps comprenant B triplets (X,Y,W)\n",
    "    base_metalerner : metalearner à évaluer\n",
    "    \n",
    "    Output:\n",
    "    \n",
    "    IC : (IC inf , IC sup) du métalearner \n",
    "    '''\n",
    "    #import\n",
    "    from scipy.stats import norm\n",
    "    \n",
    "    #Calcul de l'ATE les B estimateurs du Bootstrap\n",
    "    ATEs=np.zeros((len(Bootstraps)))\n",
    "\n",
    "    for i in range(len(Bootstraps)):\n",
    "        base_metalearner.fit(Bootstraps[i][0],Bootstraps[i][1],Bootstraps[i][2])\n",
    "        \n",
    "        if type(base_metalearner) is XLearner:\n",
    "            propensity=propensity_score(Bootstraps[i][0], Bootstraps[i][1])\n",
    "            base_metalearner.predict_CATE(Bootstraps[i][0], propensity)\n",
    "        else:\n",
    "            base_metalearner.predict_CATE(Bootstraps[i][0])\n",
    "        ATEs[i]=base_metalearner.predict_ATE()\n",
    "    \n",
    "    #Calcul des intervalles de confiance\n",
    "    Mu_ATEs= ATEs.mean()\n",
    "    std_ATEs= ATEs.std()\n",
    "    ATEs_tilt= (ATEs-Mu_ATEs)/std_ATEs\n",
    "    ATEs_tilt.sort()\n",
    "    ATEs.sort()\n",
    "    IC_inf, IC_sup = ATEs[int(B*(alpha/(2)))], ATEs[int(B*(1-alpha/(2)))]\n",
    "    \n",
    "    return (Mu_ATEs, IC_inf, IC_sup)"
   ]
  },
  {
   "cell_type": "code",
   "execution_count": 41,
   "metadata": {
    "scrolled": true
   },
   "outputs": [
    {
     "data": {
      "text/plain": [
       "(-88.55030147607494, -330.8733309543272, 168.39717475080548)"
      ]
     },
     "execution_count": 41,
     "metadata": {},
     "output_type": "execute_result"
    }
   ],
   "source": [
    "B=999\n",
    "Bootstraps=causal_generation_bootstrap(beta, bias, B= B, Nobs =N, dim=d, f=f, g=g, p=p)\n",
    "IC(Bootstraps, base_metalearner=SLearner(),alpha=0.05)"
   ]
  },
  {
   "cell_type": "code",
   "execution_count": 42,
   "metadata": {},
   "outputs": [
    {
     "data": {
      "text/plain": [
       "(-87.72156823053561, -345.8225619801802, 160.51003518334102)"
      ]
     },
     "execution_count": 42,
     "metadata": {},
     "output_type": "execute_result"
    }
   ],
   "source": [
    "B=999\n",
    "Bootstraps=causal_generation_bootstrap(beta, bias, B= B, Nobs =N, dim=d, f=f, g=g, p=p)\n",
    "IC(Bootstraps, base_metalearner=TLearner(),alpha=0.05)"
   ]
  },
  {
   "cell_type": "code",
   "execution_count": 43,
   "metadata": {
    "scrolled": true
   },
   "outputs": [
    {
     "data": {
      "text/plain": [
       "(-92.81802959155327, -364.87538411601133, 160.43950593655202)"
      ]
     },
     "execution_count": 43,
     "metadata": {},
     "output_type": "execute_result"
    }
   ],
   "source": [
    "B=999\n",
    "Bootstraps=causal_generation_bootstrap(beta, bias, B= B, Nobs =N, dim=d, f=f, g=g, p=p)\n",
    "IC(Bootstraps, base_metalearner=XLearner(),alpha=0.05)"
   ]
  },
  {
   "cell_type": "code",
   "execution_count": 30,
   "metadata": {},
   "outputs": [
    {
     "data": {
      "text/plain": [
       "(-89.97770798951566, -90.06173568282433, -89.89016745225288)"
      ]
     },
     "execution_count": 30,
     "metadata": {},
     "output_type": "execute_result"
    }
   ],
   "source": [
    "B=5\n",
    "Bootstraps=causal_generation_bootstrap(beta, bias, B= B, Nobs =N, dim=d, f=f, g=g, p=p)\n",
    "IC(Bootstraps, base_metalearner=DRLearner(),alpha=0.05)"
   ]
  },
  {
   "cell_type": "markdown",
   "metadata": {},
   "source": [
    "### Comparaison graphiques des résultats"
   ]
  },
  {
   "cell_type": "code",
   "execution_count": 44,
   "metadata": {},
   "outputs": [],
   "source": [
    "def graphic_comparison(nb_obs, d, p, beta, bias, f, g, B, base_learner_homemade, base_learner_causalml):\n",
    "\n",
    "  '''\n",
    "  Create a graphic to compare our bases learners vs base learners from causalml \n",
    "\n",
    "  Input :\n",
    "    \n",
    "  B : Nombre d'échantillons Boostrap, 999 est une valeur par défaut pertinente\n",
    "  nb_obs : Nombre de lignes da la matrice X, les listes sont acceptables i.e. nombre de personnes, 1000 par défaut\n",
    "  dim : Nombre de colonnes de la matrice X i.e. nombres de caractéristiques (features), 2 par défaut\n",
    "  beta : Vecteur de dimension (2, dim).\n",
    "  bias : Vecteur de dimension (1, 2).\n",
    "  W : Vecteur de dimension (1, Nobs) contenant des 0 ou 1 pour désigner l'affectation du traitement.\n",
    "  f et g sont des fonctions, identité par défaut\n",
    "    \n",
    "  Output:\n",
    "  Graphique comparant nos base_learner avec ceux du causal_ml\n",
    "  '''\n",
    "\n",
    "  ate_causal_ml = []\n",
    "  lb_causal_ml = []\n",
    "  ub_causal_ml = []\n",
    "\n",
    "  ates = []\n",
    "  ates_inf = []\n",
    "  ates_sup = []\n",
    "\n",
    "  for n in nb_obs:\n",
    "\n",
    "    # Génération des données\n",
    "    Bootstraps=causal_generation_bootstrap(beta, bias, B= B, Nobs =n, dim=d, f=f, g=g, p=p) \n",
    "    mu, inf, sup = IC(Bootstraps, base_metalearner=base_learner_homemade, alpha=0.05)\n",
    "    ates.append(mu)\n",
    "    ates_inf.append(inf)\n",
    "    ates_sup.append(sup)\n",
    "\n",
    "    # S learner causal ML\n",
    "    X, W, Y = causal_generation(n, d, beta, bias, f, g, p)\n",
    "    lr = base_learner_causalml\n",
    "    te, lb, ub = lr.estimate_ate(X, W, Y)\n",
    "    ate_causal_ml.append(te[0])\n",
    "    lb_causal_ml.append(lb[0])\n",
    "    ub_causal_ml.append(ub[0])\n",
    "\n",
    "\n",
    "  plt.plot(nb_obs,ates, color='blue',label = 'ATE_homemade')\n",
    "  plt.fill_between(nb_obs, ates_inf,ates_sup,alpha = 0.5, color='blue', label = 'IC_ATE_homemade')\n",
    "  plt.plot(nb_obs, ate_causal_ml,color='orange',label='ATE_causal_ml')\n",
    "  plt.fill_between(nb_obs, lb_causal_ml, ub_causal_ml,alpha = 0.5, color='orange',label='IC_ATE_causalml')\n",
    "  plt.legend()\n",
    "  plt.show()\n",
    "  "
   ]
  },
  {
   "cell_type": "code",
   "execution_count": 36,
   "metadata": {},
   "outputs": [
    {
     "data": {
      "image/png": "[encoded data removed]",
      "text/plain": [
       "<Figure size 720x576 with 1 Axes>"
      ]
     },
     "metadata": {},
     "output_type": "display_data"
    }
   ],
   "source": [
    "nb_obs = [i for i in range(100,1000,100)]\n",
    "plt.title('Comparaison des Slearners');\n",
    "graphic_comparison(nb_obs, d, p, beta, bias, f, g, B, SLearner(), LRSRegressor())"
   ]
  },
  {
   "cell_type": "code",
   "execution_count": null,
   "metadata": {},
   "outputs": [],
   "source": [
    "nb_obs = [i for i in range(100,1000,100)]\n",
    "plt.title('Comparaison des Tlearners');\n",
    "graphic_comparison(nb_obs, d, p, beta, bias, f, g, B, TLearner(), XGBTRegressor())"
   ]
  },
  {
   "cell_type": "markdown",
   "metadata": {},
   "source": [
    "# Test sur clustering"
   ]
  },
  {
   "cell_type": "code",
   "execution_count": 45,
   "metadata": {},
   "outputs": [],
   "source": [
    "from sklearn.cluster import KMeans\n",
    "from sklearn.mixture import GaussianMixture\n",
    "from sklearn.neighbors import KNeighborsClassifier\n",
    "from sklearn.cluster import KMeans\n",
    "from sklearn.ensemble import RandomForestRegressor\n",
    "import tp_knn_source\n",
    "from copy import deepcopy"
   ]
  },
  {
   "cell_type": "code",
   "execution_count": 158,
   "metadata": {},
   "outputs": [],
   "source": [
    "# paramètres pour faciliter le calcul de l'ATE par intégration\n",
    "N = 500\n",
    "d = 2                                     # d = 2, afin de pouvoir être calculé par intégration et avec Monte Carlo\n",
    "p = 0.5\n",
    "beta0 = np.random.uniform(1, 30, (1, d))\n",
    "beta1 = np.random.uniform(1, 100, (1, d))\n",
    "beta = np.vstack((beta0,beta0))               # beta0 = beta1           \n",
    "bias = np.array([0,10])                       # Gamma0 = Gamma1 \n",
    "f = lambda x:x\n",
    "g = lambda x:x"
   ]
  },
  {
   "cell_type": "code",
   "execution_count": 47,
   "metadata": {},
   "outputs": [],
   "source": [
    "def causal_generation_bigauss(Nobs, dim, beta, bias, f, g, p):\n",
    "    '''\n",
    "    Input :\n",
    "    \n",
    "    Nobs : Nombre de lignes da la matrice X i.e. nombre de personnes.\n",
    "    dim : Nombre de colonnes de la matrice X i.e. nombres de caractéristiques (features).\n",
    "    beta : Vecteur de dimension (2, dim).\n",
    "    bias : Vecteur de dimension (1, 2).\n",
    "    W : Vecteur de dimension (1, Nobs) contenant des 0 ou 1 pour désigner \n",
    "    l'affectation du traitement.\n",
    "    f et g sont des fonctions.\n",
    "    \n",
    "    Output:\n",
    "    \n",
    "    (X, Y, W) : Triplet contenant la matrice X des features, Y le vecteur des \n",
    "                résultats potentiels et W le vecteur de l'affectation du traitement.\n",
    "    '''\n",
    "    moy = np.zeros(dim)\n",
    "    var = np.eye(dim)\n",
    "    n1 = int(Nobs/2)\n",
    "    n2 = Nobs-n1\n",
    "    X, _= tp_knn_source.rand_bi_gauss(n1=n1, n2=n2, mu1=[1, 1], mu2=[0.5, 0.5], sigmas1=[0.5, 0.1],\n",
    "                  sigmas2=[0.1, 0.1])\n",
    "    \n",
    "    Y = np.zeros(Nobs)\n",
    "\n",
    "    W = treatment_assign(Nobs, dim, X, p)\n",
    "\n",
    "    for i in range(Nobs):\n",
    "        bruit = np.random.normal(0, 1)\n",
    "        if W[i] == 0:\n",
    "            Y[i] = f(beta[0] @ X[i] + bias[0]) + bruit\n",
    "        if W[i] == 1:\n",
    "            Y[i] = g(beta[1] @ X[i] + bias[1]) + bruit\n",
    "            \n",
    "    return (X, W, Y)"
   ]
  },
  {
   "cell_type": "code",
   "execution_count": 48,
   "metadata": {},
   "outputs": [],
   "source": [
    "# Génération des données\n",
    "X, W, Y = causal_generation_bigauss(N, d, beta, bias, f, g, p)"
   ]
  },
  {
   "cell_type": "markdown",
   "metadata": {},
   "source": [
    "## Clustering sur les features"
   ]
  },
  {
   "cell_type": "code",
   "execution_count": 49,
   "metadata": {},
   "outputs": [
    {
     "data": {
      "image/png": "[encoded data removed]",
      "text/plain": [
       "<Figure size 720x576 with 1 Axes>"
      ]
     },
     "metadata": {},
     "output_type": "display_data"
    }
   ],
   "source": [
    "gmm = GaussianMixture(n_components=2)\n",
    "gmm.fit(X)\n",
    "groups=gmm.predict(X)\n",
    "#Plot\n",
    "data=[X, groups]\n",
    "tp_knn_source.plot_2d(data[0],data[1])"
   ]
  },
  {
   "cell_type": "code",
   "execution_count": 50,
   "metadata": {},
   "outputs": [],
   "source": [
    "def clustering_features(X, W, Y, n_components = 2 ,cluster_model = 'gaussian', \n",
    "                        base_metalearner=SLearner(base_estimator=LinearRegression())):\n",
    "    \n",
    "    #Clusters identification\n",
    "    if cluster_model == 'gaussian':\n",
    "        clf = GaussianMixture(n_components=n_components)\n",
    "    else:\n",
    "        clf = KMeans(n_clusters=n_components)\n",
    "    clf.fit(X)\n",
    "    groups=clf.predict(X)\n",
    "    labels=np.unique(groups)\n",
    "    \n",
    "    #CATE et ATE Calculation per cluster\n",
    "    ates={}\n",
    "    base_metalearner.fit(X,W,Y)\n",
    "        \n",
    "    if type(base_metalearner) is XLearner:\n",
    "        propensity=propensity_score(X, W)\n",
    "        cate_hat = base_metalearner.predict_CATE(X, propensity)\n",
    "    else:\n",
    "        cate_hat = base_metalearner.predict_CATE(X)\n",
    "    print(\"- Les dimensions du CATE pour le groupe complet sont de {}.\".format(cate_hat.shape))    \n",
    "    \n",
    "    ate_hat = base_metalearner.predict_ATE()\n",
    "    print(\"- L'estimation de la valeur de l'ATE pour le groupe complet = {}.\".format(ate_hat))\n",
    "    \n",
    "    for label in labels:\n",
    "        idx_group=groups==label             \n",
    "        print(\"- Les dimensions du CATE pour le groupe {} sont de {}.\".format(label,cate_hat[idx_group].shape))\n",
    "        ate_hat =cate_hat[idx_group].mean()\n",
    "        print(\"- L'estimation de la valeur de l'ATE pour le groupe {} = {}.\".format(label, ate_hat))\n",
    "        ates[label] = ate_hat\n",
    "    return ates"
   ]
  },
  {
   "cell_type": "code",
   "execution_count": 51,
   "metadata": {
    "scrolled": true
   },
   "outputs": [
    {
     "name": "stdout",
     "output_type": "stream",
     "text": [
      "- Les dimensions du CATE pour le groupe complet sont de (500,).\n",
      "- L'estimation de la valeur de l'ATE pour le groupe complet = 10.042188936585204.\n",
      "- Les dimensions du CATE pour le groupe 0 sont de (250,).\n",
      "- L'estimation de la valeur de l'ATE pour le groupe 0 = 9.85853291522918.\n",
      "- Les dimensions du CATE pour le groupe 1 sont de (111,).\n",
      "- L'estimation de la valeur de l'ATE pour le groupe 1 = 10.230863598005337.\n",
      "- Les dimensions du CATE pour le groupe 2 sont de (139,).\n",
      "- L'estimation de la valeur de l'ATE pour le groupe 2 = 10.221837266954784.\n"
     ]
    },
    {
     "data": {
      "text/plain": [
       "{0: 9.85853291522918, 1: 10.230863598005337, 2: 10.221837266954784}"
      ]
     },
     "execution_count": 51,
     "metadata": {},
     "output_type": "execute_result"
    }
   ],
   "source": [
    "clustering_features(X, W, Y, n_components = 3 ,cluster_model = 'gaussian', \n",
    "                        base_metalearner=XLearner())"
   ]
  },
  {
   "cell_type": "markdown",
   "metadata": {},
   "source": [
    "## Clustering sur le CATE"
   ]
  },
  {
   "cell_type": "code",
   "execution_count": 52,
   "metadata": {},
   "outputs": [],
   "source": [
    "def clustering_cate(X, W, Y, n_components = 2 ,cluster_model = 'gaussian', \n",
    "                        base_metalearner=SLearner(base_estimator=LinearRegression())):\n",
    "    \n",
    "    #CATE Calculation\n",
    "    ates={}\n",
    "    base_metalearner.fit(X,W,Y)\n",
    "    \n",
    "    if type(base_metalearner) is XLearner:\n",
    "        propensity=propensity_score(X, W)\n",
    "        cate_hat = base_metalearner.predict_CATE(X, propensity)\n",
    "    else:\n",
    "        cate_hat = base_metalearner.predict_CATE(X)\n",
    "       \n",
    "    print(\"- Les dimensions du CATE pour le groupe complet sont de {}.\".format(cate_hat.shape))\n",
    "    ate_hat = base_metalearner.predict_ATE()\n",
    "    print(\"- L'estimation de la valeur de l'ATE pour le groupe complet = {}.\".format(cate_hat.mean()))\n",
    "    \n",
    "    #Clusters identification\n",
    "    CATE=cate_hat.reshape(-1, 1)\n",
    "    if cluster_model == 'gaussian':\n",
    "        clf = GaussianMixture(n_components=n_components)\n",
    "    else:\n",
    "        clf = KMeans(n_clusters=n_components)\n",
    "    clf.fit(CATE)\n",
    "    groups=clf.predict(CATE)\n",
    "    labels=np.unique(groups)\n",
    "    \n",
    "    #CATE et ATE Calculation per cluster\n",
    "    ates={}\n",
    "    for label in labels:\n",
    "        idx_group=groups==label             \n",
    "        print(\"- Les dimensions du CATE pour le groupe {} sont de {}.\".format(label,cate_hat[idx_group].shape))\n",
    "        ate_hat =cate_hat[idx_group].mean()\n",
    "        print(\"- L'estimation de la valeur de l'ATE pour le groupe {} = {}.\".format(label, ate_hat))\n",
    "        ates[label] = ate_hat\n",
    "    \n",
    "    return ates"
   ]
  },
  {
   "cell_type": "code",
   "execution_count": 53,
   "metadata": {
    "scrolled": false
   },
   "outputs": [
    {
     "name": "stdout",
     "output_type": "stream",
     "text": [
      "- Les dimensions du CATE pour le groupe complet sont de (500,).\n",
      "- L'estimation de la valeur de l'ATE pour le groupe complet = 9.984697424188097.\n",
      "- Les dimensions du CATE pour le groupe 0 sont de (159,).\n",
      "- L'estimation de la valeur de l'ATE pour le groupe 0 = 8.865723434127032.\n",
      "- Les dimensions du CATE pour le groupe 1 sont de (63,).\n",
      "- L'estimation de la valeur de l'ATE pour le groupe 1 = 11.701497149864407.\n",
      "- Les dimensions du CATE pour le groupe 2 sont de (278,).\n",
      "- L'estimation de la valeur de l'ATE pour le groupe 2 = 10.235627214483427.\n"
     ]
    },
    {
     "data": {
      "text/plain": [
       "{0: 8.865723434127032, 1: 11.701497149864407, 2: 10.235627214483427}"
      ]
     },
     "execution_count": 53,
     "metadata": {},
     "output_type": "execute_result"
    }
   ],
   "source": [
    "clustering_cate(X, W, Y, n_components = 3 ,cluster_model = 'gaussian', \n",
    "                        base_metalearner=SLearner(base_estimator=RandomForestRegressor()))"
   ]
  },
  {
   "cell_type": "markdown",
   "metadata": {},
   "source": [
    "### Clustering Hybrid"
   ]
  },
  {
   "cell_type": "code",
   "execution_count": 54,
   "metadata": {},
   "outputs": [],
   "source": [
    "def clustering_hybrid(X, W, Y, n_components = 2 ,cluster_model = 'gaussian', \n",
    "                        base_metalearner=SLearner(base_estimator=LinearRegression())):\n",
    "    \n",
    "    #CATE Calculation\n",
    "    ates={}\n",
    "    base_metalearner.fit(X,W,Y)\n",
    "\n",
    "    if type(base_metalearner) is XLearner:\n",
    "        propensity=propensity_score(X, W)\n",
    "        cate_hat = base_metalearner.predict_CATE(X, propensity)\n",
    "    else:\n",
    "        cate_hat = base_metalearner.predict_CATE(X)\n",
    "\n",
    "    print(\"- Les dimensions du CATE pour le groupe complet sont de {}.\".format(cate_hat.shape))\n",
    "    ate_hat = base_metalearner.predict_ATE()\n",
    "    print(\"- L'estimation de la valeur de l'ATE pour le groupe complet = {}.\".format(cate_hat.mean()))\n",
    "\n",
    "    #hybrid features calculation\n",
    "    CATE=cate_hat.reshape(-1, 1)\n",
    "    features = np.hstack((X,CATE))\n",
    "\n",
    "    #Clusters identification\n",
    "    if cluster_model == 'gaussian':\n",
    "        clf = GaussianMixture(n_components=n_components)\n",
    "    else:\n",
    "        clf = KMeans(n_clusters=n_components)\n",
    "    clf.fit(features)\n",
    "    groups=clf.predict(features)\n",
    "    labels=np.unique(groups)\n",
    "    \n",
    "    #cluster calculation (might be wrong)\n",
    "    for label in labels:\n",
    "        idx_group=groups==label             \n",
    "        print(\"- Les dimensions du CATE pour le groupe {} sont de {}.\".format(label,cate_hat[idx_group].shape))\n",
    "        ate_hat =cate_hat[idx_group].mean()\n",
    "        print(\"- L'estimation de la valeur de l'ATE pour le groupe {} = {}.\".format(label, ate_hat))\n",
    "        ates[label] = ate_hat\n",
    "    \n",
    "    return ates"
   ]
  },
  {
   "cell_type": "code",
   "execution_count": 55,
   "metadata": {
    "scrolled": false
   },
   "outputs": [
    {
     "name": "stdout",
     "output_type": "stream",
     "text": [
      "- Les dimensions du CATE pour le groupe complet sont de (500,).\n",
      "- L'estimation de la valeur de l'ATE pour le groupe complet = 9.962932726211202.\n",
      "- Les dimensions du CATE pour le groupe 0 sont de (249,).\n",
      "- L'estimation de la valeur de l'ATE pour le groupe 0 = 9.820387335690999.\n",
      "- Les dimensions du CATE pour le groupe 1 sont de (251,).\n",
      "- L'estimation de la valeur de l'ATE pour le groupe 1 = 10.10434229688662.\n"
     ]
    },
    {
     "data": {
      "text/plain": [
       "{0: 9.820387335690999, 1: 10.10434229688662}"
      ]
     },
     "execution_count": 55,
     "metadata": {},
     "output_type": "execute_result"
    }
   ],
   "source": [
    "clustering_hybrid(X, W, Y, n_components = 2 ,cluster_model = 'gaussian', \n",
    "                        base_metalearner=SLearner(base_estimator=RandomForestRegressor()))"
   ]
  },
  {
   "cell_type": "markdown",
   "metadata": {},
   "source": [
    "### Generic clustering function and metalearners classes (draft)"
   ]
  },
  {
   "cell_type": "markdown",
   "metadata": {},
   "source": [
    "#### Fonction clustering qui calcule aussi le cate et l'ate"
   ]
  },
  {
   "cell_type": "code",
   "execution_count": 143,
   "metadata": {},
   "outputs": [],
   "source": [
    "def clustering_ext(X, W, Y, n_components = 2 , approach ='hybrid', cluster_model = 'gaussian', \n",
    "                        base_metalearner=SLearner(base_estimator=LinearRegression()),verbose=False):\n",
    "    \"\"\"Clustering function\n",
    "    The function shall be fed with X, W and Y and will calculate .\n",
    "    -cluster models available are : 'gaussian' for GMM and KNN for None or others,\n",
    "    -Clustering approaches avalable are 'features', 'cate' and 'hybrid' for (cate + hybrid)\n",
    "    returns dictionnaries of ates, cates \"\"\"\n",
    "    \n",
    "    #CATE et ATE calculation per cluster\n",
    "    ates={}\n",
    "    cates={}\n",
    "    base_metalearner.fit(X,W,Y)\n",
    "        \n",
    "    if type(base_metalearner) is XLearner:\n",
    "        propensity=propensity_score(X, W)\n",
    "        cate_hat = base_metalearner.predict_CATE(X, propensity)\n",
    "    else:\n",
    "        cate_hat = base_metalearner.predict_CATE(X)\n",
    "    if verbose ==True:    \n",
    "        print(\"- Les dimensions du CATE pour le groupe complet sont de {}.\".format(cate_hat.shape))    \n",
    "    \n",
    "    ate_hat = base_metalearner.predict_ATE()\n",
    "    if verbose ==True:\n",
    "        print(\"- L'estimation de la valeur de l'ATE pour le groupe complet = {}.\".format(ate_hat))\n",
    "    \n",
    "    #features calculation\n",
    "    assert (approach=='hybrid' or \n",
    "            approach=='cate' or \n",
    "            approach=='features' ), \"clustering method choosen differs from 'hybrid' or 'cate' or 'features'\"\n",
    "    if approach=='hybrid':\n",
    "        features = np.hstack((X,cate_hat.reshape(-1, 1)))\n",
    "    if approach=='cate':\n",
    "        features=cate_hat.reshape(-1, 1)\n",
    "    if approach=='features':\n",
    "        features=X\n",
    "    \n",
    "    #Clusters identification\n",
    "    if cluster_model == 'gaussian':\n",
    "        clf = GaussianMixture(n_components=n_components)\n",
    "    else:\n",
    "        clf = KMeans(n_clusters=n_components)\n",
    "    clf.fit(features)\n",
    "    groups=clf.predict(features)\n",
    "    labels=np.unique(groups)\n",
    "    \n",
    "    #CATEs et ATEs calculations per cluster\n",
    "    for label in labels:\n",
    "        idx_group=groups==label             \n",
    "        if verbose ==True:\n",
    "            print(\"- Les dimensions du CATE pour le groupe {} sont de {}.\".format(label,cate_hat[idx_group].shape))\n",
    "        cates[label] = cate_hat[idx_group]\n",
    "        ate_hat =cate_hat[idx_group].mean()\n",
    "        if verbose ==True:\n",
    "            print(\"- L'estimation de la valeur de l'ATE pour le groupe {} = {}.\".format(label, ate_hat))\n",
    "        ates[label] = ate_hat\n",
    "    return ates, cates"
   ]
  },
  {
   "cell_type": "code",
   "execution_count": 123,
   "metadata": {
    "scrolled": true
   },
   "outputs": [
    {
     "name": "stdout",
     "output_type": "stream",
     "text": [
      "- Les dimensions du CATE pour le groupe complet sont de (500,).\n",
      "- L'estimation de la valeur de l'ATE pour le groupe complet = 9.962898904945797.\n",
      "- Les dimensions du CATE pour le groupe 0 sont de (237,).\n",
      "- L'estimation de la valeur de l'ATE pour le groupe 0 = 10.804452541513353.\n",
      "- Les dimensions du CATE pour le groupe 1 sont de (263,).\n",
      "- L'estimation de la valeur de l'ATE pour le groupe 1 = 9.204540684921046.\n"
     ]
    }
   ],
   "source": [
    "ate, cates = clustering_ext(X, W, Y, n_components = 2 ,approach='cate',cluster_model = 'knn', \n",
    "                        base_metalearner=SLearner(base_estimator=RandomForestRegressor()),verbose=True)"
   ]
  },
  {
   "cell_type": "markdown",
   "metadata": {},
   "source": [
    "#### Fonction clustering simple qui prend en entrée le cate et l'ate"
   ]
  },
  {
   "cell_type": "code",
   "execution_count": 132,
   "metadata": {},
   "outputs": [],
   "source": [
    "def clustering(X, cate, ate, n_components = 2 , approach ='hybrid', cluster_model = 'gaussian', verbose=False):\n",
    "    \"\"\"Simplified clustering function. \n",
    "    The function shall be fed with X, cate and ate as it is not calculated into the function.\n",
    "    -cluster models available are : 'gaussian' for GMM and KNN for None or others,\n",
    "    -Clustering approaches avalable are 'features', 'cate' and 'hybrid' for (cate + hybrid)\n",
    "    returns dictionnaries of ates, cates \"\"\"\n",
    "    \n",
    "    assert X.shape[0]==cate.shape[0], 'dim of cate and X not compatible'\n",
    "    assert isinstance(cate,np.ndarray), 'dim of cate and X not compatible'\n",
    "    \n",
    "    #CATE et ATE calculation per cluster\n",
    "    ates={}\n",
    "    cates={}\n",
    "\n",
    "    if verbose ==True:    \n",
    "        print(\"- Les dimensions du CATE pour le groupe complet sont de {}.\".format(cate.shape))    \n",
    "    if verbose ==True:\n",
    "        print(\"- L'estimation de la valeur de l'ATE pour le groupe complet = {}.\".format(ate))\n",
    "    \n",
    "    #features calculation\n",
    "    assert (approach=='hybrid' or \n",
    "            approach=='cate' or \n",
    "            approach=='features' ), \"clustering method choosen differs from 'hybrid' or 'cate' or 'features'\"\n",
    "    if approach=='hybrid':\n",
    "        features = np.hstack((X,cate.reshape(-1, 1)))\n",
    "    if approach=='cate':\n",
    "        features=cate.reshape(-1, 1)\n",
    "    if approach=='features':\n",
    "        features=X\n",
    "    \n",
    "    #Clusters identification\n",
    "    if cluster_model == 'gaussian':\n",
    "        clf = GaussianMixture(n_components=n_components)\n",
    "    else:\n",
    "        clf = KMeans(n_clusters=n_components)\n",
    "    clf.fit(features)\n",
    "    groups=clf.predict(features)\n",
    "    labels=np.unique(groups)\n",
    "    \n",
    "    #CATEs et ATEs calculations per cluster\n",
    "    for label in labels:\n",
    "        idx_group=groups==label             \n",
    "        if verbose ==True:\n",
    "            print(\"- Les dimensions du CATE pour le groupe {} sont de {}.\".format(label,cate[idx_group].shape))\n",
    "        cates[label] = cate[idx_group]\n",
    "        ate_hat =cate[idx_group].mean()\n",
    "        if verbose ==True:\n",
    "            print(\"- L'estimation de la valeur de l'ATE pour le groupe {} = {}.\".format(label, ate_hat))\n",
    "        ates[label] = ate_hat\n",
    "    return ates, cates"
   ]
  },
  {
   "cell_type": "code",
   "execution_count": 133,
   "metadata": {},
   "outputs": [
    {
     "data": {
      "text/plain": [
       "((500, 2), (500,), (500,))"
      ]
     },
     "execution_count": 133,
     "metadata": {},
     "output_type": "execute_result"
    }
   ],
   "source": [
    "X.shape, W.shape, Y.shape"
   ]
  },
  {
   "cell_type": "code",
   "execution_count": 134,
   "metadata": {},
   "outputs": [
    {
     "name": "stdout",
     "output_type": "stream",
     "text": [
      "- Les dimensions du CATE pour le groupe complet sont de (500,).\n",
      "- L'estimation de la valeur de l'ATE pour le groupe complet = 9.971139515267241.\n",
      "- Les dimensions du CATE pour le groupe 0 sont de (245,).\n",
      "- L'estimation de la valeur de l'ATE pour le groupe 0 = 10.786503343959836.\n",
      "- Les dimensions du CATE pour le groupe 1 sont de (255,).\n",
      "- L'estimation de la valeur de l'ATE pour le groupe 1 = 9.18775073868024.\n"
     ]
    }
   ],
   "source": [
    "slearner=SLearner_groups(base_estimator=RandomForestRegressor())\n",
    "slearner.fit(X,W,Y)\n",
    "ate, cates = clustering(X, slearner.predict_CATE(X), slearner.predict_ATE(), \n",
    "                            n_components = 2 ,approach='cate',cluster_model = 'knn',verbose=True)"
   ]
  },
  {
   "cell_type": "markdown",
   "metadata": {},
   "source": [
    "#### Classe Slearner qui comprend en interne une fonction clustering"
   ]
  },
  {
   "cell_type": "code",
   "execution_count": 115,
   "metadata": {},
   "outputs": [],
   "source": [
    "from sklearn.base import BaseEstimator, ClassifierMixin\n",
    "\n",
    "class SLearner_groups(BaseEstimator, ClassifierMixin):\n",
    "    \"\"\"Homemade SLearner class with clustering capabilities\n",
    "    -cluster models available are : 'gaussian' for GMM and KNN for None or others,\n",
    "    -Clustering approaches avalable are 'features', 'cate' and 'hybrid' for (cate + hybrid)\"\"\"\n",
    "    \n",
    "    def __init__(self, base_estimator=LinearRegression()):\n",
    "        # init\n",
    "        self.estimator = base_estimator\n",
    "        \n",
    "    def fit(self, X, W, Y):\n",
    "        # Initiation des variables\n",
    "        self.X = X\n",
    "        self.W = W\n",
    "        self.Y = Y\n",
    "        self.features = np.hstack((self.X, self.W[:,np.newaxis]))\n",
    "        self.clf = self.estimator.fit(self.features, self.Y)\n",
    "    \n",
    "    def clustering_function(self):\n",
    "        \"\"\"Clustering function\n",
    "        returns dictionnaries of ates, cates \"\"\"\n",
    "\n",
    "        #CATE et ATE calculation\n",
    "        cate_hat = self.Y_1_hat - self.Y_0_hat\n",
    "        if self.verbose ==True:    \n",
    "            print(\"- Les dimensions du CATE pour le groupe complet sont de {}.\".format(cate_hat.shape))    \n",
    "        if self.verbose ==True:\n",
    "            print(\"- L'estimation de la valeur de l'ATE pour le groupe complet = {}.\".format(cate_hat.mean()))\n",
    "\n",
    "        #features calculation\n",
    "        assert (self.approach=='hybrid' or \n",
    "                self.approach=='cate' or \n",
    "                self.approach=='features'), \"clustering method choosen differs from 'hybrid' or 'cate' or 'features'\"\n",
    "        if self.approach=='hybrid':\n",
    "            features = np.hstack((self.X,cate_hat.reshape(-1, 1)))\n",
    "        if self.approach=='cate':\n",
    "            features=cate_hat.reshape(-1, 1)\n",
    "        if self.approach=='features':\n",
    "            features=self.X\n",
    "\n",
    "        #Clusters identification\n",
    "        if self.cluster_model == 'gaussian':\n",
    "            clf = GaussianMixture(n_components=self.n_components)\n",
    "        else:\n",
    "            clf = KMeans(n_clusters=self.n_components)\n",
    "        clf.fit(features)\n",
    "        groups=clf.predict(features)\n",
    "        labels=np.unique(groups)\n",
    "\n",
    "        #CATEs et ATEs calculations per cluster\n",
    "        for label in labels:\n",
    "            idx_group=groups==label             \n",
    "            if self.verbose ==True:\n",
    "                print(\"- Les dimensions du CATE pour le groupe {} sont de {}.\".format(label,cate_hat[idx_group].shape))\n",
    "            self.cates[label] = cate_hat[idx_group]\n",
    "            ate_hat =cate_hat[idx_group].mean()\n",
    "            if self.verbose ==True:\n",
    "                print(\"- L'estimation de la valeur de l'ATE pour le groupe {} = {}.\".format(label, ate_hat))\n",
    "            self.ates[label] = ate_hat\n",
    "\n",
    "    def predict_CATE(self, x, cluster = False, clusters = None, n_components = 2, \n",
    "                     cluster_model = 'gaussian', clustering_method = 'hybrid', verbose=False):\n",
    "        self.cluster = cluster\n",
    "        self.clusters = clusters\n",
    "        self.n_components = n_components\n",
    "        self.cluster_model = cluster_model\n",
    "        self.approach = clustering_method\n",
    "        self.verbose =verbose\n",
    "        self.Y_0_hat = self.clf.predict(np.c_[x, np.zeros(len(x))])\n",
    "        self.Y_1_hat = self.clf.predict(np.c_[x, np.ones(len(x))])\n",
    "        \n",
    "        if self.cluster == False:\n",
    "            return self.Y_1_hat - self.Y_0_hat\n",
    "        else :\n",
    "            self.ates={}\n",
    "            self.cates={}\n",
    "            \n",
    "            if isinstance(self.clusters,np.ndarray)==False: \n",
    "                self.clustering_function()\n",
    "            else:\n",
    "                assert self.clusters.shape[0]==self.X.shape[0], 'dim of clusters doesn\\'t meet dim of observations'\n",
    "                labels=np.unique(self.clusters)\n",
    "                for label in labels:\n",
    "                    idx_group=groups==label             \n",
    "                    self.cates[label] = (self.Y_1_hat - self.Y_0_hat)[idx_group]\n",
    "                    ate_hat =(self.Y_1_hat - self.Y_0_hat)[idx_group].mean()\n",
    "                    self.ates[label] = ate_hat\n",
    "            return self.cates\n",
    "\n",
    "    def predict_ATE(self):\n",
    "        if self.cluster == False:\n",
    "            return (self.Y_1_hat - self.Y_0_hat).mean()\n",
    "        else:\n",
    "            return self.ates"
   ]
  },
  {
   "cell_type": "code",
   "execution_count": 136,
   "metadata": {},
   "outputs": [
    {
     "name": "stdout",
     "output_type": "stream",
     "text": [
      "- Les dimensions du CATE = (500,).\n",
      "- L'estimation de la valeur de l'ATE = 9.978599342995985.\n"
     ]
    }
   ],
   "source": [
    "slearner=SLearner_groups(base_estimator=RandomForestRegressor())\n",
    "slearner.fit(X,W,Y)\n",
    "\n",
    "cate_hat_S = slearner.predict_CATE(X)\n",
    "print(\"- Les dimensions du CATE = {}.\".format(cate_hat_S.shape))\n",
    "\n",
    "ate_hat_S = slearner.predict_ATE()\n",
    "print(\"- L'estimation de la valeur de l'ATE = {}.\".format(ate_hat_S))"
   ]
  },
  {
   "cell_type": "code",
   "execution_count": 137,
   "metadata": {
    "scrolled": true
   },
   "outputs": [
    {
     "name": "stdout",
     "output_type": "stream",
     "text": [
      "- Les groupes du CATE = dict_keys([0, 1]).\n",
      "- L'estimation de la valeur de l'ATE = {0: 10.084402675016669, 1: 9.844420062555434}.\n"
     ]
    }
   ],
   "source": [
    "slearner=SLearner_groups(base_estimator=RandomForestRegressor())\n",
    "slearner.fit(X,W,Y)\n",
    "\n",
    "cate_hat_S = slearner.predict_CATE(X, cluster = True)\n",
    "print(\"- Les groupes du CATE = {}.\".format(cate_hat_S.keys()))\n",
    "\n",
    "ate_hat_S = slearner.predict_ATE()\n",
    "print(\"- L'estimation de la valeur de l'ATE = {}.\".format(ate_hat_S))"
   ]
  },
  {
   "cell_type": "code",
   "execution_count": 138,
   "metadata": {},
   "outputs": [
    {
     "name": "stdout",
     "output_type": "stream",
     "text": [
      "- Les dimensions du CATE pour le groupe complet sont de (500,).\n",
      "- L'estimation de la valeur de l'ATE pour le groupe complet = 9.98421144929999.\n",
      "- Les dimensions du CATE pour le groupe 0 sont de (240,).\n",
      "- L'estimation de la valeur de l'ATE pour le groupe 0 = 9.152945801229334.\n",
      "- Les dimensions du CATE pour le groupe 1 sont de (260,).\n",
      "- L'estimation de la valeur de l'ATE pour le groupe 1 = 10.75153358598059.\n",
      "- Les groupes du CATE = dict_keys([0, 1]).\n",
      "- L'estimation de la valeur de l'ATE = {0: 9.152945801229334, 1: 10.75153358598059}.\n"
     ]
    }
   ],
   "source": [
    "slearner=SLearner_groups(base_estimator=RandomForestRegressor())\n",
    "slearner.fit(X,W,Y)\n",
    "\n",
    "cate_hat_S = slearner.predict_CATE(X, cluster = True, verbose=True)\n",
    "print(\"- Les groupes du CATE = {}.\".format(cate_hat_S.keys()))\n",
    "\n",
    "ate_hat_S = slearner.predict_ATE()\n",
    "print(\"- L'estimation de la valeur de l'ATE = {}.\".format(ate_hat_S))"
   ]
  },
  {
   "cell_type": "code",
   "execution_count": 139,
   "metadata": {
    "scrolled": false
   },
   "outputs": [
    {
     "name": "stdout",
     "output_type": "stream",
     "text": [
      "- Les groupes du CATE = dict_keys([0, 1, 2, 3, 4]).\n",
      "- L'estimation de la valeur de l'ATE = {0: 10.600724513430734, 1: 9.728415874124776, 2: 11.642311021192416, 3: 10.201503876826198, 4: 8.619014354250792}.\n"
     ]
    }
   ],
   "source": [
    "cate_hat_S = slearner.predict_CATE(X, cluster = True, n_components= 5)\n",
    "print(\"- Les groupes du CATE = {}.\".format(cate_hat_S.keys()))\n",
    "\n",
    "ate_hat_S = slearner.predict_ATE()\n",
    "print(\"- L'estimation de la valeur de l'ATE = {}.\".format(ate_hat_S))"
   ]
  },
  {
   "cell_type": "code",
   "execution_count": 140,
   "metadata": {},
   "outputs": [
    {
     "name": "stdout",
     "output_type": "stream",
     "text": [
      "- Les groupes du CATE = dict_keys([0, 1, 2, 3, 4]).\n",
      "- L'estimation de la valeur de l'ATE = {0: 8.969379692981652, 1: 10.392072154928869, 2: 9.01343327085052, 3: 11.597828076781202, 4: 10.412913674995943}.\n"
     ]
    }
   ],
   "source": [
    "cate_hat_S = slearner.predict_CATE(X, cluster = True, n_components= 5)\n",
    "print(\"- Les groupes du CATE = {}.\".format(cate_hat_S.keys()))\n",
    "\n",
    "ate_hat_S = slearner.predict_ATE()\n",
    "print(\"- L'estimation de la valeur de l'ATE = {}.\".format(ate_hat_S))"
   ]
  },
  {
   "cell_type": "code",
   "execution_count": 141,
   "metadata": {
    "scrolled": true
   },
   "outputs": [
    {
     "name": "stdout",
     "output_type": "stream",
     "text": [
      "- Les groupes du CATE = dict_keys([0, 1]).\n",
      "- L'estimation de la valeur de l'ATE = {0: 9.857517552742058, 1: 10.11090534585792}.\n"
     ]
    }
   ],
   "source": [
    "clusters = np.random.randint(0,2,(X.shape[0],1))\n",
    "cate_hat_S = slearner.predict_CATE(X, cluster = True, clusters = clusters, n_components= 5, \n",
    "                     cluster_model = 'kmeans', clustering_method = 'cate')\n",
    "print(\"- Les groupes du CATE = {}.\".format(cate_hat_S.keys()))\n",
    "\n",
    "ate_hat_S = slearner.predict_ATE()\n",
    "print(\"- L'estimation de la valeur de l'ATE = {}.\".format(ate_hat_S))"
   ]
  },
  {
   "cell_type": "code",
   "execution_count": 219,
   "metadata": {},
   "outputs": [],
   "source": [
    "#from base import is_classifier, clone\n",
    "from sklearn.utils import indexable, check_random_state, _safe_indexing\n",
    "from sklearn.utils.validation import _check_fit_params\n",
    "from sklearn.utils.validation import _num_samples\n",
    "from sklearn.utils.validation import _deprecate_positional_args\n",
    "from sklearn.utils.fixes import delayed\n",
    "from sklearn.utils.metaestimators import _safe_split\n",
    "from sklearn.metrics import check_scoring\n",
    "from sklearn.metrics._scorer import _check_multimetric_scoring, _MultimetricScorer\n",
    "from sklearn.exceptions import FitFailedWarning, NotFittedError\n",
    "from sklearn.model_selection import check_cv\n",
    "from sklearn.preprocessing import LabelEncoder\n",
    "from sklearn.base import is_classifier, clone"
   ]
  },
  {
   "cell_type": "code",
   "execution_count": 328,
   "metadata": {},
   "outputs": [],
   "source": [
    "from sklearn.base import BaseEstimator, ClassifierMixin\n",
    "from sklearn.model_selection import KFold\n",
    "\n",
    "class SLearner_groups(BaseEstimator, ClassifierMixin):\n",
    "    \"\"\"Homemade SLearner class with clustering capabilities\n",
    "    -cluster models available are : 'gaussian' for GMM and KNN for None or others,\n",
    "    -Clustering approaches avalable are 'features', 'cate' and 'hybrid' for (cate + hybrid)\"\"\"\n",
    "    \n",
    "    def __init__(self, base_estimator=LinearRegression()):\n",
    "        # init\n",
    "        self.estimator = base_estimator\n",
    "        \n",
    "    def fit(self, X, W, Y, cv = None):\n",
    "        # Initiation des variables\n",
    "        self.X = X\n",
    "        self.W = W\n",
    "        self.Y = Y\n",
    "        self.cv = cv\n",
    "                \n",
    "        if self.cv==None:\n",
    "            self.features = np.hstack((self.X, self.W[:,np.newaxis]))\n",
    "            self.clf = self.estimator.fit(self.features, self.Y)\n",
    "        else:\n",
    "            assert isinstance(self.cv, int),'cv must be an integer'\n",
    "            self.kf = KFold(n_splits=self.cv, shuffle=False)\n",
    "            self.splits = list(self.kf.split(self.X,self.W,self.Y))\n",
    "    \n",
    "    def clustering_function(self):\n",
    "        \"\"\"Clustering function\n",
    "        returns dictionnaries of ates, cates \"\"\"\n",
    "\n",
    "        #CATE et ATE calculation\n",
    "        cate_hat = self.Y_1_hat - self.Y_0_hat\n",
    "        if self.verbose ==True:    \n",
    "            print(\"- Les dimensions du CATE pour le groupe complet sont de {}.\".format(cate_hat.shape))    \n",
    "        if self.verbose ==True:\n",
    "            print(\"- L'estimation de la valeur de l'ATE pour le groupe complet = {}.\".format(cate_hat.mean()))\n",
    "\n",
    "        #features calculation\n",
    "        assert (self.approach=='hybrid' or \n",
    "                self.approach=='cate' or \n",
    "                self.approach=='features'), \"clustering method choosen differs from 'hybrid' or 'cate' or 'features'\"\n",
    "        if self.approach=='hybrid':\n",
    "            features = np.hstack((self.X,cate_hat.reshape(-1, 1)))\n",
    "        if self.approach=='cate':\n",
    "            features=cate_hat.reshape(-1, 1)\n",
    "        if self.approach=='features':\n",
    "            features=self.X\n",
    "\n",
    "        #Clusters identification\n",
    "        if self.cluster_model == 'gaussian':\n",
    "            clf = GaussianMixture(n_components=self.n_components)\n",
    "        else:\n",
    "            clf = KMeans(n_clusters=self.n_components)\n",
    "        clf.fit(features)\n",
    "        groups=clf.predict(features)\n",
    "        labels=np.unique(groups)\n",
    "\n",
    "        #CATEs et ATEs calculations per cluster\n",
    "        for label in labels:\n",
    "            idx_group=groups==label             \n",
    "            if self.verbose ==True:\n",
    "                print(\"- Les dimensions du CATE pour le groupe {} sont de {}.\".format(label,cate_hat[idx_group].shape))\n",
    "            self.cates[label] = cate_hat[idx_group]\n",
    "            ate_hat =cate_hat[idx_group].mean()\n",
    "            if self.verbose ==True:\n",
    "                print(\"- L'estimation de la valeur de l'ATE pour le groupe {} = {}.\".format(label, ate_hat))\n",
    "            self.ates[label] = ate_hat\n",
    "\n",
    "    def predict_CATE(self, x, cluster = False, clusters = None, n_components = 2, \n",
    "                     cluster_model = 'gaussian', clustering_method = 'hybrid', verbose=False):\n",
    "        self.cluster = cluster\n",
    "        self.clusters = clusters\n",
    "        self.n_components = n_components\n",
    "        self.cluster_model = cluster_model\n",
    "        self.approach = clustering_method\n",
    "        self.verbose = verbose\n",
    "        \n",
    "        if self.cv==None:\n",
    "            self.Y_0_hat = self.clf.predict(np.c_[x, np.zeros(len(x))])\n",
    "            self.Y_1_hat = self.clf.predict(np.c_[x, np.ones(len(x))])\n",
    "        else:\n",
    "            self.Y_0_hat = np.zeros((X.shape[0]))\n",
    "            self.Y_1_hat = np.zeros((X.shape[0]))\n",
    "            for train, test in self.splits:\n",
    "                X_train, X_test = X[train], X[test]\n",
    "                Y_train, Y_test = Y[train], Y[test]\n",
    "                W_train, W_test = W[train], W[test]\n",
    "                features = np.hstack((X_train, W_train[:,np.newaxis]))\n",
    "                clf = clone(self.estimator).fit(features, Y_train)\n",
    "                self.Y_0_hat[test] = clf.predict(np.c_[X_test, np.zeros(len(X_test))])\n",
    "                self.Y_1_hat[test] = clf.predict(np.c_[X_test, np.ones(len(X_test))])\n",
    "        \n",
    "        if self.cluster == False:\n",
    "            return self.Y_1_hat - self.Y_0_hat\n",
    "        else :\n",
    "            self.ates={}\n",
    "            self.cates={}\n",
    "            \n",
    "            if isinstance(self.clusters,np.ndarray)==False: \n",
    "                self.clustering_function()\n",
    "            else:\n",
    "                assert self.clusters.shape[0]==self.X.shape[0], 'dim of clusters doesn\\'t meet dim of observations'\n",
    "                labels=np.unique(self.clusters)\n",
    "                for label in labels:\n",
    "                    idx_group=groups==label             \n",
    "                    self.cates[label] = (self.Y_1_hat - self.Y_0_hat)[idx_group]\n",
    "                    ate_hat =(self.Y_1_hat - self.Y_0_hat)[idx_group].mean()\n",
    "                    self.ates[label] = ate_hat\n",
    "            return self.cates\n",
    "\n",
    "    def predict_ATE(self):\n",
    "        if self.cluster == False:\n",
    "            return (self.Y_1_hat - self.Y_0_hat).mean()\n",
    "        else:\n",
    "            return self.ates"
   ]
  },
  {
   "cell_type": "code",
   "execution_count": 329,
   "metadata": {},
   "outputs": [
    {
     "name": "stdout",
     "output_type": "stream",
     "text": [
      "- Les dimensions du CATE = (500,).\n",
      "- L'estimation de la valeur de l'ATE = 9.961508136063577.\n"
     ]
    }
   ],
   "source": [
    "slearner=SLearner_groups(base_estimator=RandomForestRegressor())\n",
    "slearner.fit(X,W,Y)\n",
    "\n",
    "cate_hat_S = slearner.predict_CATE(X)\n",
    "print(\"- Les dimensions du CATE = {}.\".format(cate_hat_S.shape))\n",
    "\n",
    "ate_hat_S = slearner.predict_ATE()\n",
    "print(\"- L'estimation de la valeur de l'ATE = {}.\".format(ate_hat_S))"
   ]
  },
  {
   "cell_type": "code",
   "execution_count": 330,
   "metadata": {},
   "outputs": [
    {
     "name": "stdout",
     "output_type": "stream",
     "text": [
      "- Les dimensions du CATE = (500,).\n",
      "- L'estimation de la valeur de l'ATE = 9.977123646634634.\n"
     ]
    }
   ],
   "source": [
    "slearner=SLearner_groups(base_estimator=RandomForestRegressor())\n",
    "slearner.fit(X,W,Y,cv=10)\n",
    "\n",
    "cate_hat_S = slearner.predict_CATE(X)\n",
    "print(\"- Les dimensions du CATE = {}.\".format(cate_hat_S.shape))\n",
    "\n",
    "ate_hat_S = slearner.predict_ATE()\n",
    "print(\"- L'estimation de la valeur de l'ATE = {}.\".format(ate_hat_S))"
   ]
  },
  {
   "cell_type": "markdown",
   "metadata": {},
   "source": [
    "## Comparatif des modèles"
   ]
  },
  {
   "cell_type": "code",
   "execution_count": 122,
   "metadata": {},
   "outputs": [],
   "source": [
    "import pandas as pd\n",
    "df = pd.DataFrame(columns = ['SLearner' , 'TLearner', 'XLearner' , 'DRLearner'], index=['0.5', '0.1', 'hybrid'])"
   ]
  },
  {
   "cell_type": "code",
   "execution_count": 125,
   "metadata": {
    "scrolled": true
   },
   "outputs": [
    {
     "data": {
      "text/plain": [
       "{0: LinearRegression(),\n",
       " 1: RandomForestRegressor(),\n",
       " 2: GradientBoostingRegressor()}"
      ]
     },
     "execution_count": 125,
     "metadata": {},
     "output_type": "execute_result"
    }
   ],
   "source": [
    "from sklearn.ensemble import GradientBoostingRegressor\n",
    "models ={0: LinearRegression(), 1: RandomForestRegressor(), 2:GradientBoostingRegressor()}\n",
    "models"
   ]
  },
  {
   "cell_type": "code",
   "execution_count": 157,
   "metadata": {},
   "outputs": [],
   "source": [
    "i = 2\n",
    "N = 1000\n",
    "d = 2                                       # d = 2, afin de pouvoir être calculé par intégration et par Monte Carlo\n",
    "p = None\n",
    "beta0 = np.random.uniform(1, 30, (1, d))\n",
    "beta1 = np.random.uniform(1,30, (1, d))\n",
    "beta = np.vstack((beta0,beta1))               # beta0 = beta1           \n",
    "bias = np.array([100,10])                 # beta0 = beta1, cas simple pour faciliter l'interprétation des résultats                              # Gamma0 != Gamma1, biais différent\n",
    "f = lambda x:x\n",
    "g = lambda x:x\n",
    "\n",
    "# Génération des données\n",
    "X, W, Y = causal_generation(N, d, beta, bias, f, g, p)"
   ]
  },
  {
   "cell_type": "code",
   "execution_count": 158,
   "metadata": {},
   "outputs": [],
   "source": [
    "slearner = SLearner(base_estimator=models[i])\n",
    "tlearner = TLearner(base_estimator0=models[i],base_estimator1=deepcopy(models[i]))\n",
    "xlearner = XLearner(outcome_learner0 = models[i], outcome_learner1 = deepcopy(models[i]), \n",
    "                 effect_learner0 = deepcopy(models[i]), effect_learner1 = deepcopy(models[i]))\n",
    "drlearner = DRLearner(model_regression = models[i], model_propensity = LogisticRegression(), \n",
    "                 model_final = deepcopy(models[i]))\n",
    "metalearners = { 'Slearner' : slearner,\n",
    "              'TLearner' : tlearner,\n",
    "               'XLearner' : xlearner,\n",
    "               'DRLearner' : drlearner\n",
    "              }"
   ]
  },
  {
   "cell_type": "code",
   "execution_count": 160,
   "metadata": {},
   "outputs": [
    {
     "name": "stdout",
     "output_type": "stream",
     "text": [
      "- ATE pour le metalearner Slearner = -88.50578431129637.\n",
      "- ATE pour le metalearner TLearner = -89.02184983914371.\n",
      "- ATE pour le metalearner XLearner = -89.25197482587703.\n",
      "- ATE pour le metalearner DRLearner = -88.78615131608478.\n"
     ]
    }
   ],
   "source": [
    "results = np.zeros((4,1))\n",
    "for j,(name, metalearner) in enumerate(metalearners.items()):\n",
    "    metalearner.fit(X,W,Y)\n",
    "    if name == 'XLearner':\n",
    "        cls = LogisticRegression()\n",
    "        cls = CalibratedClassifierCV(cls)\n",
    "        cls.fit(X, W)\n",
    "        propensity = cls.predict_proba(X)[:,1]\n",
    "        cate_hat_T = metalearner.predict_CATE(X,propensity)\n",
    "    else:\n",
    "        cate_hat_T = metalearner.predict_CATE(X)\n",
    "    ate_hat_T = metalearner.predict_ATE()\n",
    "    print(\"- ATE pour le metalearner {} = {}.\".format(name, ate_hat_T))\n",
    "    results[j]= ate_hat_T\n",
    "df.iloc[i] = results.ravel()"
   ]
  },
  {
   "cell_type": "code",
   "execution_count": 161,
   "metadata": {},
   "outputs": [
    {
     "data": {
      "text/html": [
       "<div>\n",
       "<style scoped>\n",
       "    .dataframe tbody tr th:only-of-type {\n",
       "        vertical-align: middle;\n",
       "    }\n",
       "\n",
       "    .dataframe tbody tr th {\n",
       "        vertical-align: top;\n",
       "    }\n",
       "\n",
       "    .dataframe thead th {\n",
       "        text-align: right;\n",
       "    }\n",
       "</style>\n",
       "<table border=\"1\" class=\"dataframe\">\n",
       "  <thead>\n",
       "    <tr style=\"text-align: right;\">\n",
       "      <th></th>\n",
       "      <th>SLearner</th>\n",
       "      <th>TLearner</th>\n",
       "      <th>XLearner</th>\n",
       "      <th>DRLearner</th>\n",
       "    </tr>\n",
       "  </thead>\n",
       "  <tbody>\n",
       "    <tr>\n",
       "      <th>0.5</th>\n",
       "      <td>-90.049942</td>\n",
       "      <td>-90.049906</td>\n",
       "      <td>-90.049906</td>\n",
       "      <td>-90.049984</td>\n",
       "    </tr>\n",
       "    <tr>\n",
       "      <th>0.1</th>\n",
       "      <td>-89.920028</td>\n",
       "      <td>-89.889912</td>\n",
       "      <td>-90.139028</td>\n",
       "      <td>-89.994851</td>\n",
       "    </tr>\n",
       "    <tr>\n",
       "      <th>hybrid</th>\n",
       "      <td>-88.505784</td>\n",
       "      <td>-89.02185</td>\n",
       "      <td>-89.251975</td>\n",
       "      <td>-88.786151</td>\n",
       "    </tr>\n",
       "  </tbody>\n",
       "</table>\n",
       "</div>"
      ],
      "text/plain": [
       "         SLearner   TLearner   XLearner  DRLearner\n",
       "0.5    -90.049942 -90.049906 -90.049906 -90.049984\n",
       "0.1    -89.920028 -89.889912 -90.139028 -89.994851\n",
       "hybrid -88.505784  -89.02185 -89.251975 -88.786151"
      ]
     },
     "execution_count": 161,
     "metadata": {},
     "output_type": "execute_result"
    }
   ],
   "source": [
    "df"
   ]
  },
  {
   "cell_type": "code",
   "execution_count": null,
   "metadata": {},
   "outputs": [],
   "source": []
  },
  {
   "cell_type": "code",
   "execution_count": null,
   "metadata": {},
   "outputs": [],
   "source": []
  }
 ],
 "metadata": {
  "colab": {
   "collapsed_sections": [],
   "name": "simulation_model.ipynb",
   "provenance": []
  },
  "kernelspec": {
   "display_name": "Python 3",
   "language": "python",
   "name": "python3"
  },
  "language_info": {
   "codemirror_mode": {
    "name": "ipython",
    "version": 3
   },
   "file_extension": ".py",
   "mimetype": "text/x-python",
   "name": "python",
   "nbconvert_exporter": "python",
   "pygments_lexer": "ipython3",
   "version": "3.7.9"
  }
 },
 "nbformat": 4,
 "nbformat_minor": 1
}
