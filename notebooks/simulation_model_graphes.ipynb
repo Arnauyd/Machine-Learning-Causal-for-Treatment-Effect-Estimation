{
  "nbformat": 4,
  "nbformat_minor": 0,
  "metadata": {
    "colab": {
      "name": "simulation_model_IC+graphic.ipynb",
      "provenance": [],
      "collapsed_sections": []
    },
    "kernelspec": {
      "display_name": "Python 3",
      "language": "python",
      "name": "python3"
    },
    "language_info": {
      "codemirror_mode": {
        "name": "ipython",
        "version": 3
      },
      "file_extension": ".py",
      "mimetype": "text/x-python",
      "name": "python",
      "nbconvert_exporter": "python",
      "pygments_lexer": "ipython3",
      "version": "3.7.9"
    }
  },
  "cells": [
    {
      "cell_type": "markdown",
      "metadata": {
        "id": "HgOWtsJ8rUEH"
      },
      "source": [
        "# Estimation de l'ATE/CATE sur des données synthétiques"
      ]
    },
    {
      "cell_type": "code",
      "metadata": {
        "id": "XWZ-_PbjrUEK"
      },
      "source": [
        "import numpy as np\n",
        "from scipy.stats import bernoulli\n",
        "import scipy as sp\n",
        "from scipy import stats\n",
        "from scipy import integrate\n",
        "import matplotlib.pyplot as plt\n",
        "import seaborn as sns\n",
        "sns.set_style(\"whitegrid\")\n",
        "sns.set_context(\"notebook\", font_scale=1.5, rc={\"lines.linewidth\": 1.5})\n",
        "plt.rcParams['figure.figsize'] = 10, 8\n",
        "\n",
        "from sklearn.linear_model import LinearRegression\n",
        "from sklearn.model_selection import train_test_split\n",
        "\n",
        "import warnings\n",
        "warnings.filterwarnings('ignore')"
      ],
      "execution_count": 1,
      "outputs": []
    },
    {
      "cell_type": "code",
      "metadata": {
        "id": "4Xj_Wz5NFKmO",
        "colab": {
          "base_uri": "https://localhost:8080/",
          "height": 1000
        },
        "outputId": "26068d87-2d4d-4ef7-cf57-5662173a12ac"
      },
      "source": [
        "!pip install causalml"
      ],
      "execution_count": 2,
      "outputs": [
        {
          "output_type": "stream",
          "text": [
            "Collecting causalml\n",
            "\u001b[?25l  Downloading https://files.pythonhosted.org/packages/44/ec/594b32198001b5babf79525958a4134dcbb44418b6296007aebe47024046/causalml-0.10.0.tar.gz (235kB)\n",
            "\u001b[K     |████████████████████████████████| 245kB 5.6MB/s \n",
            "\u001b[?25hRequirement already satisfied: setuptools>=41.0.0 in /usr/local/lib/python3.7/dist-packages (from causalml) (54.2.0)\n",
            "Requirement already satisfied: pip>=10.0 in /usr/local/lib/python3.7/dist-packages (from causalml) (19.3.1)\n",
            "Collecting numpy<1.19.0,>=0.16.0\n",
            "\u001b[?25l  Downloading https://files.pythonhosted.org/packages/d6/c6/58e517e8b1fb192725cfa23c01c2e60e4e6699314ee9684a1c5f5c9b27e1/numpy-1.18.5-cp37-cp37m-manylinux1_x86_64.whl (20.1MB)\n",
            "\u001b[K     |████████████████████████████████| 20.1MB 1.5MB/s \n",
            "\u001b[?25hRequirement already satisfied: scipy==1.4.1 in /usr/local/lib/python3.7/dist-packages (from causalml) (1.4.1)\n",
            "Requirement already satisfied: matplotlib in /usr/local/lib/python3.7/dist-packages (from causalml) (3.2.2)\n",
            "Requirement already satisfied: pandas>=0.24.1 in /usr/local/lib/python3.7/dist-packages (from causalml) (1.1.5)\n",
            "Requirement already satisfied: scikit-learn<0.24.0,>=0.22.0 in /usr/local/lib/python3.7/dist-packages (from causalml) (0.22.2.post1)\n",
            "Requirement already satisfied: statsmodels>=0.9.0 in /usr/local/lib/python3.7/dist-packages (from causalml) (0.10.2)\n",
            "Requirement already satisfied: seaborn in /usr/local/lib/python3.7/dist-packages (from causalml) (0.11.1)\n",
            "Requirement already satisfied: Cython>=0.28.0 in /usr/local/lib/python3.7/dist-packages (from causalml) (0.29.22)\n",
            "Requirement already satisfied: xgboost in /usr/local/lib/python3.7/dist-packages (from causalml) (0.90)\n",
            "Requirement already satisfied: pydotplus in /usr/local/lib/python3.7/dist-packages (from causalml) (2.0.2)\n",
            "Requirement already satisfied: tqdm in /usr/local/lib/python3.7/dist-packages (from causalml) (4.41.1)\n",
            "Collecting shap<0.38.1\n",
            "\u001b[?25l  Downloading https://files.pythonhosted.org/packages/85/a3/c0eab9dd6a894165e2cb87504ff5b2710ac5ede3447d9138620b7341b6a2/shap-0.37.0.tar.gz (326kB)\n",
            "\u001b[K     |████████████████████████████████| 327kB 48.8MB/s \n",
            "\u001b[?25hRequirement already satisfied: dill in /usr/local/lib/python3.7/dist-packages (from causalml) (0.3.3)\n",
            "Requirement already satisfied: lightgbm in /usr/local/lib/python3.7/dist-packages (from causalml) (2.2.3)\n",
            "Collecting pygam\n",
            "\u001b[?25l  Downloading https://files.pythonhosted.org/packages/13/be/775033ef08a8945bec6ad7973b161ca909f852442e0d7cfb8d1a214de1ac/pygam-0.8.0-py2.py3-none-any.whl (1.8MB)\n",
            "\u001b[K     |████████████████████████████████| 1.8MB 48.1MB/s \n",
            "\u001b[?25hRequirement already satisfied: packaging in /usr/local/lib/python3.7/dist-packages (from causalml) (20.9)\n",
            "Requirement already satisfied: keras in /usr/local/lib/python3.7/dist-packages (from causalml) (2.4.3)\n",
            "Requirement already satisfied: tensorflow>=1.15.2 in /usr/local/lib/python3.7/dist-packages (from causalml) (2.4.1)\n",
            "Requirement already satisfied: torch in /usr/local/lib/python3.7/dist-packages (from causalml) (1.8.1+cu101)\n",
            "Collecting pyro-ppl\n",
            "\u001b[?25l  Downloading https://files.pythonhosted.org/packages/aa/7a/fbab572fd385154a0c07b0fa138683aa52e14603bb83d37b198e5f9269b1/pyro_ppl-1.6.0-py3-none-any.whl (634kB)\n",
            "\u001b[K     |████████████████████████████████| 634kB 38.5MB/s \n",
            "\u001b[?25hRequirement already satisfied: cycler>=0.10 in /usr/local/lib/python3.7/dist-packages (from matplotlib->causalml) (0.10.0)\n",
            "Requirement already satisfied: pyparsing!=2.0.4,!=2.1.2,!=2.1.6,>=2.0.1 in /usr/local/lib/python3.7/dist-packages (from matplotlib->causalml) (2.4.7)\n",
            "Requirement already satisfied: kiwisolver>=1.0.1 in /usr/local/lib/python3.7/dist-packages (from matplotlib->causalml) (1.3.1)\n",
            "Requirement already satisfied: python-dateutil>=2.1 in /usr/local/lib/python3.7/dist-packages (from matplotlib->causalml) (2.8.1)\n",
            "Requirement already satisfied: pytz>=2017.2 in /usr/local/lib/python3.7/dist-packages (from pandas>=0.24.1->causalml) (2018.9)\n",
            "Requirement already satisfied: joblib>=0.11 in /usr/local/lib/python3.7/dist-packages (from scikit-learn<0.24.0,>=0.22.0->causalml) (1.0.1)\n",
            "Requirement already satisfied: patsy>=0.4.0 in /usr/local/lib/python3.7/dist-packages (from statsmodels>=0.9.0->causalml) (0.5.1)\n",
            "Collecting slicer==0.0.3\n",
            "  Downloading https://files.pythonhosted.org/packages/02/a6/c708c5a0f338e99cfbcb6288b88794525548e4fc1b8457feec2c552a81a4/slicer-0.0.3-py3-none-any.whl\n",
            "Requirement already satisfied: numba in /usr/local/lib/python3.7/dist-packages (from shap<0.38.1->causalml) (0.51.2)\n",
            "Requirement already satisfied: progressbar2 in /usr/local/lib/python3.7/dist-packages (from pygam->causalml) (3.38.0)\n",
            "Requirement already satisfied: future in /usr/local/lib/python3.7/dist-packages (from pygam->causalml) (0.16.0)\n",
            "Requirement already satisfied: pyyaml in /usr/local/lib/python3.7/dist-packages (from keras->causalml) (3.13)\n",
            "Requirement already satisfied: h5py in /usr/local/lib/python3.7/dist-packages (from keras->causalml) (2.10.0)\n",
            "Requirement already satisfied: keras-preprocessing~=1.1.2 in /usr/local/lib/python3.7/dist-packages (from tensorflow>=1.15.2->causalml) (1.1.2)\n",
            "Requirement already satisfied: wrapt~=1.12.1 in /usr/local/lib/python3.7/dist-packages (from tensorflow>=1.15.2->causalml) (1.12.1)\n",
            "Requirement already satisfied: tensorboard~=2.4 in /usr/local/lib/python3.7/dist-packages (from tensorflow>=1.15.2->causalml) (2.4.1)\n",
            "Requirement already satisfied: typing-extensions~=3.7.4 in /usr/local/lib/python3.7/dist-packages (from tensorflow>=1.15.2->causalml) (3.7.4.3)\n",
            "Requirement already satisfied: grpcio~=1.32.0 in /usr/local/lib/python3.7/dist-packages (from tensorflow>=1.15.2->causalml) (1.32.0)\n",
            "Requirement already satisfied: flatbuffers~=1.12.0 in /usr/local/lib/python3.7/dist-packages (from tensorflow>=1.15.2->causalml) (1.12)\n",
            "Requirement already satisfied: gast==0.3.3 in /usr/local/lib/python3.7/dist-packages (from tensorflow>=1.15.2->causalml) (0.3.3)\n",
            "Requirement already satisfied: astunparse~=1.6.3 in /usr/local/lib/python3.7/dist-packages (from tensorflow>=1.15.2->causalml) (1.6.3)\n",
            "Requirement already satisfied: absl-py~=0.10 in /usr/local/lib/python3.7/dist-packages (from tensorflow>=1.15.2->causalml) (0.12.0)\n",
            "Requirement already satisfied: protobuf>=3.9.2 in /usr/local/lib/python3.7/dist-packages (from tensorflow>=1.15.2->causalml) (3.12.4)\n",
            "Requirement already satisfied: six~=1.15.0 in /usr/local/lib/python3.7/dist-packages (from tensorflow>=1.15.2->causalml) (1.15.0)\n",
            "Requirement already satisfied: termcolor~=1.1.0 in /usr/local/lib/python3.7/dist-packages (from tensorflow>=1.15.2->causalml) (1.1.0)\n",
            "Requirement already satisfied: wheel~=0.35 in /usr/local/lib/python3.7/dist-packages (from tensorflow>=1.15.2->causalml) (0.36.2)\n",
            "Requirement already satisfied: tensorflow-estimator<2.5.0,>=2.4.0 in /usr/local/lib/python3.7/dist-packages (from tensorflow>=1.15.2->causalml) (2.4.0)\n",
            "Requirement already satisfied: opt-einsum~=3.3.0 in /usr/local/lib/python3.7/dist-packages (from tensorflow>=1.15.2->causalml) (3.3.0)\n",
            "Requirement already satisfied: google-pasta~=0.2 in /usr/local/lib/python3.7/dist-packages (from tensorflow>=1.15.2->causalml) (0.2.0)\n",
            "Collecting pyro-api>=0.1.1\n",
            "  Downloading https://files.pythonhosted.org/packages/fc/81/957ae78e6398460a7230b0eb9b8f1cb954c5e913e868e48d89324c68cec7/pyro_api-0.1.2-py3-none-any.whl\n",
            "Requirement already satisfied: llvmlite<0.35,>=0.34.0.dev0 in /usr/local/lib/python3.7/dist-packages (from numba->shap<0.38.1->causalml) (0.34.0)\n",
            "Requirement already satisfied: python-utils>=2.3.0 in /usr/local/lib/python3.7/dist-packages (from progressbar2->pygam->causalml) (2.5.6)\n",
            "Requirement already satisfied: tensorboard-plugin-wit>=1.6.0 in /usr/local/lib/python3.7/dist-packages (from tensorboard~=2.4->tensorflow>=1.15.2->causalml) (1.8.0)\n",
            "Requirement already satisfied: markdown>=2.6.8 in /usr/local/lib/python3.7/dist-packages (from tensorboard~=2.4->tensorflow>=1.15.2->causalml) (3.3.4)\n",
            "Requirement already satisfied: requests<3,>=2.21.0 in /usr/local/lib/python3.7/dist-packages (from tensorboard~=2.4->tensorflow>=1.15.2->causalml) (2.23.0)\n",
            "Requirement already satisfied: google-auth<2,>=1.6.3 in /usr/local/lib/python3.7/dist-packages (from tensorboard~=2.4->tensorflow>=1.15.2->causalml) (1.28.0)\n",
            "Requirement already satisfied: google-auth-oauthlib<0.5,>=0.4.1 in /usr/local/lib/python3.7/dist-packages (from tensorboard~=2.4->tensorflow>=1.15.2->causalml) (0.4.3)\n",
            "Requirement already satisfied: werkzeug>=0.11.15 in /usr/local/lib/python3.7/dist-packages (from tensorboard~=2.4->tensorflow>=1.15.2->causalml) (1.0.1)\n",
            "Requirement already satisfied: importlib-metadata; python_version < \"3.8\" in /usr/local/lib/python3.7/dist-packages (from markdown>=2.6.8->tensorboard~=2.4->tensorflow>=1.15.2->causalml) (3.8.1)\n",
            "Requirement already satisfied: idna<3,>=2.5 in /usr/local/lib/python3.7/dist-packages (from requests<3,>=2.21.0->tensorboard~=2.4->tensorflow>=1.15.2->causalml) (2.10)\n",
            "Requirement already satisfied: certifi>=2017.4.17 in /usr/local/lib/python3.7/dist-packages (from requests<3,>=2.21.0->tensorboard~=2.4->tensorflow>=1.15.2->causalml) (2020.12.5)\n",
            "Requirement already satisfied: urllib3!=1.25.0,!=1.25.1,<1.26,>=1.21.1 in /usr/local/lib/python3.7/dist-packages (from requests<3,>=2.21.0->tensorboard~=2.4->tensorflow>=1.15.2->causalml) (1.24.3)\n",
            "Requirement already satisfied: chardet<4,>=3.0.2 in /usr/local/lib/python3.7/dist-packages (from requests<3,>=2.21.0->tensorboard~=2.4->tensorflow>=1.15.2->causalml) (3.0.4)\n",
            "Requirement already satisfied: cachetools<5.0,>=2.0.0 in /usr/local/lib/python3.7/dist-packages (from google-auth<2,>=1.6.3->tensorboard~=2.4->tensorflow>=1.15.2->causalml) (4.2.1)\n",
            "Requirement already satisfied: pyasn1-modules>=0.2.1 in /usr/local/lib/python3.7/dist-packages (from google-auth<2,>=1.6.3->tensorboard~=2.4->tensorflow>=1.15.2->causalml) (0.2.8)\n",
            "Requirement already satisfied: rsa<5,>=3.1.4; python_version >= \"3.6\" in /usr/local/lib/python3.7/dist-packages (from google-auth<2,>=1.6.3->tensorboard~=2.4->tensorflow>=1.15.2->causalml) (4.7.2)\n",
            "Requirement already satisfied: requests-oauthlib>=0.7.0 in /usr/local/lib/python3.7/dist-packages (from google-auth-oauthlib<0.5,>=0.4.1->tensorboard~=2.4->tensorflow>=1.15.2->causalml) (1.3.0)\n",
            "Requirement already satisfied: zipp>=0.5 in /usr/local/lib/python3.7/dist-packages (from importlib-metadata; python_version < \"3.8\"->markdown>=2.6.8->tensorboard~=2.4->tensorflow>=1.15.2->causalml) (3.4.1)\n",
            "Requirement already satisfied: pyasn1<0.5.0,>=0.4.6 in /usr/local/lib/python3.7/dist-packages (from pyasn1-modules>=0.2.1->google-auth<2,>=1.6.3->tensorboard~=2.4->tensorflow>=1.15.2->causalml) (0.4.8)\n",
            "Requirement already satisfied: oauthlib>=3.0.0 in /usr/local/lib/python3.7/dist-packages (from requests-oauthlib>=0.7.0->google-auth-oauthlib<0.5,>=0.4.1->tensorboard~=2.4->tensorflow>=1.15.2->causalml) (3.1.0)\n",
            "Building wheels for collected packages: causalml, shap\n",
            "  Building wheel for causalml (setup.py) ... \u001b[?25l\u001b[?25hdone\n",
            "  Created wheel for causalml: filename=causalml-0.10.0-cp37-cp37m-linux_x86_64.whl size=493677 sha256=9a700ae81ac811363b16d619285db2d91b9e96599197cfa1c7fb678458779bac\n",
            "  Stored in directory: /root/.cache/pip/wheels/81/7f/44/c9d5ecf03f0d950f53302a5eab1c76bec07bcd5868753e22bf\n",
            "  Building wheel for shap (setup.py) ... \u001b[?25l\u001b[?25hdone\n",
            "  Created wheel for shap: filename=shap-0.37.0-cp37-cp37m-linux_x86_64.whl size=465027 sha256=250e78fc24e032a63656e667ee0220609c1877707e3fe046feb9e701da04b747\n",
            "  Stored in directory: /root/.cache/pip/wheels/df/ad/b0/aa7815ec68850d66551ef618095eccb962c8f6022f1d3dd989\n",
            "Successfully built causalml shap\n",
            "\u001b[31mERROR: tensorflow 2.4.1 has requirement numpy~=1.19.2, but you'll have numpy 1.18.5 which is incompatible.\u001b[0m\n",
            "\u001b[31mERROR: datascience 0.10.6 has requirement folium==0.2.1, but you'll have folium 0.8.3 which is incompatible.\u001b[0m\n",
            "\u001b[31mERROR: albumentations 0.1.12 has requirement imgaug<0.2.7,>=0.2.5, but you'll have imgaug 0.2.9 which is incompatible.\u001b[0m\n",
            "Installing collected packages: numpy, slicer, shap, pygam, pyro-api, pyro-ppl, causalml\n",
            "  Found existing installation: numpy 1.19.5\n",
            "    Uninstalling numpy-1.19.5:\n",
            "      Successfully uninstalled numpy-1.19.5\n",
            "Successfully installed causalml-0.10.0 numpy-1.18.5 pygam-0.8.0 pyro-api-0.1.2 pyro-ppl-1.6.0 shap-0.37.0 slicer-0.0.3\n"
          ],
          "name": "stdout"
        },
        {
          "output_type": "display_data",
          "data": {
            "application/vnd.colab-display-data+json": {
              "pip_warning": {
                "packages": [
                  "numpy"
                ]
              }
            }
          },
          "metadata": {
            "tags": []
          }
        }
      ]
    },
    {
      "cell_type": "code",
      "metadata": {
        "id": "Zli_yoWuclrr"
      },
      "source": [
        "import causalml"
      ],
      "execution_count": 3,
      "outputs": []
    },
    {
      "cell_type": "markdown",
      "metadata": {
        "id": "stT8FysBrUEL"
      },
      "source": [
        "## Génération de données"
      ]
    },
    {
      "cell_type": "code",
      "metadata": {
        "id": "9gPyMC5MrUEM"
      },
      "source": [
        "def treatment_assign(Nobs, X, p):\n",
        "    '''\n",
        "    Input: \n",
        "    \n",
        "    p : score de propension.\n",
        "    Nobs : Nombre de lignes da la matrice X i.e. nombre de personnes.\n",
        "    \n",
        "    Output:\n",
        "    \n",
        "    W : Vecteur de taille Nobs contenant des 0 ou 1 pour désigner l'affectation du traitement.\n",
        "    '''\n",
        "    sigmoid = lambda x: 1/(1+np.exp(-x))\n",
        "    \n",
        "    omega = np.random.uniform(0, 1, (Nobs, d))\n",
        "    psi = np.random.uniform(0, 1, (Nobs, 1))\n",
        "\n",
        "    if p == None:\n",
        "      p = np.zeros(Nobs)\n",
        "      for i in range(Nobs):\n",
        "        p[i] = sigmoid(omega[i] @ X[i])\n",
        "      W = bernoulli.rvs(p, size = Nobs) \n",
        "    else:\n",
        "      W = bernoulli.rvs(p, size = Nobs) \n",
        "    \n",
        "    return W"
      ],
      "execution_count": 4,
      "outputs": []
    },
    {
      "cell_type": "code",
      "metadata": {
        "id": "6lYqHn75rUEM"
      },
      "source": [
        "def causal_generation(Nobs, dim, beta, bias, f, g, p):\n",
        "    '''\n",
        "    Input :\n",
        "    \n",
        "    Nobs : Nombre de lignes da la matrice X i.e. nombre de personnes.\n",
        "    dim : Nombre de colonnes de la matrice X i.e. nombres de caractéristiques (features).\n",
        "    beta : Vecteur de dimension (2, dim).\n",
        "    bias : Vecteur de dimension (1, 2).\n",
        "    W : Vecteur de dimension (1, Nobs) contenant des 0 ou 1 pour désigner l'affectation du traitement.\n",
        "    f et g sont des fonctions.\n",
        "    \n",
        "    Output:\n",
        "    \n",
        "    (X, Y, W) : Triplet contenant la matrice X des features, Y le vecteur des résultats potentiels et \n",
        "                W le vecteur de l'affectation du traitement.\n",
        "    '''\n",
        "    moy = np.zeros(dim)\n",
        "    var = np.eye(dim)\n",
        "    X = np.random.multivariate_normal(moy, var, Nobs)\n",
        "    Y = np.zeros(Nobs)\n",
        "\n",
        "    W = treatment_assign(Nobs, X, p)\n",
        "\n",
        "    for i in range(Nobs):\n",
        "        bruit = np.random.normal(0, 1)\n",
        "        if W[i] == 0:\n",
        "            Y[i] = f(beta[0] @ X[i] + bias[0]) + bruit\n",
        "        if W[i] == 1:\n",
        "            Y[i] = g(beta[1] @ X[i] + bias[1]) + bruit\n",
        "            \n",
        "    return (X, W, Y)"
      ],
      "execution_count": 5,
      "outputs": []
    },
    {
      "cell_type": "markdown",
      "metadata": {
        "id": "O8cCtYY-rUEN"
      },
      "source": [
        "## S-learners"
      ]
    },
    {
      "cell_type": "code",
      "metadata": {
        "id": "tAi-i1kOnOtR"
      },
      "source": [
        "from sklearn.base import BaseEstimator, ClassifierMixin\n",
        "\n",
        "class SLearner(BaseEstimator, ClassifierMixin):\n",
        "    \"\"\" Homemade SLearner class \"\"\"\n",
        "    \n",
        "    def __init__(self, base_estimator=LinearRegression()):\n",
        "        # init\n",
        "        self.estimator = base_estimator\n",
        "        \n",
        "    def fit(self, X, W, Y):\n",
        "        # Initiation des variables\n",
        "        self.X = X\n",
        "        self.W = W\n",
        "        self.Y = Y\n",
        "        self.features = np.hstack((self.X, self.W[:,np.newaxis]))\n",
        "        self.clf = self.estimator.fit(self.features, self.Y)\n",
        "\n",
        "    def predict_CATE(self, x):\n",
        "        # Complete the method      \n",
        "        self.Y_0_hat = self.clf.predict(np.c_[x, np.zeros(len(x))])\n",
        "        self.Y_1_hat = self.clf.predict(np.c_[x, np.ones(len(x))])\n",
        "        return self.Y_1_hat - self.Y_0_hat\n",
        "\n",
        "    def predict_ATE(self):\n",
        "        return (self.Y_1_hat - self.Y_0_hat).mean()"
      ],
      "execution_count": 6,
      "outputs": []
    },
    {
      "cell_type": "markdown",
      "metadata": {
        "id": "FEvqUznWxMrf"
      },
      "source": [
        "## T-learners"
      ]
    },
    {
      "cell_type": "code",
      "metadata": {
        "id": "B9Zl-vv30rHU"
      },
      "source": [
        "from sklearn.base import BaseEstimator, ClassifierMixin\n",
        "\n",
        "class TLearner(BaseEstimator, ClassifierMixin):\n",
        "    \"\"\" Homemade SLearner class \"\"\"\n",
        "    \n",
        "    def __init__(self, base_estimator0=LinearRegression(), base_estimator1=LinearRegression() ):\n",
        "        # init\n",
        "        self.estimator0 = base_estimator0\n",
        "        self.estimator1 = base_estimator1\n",
        "\n",
        "    def fit(self, X, W, Y):\n",
        "        # Initiation des variables\n",
        "        self.X = X\n",
        "        self.W = W\n",
        "        self.Y = Y\n",
        "        self.mu_0 = self.estimator0.fit(X[self.W==0,:], self.Y[self.W==0])\n",
        "        self.mu_1 = self.estimator1.fit(X[self.W==1,:], self.Y[self.W==1])\n",
        "\n",
        "    def predict_CATE(self, x):\n",
        "        # Complete the method         \n",
        "        self.Y_0_hat = self.mu_0.predict(x)\n",
        "        self.Y_1_hat = self.mu_1.predict(x)\n",
        "        return self.Y_1_hat - self.Y_0_hat\n",
        "\n",
        "    def predict_ATE(self):\n",
        "        return (self.Y_1_hat - self.Y_0_hat).mean()"
      ],
      "execution_count": 7,
      "outputs": []
    },
    {
      "cell_type": "markdown",
      "metadata": {
        "id": "mpbCRF4wxSmw"
      },
      "source": [
        "## X-Learners ( a faire)"
      ]
    },
    {
      "cell_type": "markdown",
      "metadata": {
        "id": "ZIf7QInLeFIP"
      },
      "source": [
        "## Phase de test ( cas simple)"
      ]
    },
    {
      "cell_type": "markdown",
      "metadata": {
        "id": "JlTx_NDBy42f"
      },
      "source": [
        "### Initialisation des paramètres (cas simple)"
      ]
    },
    {
      "cell_type": "code",
      "metadata": {
        "id": "3GNGiMt0y9cA"
      },
      "source": [
        "# paramètres pour faciliter le calcul de l'ATE par intégration\n",
        "N = 1000\n",
        "d = 2                                     # d = 2, afin de pouvoir être calculé par intégration et avec Monte Carlo\n",
        "p = 0.7\n",
        "beta = np.random.uniform(1, 30, (1, d))\n",
        "beta = np.vstack((beta,beta))               # beta0 = beta1           \n",
        "bias = np.array([10,0])                   # Gamma0 = Gamma1 \n",
        "f = lambda x:x\n",
        "g = lambda x:x"
      ],
      "execution_count": 8,
      "outputs": []
    },
    {
      "cell_type": "code",
      "metadata": {
        "colab": {
          "base_uri": "https://localhost:8080/"
        },
        "id": "AFnAQ8dnaAVf",
        "outputId": "06273f52-10c9-446e-cf68-5a5a81f1a8fc"
      },
      "source": [
        "print(beta, bias)"
      ],
      "execution_count": 9,
      "outputs": [
        {
          "output_type": "stream",
          "text": [
            "[[14.71020111  1.51326296]\n",
            " [14.71020111  1.51326296]] [10  0]\n"
          ],
          "name": "stdout"
        }
      ]
    },
    {
      "cell_type": "markdown",
      "metadata": {
        "id": "6OhpvinNxUdk"
      },
      "source": [
        "### Générations des données (cas simple)"
      ]
    },
    {
      "cell_type": "code",
      "metadata": {
        "id": "BLuyzerxeJPV"
      },
      "source": [
        "# Génération des données\n",
        "X, W, Y = causal_generation(N, d, beta, bias, f, g, p)"
      ],
      "execution_count": 10,
      "outputs": []
    },
    {
      "cell_type": "markdown",
      "metadata": {
        "id": "0HGXgVo5xa2M"
      },
      "source": [
        "### Prédictions des métalearners \"Team Filrouge\""
      ]
    },
    {
      "cell_type": "markdown",
      "metadata": {
        "id": "6BVz8q9v3pnC"
      },
      "source": [
        "#### Slearners"
      ]
    },
    {
      "cell_type": "code",
      "metadata": {
        "colab": {
          "base_uri": "https://localhost:8080/"
        },
        "id": "gQHpwQc4mGf3",
        "outputId": "cdb3003b-f4b7-4933-9921-45f30be3bf65"
      },
      "source": [
        "slearner = SLearner(base_estimator=LinearRegression())\n",
        "slearner.fit(X,W,Y)\n",
        "\n",
        "cate_hat_S = slearner.predict_CATE(X)\n",
        "print(\"- Les dimensions du CATE = {}.\".format(cate_hat_S.shape))\n",
        "\n",
        "ate_hat_S = slearner.predict_ATE()\n",
        "print(\"- L'estimation de la valeur de l'ATE = {}.\".format(ate_hat_S))"
      ],
      "execution_count": 11,
      "outputs": [
        {
          "output_type": "stream",
          "text": [
            "- Les dimensions du CATE = (1000,).\n",
            "- L'estimation de la valeur de l'ATE = -9.977816265515543.\n"
          ],
          "name": "stdout"
        }
      ]
    },
    {
      "cell_type": "markdown",
      "metadata": {
        "id": "RmJV1Jy-3ve6"
      },
      "source": [
        "#### Tlearners"
      ]
    },
    {
      "cell_type": "code",
      "metadata": {
        "colab": {
          "base_uri": "https://localhost:8080/"
        },
        "id": "r1WmQRa33okq",
        "outputId": "d417c5be-fd5d-469c-a091-034bcb5e05ef"
      },
      "source": [
        "tlearner = TLearner(base_estimator0=LinearRegression(),base_estimator1=LinearRegression())\n",
        "tlearner.fit(X,W,Y)\n",
        "\n",
        "cate_hat_T = tlearner.predict_CATE(X)\n",
        "print(\"- Les dimensions du CATE = {}.\".format(cate_hat_T.shape))\n",
        "\n",
        "ate_hat_T = tlearner.predict_ATE()\n",
        "print(\"- L'estimation de la valeur de l'ATE = {}.\".format(ate_hat_T))"
      ],
      "execution_count": 12,
      "outputs": [
        {
          "output_type": "stream",
          "text": [
            "- Les dimensions du CATE = (1000,).\n",
            "- L'estimation de la valeur de l'ATE = -9.97791302526238.\n"
          ],
          "name": "stdout"
        }
      ]
    },
    {
      "cell_type": "markdown",
      "metadata": {
        "id": "gq-vjom4xmRs"
      },
      "source": [
        "### Prédictions des métalearners \"Causal ML\""
      ]
    },
    {
      "cell_type": "markdown",
      "metadata": {
        "id": "5Tn-YCHA4L5r"
      },
      "source": [
        "#### Slearners"
      ]
    },
    {
      "cell_type": "code",
      "metadata": {
        "colab": {
          "base_uri": "https://localhost:8080/"
        },
        "id": "7naePgnBlxjE",
        "outputId": "0d187359-05fc-43b5-8d56-2d2fb2abdfa5"
      },
      "source": [
        "from causalml.inference.meta import LRSRegressor\n",
        "from xgboost import XGBRegressor\n",
        "\n",
        "\n",
        "lr = LRSRegressor()\n",
        "te, lb, ub = lr.estimate_ate(X, W, Y)\n",
        "print('L\\'estimation de la valeur de l\\'ATE (Linear Regression): {:.2f} ({:.2f}, {:.2f})'.format(te[0], lb[0], ub[0]))"
      ],
      "execution_count": 13,
      "outputs": [
        {
          "output_type": "stream",
          "text": [
            "L'estimation de la valeur de l'ATE (Linear Regression): -9.98 (-10.11, -9.84)\n"
          ],
          "name": "stdout"
        }
      ]
    },
    {
      "cell_type": "markdown",
      "metadata": {
        "id": "VeQ5ZgiJ4OQb"
      },
      "source": [
        "#### Tlearners"
      ]
    },
    {
      "cell_type": "code",
      "metadata": {
        "colab": {
          "base_uri": "https://localhost:8080/"
        },
        "id": "mzPAOp0h4Lac",
        "outputId": "7bb664f5-a61e-4f56-ab18-bfb67f24739b"
      },
      "source": [
        "from causalml.inference.meta import XGBTRegressor\n",
        "\n",
        "xg = XGBTRegressor(random_state=42)\n",
        "te, lb, ub = xg.estimate_ate(X, W, Y)\n",
        "print('L\\'estimation de la valeur de l\\'ATE (XGBoost): {:.2f} ({:.2f}, {:.2f})'.format(te[0], lb[0], ub[0]))"
      ],
      "execution_count": 14,
      "outputs": [
        {
          "output_type": "stream",
          "text": [
            "[17:17:13] WARNING: /workspace/src/objective/regression_obj.cu:152: reg:linear is now deprecated in favor of reg:squarederror.\n",
            "[17:17:13] WARNING: /workspace/src/objective/regression_obj.cu:152: reg:linear is now deprecated in favor of reg:squarederror.\n",
            "L'estimation de la valeur de l'ATE (XGBoost): -9.91 (-10.02, -9.79)\n"
          ],
          "name": "stdout"
        }
      ]
    },
    {
      "cell_type": "markdown",
      "metadata": {
        "id": "kvsZS91J73op"
      },
      "source": [
        "### Paradis"
      ]
    },
    {
      "cell_type": "markdown",
      "metadata": {
        "id": "gJReJVicRdHu"
      },
      "source": [
        "#### Calcul de l'ATE"
      ]
    },
    {
      "cell_type": "code",
      "metadata": {
        "id": "Xvmi5lnT72Ax"
      },
      "source": [
        "def ATE_paradis(beta, bias, f=lambda i:i, g=lambda i:i):\n",
        "  p=beta.shape[1]\n",
        "  if p==1:\n",
        "    ate = integrate.quad(lambda x: (g(beta[1]*x + bias[1]) -f(beta[0]*x + bias[0]))*sp.stats.norm.pdf(x,0,1),-1000 , 1000)\n",
        "  if p==2:\n",
        "    ate=integrate.dblquad(lambda x, y: (g(beta[1,0]*x + beta[1,1]*y + bias[1]) -f(beta[0,0]*x + beta[0,1]*y + bias[0])\n",
        "    )*sp.stats.norm.pdf(x,0,1)*sp.stats.norm.pdf(y,0,1),-1000 , 1000, lambda y :-1000,lambda y : 1000)\n",
        "  if p>2:\n",
        "    raise Warning('dimension above 2')\n",
        "  return  ate"
      ],
      "execution_count": 15,
      "outputs": []
    },
    {
      "cell_type": "code",
      "metadata": {
        "id": "vVGjotUsw566"
      },
      "source": [
        "def monte_carlo(Nobs, dim, beta, bias, f, g):\n",
        "    '''\n",
        "    Input :\n",
        "    \n",
        "    Nobs : Nombre de lignes da la matrice X i.e. nombre de personnes.\n",
        "    dim : Nombre de colonnes de la matrice X i.e. nombres de caractéristiques (features).\n",
        "    beta : Vecteur de dimension (2, dim), note dim doit être < 10\n",
        "    bias : Vecteur de dimension (1, 2).\n",
        "    W : Vecteur de dimension (1, Nobs) contenant des 0 ou 1 pour désigner l'affectation du traitement.\n",
        "    f et g sont des fonctions.\n",
        "    \n",
        "    Output:\n",
        "    \n",
        "    ATE : ATE calculé par la méthode de Monte Carlo\n",
        "    '''\n",
        "    moy = np.zeros(dim)\n",
        "    var = np.eye(dim)\n",
        "    X = np.random.multivariate_normal(moy, var, Nobs)\n",
        "    ATE = np.mean(g(X.dot(beta[1])+ bias[1]) - f(X.dot(beta[0])+ bias[0])) \n",
        "            \n",
        "    return ATE"
      ],
      "execution_count": 16,
      "outputs": []
    },
    {
      "cell_type": "code",
      "metadata": {
        "colab": {
          "base_uri": "https://localhost:8080/"
        },
        "id": "WZHKy9grdYdl",
        "outputId": "5e67efed-05b1-44e6-97b4-f18024e669ed"
      },
      "source": [
        "print('ATE: {}'.format(ATE_paradis(beta, bias, f, g)))\n",
        "print('ATE par monte carlo: {}'.format(monte_carlo(10**6, d, beta, bias, f, g)))"
      ],
      "execution_count": 17,
      "outputs": [
        {
          "output_type": "stream",
          "text": [
            "ATE: (-9.999999994531066, 1.4324331266465507e-08)\n",
            "ATE par monte carlo: -10.0\n"
          ],
          "name": "stdout"
        }
      ]
    },
    {
      "cell_type": "code",
      "metadata": {
        "colab": {
          "base_uri": "https://localhost:8080/",
          "height": 305
        },
        "id": "TDSQDcFgwgeS",
        "scrolled": false,
        "outputId": "7766fbe5-4722-4d30-d759-02dd99875015"
      },
      "source": [
        "res = []\n",
        "#1- varier Nobs pour ate_hat_S et le comparer avec mc_est (meth. monte carlo) avec 10**8\n",
        "#2 - ajouter une courbe avec l'estimation avec causalml avec la borne inf et max et ate_hat_S\n",
        "for i in range(2,8):\n",
        "    mc_est = monte_carlo(10**i, d, beta, bias, f, g)\n",
        "    res.append([abs(mc_est - ate_hat_S)])\n",
        "plt.figure()\n",
        "plt.plot(res)"
      ],
      "execution_count": 18,
      "outputs": [
        {
          "output_type": "execute_result",
          "data": {
            "text/plain": [
              "[<matplotlib.lines.Line2D at 0x7fc68bcb9550>]"
            ]
          },
          "metadata": {
            "tags": []
          },
          "execution_count": 18
        },
        {
          "output_type": "display_data",
          "data": {
            "image/png": "[encoded data removed]",
            "text/plain": [
              "<Figure size 432x288 with 1 Axes>"
            ]
          },
          "metadata": {
            "tags": []
          }
        }
      ]
    },
    {
      "cell_type": "markdown",
      "metadata": {
        "id": "huJw7gEmRdJT"
      },
      "source": [
        "#### Calcul des IC"
      ]
    },
    {
      "cell_type": "code",
      "metadata": {
        "id": "vJpA6i30RdJT"
      },
      "source": [
        "def causal_generation_bootstrap(beta, bias, B, Nobs, dim, f, g, p):\n",
        "    '''\n",
        "    Create list of bootstrap elements\n",
        "    Input :\n",
        "    B : Nombre d'échantillons Boostrap, 999 est une valeur par défaut pertinente\n",
        "    Nobs : Nombre de lignes da la matrice X i.e. nombre de personnes, 1000 par défaut\n",
        "    dim : Nombre de colonnes de la matrice X i.e. nombres de caractéristiques (features), 2 par défaut\n",
        "    beta : Vecteur de dimension (2, dim).\n",
        "    bias : Vecteur de dimension (1, 2).\n",
        "    W : Vecteur de dimension (1, Nobs) contenant des 0 ou 1 pour désigner l'affectation du traitement.\n",
        "    f et g sont des fonctions, identité par défaut\n",
        "    \n",
        "    Output:\n",
        "    [(X, W, Y)] : liste de B Triplets contenant la matrice X des features, W \n",
        "    le vecteur de l'affectation du traitement et Y le vecteur des résultats \n",
        "    potentiels. \n",
        "                \n",
        "    '''\n",
        "    Bootstraps=[]\n",
        "\n",
        "    for b in range(B):\n",
        "        Bootstraps.append(causal_generation(Nobs, dim, beta, bias, f, g, p))\n",
        "      \n",
        "    return Bootstraps"
      ],
      "execution_count": 19,
      "outputs": []
    },
    {
      "cell_type": "code",
      "metadata": {
        "id": "Zf1tJI2URdJU"
      },
      "source": [
        "def IC(Bootstraps, base_metalerner=SLearner(), alpha=0.05):\n",
        "    \n",
        "    '''\n",
        "    Calculate l'intervalle de confiance d'un métalearner\n",
        "    \n",
        "    Input :\n",
        "    Bootstraps : Liste d'échantillons Boostraps comprenant B triplets (X,Y,W)\n",
        "    base_metalerner : metalearner à évaluer\n",
        "    \n",
        "    Output:\n",
        "    IC : (IC inf , IC sup) du métalearner \n",
        "    '''\n",
        "    \n",
        "    #Calcul de l'ATE les B estimateurs du Bootstrap\n",
        "    ATEs = np.zeros((len(Bootstraps)))\n",
        "    base_metalearner = SLearner()\n",
        "    \n",
        "    for i in range(len(Bootstraps)):\n",
        "        base_metalearner.fit(Bootstraps[i][0], Bootstraps[i][1], Bootstraps[i][2])\n",
        "        base_metalearner.predict_CATE(Bootstraps[i][0])\n",
        "        ATEs[i] = base_metalearner.predict_ATE()\n",
        "    \n",
        "    #Calcul des intervalles de confiance\n",
        "    Mu_ATEs = ATEs.mean()\n",
        "    std_ATEs = ATEs.std()\n",
        "    ATEs_tilt = (ATEs-Mu_ATEs)/std_ATEs\n",
        "    ATEs_tilt.sort()\n",
        "    ATEs.sort()\n",
        "    \n",
        "    B = len(Bootstraps)\n",
        "    IC_inf, IC_sup = ATEs[int(B*(alpha/(2)))], ATEs[int(B*(1-alpha/(2)))]\n",
        "    \n",
        "    return Mu_ATEs, IC_inf, IC_sup"
      ],
      "execution_count": 20,
      "outputs": []
    },
    {
      "cell_type": "code",
      "metadata": {
        "colab": {
          "base_uri": "https://localhost:8080/"
        },
        "id": "ATsq2T8PQZEH",
        "outputId": "0798933b-421a-4615-9db8-150980dc1c6e"
      },
      "source": [
        " # Intervalle de confiance\n",
        "B = 999\n",
        "Bootstraps = causal_generation_bootstrap(beta, bias, B, N, d, f, g, p)\n",
        "_, IC_inf, IC_sup = IC(Bootstraps, base_metalerner = SLearner(), alpha=0.05)\n",
        "print(\"- Intervalle de confiance pour l'ATE : [{}, {}].\".format(IC_inf, IC_sup))"
      ],
      "execution_count": 21,
      "outputs": [
        {
          "output_type": "stream",
          "text": [
            "- Intervalle de confiance pour l'ATE : [-10.13621427566111, -9.865085766920602].\n"
          ],
          "name": "stdout"
        }
      ]
    },
    {
      "cell_type": "code",
      "metadata": {
        "id": "Y8qcK-rrRdJV"
      },
      "source": [
        "def visualization(beta, bias, B, N, d, f, g, p, base_metalerner=SLearner()):\n",
        "    ates = []\n",
        "    ates_inf = []\n",
        "    ates_sup = []\n",
        "    B = 999\n",
        "    \n",
        "    for i in range(100,1000,100):\n",
        "        Bootstraps = causal_generation_bootstrap(beta, bias, B, N, d, f, g, p)\n",
        "        mu, inf, sup = IC(Bootstraps, base_metalerner, alpha=0.05)\n",
        "        ates.append(mu)\n",
        "        ates_inf.append(inf)\n",
        "        ates_sup.append(sup)\n",
        "\n",
        "    plt.figure(figsize=(10,8))\n",
        "    x=np.arange(100,1000,100)\n",
        "    plt.plot(x, ates, color='k',label='ATE')\n",
        "    plt.fill_between(x, ates_inf,ates_sup)\n",
        "    plt.ylim(min(ates_inf)-1,min(ates_inf)+1)\n",
        "    plt.xlabel(\"N observations\")\n",
        "    plt.ylabel(\"ATE\")\n",
        "    plt.title(\"Evaluation de l'ATE en fonction du nombre d'observations\")\n",
        "    plt.legend(loc=1,numpoints=1)\n",
        "\n",
        "    plt.show();"
      ],
      "execution_count": 22,
      "outputs": []
    },
    {
      "cell_type": "code",
      "metadata": {
        "colab": {
          "base_uri": "https://localhost:8080/",
          "height": 562
        },
        "id": "wOUqJkTMDQNh",
        "outputId": "78ba1c2f-a13b-40ff-e721-543ab1c61409"
      },
      "source": [
        "visualization(beta, bias, B, N, d, f, g, p, base_metalerner = SLearner())"
      ],
      "execution_count": 23,
      "outputs": [
        {
          "output_type": "display_data",
          "data": {
            "image/png": "[encoded data removed]",
            "text/plain": [
              "<Figure size 720x576 with 1 Axes>"
            ]
          },
          "metadata": {
            "tags": []
          }
        }
      ]
    },
    {
      "cell_type": "markdown",
      "metadata": {
        "id": "sLaNwyreGHPF"
      },
      "source": [
        "# Graphique de comparaison S Learner"
      ]
    },
    {
      "cell_type": "code",
      "metadata": {
        "id": "3n98Z2hEFVv-"
      },
      "source": [
        "def graphic_comparison(nb_obs, d, p, beta, bias, f, g, B, base_learner_homemade, base_learner_causalml):\n",
        "\n",
        "  '''\n",
        "  Create a graphic to compare our bases learners vs base learners from causalml \n",
        "\n",
        "  Input :\n",
        "    \n",
        "  B : Nombre d'échantillons Boostrap, 999 est une valeur par défaut pertinente\n",
        "  nb_obs : Nombre de lignes da la matrice X, les listes sont acceptables i.e. nombre de personnes, 1000 par défaut\n",
        "  dim : Nombre de colonnes de la matrice X i.e. nombres de caractéristiques (features), 2 par défaut\n",
        "  beta : Vecteur de dimension (2, dim).\n",
        "  bias : Vecteur de dimension (1, 2).\n",
        "  W : Vecteur de dimension (1, Nobs) contenant des 0 ou 1 pour désigner l'affectation du traitement.\n",
        "  f et g sont des fonctions, identité par défaut\n",
        "    \n",
        "  Output:\n",
        "  Graphique comparant nos base_learner avec ceux du causal_ml\n",
        "  '''\n",
        "\n",
        "  ate_causal_ml = []\n",
        "  lb_causal_ml = []\n",
        "  ub_causal_ml = []\n",
        "\n",
        "  ates = []\n",
        "  ates_inf = []\n",
        "  ates_sup = []\n",
        "\n",
        "  for n in nb_obs :\n",
        "\n",
        "    # Génération des données\n",
        "    Bootstraps = causal_generation_bootstrap(beta, bias, B, n, d, f, g, p)\n",
        "    mu, inf, sup = IC(Bootstraps, base_metalerner=base_learner_homemade, alpha=0.05)\n",
        "    ates.append(mu)\n",
        "    ates_inf.append(inf)\n",
        "    ates_sup.append(sup)\n",
        "\n",
        "    # S learner causal ML\n",
        "    X, W, Y = causal_generation(n, d, beta, bias, f, g, p)\n",
        "    lr = base_learner_causalml\n",
        "    te, lb, ub = lr.estimate_ate(X, W, Y)\n",
        "    ate_causal_ml.append(te[0])\n",
        "    lb_causal_ml.append(lb[0])\n",
        "    ub_causal_ml.append(ub[0])\n",
        "\n",
        "\n",
        "  plt.figure(figsize=(12,7))\n",
        "  plt.plot(nb_obs,ates, color='blue',label = 'ATE_homemade')\n",
        "  plt.fill_between(nb_obs, ates_inf,ates_sup,alpha = 0.5, color='blue', label = 'IC_ATE_homemade')\n",
        "  plt.plot(nb_obs, ate_causal_ml,color='orange',label='ATE_causal_ml')\n",
        "  plt.fill_between(nb_obs, lb_causal_ml, ub_causal_ml,alpha = 0.5, color='orange',label='IC_ATE_causalml')\n",
        "  plt.xlabel(\"Nombre d'observations\")\n",
        "  plt.ylabel(\"Valeurs de l'ATE\")\n",
        "  plt.title(\"Evaluations de l'ATE en fonction du nombre d'observations\")\n",
        "  plt.legend()\n",
        "  plt.show()\n",
        "  "
      ],
      "execution_count": 39,
      "outputs": []
    },
    {
      "cell_type": "code",
      "metadata": {
        "id": "zehtMf0ob2UH"
      },
      "source": [
        "nb_obs = [i for i in range(100,2000,100)]\n",
        "d = 2\n",
        "p = 0.7\n",
        "B = 999             \n",
        "f = lambda x:x\n",
        "g = lambda x:x\n",
        "base_learner_homemade = SLearner()\n",
        "base_learner_causalml = LRSRegressor()"
      ],
      "execution_count": 40,
      "outputs": []
    },
    {
      "cell_type": "code",
      "metadata": {
        "colab": {
          "base_uri": "https://localhost:8080/",
          "height": 504
        },
        "id": "7H3KhfQxm-cX",
        "outputId": "330d3804-bff5-41c2-fefe-14814225bfd0"
      },
      "source": [
        "graphic_comparison(nb_obs, 2, p, beta, bias, f, g, B, base_learner_homemade=SLearner(), base_learner_causalml=LRSRegressor())"
      ],
      "execution_count": 41,
      "outputs": [
        {
          "output_type": "display_data",
          "data": {
            "image/png": "[encoded data removed]",
            "text/plain": [
              "<Figure size 864x504 with 1 Axes>"
            ]
          },
          "metadata": {
            "tags": []
          }
        }
      ]
    }
  ]
}