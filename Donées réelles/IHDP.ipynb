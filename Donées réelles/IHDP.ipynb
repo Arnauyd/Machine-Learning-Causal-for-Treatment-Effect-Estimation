{
 "cells": [
  {
   "cell_type": "markdown",
   "metadata": {},
   "source": [
    "Programme de santé et de développement du nourrisson (IHDP). L'ensemble de données IHDP  contient des données d'une\n",
    "étude randomisée sur l'impact des visites de spécialistes sur le développement cognitif des enfants, et\n",
    "se compose de 747 enfants avec 25 covariables décrivant les propriétés des enfants et de leurs mères.\n",
    "Les enfants qui n'ont pas reçu de visites de spécialistes faisaient partie d'un groupe témoin.\n"
   ]
  },
  {
   "cell_type": "code",
   "execution_count": 2,
   "metadata": {},
   "outputs": [],
   "source": [
    "import pandas as pd\n",
    "import numpy as np\n",
    "\n",
    "from sklearn.preprocessing import OneHotEncoder\n",
    "\n",
    "import matplotlib.pyplot as plt\n",
    "import seaborn as sns\n",
    "sns.set_style(\"whitegrid\")\n",
    "sns.set_context(\"notebook\", font_scale=1.5, rc={\"lines.linewidth\": 2.5})\n",
    "plt.rcParams['figure.figsize'] = 10, 8"
   ]
  },
  {
   "cell_type": "code",
   "execution_count": 3,
   "metadata": {},
   "outputs": [],
   "source": [
    "from scipy.stats import bernoulli\n",
    "import scipy as sp\n",
    "from scipy import stats\n",
    "from scipy import integrate\n",
    "\n",
    "\n",
    "from sklearn.linear_model import LinearRegression\n",
    "from sklearn.model_selection import train_test_split\n",
    "\n",
    "import causalml\n",
    "\n",
    "import warnings\n",
    "warnings.filterwarnings('ignore')"
   ]
  },
  {
   "cell_type": "markdown",
   "metadata": {},
   "source": [
    "## Data loading "
   ]
  },
  {
   "cell_type": "code",
   "execution_count": 4,
   "metadata": {},
   "outputs": [
    {
     "data": {
      "text/html": [
       "<div>\n",
       "<style scoped>\n",
       "    .dataframe tbody tr th:only-of-type {\n",
       "        vertical-align: middle;\n",
       "    }\n",
       "\n",
       "    .dataframe tbody tr th {\n",
       "        vertical-align: top;\n",
       "    }\n",
       "\n",
       "    .dataframe thead th {\n",
       "        text-align: right;\n",
       "    }\n",
       "</style>\n",
       "<table border=\"1\" class=\"dataframe\">\n",
       "  <thead>\n",
       "    <tr style=\"text-align: right;\">\n",
       "      <th></th>\n",
       "      <th>treatment</th>\n",
       "      <th>y_factual</th>\n",
       "      <th>y_cfactual</th>\n",
       "      <th>mu0</th>\n",
       "      <th>mu1</th>\n",
       "      <th>x1</th>\n",
       "      <th>x2</th>\n",
       "      <th>x3</th>\n",
       "      <th>x4</th>\n",
       "      <th>x5</th>\n",
       "      <th>...</th>\n",
       "      <th>x16</th>\n",
       "      <th>x17</th>\n",
       "      <th>x18</th>\n",
       "      <th>x19</th>\n",
       "      <th>x20</th>\n",
       "      <th>x21</th>\n",
       "      <th>x22</th>\n",
       "      <th>x23</th>\n",
       "      <th>x24</th>\n",
       "      <th>x25</th>\n",
       "    </tr>\n",
       "  </thead>\n",
       "  <tbody>\n",
       "    <tr>\n",
       "      <th>0</th>\n",
       "      <td>1</td>\n",
       "      <td>5.599916</td>\n",
       "      <td>4.318780</td>\n",
       "      <td>3.268256</td>\n",
       "      <td>6.854457</td>\n",
       "      <td>-0.528603</td>\n",
       "      <td>-0.343455</td>\n",
       "      <td>1.128554</td>\n",
       "      <td>0.161703</td>\n",
       "      <td>-0.316603</td>\n",
       "      <td>...</td>\n",
       "      <td>1</td>\n",
       "      <td>1</td>\n",
       "      <td>1</td>\n",
       "      <td>1</td>\n",
       "      <td>0</td>\n",
       "      <td>0</td>\n",
       "      <td>0</td>\n",
       "      <td>0</td>\n",
       "      <td>0</td>\n",
       "      <td>0</td>\n",
       "    </tr>\n",
       "    <tr>\n",
       "      <th>1</th>\n",
       "      <td>0</td>\n",
       "      <td>6.875856</td>\n",
       "      <td>7.856495</td>\n",
       "      <td>6.636059</td>\n",
       "      <td>7.562718</td>\n",
       "      <td>-1.736945</td>\n",
       "      <td>-1.802002</td>\n",
       "      <td>0.383828</td>\n",
       "      <td>2.244320</td>\n",
       "      <td>-0.629189</td>\n",
       "      <td>...</td>\n",
       "      <td>1</td>\n",
       "      <td>1</td>\n",
       "      <td>1</td>\n",
       "      <td>1</td>\n",
       "      <td>0</td>\n",
       "      <td>0</td>\n",
       "      <td>0</td>\n",
       "      <td>0</td>\n",
       "      <td>0</td>\n",
       "      <td>0</td>\n",
       "    </tr>\n",
       "    <tr>\n",
       "      <th>2</th>\n",
       "      <td>0</td>\n",
       "      <td>2.996273</td>\n",
       "      <td>6.633952</td>\n",
       "      <td>1.570536</td>\n",
       "      <td>6.121617</td>\n",
       "      <td>-0.807451</td>\n",
       "      <td>-0.202946</td>\n",
       "      <td>-0.360898</td>\n",
       "      <td>-0.879606</td>\n",
       "      <td>0.808706</td>\n",
       "      <td>...</td>\n",
       "      <td>1</td>\n",
       "      <td>0</td>\n",
       "      <td>1</td>\n",
       "      <td>1</td>\n",
       "      <td>0</td>\n",
       "      <td>0</td>\n",
       "      <td>0</td>\n",
       "      <td>0</td>\n",
       "      <td>0</td>\n",
       "      <td>0</td>\n",
       "    </tr>\n",
       "    <tr>\n",
       "      <th>3</th>\n",
       "      <td>0</td>\n",
       "      <td>1.366206</td>\n",
       "      <td>5.697239</td>\n",
       "      <td>1.244738</td>\n",
       "      <td>5.889125</td>\n",
       "      <td>0.390083</td>\n",
       "      <td>0.596582</td>\n",
       "      <td>-1.850350</td>\n",
       "      <td>-0.879606</td>\n",
       "      <td>-0.004017</td>\n",
       "      <td>...</td>\n",
       "      <td>1</td>\n",
       "      <td>0</td>\n",
       "      <td>1</td>\n",
       "      <td>1</td>\n",
       "      <td>0</td>\n",
       "      <td>0</td>\n",
       "      <td>0</td>\n",
       "      <td>0</td>\n",
       "      <td>0</td>\n",
       "      <td>0</td>\n",
       "    </tr>\n",
       "    <tr>\n",
       "      <th>4</th>\n",
       "      <td>0</td>\n",
       "      <td>1.963538</td>\n",
       "      <td>6.202582</td>\n",
       "      <td>1.685048</td>\n",
       "      <td>6.191994</td>\n",
       "      <td>-1.045229</td>\n",
       "      <td>-0.602710</td>\n",
       "      <td>0.011465</td>\n",
       "      <td>0.161703</td>\n",
       "      <td>0.683672</td>\n",
       "      <td>...</td>\n",
       "      <td>1</td>\n",
       "      <td>1</td>\n",
       "      <td>1</td>\n",
       "      <td>1</td>\n",
       "      <td>0</td>\n",
       "      <td>0</td>\n",
       "      <td>0</td>\n",
       "      <td>0</td>\n",
       "      <td>0</td>\n",
       "      <td>0</td>\n",
       "    </tr>\n",
       "  </tbody>\n",
       "</table>\n",
       "<p>5 rows × 30 columns</p>\n",
       "</div>"
      ],
      "text/plain": [
       "   treatment  y_factual  y_cfactual       mu0       mu1        x1        x2  \\\n",
       "0          1   5.599916    4.318780  3.268256  6.854457 -0.528603 -0.343455   \n",
       "1          0   6.875856    7.856495  6.636059  7.562718 -1.736945 -1.802002   \n",
       "2          0   2.996273    6.633952  1.570536  6.121617 -0.807451 -0.202946   \n",
       "3          0   1.366206    5.697239  1.244738  5.889125  0.390083  0.596582   \n",
       "4          0   1.963538    6.202582  1.685048  6.191994 -1.045229 -0.602710   \n",
       "\n",
       "         x3        x4        x5  ...  x16  x17  x18  x19  x20  x21  x22  x23  \\\n",
       "0  1.128554  0.161703 -0.316603  ...    1    1    1    1    0    0    0    0   \n",
       "1  0.383828  2.244320 -0.629189  ...    1    1    1    1    0    0    0    0   \n",
       "2 -0.360898 -0.879606  0.808706  ...    1    0    1    1    0    0    0    0   \n",
       "3 -1.850350 -0.879606 -0.004017  ...    1    0    1    1    0    0    0    0   \n",
       "4  0.011465  0.161703  0.683672  ...    1    1    1    1    0    0    0    0   \n",
       "\n",
       "   x24  x25  \n",
       "0    0    0  \n",
       "1    0    0  \n",
       "2    0    0  \n",
       "3    0    0  \n",
       "4    0    0  \n",
       "\n",
       "[5 rows x 30 columns]"
      ]
     },
     "execution_count": 4,
     "metadata": {},
     "output_type": "execute_result"
    }
   ],
   "source": [
    "data = pd.read_csv ('ihdp_npci_1.csv',header = None)\n",
    "col =  [\"treatment\", \"y_factual\", \"y_cfactual\", \"mu0\", \"mu1\" ,]\n",
    "\n",
    "for i in range(1,26):\n",
    "    col.append(\"x\"+str(i))\n",
    "data.columns = col\n",
    "data.head()"
   ]
  },
  {
   "cell_type": "code",
   "execution_count": 5,
   "metadata": {},
   "outputs": [
    {
     "data": {
      "text/plain": [
       "Index(['treatment', 'y_factual', 'y_cfactual', 'mu0', 'mu1', 'x1', 'x2', 'x3',\n",
       "       'x4', 'x5', 'x6', 'x7', 'x8', 'x9', 'x10', 'x11', 'x12', 'x13', 'x14',\n",
       "       'x15', 'x16', 'x17', 'x18', 'x19', 'x20', 'x21', 'x22', 'x23', 'x24',\n",
       "       'x25'],\n",
       "      dtype='object')"
      ]
     },
     "execution_count": 5,
     "metadata": {},
     "output_type": "execute_result"
    }
   ],
   "source": [
    "data.columns"
   ]
  },
  {
   "cell_type": "code",
   "execution_count": 6,
   "metadata": {},
   "outputs": [
    {
     "data": {
      "text/plain": [
       "0    608\n",
       "1    139\n",
       "Name: treatment, dtype: int64"
      ]
     },
     "execution_count": 6,
     "metadata": {},
     "output_type": "execute_result"
    }
   ],
   "source": [
    "data['treatment'].value_counts()"
   ]
  },
  {
   "cell_type": "code",
   "execution_count": 7,
   "metadata": {},
   "outputs": [
    {
     "data": {
      "text/plain": [
       "7.484104    1\n",
       "2.476400    1\n",
       "2.947198    1\n",
       "3.176218    1\n",
       "2.473166    1\n",
       "           ..\n",
       "0.230850    1\n",
       "7.860724    1\n",
       "1.593344    1\n",
       "3.287666    1\n",
       "2.920976    1\n",
       "Name: y_factual, Length: 747, dtype: int64"
      ]
     },
     "execution_count": 7,
     "metadata": {},
     "output_type": "execute_result"
    }
   ],
   "source": [
    "data['y_factual'].value_counts()"
   ]
  },
  {
   "cell_type": "markdown",
   "metadata": {},
   "source": [
    "## High level Analysis\n"
   ]
  },
  {
   "cell_type": "code",
   "execution_count": 8,
   "metadata": {},
   "outputs": [
    {
     "data": {
      "text/html": [
       "<div>\n",
       "<style scoped>\n",
       "    .dataframe tbody tr th:only-of-type {\n",
       "        vertical-align: middle;\n",
       "    }\n",
       "\n",
       "    .dataframe tbody tr th {\n",
       "        vertical-align: top;\n",
       "    }\n",
       "\n",
       "    .dataframe thead th {\n",
       "        text-align: right;\n",
       "    }\n",
       "</style>\n",
       "<table border=\"1\" class=\"dataframe\">\n",
       "  <thead>\n",
       "    <tr style=\"text-align: right;\">\n",
       "      <th></th>\n",
       "      <th>treatment</th>\n",
       "      <th>y_factual</th>\n",
       "      <th>y_cfactual</th>\n",
       "      <th>mu0</th>\n",
       "      <th>mu1</th>\n",
       "      <th>x1</th>\n",
       "      <th>x2</th>\n",
       "      <th>x3</th>\n",
       "      <th>x4</th>\n",
       "      <th>x5</th>\n",
       "      <th>...</th>\n",
       "      <th>x16</th>\n",
       "      <th>x17</th>\n",
       "      <th>x18</th>\n",
       "      <th>x19</th>\n",
       "      <th>x20</th>\n",
       "      <th>x21</th>\n",
       "      <th>x22</th>\n",
       "      <th>x23</th>\n",
       "      <th>x24</th>\n",
       "      <th>x25</th>\n",
       "    </tr>\n",
       "  </thead>\n",
       "  <tbody>\n",
       "    <tr>\n",
       "      <th>count</th>\n",
       "      <td>747.000000</td>\n",
       "      <td>747.000000</td>\n",
       "      <td>747.000000</td>\n",
       "      <td>747.000000</td>\n",
       "      <td>747.000000</td>\n",
       "      <td>7.470000e+02</td>\n",
       "      <td>7.470000e+02</td>\n",
       "      <td>7.470000e+02</td>\n",
       "      <td>7.470000e+02</td>\n",
       "      <td>7.470000e+02</td>\n",
       "      <td>...</td>\n",
       "      <td>747.000000</td>\n",
       "      <td>747.000000</td>\n",
       "      <td>747.000000</td>\n",
       "      <td>747.000000</td>\n",
       "      <td>747.000000</td>\n",
       "      <td>747.000000</td>\n",
       "      <td>747.000000</td>\n",
       "      <td>747.000000</td>\n",
       "      <td>747.000000</td>\n",
       "      <td>747.000000</td>\n",
       "    </tr>\n",
       "    <tr>\n",
       "      <th>mean</th>\n",
       "      <td>0.186078</td>\n",
       "      <td>3.159538</td>\n",
       "      <td>5.696107</td>\n",
       "      <td>2.432513</td>\n",
       "      <td>6.448580</td>\n",
       "      <td>1.716610e-17</td>\n",
       "      <td>-6.911027e-17</td>\n",
       "      <td>5.900382e-17</td>\n",
       "      <td>-9.143363e-16</td>\n",
       "      <td>-3.165696e-17</td>\n",
       "      <td>...</td>\n",
       "      <td>0.959839</td>\n",
       "      <td>0.594378</td>\n",
       "      <td>0.963855</td>\n",
       "      <td>0.135207</td>\n",
       "      <td>0.135207</td>\n",
       "      <td>0.156627</td>\n",
       "      <td>0.081660</td>\n",
       "      <td>0.073628</td>\n",
       "      <td>0.128514</td>\n",
       "      <td>0.157965</td>\n",
       "    </tr>\n",
       "    <tr>\n",
       "      <th>std</th>\n",
       "      <td>0.389430</td>\n",
       "      <td>2.179956</td>\n",
       "      <td>1.980121</td>\n",
       "      <td>1.281515</td>\n",
       "      <td>0.454766</td>\n",
       "      <td>1.000000e+00</td>\n",
       "      <td>1.000000e+00</td>\n",
       "      <td>1.000000e+00</td>\n",
       "      <td>1.000000e+00</td>\n",
       "      <td>1.000000e+00</td>\n",
       "      <td>...</td>\n",
       "      <td>0.196467</td>\n",
       "      <td>0.491341</td>\n",
       "      <td>0.186775</td>\n",
       "      <td>0.342174</td>\n",
       "      <td>0.342174</td>\n",
       "      <td>0.363692</td>\n",
       "      <td>0.274029</td>\n",
       "      <td>0.261339</td>\n",
       "      <td>0.334886</td>\n",
       "      <td>0.364953</td>\n",
       "    </tr>\n",
       "    <tr>\n",
       "      <th>min</th>\n",
       "      <td>0.000000</td>\n",
       "      <td>-1.543902</td>\n",
       "      <td>-1.037628</td>\n",
       "      <td>0.924453</td>\n",
       "      <td>5.591647</td>\n",
       "      <td>-2.731287e+00</td>\n",
       "      <td>-3.800823e+00</td>\n",
       "      <td>-1.850350e+00</td>\n",
       "      <td>-8.796060e-01</td>\n",
       "      <td>-5.130428e+00</td>\n",
       "      <td>...</td>\n",
       "      <td>0.000000</td>\n",
       "      <td>0.000000</td>\n",
       "      <td>0.000000</td>\n",
       "      <td>0.000000</td>\n",
       "      <td>0.000000</td>\n",
       "      <td>0.000000</td>\n",
       "      <td>0.000000</td>\n",
       "      <td>0.000000</td>\n",
       "      <td>0.000000</td>\n",
       "      <td>0.000000</td>\n",
       "    </tr>\n",
       "    <tr>\n",
       "      <th>25%</th>\n",
       "      <td>0.000000</td>\n",
       "      <td>1.626779</td>\n",
       "      <td>5.053598</td>\n",
       "      <td>1.518409</td>\n",
       "      <td>6.087863</td>\n",
       "      <td>-6.669461e-01</td>\n",
       "      <td>-6.027100e-01</td>\n",
       "      <td>-7.332610e-01</td>\n",
       "      <td>-8.796060e-01</td>\n",
       "      <td>-5.666720e-01</td>\n",
       "      <td>...</td>\n",
       "      <td>1.000000</td>\n",
       "      <td>0.000000</td>\n",
       "      <td>1.000000</td>\n",
       "      <td>0.000000</td>\n",
       "      <td>0.000000</td>\n",
       "      <td>0.000000</td>\n",
       "      <td>0.000000</td>\n",
       "      <td>0.000000</td>\n",
       "      <td>0.000000</td>\n",
       "      <td>0.000000</td>\n",
       "    </tr>\n",
       "    <tr>\n",
       "      <th>50%</th>\n",
       "      <td>0.000000</td>\n",
       "      <td>2.577294</td>\n",
       "      <td>6.209686</td>\n",
       "      <td>2.114661</td>\n",
       "      <td>6.419095</td>\n",
       "      <td>1.652752e-01</td>\n",
       "      <td>1.968181e-01</td>\n",
       "      <td>-3.608980e-01</td>\n",
       "      <td>1.617025e-01</td>\n",
       "      <td>1.210172e-01</td>\n",
       "      <td>...</td>\n",
       "      <td>1.000000</td>\n",
       "      <td>1.000000</td>\n",
       "      <td>1.000000</td>\n",
       "      <td>0.000000</td>\n",
       "      <td>0.000000</td>\n",
       "      <td>0.000000</td>\n",
       "      <td>0.000000</td>\n",
       "      <td>0.000000</td>\n",
       "      <td>0.000000</td>\n",
       "      <td>0.000000</td>\n",
       "    </tr>\n",
       "    <tr>\n",
       "      <th>75%</th>\n",
       "      <td>0.000000</td>\n",
       "      <td>4.494637</td>\n",
       "      <td>6.948922</td>\n",
       "      <td>2.989305</td>\n",
       "      <td>6.765241</td>\n",
       "      <td>8.137593e-01</td>\n",
       "      <td>5.965822e-01</td>\n",
       "      <td>7.561910e-01</td>\n",
       "      <td>1.617025e-01</td>\n",
       "      <td>6.836721e-01</td>\n",
       "      <td>...</td>\n",
       "      <td>1.000000</td>\n",
       "      <td>1.000000</td>\n",
       "      <td>1.000000</td>\n",
       "      <td>0.000000</td>\n",
       "      <td>0.000000</td>\n",
       "      <td>0.000000</td>\n",
       "      <td>0.000000</td>\n",
       "      <td>0.000000</td>\n",
       "      <td>0.000000</td>\n",
       "      <td>0.000000</td>\n",
       "    </tr>\n",
       "    <tr>\n",
       "      <th>max</th>\n",
       "      <td>1.000000</td>\n",
       "      <td>11.268228</td>\n",
       "      <td>10.171004</td>\n",
       "      <td>9.821792</td>\n",
       "      <td>7.954804</td>\n",
       "      <td>1.505476e+00</td>\n",
       "      <td>2.595403e+00</td>\n",
       "      <td>2.990369e+00</td>\n",
       "      <td>2.244320e+00</td>\n",
       "      <td>2.371637e+00</td>\n",
       "      <td>...</td>\n",
       "      <td>1.000000</td>\n",
       "      <td>1.000000</td>\n",
       "      <td>1.000000</td>\n",
       "      <td>1.000000</td>\n",
       "      <td>1.000000</td>\n",
       "      <td>1.000000</td>\n",
       "      <td>1.000000</td>\n",
       "      <td>1.000000</td>\n",
       "      <td>1.000000</td>\n",
       "      <td>1.000000</td>\n",
       "    </tr>\n",
       "  </tbody>\n",
       "</table>\n",
       "<p>8 rows × 30 columns</p>\n",
       "</div>"
      ],
      "text/plain": [
       "        treatment   y_factual  y_cfactual         mu0         mu1  \\\n",
       "count  747.000000  747.000000  747.000000  747.000000  747.000000   \n",
       "mean     0.186078    3.159538    5.696107    2.432513    6.448580   \n",
       "std      0.389430    2.179956    1.980121    1.281515    0.454766   \n",
       "min      0.000000   -1.543902   -1.037628    0.924453    5.591647   \n",
       "25%      0.000000    1.626779    5.053598    1.518409    6.087863   \n",
       "50%      0.000000    2.577294    6.209686    2.114661    6.419095   \n",
       "75%      0.000000    4.494637    6.948922    2.989305    6.765241   \n",
       "max      1.000000   11.268228   10.171004    9.821792    7.954804   \n",
       "\n",
       "                 x1            x2            x3            x4            x5  \\\n",
       "count  7.470000e+02  7.470000e+02  7.470000e+02  7.470000e+02  7.470000e+02   \n",
       "mean   1.716610e-17 -6.911027e-17  5.900382e-17 -9.143363e-16 -3.165696e-17   \n",
       "std    1.000000e+00  1.000000e+00  1.000000e+00  1.000000e+00  1.000000e+00   \n",
       "min   -2.731287e+00 -3.800823e+00 -1.850350e+00 -8.796060e-01 -5.130428e+00   \n",
       "25%   -6.669461e-01 -6.027100e-01 -7.332610e-01 -8.796060e-01 -5.666720e-01   \n",
       "50%    1.652752e-01  1.968181e-01 -3.608980e-01  1.617025e-01  1.210172e-01   \n",
       "75%    8.137593e-01  5.965822e-01  7.561910e-01  1.617025e-01  6.836721e-01   \n",
       "max    1.505476e+00  2.595403e+00  2.990369e+00  2.244320e+00  2.371637e+00   \n",
       "\n",
       "       ...         x16         x17         x18         x19         x20  \\\n",
       "count  ...  747.000000  747.000000  747.000000  747.000000  747.000000   \n",
       "mean   ...    0.959839    0.594378    0.963855    0.135207    0.135207   \n",
       "std    ...    0.196467    0.491341    0.186775    0.342174    0.342174   \n",
       "min    ...    0.000000    0.000000    0.000000    0.000000    0.000000   \n",
       "25%    ...    1.000000    0.000000    1.000000    0.000000    0.000000   \n",
       "50%    ...    1.000000    1.000000    1.000000    0.000000    0.000000   \n",
       "75%    ...    1.000000    1.000000    1.000000    0.000000    0.000000   \n",
       "max    ...    1.000000    1.000000    1.000000    1.000000    1.000000   \n",
       "\n",
       "              x21         x22         x23         x24         x25  \n",
       "count  747.000000  747.000000  747.000000  747.000000  747.000000  \n",
       "mean     0.156627    0.081660    0.073628    0.128514    0.157965  \n",
       "std      0.363692    0.274029    0.261339    0.334886    0.364953  \n",
       "min      0.000000    0.000000    0.000000    0.000000    0.000000  \n",
       "25%      0.000000    0.000000    0.000000    0.000000    0.000000  \n",
       "50%      0.000000    0.000000    0.000000    0.000000    0.000000  \n",
       "75%      0.000000    0.000000    0.000000    0.000000    0.000000  \n",
       "max      1.000000    1.000000    1.000000    1.000000    1.000000  \n",
       "\n",
       "[8 rows x 30 columns]"
      ]
     },
     "execution_count": 8,
     "metadata": {},
     "output_type": "execute_result"
    }
   ],
   "source": [
    "data.describe()"
   ]
  },
  {
   "cell_type": "code",
   "execution_count": 9,
   "metadata": {},
   "outputs": [
    {
     "data": {
      "image/png": "[encoded data removed]",
      "text/plain": [
       "<Figure size 720x576 with 2 Axes>"
      ]
     },
     "metadata": {},
     "output_type": "display_data"
    }
   ],
   "source": [
    "sns.heatmap(data.corr(), vmin=-1, vmax=1);"
   ]
  },
  {
   "cell_type": "code",
   "execution_count": 10,
   "metadata": {},
   "outputs": [],
   "source": [
    "#passage en array\n",
    "W=data['treatment'].values\n",
    "Y=data['y_factual'].values\n",
    "features=['x1', 'x2', 'x3','x4', 'x5', 'x6', 'x7', 'x8', 'x9', 'x10', 'x11', 'x12', 'x13', 'x14',\n",
    "       'x15', 'x16', 'x17', 'x18', 'x19', 'x20', 'x21', 'x22', 'x23', 'x24',\n",
    "       'x25']\n",
    "X=data[features].values"
   ]
  },
  {
   "cell_type": "markdown",
   "metadata": {},
   "source": [
    "## SMD Analysis"
   ]
  },
  {
   "cell_type": "code",
   "execution_count": 11,
   "metadata": {},
   "outputs": [],
   "source": [
    "#passage en array\n",
    "Wdf=data['treatment']\n",
    "Wdf.name='W'\n",
    "Ydf=data['y_factual']\n",
    "Ydf.name='Y'\n",
    "Xdf=data[features]"
   ]
  },
  {
   "cell_type": "code",
   "execution_count": 12,
   "metadata": {},
   "outputs": [],
   "source": [
    "def create_table_one_df(dataframe=Xdf,W=Wdf,round_digits=4):\n",
    "    mean_pos=Xdf[W==1].mean(axis=0)\n",
    "    table_one=pd.DataFrame({'Mean Treatment':mean_pos})\n",
    "\n",
    "    std_pos=Xdf[W==1].std(axis=0)\n",
    "    table_one=table_one.join(pd.DataFrame({'Std Treatment':std_pos}),on=None)\n",
    "\n",
    "    mean_neg=Xdf[W==0].mean(axis=0)\n",
    "    table_one=table_one.join(pd.DataFrame({'Mean Control':mean_neg}),on=None)\n",
    "\n",
    "    std_neg=Xdf[W==0].std(axis=0)\n",
    "    table_one=table_one.join(pd.DataFrame({'Std Control':std_neg}),on=None)\n",
    "\n",
    "    SMD=np.round(abs((mean_pos - mean_neg) / np.sqrt((std_pos ** 2 + std_neg ** 2) / 2)),round_digits)\n",
    "    table_one=table_one.join(pd.DataFrame({'SMD':SMD}),on=None)\n",
    "    return table_one"
   ]
  },
  {
   "cell_type": "code",
   "execution_count": 13,
   "metadata": {},
   "outputs": [
    {
     "data": {
      "text/html": [
       "<div>\n",
       "<style scoped>\n",
       "    .dataframe tbody tr th:only-of-type {\n",
       "        vertical-align: middle;\n",
       "    }\n",
       "\n",
       "    .dataframe tbody tr th {\n",
       "        vertical-align: top;\n",
       "    }\n",
       "\n",
       "    .dataframe thead th {\n",
       "        text-align: right;\n",
       "    }\n",
       "</style>\n",
       "<table border=\"1\" class=\"dataframe\">\n",
       "  <thead>\n",
       "    <tr style=\"text-align: right;\">\n",
       "      <th></th>\n",
       "      <th>Mean Treatment</th>\n",
       "      <th>Std Treatment</th>\n",
       "      <th>Mean Control</th>\n",
       "      <th>Std Control</th>\n",
       "      <th>SMD</th>\n",
       "    </tr>\n",
       "  </thead>\n",
       "  <tbody>\n",
       "    <tr>\n",
       "      <th>x1</th>\n",
       "      <td>0.210078</td>\n",
       "      <td>0.921394</td>\n",
       "      <td>-0.048028</td>\n",
       "      <td>1.011715</td>\n",
       "      <td>0.2667</td>\n",
       "    </tr>\n",
       "    <tr>\n",
       "      <th>x2</th>\n",
       "      <td>0.182776</td>\n",
       "      <td>0.888900</td>\n",
       "      <td>-0.041786</td>\n",
       "      <td>1.019784</td>\n",
       "      <td>0.2348</td>\n",
       "    </tr>\n",
       "    <tr>\n",
       "      <th>x4</th>\n",
       "      <td>-0.220360</td>\n",
       "      <td>0.905225</td>\n",
       "      <td>0.050378</td>\n",
       "      <td>1.014415</td>\n",
       "      <td>0.2816</td>\n",
       "    </tr>\n",
       "    <tr>\n",
       "      <th>x5</th>\n",
       "      <td>-0.142095</td>\n",
       "      <td>1.038872</td>\n",
       "      <td>0.032485</td>\n",
       "      <td>0.988913</td>\n",
       "      <td>0.1721</td>\n",
       "    </tr>\n",
       "    <tr>\n",
       "      <th>x6</th>\n",
       "      <td>0.212161</td>\n",
       "      <td>0.929679</td>\n",
       "      <td>-0.048504</td>\n",
       "      <td>1.009868</td>\n",
       "      <td>0.2686</td>\n",
       "    </tr>\n",
       "    <tr>\n",
       "      <th>x9</th>\n",
       "      <td>0.676259</td>\n",
       "      <td>0.469595</td>\n",
       "      <td>0.485197</td>\n",
       "      <td>0.500192</td>\n",
       "      <td>0.3938</td>\n",
       "    </tr>\n",
       "    <tr>\n",
       "      <th>x10</th>\n",
       "      <td>0.287770</td>\n",
       "      <td>0.454361</td>\n",
       "      <td>0.381579</td>\n",
       "      <td>0.486174</td>\n",
       "      <td>0.1994</td>\n",
       "    </tr>\n",
       "    <tr>\n",
       "      <th>x14</th>\n",
       "      <td>1.575540</td>\n",
       "      <td>0.496048</td>\n",
       "      <td>1.437500</td>\n",
       "      <td>0.496487</td>\n",
       "      <td>0.2782</td>\n",
       "    </tr>\n",
       "    <tr>\n",
       "      <th>x16</th>\n",
       "      <td>0.935252</td>\n",
       "      <td>0.246971</td>\n",
       "      <td>0.965461</td>\n",
       "      <td>0.182761</td>\n",
       "      <td>0.1390</td>\n",
       "    </tr>\n",
       "    <tr>\n",
       "      <th>x17</th>\n",
       "      <td>0.690647</td>\n",
       "      <td>0.463898</td>\n",
       "      <td>0.572368</td>\n",
       "      <td>0.495142</td>\n",
       "      <td>0.2465</td>\n",
       "    </tr>\n",
       "    <tr>\n",
       "      <th>x18</th>\n",
       "      <td>0.992806</td>\n",
       "      <td>0.084819</td>\n",
       "      <td>0.957237</td>\n",
       "      <td>0.202489</td>\n",
       "      <td>0.2291</td>\n",
       "    </tr>\n",
       "    <tr>\n",
       "      <th>x20</th>\n",
       "      <td>0.064748</td>\n",
       "      <td>0.246971</td>\n",
       "      <td>0.151316</td>\n",
       "      <td>0.358651</td>\n",
       "      <td>0.2811</td>\n",
       "    </tr>\n",
       "    <tr>\n",
       "      <th>x22</th>\n",
       "      <td>0.035971</td>\n",
       "      <td>0.186892</td>\n",
       "      <td>0.092105</td>\n",
       "      <td>0.289413</td>\n",
       "      <td>0.2304</td>\n",
       "    </tr>\n",
       "    <tr>\n",
       "      <th>x23</th>\n",
       "      <td>0.014388</td>\n",
       "      <td>0.119517</td>\n",
       "      <td>0.087171</td>\n",
       "      <td>0.282318</td>\n",
       "      <td>0.3357</td>\n",
       "    </tr>\n",
       "    <tr>\n",
       "      <th>x24</th>\n",
       "      <td>0.057554</td>\n",
       "      <td>0.233740</td>\n",
       "      <td>0.144737</td>\n",
       "      <td>0.352125</td>\n",
       "      <td>0.2917</td>\n",
       "    </tr>\n",
       "    <tr>\n",
       "      <th>x25</th>\n",
       "      <td>0.273381</td>\n",
       "      <td>0.447307</td>\n",
       "      <td>0.131579</td>\n",
       "      <td>0.338311</td>\n",
       "      <td>0.3576</td>\n",
       "    </tr>\n",
       "  </tbody>\n",
       "</table>\n",
       "</div>"
      ],
      "text/plain": [
       "     Mean Treatment  Std Treatment  Mean Control  Std Control     SMD\n",
       "x1         0.210078       0.921394     -0.048028     1.011715  0.2667\n",
       "x2         0.182776       0.888900     -0.041786     1.019784  0.2348\n",
       "x4        -0.220360       0.905225      0.050378     1.014415  0.2816\n",
       "x5        -0.142095       1.038872      0.032485     0.988913  0.1721\n",
       "x6         0.212161       0.929679     -0.048504     1.009868  0.2686\n",
       "x9         0.676259       0.469595      0.485197     0.500192  0.3938\n",
       "x10        0.287770       0.454361      0.381579     0.486174  0.1994\n",
       "x14        1.575540       0.496048      1.437500     0.496487  0.2782\n",
       "x16        0.935252       0.246971      0.965461     0.182761  0.1390\n",
       "x17        0.690647       0.463898      0.572368     0.495142  0.2465\n",
       "x18        0.992806       0.084819      0.957237     0.202489  0.2291\n",
       "x20        0.064748       0.246971      0.151316     0.358651  0.2811\n",
       "x22        0.035971       0.186892      0.092105     0.289413  0.2304\n",
       "x23        0.014388       0.119517      0.087171     0.282318  0.3357\n",
       "x24        0.057554       0.233740      0.144737     0.352125  0.2917\n",
       "x25        0.273381       0.447307      0.131579     0.338311  0.3576"
      ]
     },
     "execution_count": 13,
     "metadata": {},
     "output_type": "execute_result"
    }
   ],
   "source": [
    "table_one=create_table_one_df(dataframe=Xdf,W=Wdf,round_digits=4)\n",
    "table_one.loc[table_one['SMD']>=0.1]"
   ]
  },
  {
   "cell_type": "code",
   "execution_count": 14,
   "metadata": {},
   "outputs": [
    {
     "data": {
      "image/png": "[encoded data removed]",
      "text/plain": [
       "<Figure size 720x1080 with 1 Axes>"
      ]
     },
     "metadata": {},
     "output_type": "display_data"
    }
   ],
   "source": [
    "fig = plt.figure(figsize=(10, 15))\n",
    "sns.scatterplot(table_one['SMD'],table_one.index)\n",
    "plt.axvline(0.1, 0,1,ls=':',c='b')\n",
    "plt.axvline(0.2, 0,1,ls=':',c='r')\n",
    "plt.title(\"Scatter Plot of SMD for X\", fontsize = 18)\n",
    "plt.xticks(fontsize=12)\n",
    "plt.yticks(fontsize=12);"
   ]
  },
  {
   "cell_type": "markdown",
   "metadata": {},
   "source": [
    "## Calculate propensty score"
   ]
  },
  {
   "cell_type": "code",
   "execution_count": 15,
   "metadata": {},
   "outputs": [],
   "source": [
    "from sklearn.linear_model import LogisticRegression\n",
    "from sklearn.calibration import CalibratedClassifierCV\n",
    "from sklearn.naive_bayes import GaussianNB\n",
    "from sklearn.compose import ColumnTransformer\n",
    "from sklearn.preprocessing import StandardScaler\n",
    "from sklearn.model_selection import GridSearchCV\n",
    "from sklearn.pipeline import Pipeline"
   ]
  },
  {
   "cell_type": "code",
   "execution_count": 16,
   "metadata": {},
   "outputs": [
    {
     "name": "stdout",
     "output_type": "stream",
     "text": [
      "{'cls__penalty': 'l1', 'cls__solver': 'liblinear'}\n"
     ]
    },
    {
     "data": {
      "text/plain": [
       "0.8139223560910308"
      ]
     },
     "execution_count": 16,
     "metadata": {},
     "output_type": "execute_result"
    }
   ],
   "source": [
    "# classifier to estimate the propensity score\n",
    "cls = LogisticRegression()\n",
    "#cls = GaussianNB()  # another possible propensity score estimator\n",
    "\n",
    "pipe=Pipeline([('scaler', StandardScaler()), ('cls', LogisticRegression())])\n",
    "\n",
    "lr=GridSearchCV(\n",
    "    estimator=pipe,\n",
    "    param_grid={\"cls__penalty\": ('l1', 'l2', 'elasticnet'), \"cls__solver\": ('newton-cg', 'lbfgs', 'liblinear', 'sag', 'saga')},\n",
    "    cv=5,\n",
    "    n_jobs=-1,\n",
    ")\n",
    "\n",
    "X = Xdf.to_numpy()\n",
    "w = Wdf.values\n",
    "lr.fit(X, w)\n",
    "\n",
    "# calibration of the classifier\n",
    "print(lr.best_params_)\n",
    "cls = CalibratedClassifierCV(lr.best_estimator_)\n",
    "cls.fit(X, w)\n",
    "cls.score(X, w)"
   ]
  },
  {
   "cell_type": "code",
   "execution_count": 17,
   "metadata": {},
   "outputs": [
    {
     "data": {
      "text/html": [
       "<div>\n",
       "<style scoped>\n",
       "    .dataframe tbody tr th:only-of-type {\n",
       "        vertical-align: middle;\n",
       "    }\n",
       "\n",
       "    .dataframe tbody tr th {\n",
       "        vertical-align: top;\n",
       "    }\n",
       "\n",
       "    .dataframe thead th {\n",
       "        text-align: right;\n",
       "    }\n",
       "</style>\n",
       "<table border=\"1\" class=\"dataframe\">\n",
       "  <thead>\n",
       "    <tr style=\"text-align: right;\">\n",
       "      <th></th>\n",
       "      <th>0</th>\n",
       "      <th>1</th>\n",
       "    </tr>\n",
       "  </thead>\n",
       "  <tbody>\n",
       "    <tr>\n",
       "      <th>0</th>\n",
       "      <td>0.832602</td>\n",
       "      <td>0.167398</td>\n",
       "    </tr>\n",
       "    <tr>\n",
       "      <th>1</th>\n",
       "      <td>0.791987</td>\n",
       "      <td>0.208013</td>\n",
       "    </tr>\n",
       "    <tr>\n",
       "      <th>2</th>\n",
       "      <td>0.807562</td>\n",
       "      <td>0.192438</td>\n",
       "    </tr>\n",
       "    <tr>\n",
       "      <th>3</th>\n",
       "      <td>0.799124</td>\n",
       "      <td>0.200876</td>\n",
       "    </tr>\n",
       "    <tr>\n",
       "      <th>4</th>\n",
       "      <td>0.798623</td>\n",
       "      <td>0.201377</td>\n",
       "    </tr>\n",
       "  </tbody>\n",
       "</table>\n",
       "</div>"
      ],
      "text/plain": [
       "          0         1\n",
       "0  0.832602  0.167398\n",
       "1  0.791987  0.208013\n",
       "2  0.807562  0.192438\n",
       "3  0.799124  0.200876\n",
       "4  0.798623  0.201377"
      ]
     },
     "execution_count": 17,
     "metadata": {},
     "output_type": "execute_result"
    }
   ],
   "source": [
    "propensity = pd.DataFrame(cls.predict_proba(X))\n",
    "propensity.head()"
   ]
  },
  {
   "cell_type": "code",
   "execution_count": 18,
   "metadata": {},
   "outputs": [
    {
     "data": {
      "image/png": "[encoded data removed]",
      "text/plain": [
       "<Figure size 720x576 with 1 Axes>"
      ]
     },
     "metadata": {},
     "output_type": "display_data"
    }
   ],
   "source": [
    "ax = sns.distplot(propensity[1].values)\n",
    "ax.set_xlim(0, 1)\n",
    "ax.set_title(\"Propensity scores of nonrandomized trial\")\n",
    "ax.set_xlabel(\"propensity scores\")\n",
    "ax.set_ylabel('density');"
   ]
  },
  {
   "cell_type": "code",
   "execution_count": 19,
   "metadata": {},
   "outputs": [
    {
     "name": "stdout",
     "output_type": "stream",
     "text": [
      "{'cls__penalty': 'l1', 'cls__solver': 'liblinear'}\n"
     ]
    },
    {
     "data": {
      "text/plain": [
       "0.8139223560910308"
      ]
     },
     "execution_count": 19,
     "metadata": {},
     "output_type": "execute_result"
    }
   ],
   "source": [
    "# classifier to estimate the propensity score\n",
    "\n",
    "pipe=Pipeline([('scaler', StandardScaler()), ('cls', GaussianNB())])\n",
    "\n",
    "\n",
    "X = Xdf.to_numpy()\n",
    "w= Wdf.values\n",
    "lr.fit(X, w)\n",
    "\n",
    "# calibration of the classifier\n",
    "print(lr.best_params_)\n",
    "cls = CalibratedClassifierCV(lr.best_estimator_)\n",
    "cls.fit(X, w)\n",
    "cls.score(X, w)"
   ]
  },
  {
   "cell_type": "markdown",
   "metadata": {},
   "source": [
    "# S-Learners"
   ]
  },
  {
   "cell_type": "code",
   "execution_count": 20,
   "metadata": {},
   "outputs": [],
   "source": [
    "from sklearn.base import BaseEstimator, ClassifierMixin\n",
    "\n",
    "class SLearner(BaseEstimator, ClassifierMixin):\n",
    "    \"\"\" Homemade SLearner class \"\"\"\n",
    "    \n",
    "    def __init__(self, base_estimator=LinearRegression()):\n",
    "        # init\n",
    "        self.estimator = base_estimator\n",
    "        \n",
    "    def fit(self, X, W, Y):\n",
    "        # Initiation des variables\n",
    "        self.X=X\n",
    "        self.W=W\n",
    "        self.Y=Y\n",
    "        self.features = np.hstack((self.X,self.W[:,np.newaxis]))\n",
    "        self.clf=self.estimator.fit(self.features,self.Y)\n",
    "\n",
    "    def predict_CATE(self):\n",
    "      #ajouter un x en parametre pour calculer le cate sur un point\n",
    "        # Complete the method         \n",
    "        self.Y_0_hat=self.clf.predict(np.hstack((self.X,np.zeros(len(self.W))[:,np.newaxis])))\n",
    "        self.Y_1_hat=self.clf.predict(np.hstack((self.X,np.ones(len(self.W))[:,np.newaxis])))\n",
    "        return self.Y_1_hat - self.Y_0_hat\n",
    "\n",
    "    def predict_ATE(self):\n",
    "        return (self.Y_1_hat - self.Y_0_hat).mean()"
   ]
  },
  {
   "cell_type": "code",
   "execution_count": 21,
   "metadata": {},
   "outputs": [
    {
     "name": "stdout",
     "output_type": "stream",
     "text": [
      "- Les dimensions du CATE = (747,).\n",
      "- L'estimation de la valeur de l'ATE = 3.9286717508727107.\n"
     ]
    }
   ],
   "source": [
    "slearner=SLearner(base_estimator=LinearRegression())\n",
    "slearner.fit(X,W,Y)\n",
    "\n",
    "cate_hat_S = slearner.predict_CATE()\n",
    "print(\"- Les dimensions du CATE = {}.\".format(cate_hat_S.shape))\n",
    "\n",
    "ate_hat_S = slearner.predict_ATE()\n",
    "print(\"- L'estimation de la valeur de l'ATE = {}.\".format(ate_hat_S))"
   ]
  },
  {
   "cell_type": "markdown",
   "metadata": {},
   "source": [
    "# T-Learners"
   ]
  },
  {
   "cell_type": "code",
   "execution_count": 22,
   "metadata": {},
   "outputs": [],
   "source": [
    "from sklearn.base import BaseEstimator, ClassifierMixin\n",
    "\n",
    "class TLearner(BaseEstimator, ClassifierMixin):\n",
    "    \"\"\" Homemade SLearner class \"\"\"\n",
    "    \n",
    "    def __init__(self, base_estimator0=LinearRegression(), base_estimator1=LinearRegression() ):\n",
    "        # init\n",
    "        self.estimator0 = base_estimator0\n",
    "        self.estimator1 = base_estimator1\n",
    "\n",
    "    def fit(self, X, W, Y):\n",
    "        # Initiation des variables\n",
    "        self.X=X\n",
    "        self.W=W\n",
    "        self.Y=Y\n",
    "        self.mu_0=self.estimator0.fit(X[self.W==0,:],self.Y[self.W==0])\n",
    "        self.mu_1=self.estimator1.fit(X[self.W==1,:],self.Y[self.W==1])\n",
    "\n",
    "    def predict_CATE(self):\n",
    "      #ajouter un x en parametre pour calculer le cate sur un point\n",
    "        # Complete the method         \n",
    "        self.Y_0_hat=self.mu_0.predict(self.X)\n",
    "        self.Y_1_hat=self.mu_1.predict(self.X)\n",
    "        return self.Y_1_hat - self.Y_0_hat\n",
    "\n",
    "    def predict_ATE(self):\n",
    "        return (self.Y_1_hat - self.Y_0_hat).mean()"
   ]
  },
  {
   "cell_type": "code",
   "execution_count": 23,
   "metadata": {},
   "outputs": [
    {
     "name": "stdout",
     "output_type": "stream",
     "text": [
      "- Les dimensions du CATE = (747,).\n",
      "- L'estimation de la valeur de l'ATE = 3.9286717508727107.\n"
     ]
    }
   ],
   "source": [
    "slearner=SLearner(base_estimator=LinearRegression())\n",
    "slearner.fit(X,W,Y)\n",
    "\n",
    "cate_hat_S = slearner.predict_CATE()\n",
    "print(\"- Les dimensions du CATE = {}.\".format(cate_hat_S.shape))\n",
    "\n",
    "ate_hat_S = slearner.predict_ATE()\n",
    "print(\"- L'estimation de la valeur de l'ATE = {}.\".format(ate_hat_S))"
   ]
  },
  {
   "cell_type": "markdown",
   "metadata": {},
   "source": [
    "### Prédictions des métalearners \"Causal ML\"\n"
   ]
  },
  {
   "cell_type": "markdown",
   "metadata": {},
   "source": [
    "#### SLearners"
   ]
  },
  {
   "cell_type": "code",
   "execution_count": 24,
   "metadata": {},
   "outputs": [
    {
     "name": "stdout",
     "output_type": "stream",
     "text": [
      "L'estimation de la valeur de l'ATE (Linear Regression): 3.93 (3.70, 4.16)\n"
     ]
    }
   ],
   "source": [
    "from causalml.inference.meta import LRSRegressor\n",
    "from xgboost import XGBRegressor\n",
    "\n",
    "\n",
    "lr = LRSRegressor()\n",
    "te, lb, ub = lr.estimate_ate(X, W, Y)\n",
    "print('L\\'estimation de la valeur de l\\'ATE (Linear Regression): {:.2f} ({:.2f}, {:.2f})'.format(te[0], lb[0], ub[0]))"
   ]
  },
  {
   "cell_type": "markdown",
   "metadata": {},
   "source": [
    "#### TLearners"
   ]
  },
  {
   "cell_type": "code",
   "execution_count": 25,
   "metadata": {},
   "outputs": [
    {
     "name": "stdout",
     "output_type": "stream",
     "text": [
      "L'estimation de la valeur de l'ATE (XGBoost): 3.91 (3.81, 4.02)\n"
     ]
    }
   ],
   "source": [
    "from causalml.inference.meta import XGBTRegressor\n",
    "\n",
    "xg = XGBTRegressor(random_state=42)\n",
    "te, lb, ub = xg.estimate_ate(X, W, Y)\n",
    "print('L\\'estimation de la valeur de l\\'ATE (XGBoost): {:.2f} ({:.2f}, {:.2f})'.format(te[0], lb[0], ub[0]))"
   ]
  },
  {
   "cell_type": "markdown",
   "metadata": {},
   "source": [
    "#### Calcul de l'ATE"
   ]
  },
  {
   "cell_type": "code",
   "execution_count": 26,
   "metadata": {},
   "outputs": [],
   "source": [
    "def ATE_paradis(beta, bias, f=lambda i:i, g=lambda i:i):\n",
    "  p=beta.shape[1]\n",
    "  if p==1:\n",
    "    ate = integrate.quad(lambda x: (g(beta[1]*x + bias[1]) -f(beta[0]*x + bias[0]))*sp.stats.norm.pdf(x,0,1),-1000 , 1000)\n",
    "  if p==2:\n",
    "    ate=integrate.dblquad(lambda x, y: (g(beta[1,0]*x + beta[1,1]*y + bias[1]) -f(beta[0,0]*x + beta[0,1]*y + bias[0])\n",
    "    )*sp.stats.norm.pdf(x,0,1)*sp.stats.norm.pdf(y,0,1),-1000 , 1000, lambda y :-1000,lambda y : 1000)\n",
    "  if p>2:\n",
    "    raise Warning('dimension above 2')\n",
    "  return  ate"
   ]
  },
  {
   "cell_type": "code",
   "execution_count": 27,
   "metadata": {},
   "outputs": [],
   "source": [
    "col=['x1','x5']\n",
    "Xdf=Xdf[col]\n",
    "X = Xdf.to_numpy()"
   ]
  },
  {
   "cell_type": "code",
   "execution_count": 28,
   "metadata": {},
   "outputs": [
    {
     "data": {
      "text/plain": [
       "(747, 2)"
      ]
     },
     "execution_count": 28,
     "metadata": {},
     "output_type": "execute_result"
    }
   ],
   "source": [
    "X.shape"
   ]
  },
  {
   "cell_type": "code",
   "execution_count": 29,
   "metadata": {},
   "outputs": [],
   "source": [
    "# paramètres pour faciliter le calcul de l'ATE par intégration\n",
    "N = 746\n",
    "d = 2                                     # d = 2, afin de pouvoir être calculé par intégration et avec Monte Carlo\n",
    "p = 0.5\n",
    "beta = np.random.uniform(1, 30, (1, d))\n",
    "beta = np.vstack((beta,beta))               # beta0 = beta1           \n",
    "bias = np.array([10,0])                   # Gamma0 = Gamma1 \n",
    "f = lambda x:x\n",
    "g = lambda x:np.cos(x)"
   ]
  },
  {
   "cell_type": "code",
   "execution_count": 30,
   "metadata": {},
   "outputs": [
    {
     "name": "stdout",
     "output_type": "stream",
     "text": [
      "ATE: (-10.000000011802683, 7.612938522548885e-08)\n"
     ]
    }
   ],
   "source": [
    "print('ATE: {}'.format(ATE_paradis(beta, bias, f=f, g=g)))\n"
   ]
  },
  {
   "cell_type": "code",
   "execution_count": null,
   "metadata": {},
   "outputs": [],
   "source": []
  }
 ],
 "metadata": {
  "kernelspec": {
   "display_name": "Python 3",
   "language": "python",
   "name": "python3"
  },
  "language_info": {
   "codemirror_mode": {
    "name": "ipython",
    "version": 3
   },
   "file_extension": ".py",
   "mimetype": "text/x-python",
   "name": "python",
   "nbconvert_exporter": "python",
   "pygments_lexer": "ipython3",
   "version": "3.8.3"
  }
 },
 "nbformat": 4,
 "nbformat_minor": 4
}
