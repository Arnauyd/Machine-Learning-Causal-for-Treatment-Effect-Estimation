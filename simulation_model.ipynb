{
  "nbformat": 4,
  "nbformat_minor": 0,
  "metadata": {
    "kernelspec": {
      "display_name": "Python 3",
      "language": "python",
      "name": "python3"
    },
    "language_info": {
      "codemirror_mode": {
        "name": "ipython",
        "version": 3
      },
      "file_extension": ".py",
      "mimetype": "text/x-python",
      "name": "python",
      "nbconvert_exporter": "python",
      "pygments_lexer": "ipython3",
      "version": "3.8.5"
    },
    "colab": {
      "name": "simulation_model.ipynb",
      "provenance": [],
      "collapsed_sections": []
    }
  },
  "cells": [
    {
      "cell_type": "markdown",
      "metadata": {
        "id": "HgOWtsJ8rUEH"
      },
      "source": [
        "# Estimation de l'ATE/CATE sur des données synthétiques"
      ]
    },
    {
      "cell_type": "code",
      "metadata": {
        "id": "XWZ-_PbjrUEK"
      },
      "source": [
        "import numpy as np\n",
        "from scipy.stats import bernoulli\n",
        "import scipy as sp\n",
        "from scipy import stats\n",
        "from scipy import integrate\n",
        "import matplotlib.pyplot as plt\n",
        "\n",
        "from sklearn.linear_model import LinearRegression\n",
        "from sklearn.model_selection import train_test_split\n",
        "\n",
        "import warnings\n",
        "warnings.filterwarnings('ignore')"
      ],
      "execution_count": 3,
      "outputs": []
    },
    {
      "cell_type": "code",
      "metadata": {
        "id": "4Xj_Wz5NFKmO"
      },
      "source": [
        "!pip install causalml"
      ],
      "execution_count": null,
      "outputs": []
    },
    {
      "cell_type": "code",
      "metadata": {
        "id": "Zli_yoWuclrr"
      },
      "source": [
        "import causalml"
      ],
      "execution_count": 5,
      "outputs": []
    },
    {
      "cell_type": "markdown",
      "metadata": {
        "id": "stT8FysBrUEL"
      },
      "source": [
        "## Génération de données"
      ]
    },
    {
      "cell_type": "code",
      "metadata": {
        "id": "9gPyMC5MrUEM"
      },
      "source": [
        "def treatment_assign(Nobs, p):\n",
        "    '''\n",
        "    Input: \n",
        "    \n",
        "    p : score de propension.\n",
        "    Nobs : Nombre de lignes da la matrice X i.e. nombre de personnes.\n",
        "    \n",
        "    Output:\n",
        "    \n",
        "    W : Vecteur de taille Nobs contenant des 0 ou 1 pour désigner l'affectation du traitement.\n",
        "    '''\n",
        "    W = bernoulli.rvs(p, size = Nobs)\n",
        "    \n",
        "    return W"
      ],
      "execution_count": 6,
      "outputs": []
    },
    {
      "cell_type": "code",
      "metadata": {
        "id": "6lYqHn75rUEM"
      },
      "source": [
        "def causal_generation(Nobs, dim, beta, bias, f, g, W):\n",
        "    '''\n",
        "    Input :\n",
        "    \n",
        "    Nobs : Nombre de lignes da la matrice X i.e. nombre de personnes.\n",
        "    dim : Nombre de colonnes de la matrice X i.e. nombres de caractéristiques (features).\n",
        "    beta : Vecteur de dimension (2, dim).\n",
        "    bias : Vecteur de dimension (1, 2).\n",
        "    W : Vecteur de dimension (1, Nobs) contenant des 0 ou 1 pour désigner l'affectation du traitement.\n",
        "    f et g sont des fonctions.\n",
        "    \n",
        "    Output:\n",
        "    \n",
        "    (X, Y, W) : Triplet contenant la matrice X des features, Y le vecteur des résultats potentiels et \n",
        "                W le vecteur de l'affectation du traitement.\n",
        "    '''\n",
        "    moy = np.zeros(dim)\n",
        "    var = np.eye(dim)\n",
        "    X = np.random.multivariate_normal(moy, var, Nobs)\n",
        "    Y = np.zeros(Nobs)\n",
        "    \n",
        "    for i in range(N):\n",
        "        bruit = np.random.normal(0, 1)\n",
        "        if W[i] == 0:\n",
        "            Y[i] = f(beta[0] @ X[i] + bias[0]) + bruit\n",
        "        if W[i] == 1:\n",
        "            Y[i] = g(beta[1] @ X[i] + bias[1]) + bruit\n",
        "            \n",
        "    return (X, W, Y)"
      ],
      "execution_count": 7,
      "outputs": []
    },
    {
      "cell_type": "markdown",
      "metadata": {
        "id": "O8cCtYY-rUEN"
      },
      "source": [
        "## S-learners"
      ]
    },
    {
      "cell_type": "code",
      "metadata": {
        "id": "tAi-i1kOnOtR"
      },
      "source": [
        "from sklearn.base import BaseEstimator, ClassifierMixin\n",
        "\n",
        "class SLearner(BaseEstimator, ClassifierMixin):\n",
        "    \"\"\" Homemade SLearner class \"\"\"\n",
        "    \n",
        "    def __init__(self, base_estimator=LinearRegression()):\n",
        "        # init\n",
        "        self.estimator = base_estimator\n",
        "        \n",
        "    def fit(self, X, W, Y):\n",
        "        # Initiation des variables\n",
        "        self.X=X\n",
        "        self.W=W\n",
        "        self.Y=Y\n",
        "        self.features = np.hstack((self.X,self.W[:,np.newaxis]))\n",
        "        self.clf=self.estimator.fit(self.features,self.Y)\n",
        "\n",
        "    def predict_CATE(self):\n",
        "      #ajouter un x en parametre pour calculer le cate sur un point\n",
        "        # Complete the method         \n",
        "        self.Y_0_hat=self.clf.predict(np.hstack((self.X,np.zeros(len(self.W))[:,np.newaxis])))\n",
        "        self.Y_1_hat=self.clf.predict(np.hstack((self.X,np.ones(len(self.W))[:,np.newaxis])))\n",
        "        return self.Y_1_hat - self.Y_0_hat\n",
        "\n",
        "    def predict_ATE(self):\n",
        "        return (self.Y_1_hat - self.Y_0_hat).mean()"
      ],
      "execution_count": 8,
      "outputs": []
    },
    {
      "cell_type": "markdown",
      "metadata": {
        "id": "FEvqUznWxMrf"
      },
      "source": [
        "## T-learners"
      ]
    },
    {
      "cell_type": "code",
      "metadata": {
        "id": "B9Zl-vv30rHU"
      },
      "source": [
        "from sklearn.base import BaseEstimator, ClassifierMixin\n",
        "\n",
        "class TLearner(BaseEstimator, ClassifierMixin):\n",
        "    \"\"\" Homemade SLearner class \"\"\"\n",
        "    \n",
        "    def __init__(self, base_estimator0=LinearRegression(), base_estimator1=LinearRegression() ):\n",
        "        # init\n",
        "        self.estimator0 = base_estimator0\n",
        "        self.estimator1 = base_estimator1\n",
        "\n",
        "    def fit(self, X, W, Y):\n",
        "        # Initiation des variables\n",
        "        self.X=X\n",
        "        self.W=W\n",
        "        self.Y=Y\n",
        "        self.mu_0=self.estimator0.fit(X[self.W==0,:],self.Y[self.W==0])\n",
        "        self.mu_1=self.estimator1.fit(X[self.W==1,:],self.Y[self.W==1])\n",
        "\n",
        "    def predict_CATE(self):\n",
        "      #ajouter un x en parametre pour calculer le cate sur un point\n",
        "        # Complete the method         \n",
        "        self.Y_0_hat=self.mu_0.predict(self.X)\n",
        "        self.Y_1_hat=self.mu_1.predict(self.X)\n",
        "        return self.Y_1_hat - self.Y_0_hat\n",
        "\n",
        "    def predict_ATE(self):\n",
        "        return (self.Y_1_hat - self.Y_0_hat).mean()"
      ],
      "execution_count": 9,
      "outputs": []
    },
    {
      "cell_type": "markdown",
      "metadata": {
        "id": "mpbCRF4wxSmw"
      },
      "source": [
        "## X-Learners ( a faire)"
      ]
    },
    {
      "cell_type": "markdown",
      "metadata": {
        "id": "ZIf7QInLeFIP"
      },
      "source": [
        "## Phase de test ( cas simple)"
      ]
    },
    {
      "cell_type": "markdown",
      "metadata": {
        "id": "JlTx_NDBy42f"
      },
      "source": [
        "### Initialisation des paramètres (cas simple)"
      ]
    },
    {
      "cell_type": "code",
      "metadata": {
        "id": "3GNGiMt0y9cA"
      },
      "source": [
        "# paramètres pour faciliter le calcul de l'ATE par intégration\n",
        "N = 1000\n",
        "d = 2                                     # d = 2, afin de pouvoir être calculé par intégration et avec Monte Carlo\n",
        "p = 0.5\n",
        "beta = np.random.uniform(1, 30, (1, d))\n",
        "beta = np.vstack((beta,beta))               # beta0 = beta1           \n",
        "bias = np.array([10,0])                   # Gamma0 = Gamma1 \n",
        "f = lambda x:x\n",
        "g = lambda x:np.cos(x)"
      ],
      "execution_count": 10,
      "outputs": []
    },
    {
      "cell_type": "code",
      "metadata": {
        "colab": {
          "base_uri": "https://localhost:8080/"
        },
        "id": "AFnAQ8dnaAVf",
        "outputId": "0af248c8-80ec-4b90-8d79-c9f4e17dd166"
      },
      "source": [
        "print(beta, bias)"
      ],
      "execution_count": 11,
      "outputs": [
        {
          "output_type": "stream",
          "text": [
            "[[3.8498745  3.45806693]\n",
            " [3.8498745  3.45806693]] [10  0]\n"
          ],
          "name": "stdout"
        }
      ]
    },
    {
      "cell_type": "markdown",
      "metadata": {
        "id": "6OhpvinNxUdk"
      },
      "source": [
        "### Générations des données (cas simple)"
      ]
    },
    {
      "cell_type": "code",
      "metadata": {
        "id": "BLuyzerxeJPV"
      },
      "source": [
        "# Génération des données\n",
        "W = treatment_assign(N, p)\n",
        "X, W, Y = causal_generation(N, d, beta, bias, f, g, W = W)"
      ],
      "execution_count": 12,
      "outputs": []
    },
    {
      "cell_type": "markdown",
      "metadata": {
        "id": "0HGXgVo5xa2M"
      },
      "source": [
        "### Prédictions des métalearners \"Team Filrouge\""
      ]
    },
    {
      "cell_type": "markdown",
      "metadata": {
        "id": "6BVz8q9v3pnC"
      },
      "source": [
        "#### Slearners"
      ]
    },
    {
      "cell_type": "code",
      "metadata": {
        "colab": {
          "base_uri": "https://localhost:8080/"
        },
        "id": "gQHpwQc4mGf3",
        "outputId": "b4983705-e538-452e-d437-0a0c50071620"
      },
      "source": [
        "slearner=SLearner(base_estimator=LinearRegression())\n",
        "slearner.fit(X,W,Y)\n",
        "\n",
        "cate_hat_S = slearner.predict_CATE()\n",
        "print(\"- Les dimensions du CATE = {}.\".format(cate_hat_S.shape))\n",
        "\n",
        "ate_hat_S = slearner.predict_ATE()\n",
        "print(\"- L'estimation de la valeur de l'ATE = {}.\".format(ate_hat_S))"
      ],
      "execution_count": 13,
      "outputs": [
        {
          "output_type": "stream",
          "text": [
            "- Les dimensions du CATE = (1000,).\n",
            "- L'estimation de la valeur de l'ATE = -9.96841178379185.\n"
          ],
          "name": "stdout"
        }
      ]
    },
    {
      "cell_type": "markdown",
      "metadata": {
        "id": "RmJV1Jy-3ve6"
      },
      "source": [
        "#### Tlearners"
      ]
    },
    {
      "cell_type": "code",
      "metadata": {
        "colab": {
          "base_uri": "https://localhost:8080/"
        },
        "id": "r1WmQRa33okq",
        "outputId": "e865c751-0b7a-4056-c20f-d0e030adb5bd"
      },
      "source": [
        "tlearner=TLearner(base_estimator0=LinearRegression(),base_estimator1=LinearRegression())\n",
        "tlearner.fit(X,W,Y)\n",
        "\n",
        "cate_hat_T = tlearner.predict_CATE()\n",
        "print(\"- Les dimensions du CATE = {}.\".format(cate_hat_S.shape))\n",
        "\n",
        "ate_hat_T = tlearner.predict_ATE()\n",
        "print(\"- L'estimation de la valeur de l'ATE = {}.\".format(ate_hat_T))"
      ],
      "execution_count": 14,
      "outputs": [
        {
          "output_type": "stream",
          "text": [
            "- Les dimensions du CATE = (1000,).\n",
            "- L'estimation de la valeur de l'ATE = -9.936791303346578.\n"
          ],
          "name": "stdout"
        }
      ]
    },
    {
      "cell_type": "markdown",
      "metadata": {
        "id": "gq-vjom4xmRs"
      },
      "source": [
        "### Prédictions des métalearners \"Causal ML\""
      ]
    },
    {
      "cell_type": "markdown",
      "metadata": {
        "id": "5Tn-YCHA4L5r"
      },
      "source": [
        "#### Slearners"
      ]
    },
    {
      "cell_type": "code",
      "metadata": {
        "colab": {
          "base_uri": "https://localhost:8080/"
        },
        "id": "7naePgnBlxjE",
        "outputId": "97392a23-6e7c-4c4a-df2e-d4aca18181a2"
      },
      "source": [
        "from causalml.inference.meta import LRSRegressor\n",
        "from xgboost import XGBRegressor\n",
        "\n",
        "\n",
        "lr = LRSRegressor()\n",
        "te, lb, ub = lr.estimate_ate(X, W, Y)\n",
        "print('L\\'estimation de la valeur de l\\'ATE (Linear Regression): {:.2f} ({:.2f}, {:.2f})'.format(te[0], lb[0], ub[0]))"
      ],
      "execution_count": 15,
      "outputs": [
        {
          "output_type": "stream",
          "text": [
            "L'estimation de la valeur de l'ATE (Linear Regression): -9.97 (-10.32, -9.62)\n"
          ],
          "name": "stdout"
        }
      ]
    },
    {
      "cell_type": "markdown",
      "metadata": {
        "id": "VeQ5ZgiJ4OQb"
      },
      "source": [
        "#### Tlearners"
      ]
    },
    {
      "cell_type": "code",
      "metadata": {
        "colab": {
          "base_uri": "https://localhost:8080/"
        },
        "id": "mzPAOp0h4Lac",
        "outputId": "458f9c1d-d1b2-41c1-c105-c187bf02d9e1"
      },
      "source": [
        "from causalml.inference.meta import XGBTRegressor\n",
        "\n",
        "xg = XGBTRegressor(random_state=42)\n",
        "te, lb, ub = xg.estimate_ate(X, W, Y)\n",
        "print('L\\'estimation de la valeur de l\\'ATE (XGBoost): {:.2f} ({:.2f}, {:.2f})'.format(te[0], lb[0], ub[0]))"
      ],
      "execution_count": 16,
      "outputs": [
        {
          "output_type": "stream",
          "text": [
            "[12:00:44] WARNING: /workspace/src/objective/regression_obj.cu:152: reg:linear is now deprecated in favor of reg:squarederror.\n",
            "[12:00:44] WARNING: /workspace/src/objective/regression_obj.cu:152: reg:linear is now deprecated in favor of reg:squarederror.\n",
            "L'estimation de la valeur de l'ATE (XGBoost): -9.96 (-10.30, -9.63)\n"
          ],
          "name": "stdout"
        }
      ]
    },
    {
      "cell_type": "markdown",
      "metadata": {
        "id": "kvsZS91J73op"
      },
      "source": [
        "### Paradis"
      ]
    },
    {
      "cell_type": "code",
      "metadata": {
        "id": "Xvmi5lnT72Ax"
      },
      "source": [
        "def ATE_paradis(beta, bias, f=lambda i:i, g=lambda i:i):\n",
        "  p=beta.shape[1]\n",
        "  if p==1:\n",
        "    ate = integrate.quad(lambda x: (g(beta[1]*x + bias[1]) -f(beta[0]*x + bias[0]))*sp.stats.norm.pdf(x,0,1),-1000 , 1000)\n",
        "  if p==2:\n",
        "    ate=integrate.dblquad(lambda x, y: (g(beta[1,0]*x + beta[1,1]*y + bias[1]) -f(beta[0,0]*x + beta[0,1]*y + bias[0])\n",
        "    )*sp.stats.norm.pdf(x,0,1)*sp.stats.norm.pdf(y,0,1),-1000 , 1000, lambda y :-1000,lambda y : 1000)\n",
        "  if p>2:\n",
        "    raise Warning('dimension above 2')\n",
        "  return  ate"
      ],
      "execution_count": 17,
      "outputs": []
    },
    {
      "cell_type": "code",
      "metadata": {
        "id": "vVGjotUsw566"
      },
      "source": [
        "def monte_carlo(Nobs, dim, beta, bias, f, g, W):\n",
        "    '''\n",
        "    Input :\n",
        "    \n",
        "    Nobs : Nombre de lignes da la matrice X i.e. nombre de personnes.\n",
        "    dim : Nombre de colonnes de la matrice X i.e. nombres de caractéristiques (features).\n",
        "    beta : Vecteur de dimension (2, dim), note dim doit être < 10\n",
        "    bias : Vecteur de dimension (1, 2).\n",
        "    W : Vecteur de dimension (1, Nobs) contenant des 0 ou 1 pour désigner l'affectation du traitement.\n",
        "    f et g sont des fonctions.\n",
        "    \n",
        "    Output:\n",
        "    \n",
        "    ATE : ATE calculé par la méthode de Monte Carlo\n",
        "    '''\n",
        "    moy = np.zeros(dim)\n",
        "    var = np.eye(dim)\n",
        "    X = np.random.multivariate_normal(moy, var, Nobs)\n",
        "    ATE = np.mean(g(X.dot(beta[1])+ bias[1]) - f(X.dot(beta[0])+ bias[0])) \n",
        "            \n",
        "    return ATE"
      ],
      "execution_count": 18,
      "outputs": []
    },
    {
      "cell_type": "code",
      "metadata": {
        "colab": {
          "base_uri": "https://localhost:8080/"
        },
        "id": "WZHKy9grdYdl",
        "outputId": "7115bae0-072e-4393-b3aa-d6a2f6b344ee"
      },
      "source": [
        "print('ATE: {}'.format(ATE_paradis(beta, bias, f=f, g=g)))\n",
        "print('ATE par monte carlo: {}'.format(monte_carlo(10**6, d, beta, bias, f, g, W)))"
      ],
      "execution_count": 19,
      "outputs": [
        {
          "output_type": "stream",
          "text": [
            "ATE: (-9.99999847029369, 1.8336552148457695e-08)\n",
            "ATE par monte carlo: -9.989714921732855\n"
          ],
          "name": "stdout"
        }
      ]
    },
    {
      "cell_type": "code",
      "metadata": {
        "colab": {
          "base_uri": "https://localhost:8080/",
          "height": 300
        },
        "id": "TDSQDcFgwgeS",
        "outputId": "f41a3245-5639-426a-fbea-9930a90836c8"
      },
      "source": [
        "res = []\n",
        "#1- varier Nobs pour ate_hat_S et le comparer avec mc_est (meth. monte carlo) avec 10**8\n",
        "#2 - ajouter une courbe avec l'estimation avec causalml avec la borne inf et max et ate_hat_S\n",
        "for i in range(2,8):\n",
        "    mc_est = monte_carlo(10**i, d, beta, bias, f, g, W)\n",
        "    res.append([abs(mc_est - ate_hat_S)])\n",
        "plt.figure()\n",
        "plt.plot(res)"
      ],
      "execution_count": 20,
      "outputs": [
        {
          "output_type": "execute_result",
          "data": {
            "text/plain": [
              "[<matplotlib.lines.Line2D at 0x7f70abed1b50>]"
            ]
          },
          "metadata": {
            "tags": []
          },
          "execution_count": 20
        },
        {
          "output_type": "display_data",
          "data": {
            "image/png": "[encoded data removed]",
            "text/plain": [
              "<Figure size 432x288 with 1 Axes>"
            ]
          },
          "metadata": {
            "tags": []
          }
        }
      ]
    }
  ]
}